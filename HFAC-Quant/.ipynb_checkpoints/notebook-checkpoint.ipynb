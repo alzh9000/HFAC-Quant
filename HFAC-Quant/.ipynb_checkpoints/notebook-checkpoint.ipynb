{
 "cells": [
  {
   "cell_type": "code",
   "execution_count": 3,
   "metadata": {
    "cell_id": "00000-874a21be-3d99-4906-ba91-ee3efc67a7c3",
    "deepnote_cell_type": "code",
    "deepnote_to_be_reexecuted": false,
    "execution_millis": 14,
    "execution_start": 1617581507012,
    "output_cleared": true,
    "source_hash": null,
    "tags": []
   },
   "outputs": [],
   "source": [
    "# Start writing code here...\n",
    "# 8UTjM2Hjf4LDuyaK2JWy is my Quandl API Key"
   ]
  },
  {
   "cell_type": "code",
   "execution_count": 1,
   "metadata": {
    "cell_id": "00001-237e6cd1-a69d-4523-afa2-64a2ec3f943a",
    "deepnote_cell_type": "code",
    "deepnote_to_be_reexecuted": false,
    "execution_millis": 2,
    "execution_start": 1617584114673,
    "source_hash": "b15c58ef",
    "tags": []
   },
   "outputs": [],
   "source": [
    "import quandl\n",
    "quandl.ApiConfig.api_key = \"8UTjM2Hjf4LDuyaK2JWy\"\n",
    "import numpy as np\n",
    "import pandas as pd\n",
    "from pandas import DataFrame\n",
    "import csv\n"
   ]
  },
  {
   "cell_type": "code",
   "execution_count": 7,
   "metadata": {},
   "outputs": [
    {
     "name": "stdout",
     "output_type": "stream",
     "text": [
      "I love hamsters\n",
      "autosaving?\n",
      "Does autosaving work?\n"
     ]
    }
   ],
   "source": [
    "print(\"I love hamsters\")\n",
    "print(\"autosaving?\")\n",
    "print(\"Does autosaving work?\")"
   ]
  },
  {
   "cell_type": "code",
   "execution_count": 10,
   "metadata": {},
   "outputs": [
    {
     "data": {
      "application/javascript": [
       "IPython.notebook.set_autosave_interval(1000)"
      ]
     },
     "metadata": {},
     "output_type": "display_data"
    },
    {
     "name": "stdout",
     "output_type": "stream",
     "text": [
      "Autosaving every 1 seconds\n"
     ]
    }
   ],
   "source": [
    "%autosave 1"
   ]
  },
  {
   "cell_type": "code",
   "execution_count": 12,
   "metadata": {
    "cell_id": "00002-98951201-2fdb-4d7b-80e5-d2b12230cf64",
    "deepnote_cell_type": "code",
    "deepnote_to_be_reexecuted": false,
    "execution_millis": 9,
    "execution_start": 1617584162240,
    "source_hash": "d02475de",
    "tags": []
   },
   "outputs": [
    {
     "name": "stdout",
     "output_type": "stream",
     "text": [
      "['MMM' 'AOS' 'ABT' 'ABBV' 'ABMD' 'ACN' 'ATVI' 'ADBE' 'AAP' 'AMD' 'AES'\n",
      " 'AFL' 'A' 'APD' 'AKAM' 'ALK' 'ALB' 'ARE' 'ALXN' 'ALGN' 'ALLE' 'LNT' 'ALL'\n",
      " 'GOOGL' 'GOOG' 'MO' 'AMZN' 'AMCR' 'AEE' 'AAL' 'AEP' 'AXP' 'AIG' 'AMT'\n",
      " 'AWK' 'AMP' 'ABC' 'AME' 'AMGN' 'APH' 'ADI' 'ANSS' 'ANTM' 'AON' 'APA'\n",
      " 'AAPL' 'AMAT' 'APTV' 'ADM' 'ANET' 'AJG' 'AIZ' 'T' 'ATO' 'ADSK' 'ADP'\n",
      " 'AZO' 'AVB' 'AVY' 'BKR' 'BLL' 'BAC' 'BAX' 'BDX' 'BRK.B' 'BBY' 'BIO'\n",
      " 'BIIB' 'BLK' 'BA' 'BKNG' 'BWA' 'BXP' 'BSX' 'BMY' 'AVGO' 'BR' 'BF.B'\n",
      " 'CHRW' 'COG' 'CDNS' 'CZR' 'CPB' 'COF' 'CAH' 'KMX' 'CCL' 'CARR' 'CTLT'\n",
      " 'CAT' 'CBOE' 'CBRE' 'CDW' 'CE' 'CNC' 'CNP' 'CERN' 'CF' 'SCHW' 'CHTR'\n",
      " 'CVX' 'CMG' 'CB' 'CHD' 'CI' 'CINF' 'CTAS' 'CSCO' 'C' 'CFG' 'CTXS' 'CME'\n",
      " 'CMS' 'KO' 'CTSH' 'CL' 'CMCSA' 'CMA' 'CAG' 'COP' 'ED' 'STZ' 'CPRT' 'GLW'\n",
      " 'CTVA' 'COST' 'CCI' 'CSX' 'CMI' 'CVS' 'DHI' 'DHR' 'DRI' 'DVA' 'DE' 'DAL'\n",
      " 'XRAY' 'DVN' 'DXCM' 'FANG' 'DLR' 'DFS' 'DISCA' 'DISCK' 'DISH' 'DG' 'DLTR'\n",
      " 'D' 'DPZ' 'DOV' 'DOW' 'DTE' 'DUK' 'DRE' 'DD' 'DXC' 'EMN' 'ETN' 'EBAY'\n",
      " 'ECL' 'EIX' 'EW' 'EA' 'EMR' 'ENPH' 'ETR' 'EOG' 'EFX' 'EQIX' 'EQR' 'ESS'\n",
      " 'EL' 'ETSY' 'RE' 'EVRG' 'ES' 'EXC' 'EXPE' 'EXPD' 'EXR' 'XOM' 'FFIV' 'FB'\n",
      " 'FAST' 'FRT' 'FDX' 'FIS' 'FITB' 'FRC' 'FE' 'FISV' 'FLT' 'FLIR' 'FMC' 'F'\n",
      " 'FTNT' 'FTV' 'FBHS' 'FOXA' 'FOX' 'BEN' 'FCX' 'GPS' 'GRMN' 'IT' 'GNRC'\n",
      " 'GD' 'GE' 'GIS' 'GM' 'GPC' 'GILD' 'GPN' 'GL' 'GS' 'GWW' 'HAL' 'HBI' 'HIG'\n",
      " 'HAS' 'HCA' 'PEAK' 'HSIC' 'HES' 'HPE' 'HLT' 'HFC' 'HOLX' 'HD' 'HON' 'HRL'\n",
      " 'HST' 'HWM' 'HPQ' 'HUM' 'HBAN' 'HII' 'IEX' 'IDXX' 'INFO' 'ITW' 'ILMN'\n",
      " 'INCY' 'IR' 'INTC' 'ICE' 'IBM' 'IFF' 'IP' 'IPG' 'INTU' 'ISRG' 'IVZ'\n",
      " 'IPGP' 'IQV' 'IRM' 'JBHT' 'JKHY' 'J' 'SJM' 'JNJ' 'JCI' 'JPM' 'JNPR' 'KSU'\n",
      " 'K' 'KEY' 'KEYS' 'KMB' 'KIM' 'KMI' 'KLAC' 'KHC' 'KR' 'LB' 'LHX' 'LH'\n",
      " 'LRCX' 'LW' 'LVS' 'LEG' 'LDOS' 'LEN' 'LLY' 'LNC' 'LIN' 'LYV' 'LKQ' 'LMT'\n",
      " 'L' 'LOW' 'LUMN' 'LYB' 'MTB' 'MRO' 'MPC' 'MKTX' 'MAR' 'MMC' 'MLM' 'MAS'\n",
      " 'MA' 'MXIM' 'MKC' 'MCD' 'MCK' 'MDT' 'MRK' 'MET' 'MTD' 'MGM' 'MCHP' 'MU'\n",
      " 'MSFT' 'MAA' 'MHK' 'TAP' 'MDLZ' 'MPWR' 'MNST' 'MCO' 'MS' 'MSI' 'MSCI'\n",
      " 'NDAQ' 'NTAP' 'NFLX' 'NWL' 'NEM' 'NWSA' 'NWS' 'NEE' 'NLSN' 'NKE' 'NI'\n",
      " 'NSC' 'NTRS' 'NOC' 'NLOK' 'NCLH' 'NOV' 'NRG' 'NUE' 'NVDA' 'NVR' 'NXPI'\n",
      " 'ORLY' 'OXY' 'ODFL' 'OMC' 'OKE' 'ORCL' 'OTIS' 'PCAR' 'PKG' 'PH' 'PAYX'\n",
      " 'PAYC' 'PYPL' 'PENN' 'PNR' 'PBCT' 'PEP' 'PKI' 'PRGO' 'PFE' 'PM' 'PSX'\n",
      " 'PNW' 'PXD' 'PNC' 'POOL' 'PPG' 'PPL' 'PFG' 'PG' 'PGR' 'PLD' 'PRU' 'PEG'\n",
      " 'PSA' 'PHM' 'PVH' 'QRVO' 'QCOM' 'PWR' 'DGX' 'RL' 'RJF' 'RTX' 'O' 'REG'\n",
      " 'REGN' 'RF' 'RSG' 'RMD' 'RHI' 'ROK' 'ROL' 'ROP' 'ROST' 'RCL' 'SPGI' 'CRM'\n",
      " 'SBAC' 'SLB' 'STX' 'SEE' 'SRE' 'NOW' 'SHW' 'SPG' 'SWKS' 'SNA' 'SO' 'LUV'\n",
      " 'SWK' 'SBUX' 'STT' 'STE' 'SYK' 'SIVB' 'SYF' 'SNPS' 'SYY' 'TMUS' 'TROW'\n",
      " 'TTWO' 'TPR' 'TGT' 'TEL' 'TDY' 'TFX' 'TER' 'TSLA' 'TXN' 'TXT' 'BK' 'CLX'\n",
      " 'COO' 'HSY' 'MOS' 'TRV' 'DIS' 'TMO' 'TJX' 'TSCO' 'TT' 'TDG' 'TRMB' 'TFC'\n",
      " 'TWTR' 'TYL' 'TSN' 'USB' 'UDR' 'ULTA' 'UAA' 'UA' 'UNP' 'UAL' 'UPS' 'URI'\n",
      " 'UNH' 'UHS' 'UNM' 'VLO' 'VAR' 'VTR' 'VRSN' 'VRSK' 'VZ' 'VRTX' 'VFC'\n",
      " 'VIAC' 'VTRS' 'V' 'VNO' 'VMC' 'WRB' 'WBA' 'WMT' 'WM' 'WAT' 'WEC' 'WFC'\n",
      " 'WELL' 'WST' 'WDC' 'WU' 'WAB' 'WRK' 'WY' 'WHR' 'WMB' 'WLTW' 'WYNN' 'XEL'\n",
      " 'XLNX' 'XYL' 'YUM' 'ZBRA' 'ZBH' 'ZION' 'ZTS']\n",
      "<class 'numpy.ndarray'>\n"
     ]
    }
   ],
   "source": [
    "# https://datahub.io/core/s-and-p-500-companies\n",
    "spcsv = pd.read_csv(\"constituents_csv.csv\")\n",
    "# print(spcsv.head())\n",
    "# print(spcsv[\"Symbol\"])\n",
    "spsymbols = spcsv.loc[:,\"Symbol\"].values\n",
    "print(spsymbols)\n",
    "print(type(spsymbols))"
   ]
  },
  {
   "cell_type": "code",
   "execution_count": 19,
   "metadata": {
    "cell_id": "00003-6fb0b1fd-609d-49ad-bae9-859ba46fe558",
    "deepnote_cell_type": "code",
    "deepnote_to_be_reexecuted": false,
    "execution_millis": 127238,
    "execution_start": 1617584610586,
    "source_hash": "81ea0e09",
    "tags": []
   },
   "outputs": [
    {
     "data": {
      "application/vnd.deepnote.dataframe.v2+json": {
       "column_count": 503,
       "columns": [
        {
         "dtype": "float64",
         "name": "WIKI/MMM - Adj. Close",
         "stats": {
          "histogram": [
           {
            "bin_end": 135.282048982205,
            "bin_start": 130.71297597567,
            "count": 34
           },
           {
            "bin_end": 139.85112198874,
            "bin_start": 135.282048982205,
            "count": 16
           },
           {
            "bin_end": 144.42019499527498,
            "bin_start": 139.85112198874,
            "count": 43
           },
           {
            "bin_end": 148.98926800181,
            "bin_start": 144.42019499527498,
            "count": 59
           },
           {
            "bin_end": 153.558341008345,
            "bin_start": 148.98926800181,
            "count": 94
           },
           {
            "bin_end": 158.12741401488,
            "bin_start": 153.558341008345,
            "count": 53
           },
           {
            "bin_end": 162.696487021415,
            "bin_start": 158.12741401488,
            "count": 55
           },
           {
            "bin_end": 167.26556002795002,
            "bin_start": 162.696487021415,
            "count": 45
           },
           {
            "bin_end": 171.834633034485,
            "bin_start": 167.26556002795002,
            "count": 35
           },
           {
            "bin_end": 176.40370604102,
            "bin_start": 171.834633034485,
            "count": 70
           }
          ],
          "max": 176.40370604102,
          "min": 130.71297597567,
          "nan_count": 0,
          "unique_count": 490
         }
        },
        {
         "dtype": "float64",
         "name": "WIKI/AOS - Adj. Close",
         "stats": {
          "histogram": [
           {
            "bin_end": 28.6749552482142,
            "bin_start": 26.223421915982,
            "count": 16
           },
           {
            "bin_end": 31.126488580446402,
            "bin_start": 28.6749552482142,
            "count": 48
           },
           {
            "bin_end": 33.5780219126786,
            "bin_start": 31.126488580446402,
            "count": 92
           },
           {
            "bin_end": 36.0295552449108,
            "bin_start": 33.5780219126786,
            "count": 97
           },
           {
            "bin_end": 38.481088577143,
            "bin_start": 36.0295552449108,
            "count": 66
           },
           {
            "bin_end": 40.9326219093752,
            "bin_start": 38.481088577143,
            "count": 41
           },
           {
            "bin_end": 43.3841552416074,
            "bin_start": 40.9326219093752,
            "count": 22
           },
           {
            "bin_end": 45.835688573839604,
            "bin_start": 43.3841552416074,
            "count": 27
           },
           {
            "bin_end": 48.2872219060718,
            "bin_start": 45.835688573839604,
            "count": 67
           },
           {
            "bin_end": 50.738755238304,
            "bin_start": 48.2872219060718,
            "count": 28
           }
          ],
          "max": 50.738755238304,
          "min": 26.223421915982,
          "nan_count": 0,
          "unique_count": 485
         }
        },
        {
         "dtype": "float64",
         "name": "WIKI/ABT - Adj. Close",
         "stats": {
          "histogram": [
           {
            "bin_end": 36.237031301453904,
            "bin_start": 34.871071241065,
            "count": 13
           },
           {
            "bin_end": 37.602991361842804,
            "bin_start": 36.237031301453904,
            "count": 65
           },
           {
            "bin_end": 38.968951422231704,
            "bin_start": 37.602991361842804,
            "count": 61
           },
           {
            "bin_end": 40.334911482620605,
            "bin_start": 38.968951422231704,
            "count": 53
           },
           {
            "bin_end": 41.7008715430095,
            "bin_start": 40.334911482620605,
            "count": 67
           },
           {
            "bin_end": 43.0668316033984,
            "bin_start": 41.7008715430095,
            "count": 71
           },
           {
            "bin_end": 44.4327916637873,
            "bin_start": 43.0668316033984,
            "count": 83
           },
           {
            "bin_end": 45.7987517241762,
            "bin_start": 44.4327916637873,
            "count": 28
           },
           {
            "bin_end": 47.1647117845651,
            "bin_start": 45.7987517241762,
            "count": 35
           },
           {
            "bin_end": 48.530671844954,
            "bin_start": 47.1647117845651,
            "count": 28
           }
          ],
          "max": 48.530671844954,
          "min": 34.871071241065,
          "nan_count": 0,
          "unique_count": 463
         }
        },
        {
         "dtype": "float64",
         "name": "WIKI/ABBV - Adj. Close",
         "stats": {
          "histogram": [
           {
            "bin_end": 46.8554673088562,
            "bin_start": 44.787192341677,
            "count": 2
           },
           {
            "bin_end": 48.9237422760354,
            "bin_start": 46.8554673088562,
            "count": 5
           },
           {
            "bin_end": 50.9920172432146,
            "bin_start": 48.9237422760354,
            "count": 25
           },
           {
            "bin_end": 53.0602922103938,
            "bin_start": 50.9920172432146,
            "count": 72
           },
           {
            "bin_end": 55.128567177573,
            "bin_start": 53.0602922103938,
            "count": 68
           },
           {
            "bin_end": 57.196842144752196,
            "bin_start": 55.128567177573,
            "count": 65
           },
           {
            "bin_end": 59.265117111931396,
            "bin_start": 57.196842144752196,
            "count": 78
           },
           {
            "bin_end": 61.333392079110595,
            "bin_start": 59.265117111931396,
            "count": 100
           },
           {
            "bin_end": 63.401667046289795,
            "bin_start": 61.333392079110595,
            "count": 51
           },
           {
            "bin_end": 65.469942013469,
            "bin_start": 63.401667046289795,
            "count": 38
           }
          ],
          "max": 65.469942013469,
          "min": 44.787192341677,
          "nan_count": 0,
          "unique_count": 488
         }
        },
        {
         "dtype": "float64",
         "name": "WIKI/ABMD - Adj. Close",
         "stats": {
          "histogram": [
           {
            "bin_end": 45.691,
            "bin_start": 36.13,
            "count": 17
           },
           {
            "bin_end": 55.25200000000001,
            "bin_start": 45.691,
            "count": 6
           },
           {
            "bin_end": 64.81300000000002,
            "bin_start": 55.25200000000001,
            "count": 50
           },
           {
            "bin_end": 74.37400000000001,
            "bin_start": 64.81300000000002,
            "count": 74
           },
           {
            "bin_end": 83.935,
            "bin_start": 74.37400000000001,
            "count": 57
           },
           {
            "bin_end": 93.49600000000001,
            "bin_start": 83.935,
            "count": 67
           },
           {
            "bin_end": 103.05700000000002,
            "bin_start": 93.49600000000001,
            "count": 92
           },
           {
            "bin_end": 112.61800000000002,
            "bin_start": 103.05700000000002,
            "count": 42
           },
           {
            "bin_end": 122.17900000000003,
            "bin_start": 112.61800000000002,
            "count": 65
           },
           {
            "bin_end": 131.74,
            "bin_start": 122.17900000000003,
            "count": 34
           }
          ],
          "max": 131.74,
          "min": 36.13,
          "nan_count": 0,
          "unique_count": 483
         }
        },
        {
         "dtype": "float64",
         "name": "WIKI/ACN - Adj. Close",
         "stats": {
          "histogram": [
           {
            "bin_end": 83.4306946438069,
            "bin_start": 79.043360400601,
            "count": 23
           },
           {
            "bin_end": 87.8180288870128,
            "bin_start": 83.4306946438069,
            "count": 36
           },
           {
            "bin_end": 92.2053631302187,
            "bin_start": 87.8180288870128,
            "count": 75
           },
           {
            "bin_end": 96.5926973734246,
            "bin_start": 92.2053631302187,
            "count": 59
           },
           {
            "bin_end": 100.9800316166305,
            "bin_start": 96.5926973734246,
            "count": 67
           },
           {
            "bin_end": 105.3673658598364,
            "bin_start": 100.9800316166305,
            "count": 47
           },
           {
            "bin_end": 109.7547001030423,
            "bin_start": 105.3673658598364,
            "count": 37
           },
           {
            "bin_end": 114.1420343462482,
            "bin_start": 109.7547001030423,
            "count": 92
           },
           {
            "bin_end": 118.5293685894541,
            "bin_start": 114.1420343462482,
            "count": 57
           },
           {
            "bin_end": 122.91670283266,
            "bin_start": 118.5293685894541,
            "count": 11
           }
          ],
          "max": 122.91670283266,
          "min": 79.043360400601,
          "nan_count": 0,
          "unique_count": 487
         }
        },
        {
         "dtype": "float64",
         "name": "WIKI/ATVI - Adj. Close",
         "stats": {
          "histogram": [
           {
            "bin_end": 20.814811478850267,
            "bin_start": 18.105623088543624,
            "count": 21
           },
           {
            "bin_end": 23.523999869156913,
            "bin_start": 20.814811478850267,
            "count": 64
           },
           {
            "bin_end": 26.233188259463557,
            "bin_start": 23.523999869156913,
            "count": 65
           },
           {
            "bin_end": 28.942376649770203,
            "bin_start": 26.233188259463557,
            "count": 30
           },
           {
            "bin_end": 31.651565040076846,
            "bin_start": 28.942376649770203,
            "count": 40
           },
           {
            "bin_end": 34.36075343038349,
            "bin_start": 31.651565040076846,
            "count": 51
           },
           {
            "bin_end": 37.06994182069013,
            "bin_start": 34.36075343038349,
            "count": 72
           },
           {
            "bin_end": 39.77913021099678,
            "bin_start": 37.06994182069013,
            "count": 74
           },
           {
            "bin_end": 42.48831860130342,
            "bin_start": 39.77913021099678,
            "count": 46
           },
           {
            "bin_end": 45.19750699161007,
            "bin_start": 42.48831860130342,
            "count": 41
           }
          ],
          "max": 45.19750699161007,
          "min": 18.105623088543624,
          "nan_count": 0,
          "unique_count": 461
         }
        },
        {
         "dtype": "float64",
         "name": "WIKI/ADBE - Adj. Close",
         "stats": {
          "histogram": [
           {
            "bin_end": 74.072,
            "bin_start": 69.99,
            "count": 36
           },
           {
            "bin_end": 78.154,
            "bin_start": 74.072,
            "count": 60
           },
           {
            "bin_end": 82.23599999999999,
            "bin_start": 78.154,
            "count": 81
           },
           {
            "bin_end": 86.318,
            "bin_start": 82.23599999999999,
            "count": 42
           },
           {
            "bin_end": 90.4,
            "bin_start": 86.318,
            "count": 51
           },
           {
            "bin_end": 94.482,
            "bin_start": 90.4,
            "count": 56
           },
           {
            "bin_end": 98.564,
            "bin_start": 94.482,
            "count": 65
           },
           {
            "bin_end": 102.646,
            "bin_start": 98.564,
            "count": 43
           },
           {
            "bin_end": 106.72800000000001,
            "bin_start": 102.646,
            "count": 36
           },
           {
            "bin_end": 110.81,
            "bin_start": 106.72800000000001,
            "count": 34
           }
          ],
          "max": 110.81,
          "min": 69.99,
          "nan_count": 0,
          "unique_count": 466
         }
        },
        {
         "dtype": "float64",
         "name": "WIKI/AAP - Adj. Close",
         "stats": {
          "histogram": [
           {
            "bin_end": 142.30921614495102,
            "bin_start": 135.93393209416,
            "count": 21
           },
           {
            "bin_end": 148.684500195742,
            "bin_start": 142.30921614495102,
            "count": 90
           },
           {
            "bin_end": 155.059784246533,
            "bin_start": 148.684500195742,
            "count": 108
           },
           {
            "bin_end": 161.435068297324,
            "bin_start": 155.059784246533,
            "count": 110
           },
           {
            "bin_end": 167.810352348115,
            "bin_start": 161.435068297324,
            "count": 60
           },
           {
            "bin_end": 174.185636398906,
            "bin_start": 167.810352348115,
            "count": 57
           },
           {
            "bin_end": 180.560920449697,
            "bin_start": 174.185636398906,
            "count": 21
           },
           {
            "bin_end": 186.936204500488,
            "bin_start": 180.560920449697,
            "count": 6
           },
           {
            "bin_end": 193.31148855127898,
            "bin_start": 186.936204500488,
            "count": 20
           },
           {
            "bin_end": 199.68677260207,
            "bin_start": 193.31148855127898,
            "count": 11
           }
          ],
          "max": 199.68677260207,
          "min": 135.93393209416,
          "nan_count": 0,
          "unique_count": 494
         }
        },
        {
         "dtype": "float64",
         "name": "WIKI/AMD - Adj. Close",
         "stats": {
          "histogram": [
           {
            "bin_end": 2.665,
            "bin_start": 1.62,
            "count": 244
           },
           {
            "bin_end": 3.71,
            "bin_start": 2.665,
            "count": 97
           },
           {
            "bin_end": 4.755,
            "bin_start": 3.71,
            "count": 27
           },
           {
            "bin_end": 5.8,
            "bin_start": 4.755,
            "count": 24
           },
           {
            "bin_end": 6.845,
            "bin_start": 5.8,
            "count": 48
           },
           {
            "bin_end": 7.89,
            "bin_start": 6.845,
            "count": 34
           },
           {
            "bin_end": 8.934999999999999,
            "bin_start": 7.89,
            "count": 11
           },
           {
            "bin_end": 9.98,
            "bin_start": 8.934999999999999,
            "count": 3
           },
           {
            "bin_end": 11.024999999999999,
            "bin_start": 9.98,
            "count": 8
           },
           {
            "bin_end": 12.07,
            "bin_start": 11.024999999999999,
            "count": 8
           }
          ],
          "max": 12.07,
          "min": 1.62,
          "nan_count": 0,
          "unique_count": 282
         }
        },
        {
         "dtype": "float64",
         "name": "WIKI/AES - Adj. Close",
         "stats": {
          "histogram": [
           {
            "bin_end": 8.33698451877268,
            "bin_start": 7.8613971542422,
            "count": 12
           },
           {
            "bin_end": 8.81257188330316,
            "bin_start": 8.33698451877268,
            "count": 34
           },
           {
            "bin_end": 9.28815924783364,
            "bin_start": 8.81257188330316,
            "count": 38
           },
           {
            "bin_end": 9.76374661236412,
            "bin_start": 9.28815924783364,
            "count": 11
           },
           {
            "bin_end": 10.2393339768946,
            "bin_start": 9.76374661236412,
            "count": 40
           },
           {
            "bin_end": 10.71492134142508,
            "bin_start": 10.2393339768946,
            "count": 66
           },
           {
            "bin_end": 11.19050870595556,
            "bin_start": 10.71492134142508,
            "count": 66
           },
           {
            "bin_end": 11.666096070486041,
            "bin_start": 11.19050870595556,
            "count": 107
           },
           {
            "bin_end": 12.141683435016521,
            "bin_start": 11.666096070486041,
            "count": 86
           },
           {
            "bin_end": 12.617270799547,
            "bin_start": 12.141683435016521,
            "count": 44
           }
          ],
          "max": 12.617270799547,
          "min": 7.8613971542422,
          "nan_count": 0,
          "unique_count": 424
         }
        },
        {
         "dtype": "float64",
         "name": "WIKI/AFL - Adj. Close",
         "stats": {
          "histogram": [
           {
            "bin_end": 54.6131493219183,
            "bin_start": 52.61683872608,
            "count": 29
           },
           {
            "bin_end": 56.609459917756595,
            "bin_start": 54.6131493219183,
            "count": 53
           },
           {
            "bin_end": 58.6057705135949,
            "bin_start": 56.609459917756595,
            "count": 80
           },
           {
            "bin_end": 60.6020811094332,
            "bin_start": 58.6057705135949,
            "count": 97
           },
           {
            "bin_end": 62.598391705271496,
            "bin_start": 60.6020811094332,
            "count": 54
           },
           {
            "bin_end": 64.5947023011098,
            "bin_start": 62.598391705271496,
            "count": 9
           },
           {
            "bin_end": 66.5910128969481,
            "bin_start": 64.5947023011098,
            "count": 21
           },
           {
            "bin_end": 68.5873234927864,
            "bin_start": 66.5910128969481,
            "count": 55
           },
           {
            "bin_end": 70.5836340886247,
            "bin_start": 68.5873234927864,
            "count": 54
           },
           {
            "bin_end": 72.579944684463,
            "bin_start": 70.5836340886247,
            "count": 52
           }
          ],
          "max": 72.579944684463,
          "min": 52.61683872608,
          "nan_count": 0,
          "unique_count": 480
         }
        },
        {
         "dtype": "float64",
         "name": "WIKI/A - Adj. Close",
         "stats": {
          "histogram": [
           {
            "bin_end": 34.2158086344324,
            "bin_start": 32.700053657945,
            "count": 13
           },
           {
            "bin_end": 35.7315636109198,
            "bin_start": 34.2158086344324,
            "count": 37
           },
           {
            "bin_end": 37.2473185874072,
            "bin_start": 35.7315636109198,
            "count": 43
           },
           {
            "bin_end": 38.7630735638946,
            "bin_start": 37.2473185874072,
            "count": 70
           },
           {
            "bin_end": 40.278828540381994,
            "bin_start": 38.7630735638946,
            "count": 87
           },
           {
            "bin_end": 41.794583516869395,
            "bin_start": 40.278828540381994,
            "count": 84
           },
           {
            "bin_end": 43.310338493356795,
            "bin_start": 41.794583516869395,
            "count": 25
           },
           {
            "bin_end": 44.826093469844196,
            "bin_start": 43.310338493356795,
            "count": 38
           },
           {
            "bin_end": 46.341848446331596,
            "bin_start": 44.826093469844196,
            "count": 67
           },
           {
            "bin_end": 47.857603422819,
            "bin_start": 46.341848446331596,
            "count": 40
           }
          ],
          "max": 47.857603422819,
          "min": 32.700053657945,
          "nan_count": 0,
          "unique_count": 470
         }
        },
        {
         "dtype": "float64",
         "name": "WIKI/APD - Adj. Close",
         "stats": {
          "histogram": [
           {
            "bin_end": 114.751718342722,
            "bin_start": 110.66060438309,
            "count": 14
           },
           {
            "bin_end": 118.842832302354,
            "bin_start": 114.751718342722,
            "count": 3
           },
           {
            "bin_end": 122.933946261986,
            "bin_start": 118.842832302354,
            "count": 15
           },
           {
            "bin_end": 127.025060221618,
            "bin_start": 122.933946261986,
            "count": 46
           },
           {
            "bin_end": 131.11617418125002,
            "bin_start": 127.025060221618,
            "count": 93
           },
           {
            "bin_end": 135.20728814088199,
            "bin_start": 131.11617418125002,
            "count": 65
           },
           {
            "bin_end": 139.298402100514,
            "bin_start": 135.20728814088199,
            "count": 112
           },
           {
            "bin_end": 143.389516060146,
            "bin_start": 139.298402100514,
            "count": 92
           },
           {
            "bin_end": 147.480630019778,
            "bin_start": 143.389516060146,
            "count": 48
           },
           {
            "bin_end": 151.57174397941,
            "bin_start": 147.480630019778,
            "count": 16
           }
          ],
          "max": 151.57174397941,
          "min": 110.66060438309,
          "nan_count": 0,
          "unique_count": 490
         }
        },
        {
         "dtype": "float64",
         "name": "WIKI/AKAM - Adj. Close",
         "stats": {
          "histogram": [
           {
            "bin_end": 43.449,
            "bin_start": 39.57,
            "count": 4
           },
           {
            "bin_end": 47.328,
            "bin_start": 43.449,
            "count": 17
           },
           {
            "bin_end": 51.207,
            "bin_start": 47.328,
            "count": 37
           },
           {
            "bin_end": 55.086,
            "bin_start": 51.207,
            "count": 117
           },
           {
            "bin_end": 58.965,
            "bin_start": 55.086,
            "count": 63
           },
           {
            "bin_end": 62.844,
            "bin_start": 58.965,
            "count": 37
           },
           {
            "bin_end": 66.723,
            "bin_start": 62.844,
            "count": 31
           },
           {
            "bin_end": 70.602,
            "bin_start": 66.723,
            "count": 60
           },
           {
            "bin_end": 74.481,
            "bin_start": 70.602,
            "count": 89
           },
           {
            "bin_end": 78.36,
            "bin_start": 74.481,
            "count": 49
           }
          ],
          "max": 78.36,
          "min": 39.57,
          "nan_count": 0,
          "unique_count": 456
         }
        },
        {
         "dtype": "float64",
         "name": "WIKI/ALK - Adj. Close",
         "stats": {
          "histogram": [
           {
            "bin_end": 57.984435099121704,
            "bin_start": 54.405118471015,
            "count": 14
           },
           {
            "bin_end": 61.5637517272284,
            "bin_start": 57.984435099121704,
            "count": 52
           },
           {
            "bin_end": 65.1430683553351,
            "bin_start": 61.5637517272284,
            "count": 129
           },
           {
            "bin_end": 68.7223849834418,
            "bin_start": 65.1430683553351,
            "count": 72
           },
           {
            "bin_end": 72.30170161154851,
            "bin_start": 68.7223849834418,
            "count": 51
           },
           {
            "bin_end": 75.8810182396552,
            "bin_start": 72.30170161154851,
            "count": 62
           },
           {
            "bin_end": 79.4603348677619,
            "bin_start": 75.8810182396552,
            "count": 71
           },
           {
            "bin_end": 83.03965149586861,
            "bin_start": 79.4603348677619,
            "count": 33
           },
           {
            "bin_end": 86.6189681239753,
            "bin_start": 83.03965149586861,
            "count": 7
           },
           {
            "bin_end": 90.198284752082,
            "bin_start": 86.6189681239753,
            "count": 13
           }
          ],
          "max": 90.198284752082,
          "min": 54.405118471015,
          "nan_count": 0,
          "unique_count": 493
         }
        },
        {
         "dtype": "float64",
         "name": "WIKI/ALB - Adj. Close",
         "stats": {
          "histogram": [
           {
            "bin_end": 45.4752442911916,
            "bin_start": 40.447419703282,
            "count": 30
           },
           {
            "bin_end": 50.5030688791012,
            "bin_start": 45.4752442911916,
            "count": 88
           },
           {
            "bin_end": 55.5308934670108,
            "bin_start": 50.5030688791012,
            "count": 108
           },
           {
            "bin_end": 60.558718054920405,
            "bin_start": 55.5308934670108,
            "count": 76
           },
           {
            "bin_end": 65.58654264283,
            "bin_start": 60.558718054920405,
            "count": 31
           },
           {
            "bin_end": 70.6143672307396,
            "bin_start": 65.58654264283,
            "count": 8
           },
           {
            "bin_end": 75.6421918186492,
            "bin_start": 70.6143672307396,
            "count": 13
           },
           {
            "bin_end": 80.6700164065588,
            "bin_start": 75.6421918186492,
            "count": 52
           },
           {
            "bin_end": 85.69784099446841,
            "bin_start": 80.6700164065588,
            "count": 81
           },
           {
            "bin_end": 90.725665582378,
            "bin_start": 85.69784099446841,
            "count": 17
           }
          ],
          "max": 90.725665582378,
          "min": 40.447419703282,
          "nan_count": 0,
          "unique_count": 484
         }
        },
        {
         "dtype": "float64",
         "name": "WIKI/ARE - Adj. Close",
         "stats": {
          "histogram": [
           {
            "bin_end": 72.1744123198755,
            "bin_start": 67.926862724905,
            "count": 9
           },
           {
            "bin_end": 76.42196191484601,
            "bin_start": 72.1744123198755,
            "count": 21
           },
           {
            "bin_end": 80.6695115098165,
            "bin_start": 76.42196191484601,
            "count": 27
           },
           {
            "bin_end": 84.917061104787,
            "bin_start": 80.6695115098165,
            "count": 83
           },
           {
            "bin_end": 89.1646106997575,
            "bin_start": 84.917061104787,
            "count": 161
           },
           {
            "bin_end": 93.412160294728,
            "bin_start": 89.1646106997575,
            "count": 56
           },
           {
            "bin_end": 97.65970988969849,
            "bin_start": 93.412160294728,
            "count": 19
           },
           {
            "bin_end": 101.907259484669,
            "bin_start": 97.65970988969849,
            "count": 30
           },
           {
            "bin_end": 106.1548090796395,
            "bin_start": 101.907259484669,
            "count": 55
           },
           {
            "bin_end": 110.40235867461,
            "bin_start": 106.1548090796395,
            "count": 43
           }
          ],
          "max": 110.40235867461,
          "min": 67.926862724905,
          "nan_count": 0,
          "unique_count": 487
         }
        },
        {
         "dtype": "float64",
         "name": "WIKI/ALXN - Adj. Close",
         "stats": {
          "histogram": [
           {
            "bin_end": 119.793,
            "bin_start": 110.01,
            "count": 26
           },
           {
            "bin_end": 129.576,
            "bin_start": 119.793,
            "count": 82
           },
           {
            "bin_end": 139.359,
            "bin_start": 129.576,
            "count": 61
           },
           {
            "bin_end": 149.142,
            "bin_start": 139.359,
            "count": 45
           },
           {
            "bin_end": 158.925,
            "bin_start": 149.142,
            "count": 35
           },
           {
            "bin_end": 168.708,
            "bin_start": 158.925,
            "count": 54
           },
           {
            "bin_end": 178.49099999999999,
            "bin_start": 168.708,
            "count": 75
           },
           {
            "bin_end": 188.274,
            "bin_start": 178.49099999999999,
            "count": 92
           },
           {
            "bin_end": 198.05700000000002,
            "bin_start": 188.274,
            "count": 20
           },
           {
            "bin_end": 207.84,
            "bin_start": 198.05700000000002,
            "count": 14
           }
          ],
          "max": 207.84,
          "min": 110.01,
          "nan_count": 0,
          "unique_count": 492
         }
        },
        {
         "dtype": "float64",
         "name": "WIKI/ALGN - Adj. Close",
         "stats": {
          "histogram": [
           {
            "bin_end": 57.319,
            "bin_start": 52.45,
            "count": 93
           },
           {
            "bin_end": 62.188,
            "bin_start": 57.319,
            "count": 91
           },
           {
            "bin_end": 67.057,
            "bin_start": 62.188,
            "count": 90
           },
           {
            "bin_end": 71.926,
            "bin_start": 67.057,
            "count": 33
           },
           {
            "bin_end": 76.795,
            "bin_start": 71.926,
            "count": 40
           },
           {
            "bin_end": 81.664,
            "bin_start": 76.795,
            "count": 31
           },
           {
            "bin_end": 86.533,
            "bin_start": 81.664,
            "count": 26
           },
           {
            "bin_end": 91.402,
            "bin_start": 86.533,
            "count": 24
           },
           {
            "bin_end": 96.271,
            "bin_start": 91.402,
            "count": 58
           },
           {
            "bin_end": 101.14,
            "bin_start": 96.271,
            "count": 18
           }
          ],
          "max": 101.14,
          "min": 52.45,
          "nan_count": 0,
          "unique_count": 474
         }
        },
        {
         "dtype": "float64",
         "name": "WIKI/ALLE - Adj. Close",
         "stats": {
          "histogram": [
           {
            "bin_end": 53.7867229603089,
            "bin_start": 51.750116145933,
            "count": 15
           },
           {
            "bin_end": 55.8233297746848,
            "bin_start": 53.7867229603089,
            "count": 17
           },
           {
            "bin_end": 57.8599365890607,
            "bin_start": 55.8233297746848,
            "count": 41
           },
           {
            "bin_end": 59.896543403436596,
            "bin_start": 57.8599365890607,
            "count": 77
           },
           {
            "bin_end": 61.933150217812496,
            "bin_start": 59.896543403436596,
            "count": 74
           },
           {
            "bin_end": 63.9697570321884,
            "bin_start": 61.933150217812496,
            "count": 79
           },
           {
            "bin_end": 66.0063638465643,
            "bin_start": 63.9697570321884,
            "count": 72
           },
           {
            "bin_end": 68.0429706609402,
            "bin_start": 66.0063638465643,
            "count": 68
           },
           {
            "bin_end": 70.0795774753161,
            "bin_start": 68.0429706609402,
            "count": 22
           },
           {
            "bin_end": 72.116184289692,
            "bin_start": 70.0795774753161,
            "count": 39
           }
          ],
          "max": 72.116184289692,
          "min": 51.750116145933,
          "nan_count": 0,
          "unique_count": 476
         }
        },
        {
         "dtype": "float64",
         "name": "WIKI/LNT - Adj. Close",
         "stats": {
          "histogram": [
           {
            "bin_end": 26.701335738319703,
            "bin_start": 25.334426865025,
            "count": 28
           },
           {
            "bin_end": 28.0682446116144,
            "bin_start": 26.701335738319703,
            "count": 88
           },
           {
            "bin_end": 29.4351534849091,
            "bin_start": 28.0682446116144,
            "count": 111
           },
           {
            "bin_end": 30.8020623582038,
            "bin_start": 29.4351534849091,
            "count": 27
           },
           {
            "bin_end": 32.1689712314985,
            "bin_start": 30.8020623582038,
            "count": 32
           },
           {
            "bin_end": 33.5358801047932,
            "bin_start": 32.1689712314985,
            "count": 21
           },
           {
            "bin_end": 34.9027889780879,
            "bin_start": 33.5358801047932,
            "count": 45
           },
           {
            "bin_end": 36.2696978513826,
            "bin_start": 34.9027889780879,
            "count": 58
           },
           {
            "bin_end": 37.6366067246773,
            "bin_start": 36.2696978513826,
            "count": 56
           },
           {
            "bin_end": 39.003515597972,
            "bin_start": 37.6366067246773,
            "count": 38
           }
          ],
          "max": 39.003515597972,
          "min": 25.334426865025,
          "nan_count": 0,
          "unique_count": 477
         }
        },
        {
         "dtype": "float64",
         "name": "WIKI/ALL - Adj. Close",
         "stats": {
          "histogram": [
           {
            "bin_end": 56.538358535894005,
            "bin_start": 54.639739085671,
            "count": 31
           },
           {
            "bin_end": 58.436977986117,
            "bin_start": 56.538358535894005,
            "count": 23
           },
           {
            "bin_end": 60.33559743634,
            "bin_start": 58.436977986117,
            "count": 31
           },
           {
            "bin_end": 62.234216886563004,
            "bin_start": 60.33559743634,
            "count": 54
           },
           {
            "bin_end": 64.132836336786,
            "bin_start": 62.234216886563004,
            "count": 47
           },
           {
            "bin_end": 66.03145578700901,
            "bin_start": 64.132836336786,
            "count": 101
           },
           {
            "bin_end": 67.930075237232,
            "bin_start": 66.03145578700901,
            "count": 141
           },
           {
            "bin_end": 69.828694687455,
            "bin_start": 67.930075237232,
            "count": 50
           },
           {
            "bin_end": 71.72731413767801,
            "bin_start": 69.828694687455,
            "count": 13
           },
           {
            "bin_end": 73.625933587901,
            "bin_start": 71.72731413767801,
            "count": 13
           }
          ],
          "max": 73.625933587901,
          "min": 54.639739085671,
          "nan_count": 0,
          "unique_count": 470
         }
        },
        {
         "dtype": "float64",
         "name": "WIKI/GOOGL - Adj. Close",
         "stats": {
          "histogram": [
           {
            "bin_end": 530.928,
            "bin_start": 497.06,
            "count": 19
           },
           {
            "bin_end": 564.796,
            "bin_start": 530.928,
            "count": 99
           },
           {
            "bin_end": 598.664,
            "bin_start": 564.796,
            "count": 16
           },
           {
            "bin_end": 632.532,
            "bin_start": 598.664,
            "count": 7
           },
           {
            "bin_end": 666.4,
            "bin_start": 632.532,
            "count": 31
           },
           {
            "bin_end": 700.268,
            "bin_start": 666.4,
            "count": 36
           },
           {
            "bin_end": 734.136,
            "bin_start": 700.268,
            "count": 78
           },
           {
            "bin_end": 768.004,
            "bin_start": 734.136,
            "count": 83
           },
           {
            "bin_end": 801.8720000000001,
            "bin_start": 768.004,
            "count": 79
           },
           {
            "bin_end": 835.74,
            "bin_start": 801.8720000000001,
            "count": 56
           }
          ],
          "max": 835.74,
          "min": 497.06,
          "nan_count": 0,
          "unique_count": 498
         }
        },
        {
         "dtype": "float64",
         "name": "WIKI/GOOG - Adj. Close",
         "stats": {
          "histogram": [
           {
            "bin_end": 524.606,
            "bin_start": 492.55,
            "count": 25
           },
           {
            "bin_end": 556.662,
            "bin_start": 524.606,
            "count": 93
           },
           {
            "bin_end": 588.718,
            "bin_start": 556.662,
            "count": 18
           },
           {
            "bin_end": 620.774,
            "bin_start": 588.718,
            "count": 14
           },
           {
            "bin_end": 652.8299999999999,
            "bin_start": 620.774,
            "count": 40
           },
           {
            "bin_end": 684.886,
            "bin_start": 652.8299999999999,
            "count": 24
           },
           {
            "bin_end": 716.942,
            "bin_start": 684.886,
            "count": 68
           },
           {
            "bin_end": 748.998,
            "bin_start": 716.942,
            "count": 86
           },
           {
            "bin_end": 781.054,
            "bin_start": 748.998,
            "count": 94
           },
           {
            "bin_end": 813.11,
            "bin_start": 781.054,
            "count": 42
           }
          ],
          "max": 813.11,
          "min": 492.55,
          "nan_count": 0,
          "unique_count": 498
         }
        },
        {
         "dtype": "float64",
         "name": "WIKI/MO - Adj. Close",
         "stats": {
          "histogram": [
           {
            "bin_end": 46.0397278543472,
            "bin_start": 43.735375093623,
            "count": 39
           },
           {
            "bin_end": 48.3440806150714,
            "bin_start": 46.0397278543472,
            "count": 69
           },
           {
            "bin_end": 50.6484333757956,
            "bin_start": 48.3440806150714,
            "count": 61
           },
           {
            "bin_end": 52.952786136519805,
            "bin_start": 50.6484333757956,
            "count": 32
           },
           {
            "bin_end": 55.257138897244005,
            "bin_start": 52.952786136519805,
            "count": 51
           },
           {
            "bin_end": 57.561491657968205,
            "bin_start": 55.257138897244005,
            "count": 36
           },
           {
            "bin_end": 59.865844418692404,
            "bin_start": 57.561491657968205,
            "count": 57
           },
           {
            "bin_end": 62.170197179416604,
            "bin_start": 59.865844418692404,
            "count": 64
           },
           {
            "bin_end": 64.4745499401408,
            "bin_start": 62.170197179416604,
            "count": 62
           },
           {
            "bin_end": 66.778902700865,
            "bin_start": 64.4745499401408,
            "count": 33
           }
          ],
          "max": 66.778902700865,
          "min": 43.735375093623,
          "nan_count": 0,
          "unique_count": 470
         }
        },
        {
         "dtype": "float64",
         "name": "WIKI/AMZN - Adj. Close",
         "stats": {
          "histogram": [
           {
            "bin_end": 342.691,
            "bin_start": 286.95,
            "count": 19
           },
           {
            "bin_end": 398.432,
            "bin_start": 342.691,
            "count": 58
           },
           {
            "bin_end": 454.173,
            "bin_start": 398.432,
            "count": 54
           },
           {
            "bin_end": 509.914,
            "bin_start": 454.173,
            "count": 24
           },
           {
            "bin_end": 565.655,
            "bin_start": 509.914,
            "count": 74
           },
           {
            "bin_end": 621.396,
            "bin_start": 565.655,
            "count": 50
           },
           {
            "bin_end": 677.1370000000001,
            "bin_start": 621.396,
            "count": 54
           },
           {
            "bin_end": 732.878,
            "bin_start": 677.1370000000001,
            "count": 47
           },
           {
            "bin_end": 788.619,
            "bin_start": 732.878,
            "count": 95
           },
           {
            "bin_end": 844.36,
            "bin_start": 788.619,
            "count": 29
           }
          ],
          "max": 844.36,
          "min": 286.95,
          "nan_count": 0,
          "unique_count": 501
         }
        },
        {
         "dtype": "object",
         "name": "WIKI/AMCR - Not Found",
         "stats": {
          "categories": [
           {
            "count": 504,
            "name": "Missing"
           }
          ],
          "nan_count": 504,
          "unique_count": 0
         }
        },
        {
         "dtype": "float64",
         "name": "WIKI/AEE - Adj. Close",
         "stats": {
          "histogram": [
           {
            "bin_end": 36.0952280602819,
            "bin_start": 34.36973212956,
            "count": 47
           },
           {
            "bin_end": 37.8207239910038,
            "bin_start": 36.0952280602819,
            "count": 61
           },
           {
            "bin_end": 39.5462199217257,
            "bin_start": 37.8207239910038,
            "count": 64
           },
           {
            "bin_end": 41.2717158524476,
            "bin_start": 39.5462199217257,
            "count": 88
           },
           {
            "bin_end": 42.997211783169504,
            "bin_start": 41.2717158524476,
            "count": 17
           },
           {
            "bin_end": 44.7227077138914,
            "bin_start": 42.997211783169504,
            "count": 24
           },
           {
            "bin_end": 46.4482036446133,
            "bin_start": 44.7227077138914,
            "count": 53
           },
           {
            "bin_end": 48.173699575335206,
            "bin_start": 46.4482036446133,
            "count": 61
           },
           {
            "bin_end": 49.899195506057104,
            "bin_start": 48.173699575335206,
            "count": 50
           },
           {
            "bin_end": 51.624691436779,
            "bin_start": 49.899195506057104,
            "count": 39
           }
          ],
          "max": 51.624691436779,
          "min": 34.36973212956,
          "nan_count": 0,
          "unique_count": 463
         }
        },
        {
         "dtype": "float64",
         "name": "WIKI/AAL - Adj. Close",
         "stats": {
          "histogram": [
           {
            "bin_end": 27.916303408839102,
            "bin_start": 24.970738071037,
            "count": 4
           },
           {
            "bin_end": 30.8618687466412,
            "bin_start": 27.916303408839102,
            "count": 16
           },
           {
            "bin_end": 33.8074340844433,
            "bin_start": 30.8618687466412,
            "count": 30
           },
           {
            "bin_end": 36.7529994222454,
            "bin_start": 33.8074340844433,
            "count": 63
           },
           {
            "bin_end": 39.6985647600475,
            "bin_start": 36.7529994222454,
            "count": 96
           },
           {
            "bin_end": 42.6441300978496,
            "bin_start": 39.6985647600475,
            "count": 126
           },
           {
            "bin_end": 45.589695435651706,
            "bin_start": 42.6441300978496,
            "count": 47
           },
           {
            "bin_end": 48.5352607734538,
            "bin_start": 45.589695435651706,
            "count": 78
           },
           {
            "bin_end": 51.48082611125591,
            "bin_start": 48.5352607734538,
            "count": 27
           },
           {
            "bin_end": 54.426391449058,
            "bin_start": 51.48082611125591,
            "count": 17
           }
          ],
          "max": 54.426391449058,
          "min": 24.970738071037,
          "nan_count": 0,
          "unique_count": 487
         }
        },
        {
         "dtype": "float64",
         "name": "WIKI/AEP - Adj. Close",
         "stats": {
          "histogram": [
           {
            "bin_end": 50.085615057214696,
            "bin_start": 48.132194659879,
            "count": 41
           },
           {
            "bin_end": 52.0390354545504,
            "bin_start": 50.085615057214696,
            "count": 107
           },
           {
            "bin_end": 53.9924558518861,
            "bin_start": 52.0390354545504,
            "count": 69
           },
           {
            "bin_end": 55.9458762492218,
            "bin_start": 53.9924558518861,
            "count": 38
           },
           {
            "bin_end": 57.8992966465575,
            "bin_start": 55.9458762492218,
            "count": 36
           },
           {
            "bin_end": 59.8527170438932,
            "bin_start": 57.8992966465575,
            "count": 44
           },
           {
            "bin_end": 61.8061374412289,
            "bin_start": 59.8527170438932,
            "count": 75
           },
           {
            "bin_end": 63.759557838564604,
            "bin_start": 61.8061374412289,
            "count": 55
           },
           {
            "bin_end": 65.7129782359003,
            "bin_start": 63.759557838564604,
            "count": 19
           },
           {
            "bin_end": 67.666398633236,
            "bin_start": 65.7129782359003,
            "count": 20
           }
          ],
          "max": 67.666398633236,
          "min": 48.132194659879,
          "nan_count": 0,
          "unique_count": 486
         }
        },
        {
         "dtype": "float64",
         "name": "WIKI/AXP - Adj. Close",
         "stats": {
          "histogram": [
           {
            "bin_end": 53.475699206702004,
            "bin_start": 49.573125992479,
            "count": 22
           },
           {
            "bin_end": 57.378272420925,
            "bin_start": 53.475699206702004,
            "count": 14
           },
           {
            "bin_end": 61.280845635148,
            "bin_start": 57.378272420925,
            "count": 59
           },
           {
            "bin_end": 65.18341884937101,
            "bin_start": 61.280845635148,
            "count": 109
           },
           {
            "bin_end": 69.085992063594,
            "bin_start": 65.18341884937101,
            "count": 37
           },
           {
            "bin_end": 72.988565277817,
            "bin_start": 69.085992063594,
            "count": 75
           },
           {
            "bin_end": 76.89113849204,
            "bin_start": 72.988565277817,
            "count": 121
           },
           {
            "bin_end": 80.793711706263,
            "bin_start": 76.89113849204,
            "count": 49
           },
           {
            "bin_end": 84.696284920486,
            "bin_start": 80.793711706263,
            "count": 11
           },
           {
            "bin_end": 88.598858134709,
            "bin_start": 84.696284920486,
            "count": 7
           }
          ],
          "max": 88.598858134709,
          "min": 49.573125992479,
          "nan_count": 0,
          "unique_count": 481
         }
        },
        {
         "dtype": "float64",
         "name": "WIKI/AIG - Adj. Close",
         "stats": {
          "histogram": [
           {
            "bin_end": 48.3486452238749,
            "bin_start": 46.422787416409,
            "count": 10
           },
           {
            "bin_end": 50.2745030313408,
            "bin_start": 48.3486452238749,
            "count": 34
           },
           {
            "bin_end": 52.2003608388067,
            "bin_start": 50.2745030313408,
            "count": 50
           },
           {
            "bin_end": 54.1262186462726,
            "bin_start": 52.2003608388067,
            "count": 92
           },
           {
            "bin_end": 56.05207645373849,
            "bin_start": 54.1262186462726,
            "count": 71
           },
           {
            "bin_end": 57.977934261204396,
            "bin_start": 56.05207645373849,
            "count": 86
           },
           {
            "bin_end": 59.9037920686703,
            "bin_start": 57.977934261204396,
            "count": 77
           },
           {
            "bin_end": 61.829649876136195,
            "bin_start": 59.9037920686703,
            "count": 49
           },
           {
            "bin_end": 63.75550768360209,
            "bin_start": 61.829649876136195,
            "count": 18
           },
           {
            "bin_end": 65.681365491068,
            "bin_start": 63.75550768360209,
            "count": 17
           }
          ],
          "max": 65.681365491068,
          "min": 46.422787416409,
          "nan_count": 0,
          "unique_count": 482
         }
        },
        {
         "dtype": "float64",
         "name": "WIKI/AMT - Adj. Close",
         "stats": {
          "histogram": [
           {
            "bin_end": 84.2082600275432,
            "bin_start": 80.795850015178,
            "count": 9
           },
           {
            "bin_end": 87.6206700399084,
            "bin_start": 84.2082600275432,
            "count": 36
           },
           {
            "bin_end": 91.0330800522736,
            "bin_start": 87.6206700399084,
            "count": 95
           },
           {
            "bin_end": 94.4454900646388,
            "bin_start": 91.0330800522736,
            "count": 117
           },
           {
            "bin_end": 97.857900077004,
            "bin_start": 94.4454900646388,
            "count": 47
           },
           {
            "bin_end": 101.2703100893692,
            "bin_start": 97.857900077004,
            "count": 29
           },
           {
            "bin_end": 104.6827201017344,
            "bin_start": 101.2703100893692,
            "count": 60
           },
           {
            "bin_end": 108.0951301140996,
            "bin_start": 104.6827201017344,
            "count": 30
           },
           {
            "bin_end": 111.5075401264648,
            "bin_start": 108.0951301140996,
            "count": 33
           },
           {
            "bin_end": 114.91995013883,
            "bin_start": 111.5075401264648,
            "count": 48
           }
          ],
          "max": 114.91995013883,
          "min": 80.795850015178,
          "nan_count": 0,
          "unique_count": 478
         }
        },
        {
         "dtype": "float64",
         "name": "WIKI/AWK - Adj. Close",
         "stats": {
          "histogram": [
           {
            "bin_end": 49.735953847260404,
            "bin_start": 46.123864509183,
            "count": 65
           },
           {
            "bin_end": 53.3480431853378,
            "bin_start": 49.735953847260404,
            "count": 127
           },
           {
            "bin_end": 56.9601325234152,
            "bin_start": 53.3480431853378,
            "count": 53
           },
           {
            "bin_end": 60.5722218614926,
            "bin_start": 56.9601325234152,
            "count": 24
           },
           {
            "bin_end": 64.18431119957,
            "bin_start": 60.5722218614926,
            "count": 19
           },
           {
            "bin_end": 67.7964005376474,
            "bin_start": 64.18431119957,
            "count": 33
           },
           {
            "bin_end": 71.4084898757248,
            "bin_start": 67.7964005376474,
            "count": 71
           },
           {
            "bin_end": 75.0205792138022,
            "bin_start": 71.4084898757248,
            "count": 63
           },
           {
            "bin_end": 78.63266855187959,
            "bin_start": 75.0205792138022,
            "count": 22
           },
           {
            "bin_end": 82.244757889957,
            "bin_start": 78.63266855187959,
            "count": 27
           }
          ],
          "max": 82.244757889957,
          "min": 46.123864509183,
          "nan_count": 0,
          "unique_count": 465
         }
        },
        {
         "dtype": "float64",
         "name": "WIKI/AMP - Adj. Close",
         "stats": {
          "histogram": [
           {
            "bin_end": 78.2524091979799,
            "bin_start": 72.706567300081,
            "count": 5
           },
           {
            "bin_end": 83.79825109587881,
            "bin_start": 78.2524091979799,
            "count": 20
           },
           {
            "bin_end": 89.3440929937777,
            "bin_start": 83.79825109587881,
            "count": 51
           },
           {
            "bin_end": 94.8899348916766,
            "bin_start": 89.3440929937777,
            "count": 85
           },
           {
            "bin_end": 100.4357767895755,
            "bin_start": 94.8899348916766,
            "count": 64
           },
           {
            "bin_end": 105.98161868747441,
            "bin_start": 100.4357767895755,
            "count": 50
           },
           {
            "bin_end": 111.5274605853733,
            "bin_start": 105.98161868747441,
            "count": 54
           },
           {
            "bin_end": 117.07330248327222,
            "bin_start": 111.5274605853733,
            "count": 51
           },
           {
            "bin_end": 122.61914438117111,
            "bin_start": 117.07330248327222,
            "count": 92
           },
           {
            "bin_end": 128.16498627907,
            "bin_start": 122.61914438117111,
            "count": 32
           }
          ],
          "max": 128.16498627907,
          "min": 72.706567300081,
          "nan_count": 0,
          "unique_count": 485
         }
        },
        {
         "dtype": "float64",
         "name": "WIKI/ABC - Adj. Close",
         "stats": {
          "histogram": [
           {
            "bin_end": 71.8262108088755,
            "bin_start": 67.518368280085,
            "count": 9
           },
           {
            "bin_end": 76.134053337666,
            "bin_start": 71.8262108088755,
            "count": 44
           },
           {
            "bin_end": 80.4418958664565,
            "bin_start": 76.134053337666,
            "count": 59
           },
           {
            "bin_end": 84.749738395247,
            "bin_start": 80.4418958664565,
            "count": 72
           },
           {
            "bin_end": 89.0575809240375,
            "bin_start": 84.749738395247,
            "count": 67
           },
           {
            "bin_end": 93.365423452828,
            "bin_start": 89.0575809240375,
            "count": 47
           },
           {
            "bin_end": 97.6732659816185,
            "bin_start": 93.365423452828,
            "count": 50
           },
           {
            "bin_end": 101.981108510409,
            "bin_start": 97.6732659816185,
            "count": 57
           },
           {
            "bin_end": 106.2889510391995,
            "bin_start": 101.981108510409,
            "count": 32
           },
           {
            "bin_end": 110.59679356799,
            "bin_start": 106.2889510391995,
            "count": 67
           }
          ],
          "max": 110.59679356799,
          "min": 67.518368280085,
          "nan_count": 0,
          "unique_count": 492
         }
        },
        {
         "dtype": "float64",
         "name": "WIKI/AME - Adj. Close",
         "stats": {
          "histogram": [
           {
            "bin_end": 44.7734830131294,
            "bin_start": 43.464631108809,
            "count": 18
           },
           {
            "bin_end": 46.0823349174498,
            "bin_start": 44.7734830131294,
            "count": 50
           },
           {
            "bin_end": 47.391186821770205,
            "bin_start": 46.0823349174498,
            "count": 84
           },
           {
            "bin_end": 48.700038726090604,
            "bin_start": 47.391186821770205,
            "count": 62
           },
           {
            "bin_end": 50.008890630411,
            "bin_start": 48.700038726090604,
            "count": 48
           },
           {
            "bin_end": 51.3177425347314,
            "bin_start": 50.008890630411,
            "count": 44
           },
           {
            "bin_end": 52.6265944390518,
            "bin_start": 51.3177425347314,
            "count": 66
           },
           {
            "bin_end": 53.935446343372206,
            "bin_start": 52.6265944390518,
            "count": 71
           },
           {
            "bin_end": 55.244298247692605,
            "bin_start": 53.935446343372206,
            "count": 46
           },
           {
            "bin_end": 56.553150152013,
            "bin_start": 55.244298247692605,
            "count": 15
           }
          ],
          "max": 56.553150152013,
          "min": 43.464631108809,
          "nan_count": 0,
          "unique_count": 479
         }
        },
        {
         "dtype": "float64",
         "name": "WIKI/AMGN - Adj. Close",
         "stats": {
          "histogram": [
           {
            "bin_end": 130.063073036672,
            "bin_start": 125.53136390358,
            "count": 2
           },
           {
            "bin_end": 134.594782169764,
            "bin_start": 130.063073036672,
            "count": 6
           },
           {
            "bin_end": 139.126491302856,
            "bin_start": 134.594782169764,
            "count": 29
           },
           {
            "bin_end": 143.658200435948,
            "bin_start": 139.126491302856,
            "count": 76
           },
           {
            "bin_end": 148.18990956904,
            "bin_start": 143.658200435948,
            "count": 123
           },
           {
            "bin_end": 152.721618702132,
            "bin_start": 148.18990956904,
            "count": 88
           },
           {
            "bin_end": 157.25332783522398,
            "bin_start": 152.721618702132,
            "count": 89
           },
           {
            "bin_end": 161.78503696831598,
            "bin_start": 157.25332783522398,
            "count": 30
           },
           {
            "bin_end": 166.316746101408,
            "bin_start": 161.78503696831598,
            "count": 29
           },
           {
            "bin_end": 170.8484552345,
            "bin_start": 166.316746101408,
            "count": 32
           }
          ],
          "max": 170.8484552345,
          "min": 125.53136390358,
          "nan_count": 0,
          "unique_count": 496
         }
        },
        {
         "dtype": "float64",
         "name": "WIKI/APH - Adj. Close",
         "stats": {
          "histogram": [
           {
            "bin_end": 47.0469554616734,
            "bin_start": 44.694914734493,
            "count": 10
           },
           {
            "bin_end": 49.3989961888538,
            "bin_start": 47.0469554616734,
            "count": 24
           },
           {
            "bin_end": 51.751036916034195,
            "bin_start": 49.3989961888538,
            "count": 52
           },
           {
            "bin_end": 54.1030776432146,
            "bin_start": 51.751036916034195,
            "count": 83
           },
           {
            "bin_end": 56.455118370395,
            "bin_start": 54.1030776432146,
            "count": 128
           },
           {
            "bin_end": 58.8071590975754,
            "bin_start": 56.455118370395,
            "count": 99
           },
           {
            "bin_end": 61.1591998247558,
            "bin_start": 58.8071590975754,
            "count": 23
           },
           {
            "bin_end": 63.5112405519362,
            "bin_start": 61.1591998247558,
            "count": 20
           },
           {
            "bin_end": 65.8632812791166,
            "bin_start": 63.5112405519362,
            "count": 27
           },
           {
            "bin_end": 68.215322006297,
            "bin_start": 65.8632812791166,
            "count": 38
           }
          ],
          "max": 68.215322006297,
          "min": 44.694914734493,
          "nan_count": 0,
          "unique_count": 480
         }
        },
        {
         "dtype": "float64",
         "name": "WIKI/ADI - Adj. Close",
         "stats": {
          "histogram": [
           {
            "bin_end": 49.3675421484229,
            "bin_start": 46.731707980713,
            "count": 28
           },
           {
            "bin_end": 52.0033763161328,
            "bin_start": 49.3675421484229,
            "count": 51
           },
           {
            "bin_end": 54.6392104838427,
            "bin_start": 52.0033763161328,
            "count": 79
           },
           {
            "bin_end": 57.2750446515526,
            "bin_start": 54.6392104838427,
            "count": 119
           },
           {
            "bin_end": 59.9108788192625,
            "bin_start": 57.2750446515526,
            "count": 81
           },
           {
            "bin_end": 62.5467129869724,
            "bin_start": 59.9108788192625,
            "count": 76
           },
           {
            "bin_end": 65.1825471546823,
            "bin_start": 62.5467129869724,
            "count": 38
           },
           {
            "bin_end": 67.8183813223922,
            "bin_start": 65.1825471546823,
            "count": 4
           },
           {
            "bin_end": 70.4542154901021,
            "bin_start": 67.8183813223922,
            "count": 5
           },
           {
            "bin_end": 73.090049657812,
            "bin_start": 70.4542154901021,
            "count": 23
           }
          ],
          "max": 73.090049657812,
          "min": 46.731707980713,
          "nan_count": 0,
          "unique_count": 488
         }
        },
        {
         "dtype": "float64",
         "name": "WIKI/ANSS - Adj. Close",
         "stats": {
          "histogram": [
           {
            "bin_end": 81.185,
            "bin_start": 79.26,
            "count": 9
           },
           {
            "bin_end": 83.11,
            "bin_start": 81.185,
            "count": 12
           },
           {
            "bin_end": 85.03500000000001,
            "bin_start": 83.11,
            "count": 31
           },
           {
            "bin_end": 86.96000000000001,
            "bin_start": 85.03500000000001,
            "count": 77
           },
           {
            "bin_end": 88.885,
            "bin_start": 86.96000000000001,
            "count": 76
           },
           {
            "bin_end": 90.81,
            "bin_start": 88.885,
            "count": 83
           },
           {
            "bin_end": 92.735,
            "bin_start": 90.81,
            "count": 108
           },
           {
            "bin_end": 94.66000000000001,
            "bin_start": 92.735,
            "count": 67
           },
           {
            "bin_end": 96.58500000000001,
            "bin_start": 94.66000000000001,
            "count": 23
           },
           {
            "bin_end": 98.51,
            "bin_start": 96.58500000000001,
            "count": 18
           }
          ],
          "max": 98.51,
          "min": 79.26,
          "nan_count": 0,
          "unique_count": 421
         }
        },
        {
         "dtype": "float64",
         "name": "WIKI/ANTM - Adj. Close",
         "stats": {
          "histogram": [
           {
            "bin_end": 118.79096297629201,
            "bin_start": 113.71761820531,
            "count": 10
           },
           {
            "bin_end": 123.864307747274,
            "bin_start": 118.79096297629201,
            "count": 54
           },
           {
            "bin_end": 128.937652518256,
            "bin_start": 123.864307747274,
            "count": 84
           },
           {
            "bin_end": 134.010997289238,
            "bin_start": 128.937652518256,
            "count": 83
           },
           {
            "bin_end": 139.08434206022,
            "bin_start": 134.010997289238,
            "count": 82
           },
           {
            "bin_end": 144.157686831202,
            "bin_start": 139.08434206022,
            "count": 75
           },
           {
            "bin_end": 149.231031602184,
            "bin_start": 144.157686831202,
            "count": 55
           },
           {
            "bin_end": 154.304376373166,
            "bin_start": 149.231031602184,
            "count": 26
           },
           {
            "bin_end": 159.37772114414798,
            "bin_start": 154.304376373166,
            "count": 28
           },
           {
            "bin_end": 164.45106591513,
            "bin_start": 159.37772114414798,
            "count": 7
           }
          ],
          "max": 164.45106591513,
          "min": 113.71761820531,
          "nan_count": 0,
          "unique_count": 494
         }
        },
        {
         "dtype": "float64",
         "name": "WIKI/AON - Adj. Close",
         "stats": {
          "histogram": [
           {
            "bin_end": 85.8457391195799,
            "bin_start": 82.642166557111,
            "count": 16
           },
           {
            "bin_end": 89.0493116820488,
            "bin_start": 85.8457391195799,
            "count": 40
           },
           {
            "bin_end": 92.2528842445177,
            "bin_start": 89.0493116820488,
            "count": 71
           },
           {
            "bin_end": 95.4564568069866,
            "bin_start": 92.2528842445177,
            "count": 68
           },
           {
            "bin_end": 98.6600293694555,
            "bin_start": 95.4564568069866,
            "count": 75
           },
           {
            "bin_end": 101.86360193192439,
            "bin_start": 98.6600293694555,
            "count": 54
           },
           {
            "bin_end": 105.0671744943933,
            "bin_start": 101.86360193192439,
            "count": 33
           },
           {
            "bin_end": 108.2707470568622,
            "bin_start": 105.0671744943933,
            "count": 54
           },
           {
            "bin_end": 111.4743196193311,
            "bin_start": 108.2707470568622,
            "count": 77
           },
           {
            "bin_end": 114.6778921818,
            "bin_start": 111.4743196193311,
            "count": 16
           }
          ],
          "max": 114.6778921818,
          "min": 82.642166557111,
          "nan_count": 0,
          "unique_count": 484
         }
        },
        {
         "dtype": "float64",
         "name": "WIKI/APA - Adj. Close",
         "stats": {
          "histogram": [
           {
            "bin_end": 36.97491706002518,
            "bin_start": 33.486330941496426,
            "count": 24
           },
           {
            "bin_end": 40.463503178553935,
            "bin_start": 36.97491706002518,
            "count": 31
           },
           {
            "bin_end": 43.952089297082686,
            "bin_start": 40.463503178553935,
            "count": 41
           },
           {
            "bin_end": 47.44067541561144,
            "bin_start": 43.952089297082686,
            "count": 53
           },
           {
            "bin_end": 50.929261534140196,
            "bin_start": 47.44067541561144,
            "count": 52
           },
           {
            "bin_end": 54.41784765266895,
            "bin_start": 50.929261534140196,
            "count": 68
           },
           {
            "bin_end": 57.9064337711977,
            "bin_start": 54.41784765266895,
            "count": 89
           },
           {
            "bin_end": 61.395019889726456,
            "bin_start": 57.9064337711977,
            "count": 52
           },
           {
            "bin_end": 64.88360600825521,
            "bin_start": 61.395019889726456,
            "count": 59
           },
           {
            "bin_end": 68.37219212678396,
            "bin_start": 64.88360600825521,
            "count": 35
           }
          ],
          "max": 68.37219212678396,
          "min": 33.486330941496426,
          "nan_count": 0,
          "unique_count": 493
         }
        },
        {
         "dtype": "float64",
         "name": "WIKI/AAPL - Adj. Close",
         "stats": {
          "histogram": [
           {
            "bin_end": 92.1525170122557,
            "bin_start": 88.288160692023,
            "count": 25
           },
           {
            "bin_end": 96.0168733324884,
            "bin_start": 92.1525170122557,
            "count": 52
           },
           {
            "bin_end": 99.8812296527211,
            "bin_start": 96.0168733324884,
            "count": 35
           },
           {
            "bin_end": 103.7455859729538,
            "bin_start": 99.8812296527211,
            "count": 39
           },
           {
            "bin_end": 107.60994229318649,
            "bin_start": 103.7455859729538,
            "count": 76
           },
           {
            "bin_end": 111.4742986134192,
            "bin_start": 107.60994229318649,
            "count": 75
           },
           {
            "bin_end": 115.3386549336519,
            "bin_start": 111.4742986134192,
            "count": 68
           },
           {
            "bin_end": 119.2030112538846,
            "bin_start": 115.3386549336519,
            "count": 35
           },
           {
            "bin_end": 123.0673675741173,
            "bin_start": 119.2030112538846,
            "count": 67
           },
           {
            "bin_end": 126.93172389435,
            "bin_start": 123.0673675741173,
            "count": 32
           }
          ],
          "max": 126.93172389435,
          "min": 88.288160692023,
          "nan_count": 0,
          "unique_count": 495
         }
        },
        {
         "dtype": "float64",
         "name": "WIKI/AMAT - Adj. Close",
         "stats": {
          "histogram": [
           {
            "bin_end": 15.8723028064299,
            "bin_start": 13.959387756126,
            "count": 54
           },
           {
            "bin_end": 17.7852178567338,
            "bin_start": 15.8723028064299,
            "count": 71
           },
           {
            "bin_end": 19.698132907037703,
            "bin_start": 17.7852178567338,
            "count": 112
           },
           {
            "bin_end": 21.6110479573416,
            "bin_start": 19.698132907037703,
            "count": 48
           },
           {
            "bin_end": 23.5239630076455,
            "bin_start": 21.6110479573416,
            "count": 67
           },
           {
            "bin_end": 25.4368780579494,
            "bin_start": 23.5239630076455,
            "count": 32
           },
           {
            "bin_end": 27.3497931082533,
            "bin_start": 25.4368780579494,
            "count": 27
           },
           {
            "bin_end": 29.262708158557203,
            "bin_start": 27.3497931082533,
            "count": 32
           },
           {
            "bin_end": 31.175623208861104,
            "bin_start": 29.262708158557203,
            "count": 35
           },
           {
            "bin_end": 33.088538259165,
            "bin_start": 31.175623208861104,
            "count": 26
           }
          ],
          "max": 33.088538259165,
          "min": 13.959387756126,
          "nan_count": 0,
          "unique_count": 452
         }
        },
        {
         "dtype": "object",
         "name": "WIKI/APTV - Adj. Close",
         "stats": {
          "categories": [
           {
            "count": 504,
            "name": "Missing"
           }
          ],
          "nan_count": 504,
          "unique_count": 0
         }
        },
        {
         "dtype": "float64",
         "name": "WIKI/ADM - Adj. Close",
         "stats": {
          "histogram": [
           {
            "bin_end": 30.7470194690507,
            "bin_start": 28.682179578693,
            "count": 7
           },
           {
            "bin_end": 32.8118593594084,
            "bin_start": 30.7470194690507,
            "count": 28
           },
           {
            "bin_end": 34.8766992497661,
            "bin_start": 32.8118593594084,
            "count": 54
           },
           {
            "bin_end": 36.9415391401238,
            "bin_start": 34.8766992497661,
            "count": 33
           },
           {
            "bin_end": 39.0063790304815,
            "bin_start": 36.9415391401238,
            "count": 20
           },
           {
            "bin_end": 41.0712189208392,
            "bin_start": 39.0063790304815,
            "count": 72
           },
           {
            "bin_end": 43.136058811196904,
            "bin_start": 41.0712189208392,
            "count": 116
           },
           {
            "bin_end": 45.2008987015546,
            "bin_start": 43.136058811196904,
            "count": 126
           },
           {
            "bin_end": 47.265738591912296,
            "bin_start": 45.2008987015546,
            "count": 15
           },
           {
            "bin_end": 49.33057848227,
            "bin_start": 47.265738591912296,
            "count": 33
           }
          ],
          "max": 49.33057848227,
          "min": 28.682179578693,
          "nan_count": 0,
          "unique_count": 462
         }
        },
        {
         "dtype": "object",
         "name": "WIKI/ANET - Not Found",
         "stats": {
          "categories": [
           {
            "count": 504,
            "name": "Missing"
           }
          ],
          "nan_count": 504,
          "unique_count": 0
         }
        },
        {
         "dtype": "float64",
         "name": "WIKI/AJG - Adj. Close",
         "stats": {
          "histogram": [
           {
            "bin_end": 36.0360151035119,
            "bin_start": 34.377273380278,
            "count": 18
           },
           {
            "bin_end": 37.694756826745795,
            "bin_start": 36.0360151035119,
            "count": 15
           },
           {
            "bin_end": 39.3534985499797,
            "bin_start": 37.694756826745795,
            "count": 27
           },
           {
            "bin_end": 41.0122402732136,
            "bin_start": 39.3534985499797,
            "count": 52
           },
           {
            "bin_end": 42.670981996447495,
            "bin_start": 41.0122402732136,
            "count": 70
           },
           {
            "bin_end": 44.3297237196814,
            "bin_start": 42.670981996447495,
            "count": 91
           },
           {
            "bin_end": 45.9884654429153,
            "bin_start": 44.3297237196814,
            "count": 92
           },
           {
            "bin_end": 47.6472071661492,
            "bin_start": 45.9884654429153,
            "count": 55
           },
           {
            "bin_end": 49.305948889383096,
            "bin_start": 47.6472071661492,
            "count": 50
           },
           {
            "bin_end": 50.964690612617,
            "bin_start": 49.305948889383096,
            "count": 34
           }
          ],
          "max": 50.964690612617,
          "min": 34.377273380278,
          "nan_count": 0,
          "unique_count": 463
         }
        },
        {
         "dtype": "float64",
         "name": "WIKI/AIZ - Adj. Close",
         "stats": {
          "histogram": [
           {
            "bin_end": 60.225778382300604,
            "bin_start": 56.667214763856,
            "count": 58
           },
           {
            "bin_end": 63.7843420007452,
            "bin_start": 60.225778382300604,
            "count": 56
           },
           {
            "bin_end": 67.34290561918979,
            "bin_start": 63.7843420007452,
            "count": 23
           },
           {
            "bin_end": 70.9014692376344,
            "bin_start": 67.34290561918979,
            "count": 30
           },
           {
            "bin_end": 74.460032856079,
            "bin_start": 70.9014692376344,
            "count": 40
           },
           {
            "bin_end": 78.0185964745236,
            "bin_start": 74.460032856079,
            "count": 81
           },
           {
            "bin_end": 81.5771600929682,
            "bin_start": 78.0185964745236,
            "count": 58
           },
           {
            "bin_end": 85.1357237114128,
            "bin_start": 81.5771600929682,
            "count": 91
           },
           {
            "bin_end": 88.69428732985739,
            "bin_start": 85.1357237114128,
            "count": 38
           },
           {
            "bin_end": 92.252850948302,
            "bin_start": 88.69428732985739,
            "count": 29
           }
          ],
          "max": 92.252850948302,
          "min": 56.667214763856,
          "nan_count": 0,
          "unique_count": 480
         }
        },
        {
         "dtype": "float64",
         "name": "WIKI/T - Adj. Close",
         "stats": {
          "histogram": [
           {
            "bin_end": 29.5791830839039,
            "bin_start": 28.333025286794,
            "count": 87
           },
           {
            "bin_end": 30.8253408810138,
            "bin_start": 29.5791830839039,
            "count": 123
           },
           {
            "bin_end": 32.0714986781237,
            "bin_start": 30.8253408810138,
            "count": 55
           },
           {
            "bin_end": 33.317656475233605,
            "bin_start": 32.0714986781237,
            "count": 9
           },
           {
            "bin_end": 34.5638142723435,
            "bin_start": 33.317656475233605,
            "count": 19
           },
           {
            "bin_end": 35.8099720694534,
            "bin_start": 34.5638142723435,
            "count": 50
           },
           {
            "bin_end": 37.0561298665633,
            "bin_start": 35.8099720694534,
            "count": 47
           },
           {
            "bin_end": 38.3022876636732,
            "bin_start": 37.0561298665633,
            "count": 37
           },
           {
            "bin_end": 39.5484454607831,
            "bin_start": 38.3022876636732,
            "count": 34
           },
           {
            "bin_end": 40.794603257893,
            "bin_start": 39.5484454607831,
            "count": 43
           }
          ],
          "max": 40.794603257893,
          "min": 28.333025286794,
          "nan_count": 0,
          "unique_count": 463
         }
        },
        {
         "dtype": "float64",
         "name": "WIKI/ATO - Adj. Close",
         "stats": {
          "histogram": [
           {
            "bin_end": 51.6478833772995,
            "bin_start": 48.602796562997,
            "count": 110
           },
           {
            "bin_end": 54.692970191602,
            "bin_start": 51.6478833772995,
            "count": 69
           },
           {
            "bin_end": 57.7380570059045,
            "bin_start": 54.692970191602,
            "count": 25
           },
           {
            "bin_end": 60.783143820207,
            "bin_start": 57.7380570059045,
            "count": 56
           },
           {
            "bin_end": 63.8282306345095,
            "bin_start": 60.783143820207,
            "count": 9
           },
           {
            "bin_end": 66.873317448812,
            "bin_start": 63.8282306345095,
            "count": 4
           },
           {
            "bin_end": 69.9184042631145,
            "bin_start": 66.873317448812,
            "count": 63
           },
           {
            "bin_end": 72.963491077417,
            "bin_start": 69.9184042631145,
            "count": 96
           },
           {
            "bin_end": 76.00857789171951,
            "bin_start": 72.963491077417,
            "count": 45
           },
           {
            "bin_end": 79.053664706022,
            "bin_start": 76.00857789171951,
            "count": 27
           }
          ],
          "max": 79.053664706022,
          "min": 48.602796562997,
          "nan_count": 0,
          "unique_count": 476
         }
        },
        {
         "dtype": "float64",
         "name": "WIKI/ADSK - Adj. Close",
         "stats": {
          "histogram": [
           {
            "bin_end": 46.55,
            "bin_start": 42.64,
            "count": 27
           },
           {
            "bin_end": 50.46,
            "bin_start": 46.55,
            "count": 38
           },
           {
            "bin_end": 54.37,
            "bin_start": 50.46,
            "count": 73
           },
           {
            "bin_end": 58.28,
            "bin_start": 54.37,
            "count": 122
           },
           {
            "bin_end": 62.19,
            "bin_start": 58.28,
            "count": 117
           },
           {
            "bin_end": 66.1,
            "bin_start": 62.19,
            "count": 41
           },
           {
            "bin_end": 70.00999999999999,
            "bin_start": 66.1,
            "count": 22
           },
           {
            "bin_end": 73.91999999999999,
            "bin_start": 70.00999999999999,
            "count": 36
           },
           {
            "bin_end": 77.82999999999998,
            "bin_start": 73.91999999999999,
            "count": 21
           },
           {
            "bin_end": 81.74,
            "bin_start": 77.82999999999998,
            "count": 7
           }
          ],
          "max": 81.74,
          "min": 42.64,
          "nan_count": 0,
          "unique_count": 453
         }
        },
        {
         "dtype": "float64",
         "name": "WIKI/ADP - Adj. Close",
         "stats": {
          "histogram": [
           {
            "bin_end": 72.9439917145447,
            "bin_start": 69.740633701793,
            "count": 4
           },
           {
            "bin_end": 76.1473497272964,
            "bin_start": 72.9439917145447,
            "count": 37
           },
           {
            "bin_end": 79.35070774004811,
            "bin_start": 76.1473497272964,
            "count": 77
           },
           {
            "bin_end": 82.5540657527998,
            "bin_start": 79.35070774004811,
            "count": 134
           },
           {
            "bin_end": 85.7574237655515,
            "bin_start": 82.5540657527998,
            "count": 119
           },
           {
            "bin_end": 88.9607817783032,
            "bin_start": 85.7574237655515,
            "count": 77
           },
           {
            "bin_end": 92.16413979105491,
            "bin_start": 88.9607817783032,
            "count": 13
           },
           {
            "bin_end": 95.3674978038066,
            "bin_start": 92.16413979105491,
            "count": 26
           },
           {
            "bin_end": 98.57085581655829,
            "bin_start": 95.3674978038066,
            "count": 7
           },
           {
            "bin_end": 101.77421382931,
            "bin_start": 98.57085581655829,
            "count": 10
           }
          ],
          "max": 101.77421382931,
          "min": 69.740633701793,
          "nan_count": 0,
          "unique_count": 478
         }
        },
        {
         "dtype": "float64",
         "name": "WIKI/AZO - Adj. Close",
         "stats": {
          "histogram": [
           {
            "bin_end": 599.35,
            "bin_start": 575.28,
            "count": 9
           },
           {
            "bin_end": 623.42,
            "bin_start": 599.35,
            "count": 25
           },
           {
            "bin_end": 647.49,
            "bin_start": 623.42,
            "count": 8
           },
           {
            "bin_end": 671.56,
            "bin_start": 647.49,
            "count": 20
           },
           {
            "bin_end": 695.63,
            "bin_start": 671.56,
            "count": 79
           },
           {
            "bin_end": 719.7,
            "bin_start": 695.63,
            "count": 31
           },
           {
            "bin_end": 743.77,
            "bin_start": 719.7,
            "count": 70
           },
           {
            "bin_end": 767.84,
            "bin_start": 743.77,
            "count": 103
           },
           {
            "bin_end": 791.91,
            "bin_start": 767.84,
            "count": 92
           },
           {
            "bin_end": 815.98,
            "bin_start": 791.91,
            "count": 67
           }
          ],
          "max": 815.98,
          "min": 575.28,
          "nan_count": 0,
          "unique_count": 500
         }
        },
        {
         "dtype": "float64",
         "name": "WIKI/AVB - Adj. Close",
         "stats": {
          "histogram": [
           {
            "bin_end": 152.150316738687,
            "bin_start": 148.78120227767,
            "count": 23
           },
           {
            "bin_end": 155.519431199704,
            "bin_start": 152.150316738687,
            "count": 41
           },
           {
            "bin_end": 158.88854566072098,
            "bin_start": 155.519431199704,
            "count": 68
           },
           {
            "bin_end": 162.25766012173798,
            "bin_start": 158.88854566072098,
            "count": 69
           },
           {
            "bin_end": 165.626774582755,
            "bin_start": 162.25766012173798,
            "count": 77
           },
           {
            "bin_end": 168.995889043772,
            "bin_start": 165.626774582755,
            "count": 67
           },
           {
            "bin_end": 172.365003504789,
            "bin_start": 168.995889043772,
            "count": 61
           },
           {
            "bin_end": 175.73411796580598,
            "bin_start": 172.365003504789,
            "count": 46
           },
           {
            "bin_end": 179.10323242682298,
            "bin_start": 175.73411796580598,
            "count": 35
           },
           {
            "bin_end": 182.47234688784,
            "bin_start": 179.10323242682298,
            "count": 17
           }
          ],
          "max": 182.47234688784,
          "min": 148.78120227767,
          "nan_count": 0,
          "unique_count": 497
         }
        },
        {
         "dtype": "float64",
         "name": "WIKI/AVY - Adj. Close",
         "stats": {
          "histogram": [
           {
            "bin_end": 50.5692386125934,
            "bin_start": 47.682289467314,
            "count": 73
           },
           {
            "bin_end": 53.4561877578728,
            "bin_start": 50.5692386125934,
            "count": 15
           },
           {
            "bin_end": 56.3431369031522,
            "bin_start": 53.4561877578728,
            "count": 39
           },
           {
            "bin_end": 59.2300860484316,
            "bin_start": 56.3431369031522,
            "count": 85
           },
           {
            "bin_end": 62.117035193711004,
            "bin_start": 59.2300860484316,
            "count": 63
           },
           {
            "bin_end": 65.00398433899039,
            "bin_start": 62.117035193711004,
            "count": 18
           },
           {
            "bin_end": 67.8909334842698,
            "bin_start": 65.00398433899039,
            "count": 17
           },
           {
            "bin_end": 70.7778826295492,
            "bin_start": 67.8909334842698,
            "count": 77
           },
           {
            "bin_end": 73.6648317748286,
            "bin_start": 70.7778826295492,
            "count": 53
           },
           {
            "bin_end": 76.551780920108,
            "bin_start": 73.6648317748286,
            "count": 64
           }
          ],
          "max": 76.551780920108,
          "min": 47.682289467314,
          "nan_count": 0,
          "unique_count": 484
         }
        },
        {
         "dtype": "object",
         "name": "WIKI/BKR - Not Found",
         "stats": {
          "categories": [
           {
            "count": 504,
            "name": "Missing"
           }
          ],
          "nan_count": 504,
          "unique_count": 0
         }
        },
        {
         "dtype": "float64",
         "name": "WIKI/BLL - Adj. Close",
         "stats": {
          "histogram": [
           {
            "bin_end": 30.8677724246637,
            "bin_start": 29.779095631081,
            "count": 3
           },
           {
            "bin_end": 31.956449218246398,
            "bin_start": 30.8677724246637,
            "count": 27
           },
           {
            "bin_end": 33.0451260118291,
            "bin_start": 31.956449218246398,
            "count": 59
           },
           {
            "bin_end": 34.1338028054118,
            "bin_start": 33.0451260118291,
            "count": 68
           },
           {
            "bin_end": 35.2224795989945,
            "bin_start": 34.1338028054118,
            "count": 112
           },
           {
            "bin_end": 36.3111563925772,
            "bin_start": 35.2224795989945,
            "count": 107
           },
           {
            "bin_end": 37.3998331861599,
            "bin_start": 36.3111563925772,
            "count": 29
           },
           {
            "bin_end": 38.4885099797426,
            "bin_start": 37.3998331861599,
            "count": 36
           },
           {
            "bin_end": 39.5771867733253,
            "bin_start": 38.4885099797426,
            "count": 38
           },
           {
            "bin_end": 40.665863566908,
            "bin_start": 39.5771867733253,
            "count": 25
           }
          ],
          "max": 40.665863566908,
          "min": 29.779095631081,
          "nan_count": 0,
          "unique_count": 477
         }
        },
        {
         "dtype": "float64",
         "name": "WIKI/BAC - Adj. Close",
         "stats": {
          "histogram": [
           {
            "bin_end": 12.0707923447398,
            "bin_start": 10.867554394085,
            "count": 12
           },
           {
            "bin_end": 13.2740302953946,
            "bin_start": 12.0707923447398,
            "count": 51
           },
           {
            "bin_end": 14.477268246049398,
            "bin_start": 13.2740302953946,
            "count": 67
           },
           {
            "bin_end": 15.680506196704199,
            "bin_start": 14.477268246049398,
            "count": 156
           },
           {
            "bin_end": 16.883744147359,
            "bin_start": 15.680506196704199,
            "count": 126
           },
           {
            "bin_end": 18.0869820980138,
            "bin_start": 16.883744147359,
            "count": 57
           },
           {
            "bin_end": 19.2902200486686,
            "bin_start": 18.0869820980138,
            "count": 2
           },
           {
            "bin_end": 20.493457999323397,
            "bin_start": 19.2902200486686,
            "count": 10
           },
           {
            "bin_end": 21.6966959499782,
            "bin_start": 20.493457999323397,
            "count": 5
           },
           {
            "bin_end": 22.899933900633,
            "bin_start": 21.6966959499782,
            "count": 18
           }
          ],
          "max": 22.899933900633,
          "min": 10.867554394085,
          "nan_count": 0,
          "unique_count": 441
         }
        },
        {
         "dtype": "float64",
         "name": "WIKI/BAX - Adj. Close",
         "stats": {
          "histogram": [
           {
            "bin_end": 33.260438828971,
            "bin_start": 31.55224760591,
            "count": 15
           },
           {
            "bin_end": 34.968630052032,
            "bin_start": 33.260438828971,
            "count": 24
           },
           {
            "bin_end": 36.676821275093,
            "bin_start": 34.968630052032,
            "count": 134
           },
           {
            "bin_end": 38.385012498154,
            "bin_start": 36.676821275093,
            "count": 99
           },
           {
            "bin_end": 40.093203721215,
            "bin_start": 38.385012498154,
            "count": 33
           },
           {
            "bin_end": 41.801394944276,
            "bin_start": 40.093203721215,
            "count": 18
           },
           {
            "bin_end": 43.509586167337,
            "bin_start": 41.801394944276,
            "count": 27
           },
           {
            "bin_end": 45.217777390398,
            "bin_start": 43.509586167337,
            "count": 54
           },
           {
            "bin_end": 46.925968613459,
            "bin_start": 45.217777390398,
            "count": 56
           },
           {
            "bin_end": 48.63415983652,
            "bin_start": 46.925968613459,
            "count": 44
           }
          ],
          "max": 48.63415983652,
          "min": 31.55224760591,
          "nan_count": 0,
          "unique_count": 470
         }
        },
        {
         "dtype": "float64",
         "name": "WIKI/BDX - Adj. Close",
         "stats": {
          "histogram": [
           {
            "bin_end": 131.513490171506,
            "bin_start": 126.27077597432,
            "count": 12
           },
           {
            "bin_end": 136.756204368692,
            "bin_start": 131.513490171506,
            "count": 115
           },
           {
            "bin_end": 141.998918565878,
            "bin_start": 136.756204368692,
            "count": 90
           },
           {
            "bin_end": 147.24163276306402,
            "bin_start": 141.998918565878,
            "count": 67
           },
           {
            "bin_end": 152.48434696025,
            "bin_start": 147.24163276306402,
            "count": 36
           },
           {
            "bin_end": 157.72706115743603,
            "bin_start": 152.48434696025,
            "count": 15
           },
           {
            "bin_end": 162.96977535462202,
            "bin_start": 157.72706115743603,
            "count": 23
           },
           {
            "bin_end": 168.212489551808,
            "bin_start": 162.96977535462202,
            "count": 57
           },
           {
            "bin_end": 173.45520374899402,
            "bin_start": 168.212489551808,
            "count": 66
           },
           {
            "bin_end": 178.69791794618,
            "bin_start": 173.45520374899402,
            "count": 23
           }
          ],
          "max": 178.69791794618,
          "min": 126.27077597432,
          "nan_count": 0,
          "unique_count": 488
         }
        },
        {
         "dtype": "float64",
         "name": "WIKI/BBY - Adj. Close",
         "stats": {
          "histogram": [
           {
            "bin_end": 26.6573048081911,
            "bin_start": 24.244571153436,
            "count": 19
           },
           {
            "bin_end": 29.0700384629462,
            "bin_start": 26.6573048081911,
            "count": 55
           },
           {
            "bin_end": 31.4827721177013,
            "bin_start": 29.0700384629462,
            "count": 135
           },
           {
            "bin_end": 33.8955057724564,
            "bin_start": 31.4827721177013,
            "count": 121
           },
           {
            "bin_end": 36.308239427211504,
            "bin_start": 33.8955057724564,
            "count": 70
           },
           {
            "bin_end": 38.7209730819666,
            "bin_start": 36.308239427211504,
            "count": 68
           },
           {
            "bin_end": 41.1337067367217,
            "bin_start": 38.7209730819666,
            "count": 6
           },
           {
            "bin_end": 43.5464403914768,
            "bin_start": 41.1337067367217,
            "count": 3
           },
           {
            "bin_end": 45.9591740462319,
            "bin_start": 43.5464403914768,
            "count": 17
           },
           {
            "bin_end": 48.371907700987,
            "bin_start": 45.9591740462319,
            "count": 10
           }
          ],
          "max": 48.371907700987,
          "min": 24.244571153436,
          "nan_count": 0,
          "unique_count": 480
         }
        },
        {
         "dtype": "float64",
         "name": "WIKI/BIO - Adj. Close",
         "stats": {
          "histogram": [
           {
            "bin_end": 120.739,
            "bin_start": 113.77,
            "count": 38
           },
           {
            "bin_end": 127.708,
            "bin_start": 120.739,
            "count": 22
           },
           {
            "bin_end": 134.677,
            "bin_start": 127.708,
            "count": 37
           },
           {
            "bin_end": 141.64600000000002,
            "bin_start": 134.677,
            "count": 165
           },
           {
            "bin_end": 148.615,
            "bin_start": 141.64600000000002,
            "count": 95
           },
           {
            "bin_end": 155.584,
            "bin_start": 148.615,
            "count": 66
           },
           {
            "bin_end": 162.553,
            "bin_start": 155.584,
            "count": 31
           },
           {
            "bin_end": 169.522,
            "bin_start": 162.553,
            "count": 16
           },
           {
            "bin_end": 176.491,
            "bin_start": 169.522,
            "count": 14
           },
           {
            "bin_end": 183.46,
            "bin_start": 176.491,
            "count": 20
           }
          ],
          "max": 183.46,
          "min": 113.77,
          "nan_count": 0,
          "unique_count": 472
         }
        },
        {
         "dtype": "float64",
         "name": "WIKI/BIIB - Adj. Close",
         "stats": {
          "histogram": [
           {
            "bin_end": 249.738,
            "bin_start": 224.6,
            "count": 22
           },
           {
            "bin_end": 274.876,
            "bin_start": 249.738,
            "count": 103
           },
           {
            "bin_end": 300.014,
            "bin_start": 274.876,
            "count": 136
           },
           {
            "bin_end": 325.152,
            "bin_start": 300.014,
            "count": 99
           },
           {
            "bin_end": 350.29,
            "bin_start": 325.152,
            "count": 12
           },
           {
            "bin_end": 375.428,
            "bin_start": 350.29,
            "count": 13
           },
           {
            "bin_end": 400.56600000000003,
            "bin_start": 375.428,
            "count": 51
           },
           {
            "bin_end": 425.704,
            "bin_start": 400.56600000000003,
            "count": 54
           },
           {
            "bin_end": 450.842,
            "bin_start": 425.704,
            "count": 11
           },
           {
            "bin_end": 475.98,
            "bin_start": 450.842,
            "count": 3
           }
          ],
          "max": 475.98,
          "min": 224.6,
          "nan_count": 0,
          "unique_count": 492
         }
        },
        {
         "dtype": "float64",
         "name": "WIKI/BLK - Adj. Close",
         "stats": {
          "histogram": [
           {
            "bin_end": 288.720089670809,
            "bin_start": 277.33248052869,
            "count": 34
           },
           {
            "bin_end": 300.107698812928,
            "bin_start": 288.720089670809,
            "count": 25
           },
           {
            "bin_end": 311.495307955047,
            "bin_start": 300.107698812928,
            "count": 31
           },
           {
            "bin_end": 322.882917097166,
            "bin_start": 311.495307955047,
            "count": 49
           },
           {
            "bin_end": 334.270526239285,
            "bin_start": 322.882917097166,
            "count": 84
           },
           {
            "bin_end": 345.658135381404,
            "bin_start": 334.270526239285,
            "count": 104
           },
           {
            "bin_end": 357.045744523523,
            "bin_start": 345.658135381404,
            "count": 115
           },
           {
            "bin_end": 368.433353665642,
            "bin_start": 357.045744523523,
            "count": 45
           },
           {
            "bin_end": 379.820962807761,
            "bin_start": 368.433353665642,
            "count": 5
           },
           {
            "bin_end": 391.20857194988,
            "bin_start": 379.820962807761,
            "count": 12
           }
          ],
          "max": 391.20857194988,
          "min": 277.33248052869,
          "nan_count": 0,
          "unique_count": 497
         }
        },
        {
         "dtype": "float64",
         "name": "WIKI/BA - Adj. Close",
         "stats": {
          "histogram": [
           {
            "bin_end": 108.018643032466,
            "bin_start": 102.96677851864,
            "count": 3
           },
           {
            "bin_end": 113.07050754629199,
            "bin_start": 108.018643032466,
            "count": 16
           },
           {
            "bin_end": 118.122372060118,
            "bin_start": 113.07050754629199,
            "count": 19
           },
           {
            "bin_end": 123.174236573944,
            "bin_start": 118.122372060118,
            "count": 66
           },
           {
            "bin_end": 128.22610108777,
            "bin_start": 123.174236573944,
            "count": 112
           },
           {
            "bin_end": 133.277965601596,
            "bin_start": 128.22610108777,
            "count": 90
           },
           {
            "bin_end": 138.329830115422,
            "bin_start": 133.277965601596,
            "count": 102
           },
           {
            "bin_end": 143.381694629248,
            "bin_start": 138.329830115422,
            "count": 62
           },
           {
            "bin_end": 148.43355914307398,
            "bin_start": 143.381694629248,
            "count": 17
           },
           {
            "bin_end": 153.4854236569,
            "bin_start": 148.43355914307398,
            "count": 17
           }
          ],
          "max": 153.4854236569,
          "min": 102.96677851864,
          "nan_count": 0,
          "unique_count": 483
         }
        },
        {
         "dtype": "object",
         "name": "WIKI/BKNG - Adj. Close",
         "stats": {
          "categories": [
           {
            "count": 504,
            "name": "Missing"
           }
          ],
          "nan_count": 504,
          "unique_count": 0
         }
        },
        {
         "dtype": "float64",
         "name": "WIKI/BWA - Adj. Close",
         "stats": {
          "histogram": [
           {
            "bin_end": 30.5808153179354,
            "bin_start": 27.207980862169,
            "count": 30
           },
           {
            "bin_end": 33.9536497737018,
            "bin_start": 30.5808153179354,
            "count": 98
           },
           {
            "bin_end": 37.3264842294682,
            "bin_start": 33.9536497737018,
            "count": 95
           },
           {
            "bin_end": 40.6993186852346,
            "bin_start": 37.3264842294682,
            "count": 48
           },
           {
            "bin_end": 44.072153141000996,
            "bin_start": 40.6993186852346,
            "count": 73
           },
           {
            "bin_end": 47.444987596767405,
            "bin_start": 44.072153141000996,
            "count": 13
           },
           {
            "bin_end": 50.8178220525338,
            "bin_start": 47.444987596767405,
            "count": 18
           },
           {
            "bin_end": 54.1906565083002,
            "bin_start": 50.8178220525338,
            "count": 22
           },
           {
            "bin_end": 57.5634909640666,
            "bin_start": 54.1906565083002,
            "count": 22
           },
           {
            "bin_end": 60.936325419833,
            "bin_start": 57.5634909640666,
            "count": 85
           }
          ],
          "max": 60.936325419833,
          "min": 27.207980862169,
          "nan_count": 0,
          "unique_count": 470
         }
        },
        {
         "dtype": "float64",
         "name": "WIKI/BXP - Adj. Close",
         "stats": {
          "histogram": [
           {
            "bin_end": 106.140021097317,
            "bin_start": 102.42728532173,
            "count": 13
           },
           {
            "bin_end": 109.852756872904,
            "bin_start": 106.140021097317,
            "count": 16
           },
           {
            "bin_end": 113.56549264849099,
            "bin_start": 109.852756872904,
            "count": 37
           },
           {
            "bin_end": 117.278228424078,
            "bin_start": 113.56549264849099,
            "count": 70
           },
           {
            "bin_end": 120.990964199665,
            "bin_start": 117.278228424078,
            "count": 85
           },
           {
            "bin_end": 124.703699975252,
            "bin_start": 120.990964199665,
            "count": 94
           },
           {
            "bin_end": 128.41643575083899,
            "bin_start": 124.703699975252,
            "count": 67
           },
           {
            "bin_end": 132.12917152642598,
            "bin_start": 128.41643575083899,
            "count": 55
           },
           {
            "bin_end": 135.841907302013,
            "bin_start": 132.12917152642598,
            "count": 39
           },
           {
            "bin_end": 139.5546430776,
            "bin_start": 135.841907302013,
            "count": 28
           }
          ],
          "max": 139.5546430776,
          "min": 102.42728532173,
          "nan_count": 0,
          "unique_count": 490
         }
        },
        {
         "dtype": "float64",
         "name": "WIKI/BSX - Adj. Close",
         "stats": {
          "histogram": [
           {
            "bin_end": 14.346,
            "bin_start": 13.22,
            "count": 6
           },
           {
            "bin_end": 15.472000000000001,
            "bin_start": 14.346,
            "count": 25
           },
           {
            "bin_end": 16.598,
            "bin_start": 15.472000000000001,
            "count": 23
           },
           {
            "bin_end": 17.724,
            "bin_start": 16.598,
            "count": 132
           },
           {
            "bin_end": 18.85,
            "bin_start": 17.724,
            "count": 124
           },
           {
            "bin_end": 19.976,
            "bin_start": 18.85,
            "count": 21
           },
           {
            "bin_end": 21.102,
            "bin_start": 19.976,
            "count": 14
           },
           {
            "bin_end": 22.228,
            "bin_start": 21.102,
            "count": 45
           },
           {
            "bin_end": 23.354,
            "bin_start": 22.228,
            "count": 49
           },
           {
            "bin_end": 24.48,
            "bin_start": 23.354,
            "count": 65
           }
          ],
          "max": 24.48,
          "min": 13.22,
          "nan_count": 0,
          "unique_count": 350
         }
        },
        {
         "dtype": "float64",
         "name": "WIKI/BMY - Adj. Close",
         "stats": {
          "histogram": [
           {
            "bin_end": 50.5535628279493,
            "bin_start": 47.924092248373,
            "count": 19
           },
           {
            "bin_end": 53.1830334075256,
            "bin_start": 50.5535628279493,
            "count": 6
           },
           {
            "bin_end": 55.8125039871019,
            "bin_start": 53.1830334075256,
            "count": 69
           },
           {
            "bin_end": 58.4419745666782,
            "bin_start": 55.8125039871019,
            "count": 82
           },
           {
            "bin_end": 61.0714451462545,
            "bin_start": 58.4419745666782,
            "count": 89
           },
           {
            "bin_end": 63.7009157258308,
            "bin_start": 61.0714451462545,
            "count": 97
           },
           {
            "bin_end": 66.3303863054071,
            "bin_start": 63.7009157258308,
            "count": 64
           },
           {
            "bin_end": 68.9598568849834,
            "bin_start": 66.3303863054071,
            "count": 33
           },
           {
            "bin_end": 71.58932746455969,
            "bin_start": 68.9598568849834,
            "count": 24
           },
           {
            "bin_end": 74.218798044136,
            "bin_start": 71.58932746455969,
            "count": 21
           }
          ],
          "max": 74.218798044136,
          "min": 47.924092248373,
          "nan_count": 0,
          "unique_count": 489
         }
        },
        {
         "dtype": "float64",
         "name": "WIKI/AVGO - Adj. Close",
         "stats": {
          "histogram": [
           {
            "bin_end": 101.22219508535991,
            "bin_start": 92.472632265791,
            "count": 21
           },
           {
            "bin_end": 109.97175790492881,
            "bin_start": 101.22219508535991,
            "count": 20
           },
           {
            "bin_end": 118.7213207244977,
            "bin_start": 109.97175790492881,
            "count": 56
           },
           {
            "bin_end": 127.47088354406661,
            "bin_start": 118.7213207244977,
            "count": 121
           },
           {
            "bin_end": 136.22044636363552,
            "bin_start": 127.47088354406661,
            "count": 41
           },
           {
            "bin_end": 144.9700091832044,
            "bin_start": 136.22044636363552,
            "count": 62
           },
           {
            "bin_end": 153.7195720027733,
            "bin_start": 144.9700091832044,
            "count": 47
           },
           {
            "bin_end": 162.4691348223422,
            "bin_start": 153.7195720027733,
            "count": 39
           },
           {
            "bin_end": 171.2186976419111,
            "bin_start": 162.4691348223422,
            "count": 63
           },
           {
            "bin_end": 179.96826046148,
            "bin_start": 171.2186976419111,
            "count": 34
           }
          ],
          "max": 179.96826046148,
          "min": 92.472632265791,
          "nan_count": 0,
          "unique_count": 500
         }
        },
        {
         "dtype": "float64",
         "name": "WIKI/BR - Adj. Close",
         "stats": {
          "histogram": [
           {
            "bin_end": 45.221553269800005,
            "bin_start": 42.496933877068,
            "count": 15
           },
           {
            "bin_end": 47.946172662532,
            "bin_start": 45.221553269800005,
            "count": 10
           },
           {
            "bin_end": 50.670792055264,
            "bin_start": 47.946172662532,
            "count": 88
           },
           {
            "bin_end": 53.395411447996,
            "bin_start": 50.670792055264,
            "count": 131
           },
           {
            "bin_end": 56.120030840728,
            "bin_start": 53.395411447996,
            "count": 53
           },
           {
            "bin_end": 58.84465023346,
            "bin_start": 56.120030840728,
            "count": 40
           },
           {
            "bin_end": 61.569269626191996,
            "bin_start": 58.84465023346,
            "count": 20
           },
           {
            "bin_end": 64.293889018924,
            "bin_start": 61.569269626191996,
            "count": 58
           },
           {
            "bin_end": 67.018508411656,
            "bin_start": 64.293889018924,
            "count": 62
           },
           {
            "bin_end": 69.743127804388,
            "bin_start": 67.018508411656,
            "count": 27
           }
          ],
          "max": 69.743127804388,
          "min": 42.496933877068,
          "nan_count": 0,
          "unique_count": 474
         }
        },
        {
         "dtype": "float64",
         "name": "WIKI/CHRW - Adj. Close",
         "stats": {
          "histogram": [
           {
            "bin_end": 59.3973027408626,
            "bin_start": 57.596886390719,
            "count": 21
           },
           {
            "bin_end": 61.1977190910062,
            "bin_start": 59.3973027408626,
            "count": 66
           },
           {
            "bin_end": 62.9981354411498,
            "bin_start": 61.1977190910062,
            "count": 22
           },
           {
            "bin_end": 64.7985517912934,
            "bin_start": 62.9981354411498,
            "count": 24
           },
           {
            "bin_end": 66.598968141437,
            "bin_start": 64.7985517912934,
            "count": 74
           },
           {
            "bin_end": 68.3993844915806,
            "bin_start": 66.598968141437,
            "count": 99
           },
           {
            "bin_end": 70.1998008417242,
            "bin_start": 68.3993844915806,
            "count": 95
           },
           {
            "bin_end": 72.0002171918678,
            "bin_start": 70.1998008417242,
            "count": 59
           },
           {
            "bin_end": 73.80063354201141,
            "bin_start": 72.0002171918678,
            "count": 38
           },
           {
            "bin_end": 75.601049892155,
            "bin_start": 73.80063354201141,
            "count": 6
           }
          ],
          "max": 75.601049892155,
          "min": 57.596886390719,
          "nan_count": 0,
          "unique_count": 478
         }
        },
        {
         "dtype": "float64",
         "name": "WIKI/COG - Adj. Close",
         "stats": {
          "histogram": [
           {
            "bin_end": 16.884897739365698,
            "bin_start": 14.874810060242,
            "count": 18
           },
           {
            "bin_end": 18.894985418489398,
            "bin_start": 16.884897739365698,
            "count": 20
           },
           {
            "bin_end": 20.905073097613098,
            "bin_start": 18.894985418489398,
            "count": 47
           },
           {
            "bin_end": 22.915160776736798,
            "bin_start": 20.905073097613098,
            "count": 103
           },
           {
            "bin_end": 24.925248455860498,
            "bin_start": 22.915160776736798,
            "count": 115
           },
           {
            "bin_end": 26.935336134984198,
            "bin_start": 24.925248455860498,
            "count": 69
           },
           {
            "bin_end": 28.945423814107897,
            "bin_start": 26.935336134984198,
            "count": 51
           },
           {
            "bin_end": 30.955511493231597,
            "bin_start": 28.945423814107897,
            "count": 25
           },
           {
            "bin_end": 32.9655991723553,
            "bin_start": 30.955511493231597,
            "count": 19
           },
           {
            "bin_end": 34.975686851479,
            "bin_start": 32.9655991723553,
            "count": 37
           }
          ],
          "max": 34.975686851479,
          "min": 14.874810060242,
          "nan_count": 0,
          "unique_count": 476
         }
        },
        {
         "dtype": "float64",
         "name": "WIKI/CDNS - Adj. Close",
         "stats": {
          "histogram": [
           {
            "bin_end": 18.102999999999998,
            "bin_start": 17.13,
            "count": 22
           },
           {
            "bin_end": 19.076,
            "bin_start": 18.102999999999998,
            "count": 75
           },
           {
            "bin_end": 20.049,
            "bin_start": 19.076,
            "count": 66
           },
           {
            "bin_end": 21.022,
            "bin_start": 20.049,
            "count": 48
           },
           {
            "bin_end": 21.994999999999997,
            "bin_start": 21.022,
            "count": 60
           },
           {
            "bin_end": 22.968,
            "bin_start": 21.994999999999997,
            "count": 33
           },
           {
            "bin_end": 23.941,
            "bin_start": 22.968,
            "count": 46
           },
           {
            "bin_end": 24.914,
            "bin_start": 23.941,
            "count": 57
           },
           {
            "bin_end": 25.887,
            "bin_start": 24.914,
            "count": 72
           },
           {
            "bin_end": 26.86,
            "bin_start": 25.887,
            "count": 25
           }
          ],
          "max": 26.86,
          "min": 17.13,
          "nan_count": 0,
          "unique_count": 381
         }
        },
        {
         "dtype": "float64",
         "name": "WIKI/CZR - Adj. Close",
         "stats": {
          "histogram": [
           {
            "bin_end": 5.827999999999999,
            "bin_start": 4.76,
            "count": 10
           },
           {
            "bin_end": 6.896,
            "bin_start": 5.827999999999999,
            "count": 113
           },
           {
            "bin_end": 7.964,
            "bin_start": 6.896,
            "count": 186
           },
           {
            "bin_end": 9.032,
            "bin_start": 7.964,
            "count": 72
           },
           {
            "bin_end": 10.1,
            "bin_start": 9.032,
            "count": 61
           },
           {
            "bin_end": 11.168,
            "bin_start": 10.1,
            "count": 32
           },
           {
            "bin_end": 12.236,
            "bin_start": 11.168,
            "count": 20
           },
           {
            "bin_end": 13.304,
            "bin_start": 12.236,
            "count": 5
           },
           {
            "bin_end": 14.372,
            "bin_start": 13.304,
            "count": 4
           },
           {
            "bin_end": 15.44,
            "bin_start": 14.372,
            "count": 1
           }
          ],
          "max": 15.44,
          "min": 4.76,
          "nan_count": 0,
          "unique_count": 308
         }
        },
        {
         "dtype": "float64",
         "name": "WIKI/CPB - Adj. Close",
         "stats": {
          "histogram": [
           {
            "bin_end": 42.451197265553404,
            "bin_start": 39.939094095069,
            "count": 18
           },
           {
            "bin_end": 44.9633004360378,
            "bin_start": 42.451197265553404,
            "count": 104
           },
           {
            "bin_end": 47.4754036065222,
            "bin_start": 44.9633004360378,
            "count": 64
           },
           {
            "bin_end": 49.9875067770066,
            "bin_start": 47.4754036065222,
            "count": 50
           },
           {
            "bin_end": 52.499609947490995,
            "bin_start": 49.9875067770066,
            "count": 51
           },
           {
            "bin_end": 55.0117131179754,
            "bin_start": 52.499609947490995,
            "count": 45
           },
           {
            "bin_end": 57.5238162884598,
            "bin_start": 55.0117131179754,
            "count": 19
           },
           {
            "bin_end": 60.03591945894419,
            "bin_start": 57.5238162884598,
            "count": 81
           },
           {
            "bin_end": 62.548022629428594,
            "bin_start": 60.03591945894419,
            "count": 53
           },
           {
            "bin_end": 65.060125799913,
            "bin_start": 62.548022629428594,
            "count": 19
           }
          ],
          "max": 65.060125799913,
          "min": 39.939094095069,
          "nan_count": 0,
          "unique_count": 472
         }
        },
        {
         "dtype": "float64",
         "name": "WIKI/COF - Adj. Close",
         "stats": {
          "histogram": [
           {
            "bin_end": 59.768105609982406,
            "bin_start": 56.482112161301,
            "count": 11
           },
           {
            "bin_end": 63.0540990586638,
            "bin_start": 59.768105609982406,
            "count": 30
           },
           {
            "bin_end": 66.3400925073452,
            "bin_start": 63.0540990586638,
            "count": 37
           },
           {
            "bin_end": 69.6260859560266,
            "bin_start": 66.3400925073452,
            "count": 82
           },
           {
            "bin_end": 72.91207940470801,
            "bin_start": 69.6260859560266,
            "count": 110
           },
           {
            "bin_end": 76.1980728533894,
            "bin_start": 72.91207940470801,
            "count": 83
           },
           {
            "bin_end": 79.4840663020708,
            "bin_start": 76.1980728533894,
            "count": 69
           },
           {
            "bin_end": 82.77005975075221,
            "bin_start": 79.4840663020708,
            "count": 29
           },
           {
            "bin_end": 86.0560531994336,
            "bin_start": 82.77005975075221,
            "count": 31
           },
           {
            "bin_end": 89.342046648115,
            "bin_start": 86.0560531994336,
            "count": 22
           }
          ],
          "max": 89.342046648115,
          "min": 56.482112161301,
          "nan_count": 0,
          "unique_count": 484
         }
        },
        {
         "dtype": "float64",
         "name": "WIKI/CAH - Adj. Close",
         "stats": {
          "histogram": [
           {
            "bin_end": 65.9295001294127,
            "bin_start": 63.596875059713,
            "count": 6
           },
           {
            "bin_end": 68.2621251991124,
            "bin_start": 65.9295001294127,
            "count": 3
           },
           {
            "bin_end": 70.59475026881209,
            "bin_start": 68.2621251991124,
            "count": 20
           },
           {
            "bin_end": 72.9273753385118,
            "bin_start": 70.59475026881209,
            "count": 20
           },
           {
            "bin_end": 75.2600004082115,
            "bin_start": 72.9273753385118,
            "count": 71
           },
           {
            "bin_end": 77.5926254779112,
            "bin_start": 75.2600004082115,
            "count": 73
           },
           {
            "bin_end": 79.9252505476109,
            "bin_start": 77.5926254779112,
            "count": 85
           },
           {
            "bin_end": 82.25787561731059,
            "bin_start": 79.9252505476109,
            "count": 97
           },
           {
            "bin_end": 84.59050068701029,
            "bin_start": 82.25787561731059,
            "count": 85
           },
           {
            "bin_end": 86.92312575671,
            "bin_start": 84.59050068701029,
            "count": 44
           }
          ],
          "max": 86.92312575671,
          "min": 63.596875059713,
          "nan_count": 0,
          "unique_count": 491
         }
        },
        {
         "dtype": "float64",
         "name": "WIKI/KMX - Adj. Close",
         "stats": {
          "histogram": [
           {
            "bin_end": 45.408,
            "bin_start": 42.15,
            "count": 19
           },
           {
            "bin_end": 48.666,
            "bin_start": 45.408,
            "count": 30
           },
           {
            "bin_end": 51.924,
            "bin_start": 48.666,
            "count": 74
           },
           {
            "bin_end": 55.182,
            "bin_start": 51.924,
            "count": 59
           },
           {
            "bin_end": 58.44,
            "bin_start": 55.182,
            "count": 79
           },
           {
            "bin_end": 61.698,
            "bin_start": 58.44,
            "count": 65
           },
           {
            "bin_end": 64.956,
            "bin_start": 61.698,
            "count": 69
           },
           {
            "bin_end": 68.214,
            "bin_start": 64.956,
            "count": 47
           },
           {
            "bin_end": 71.47200000000001,
            "bin_start": 68.214,
            "count": 27
           },
           {
            "bin_end": 74.73,
            "bin_start": 71.47200000000001,
            "count": 35
           }
          ],
          "max": 74.73,
          "min": 42.15,
          "nan_count": 0,
          "unique_count": 455
         }
        },
        {
         "dtype": "float64",
         "name": "WIKI/CCL - Adj. Close",
         "stats": {
          "histogram": [
           {
            "bin_end": 41.095774056779305,
            "bin_start": 39.812243527851,
            "count": 20
           },
           {
            "bin_end": 42.3793045857076,
            "bin_start": 41.095774056779305,
            "count": 30
           },
           {
            "bin_end": 43.662835114635904,
            "bin_start": 42.3793045857076,
            "count": 43
           },
           {
            "bin_end": 44.9463656435642,
            "bin_start": 43.662835114635904,
            "count": 68
           },
           {
            "bin_end": 46.2298961724925,
            "bin_start": 44.9463656435642,
            "count": 81
           },
           {
            "bin_end": 47.5134267014208,
            "bin_start": 46.2298961724925,
            "count": 72
           },
           {
            "bin_end": 48.7969572303491,
            "bin_start": 47.5134267014208,
            "count": 66
           },
           {
            "bin_end": 50.0804877592774,
            "bin_start": 48.7969572303491,
            "count": 65
           },
           {
            "bin_end": 51.3640182882057,
            "bin_start": 50.0804877592774,
            "count": 35
           },
           {
            "bin_end": 52.647548817134,
            "bin_start": 51.3640182882057,
            "count": 24
           }
          ],
          "max": 52.647548817134,
          "min": 39.812243527851,
          "nan_count": 0,
          "unique_count": 483
         }
        },
        {
         "dtype": "object",
         "name": "WIKI/CARR - Not Found",
         "stats": {
          "categories": [
           {
            "count": 504,
            "name": "Missing"
           }
          ],
          "nan_count": 504,
          "unique_count": 0
         }
        },
        {
         "dtype": "object",
         "name": "WIKI/CTLT - Not Found",
         "stats": {
          "categories": [
           {
            "count": 504,
            "name": "Missing"
           }
          ],
          "nan_count": 504,
          "unique_count": 0
         }
        },
        {
         "dtype": "float64",
         "name": "WIKI/CAT - Adj. Close",
         "stats": {
          "histogram": [
           {
            "bin_end": 58.6475528348731,
            "bin_start": 54.663835795889,
            "count": 15
           },
           {
            "bin_end": 62.6312698738572,
            "bin_start": 58.6475528348731,
            "count": 33
           },
           {
            "bin_end": 66.6149869128413,
            "bin_start": 62.6312698738572,
            "count": 53
           },
           {
            "bin_end": 70.5987039518254,
            "bin_start": 66.6149869128413,
            "count": 72
           },
           {
            "bin_end": 74.58242099080951,
            "bin_start": 70.5987039518254,
            "count": 96
           },
           {
            "bin_end": 78.5661380297936,
            "bin_start": 74.58242099080951,
            "count": 84
           },
           {
            "bin_end": 82.5498550687777,
            "bin_start": 78.5661380297936,
            "count": 95
           },
           {
            "bin_end": 86.53357210776181,
            "bin_start": 82.5498550687777,
            "count": 20
           },
           {
            "bin_end": 90.51728914674591,
            "bin_start": 86.53357210776181,
            "count": 9
           },
           {
            "bin_end": 94.50100618573,
            "bin_start": 90.51728914674591,
            "count": 27
           }
          ],
          "max": 94.50100618573,
          "min": 54.663835795889,
          "nan_count": 0,
          "unique_count": 490
         }
        },
        {
         "dtype": "float64",
         "name": "WIKI/CBOE - Adj. Close",
         "stats": {
          "histogram": [
           {
            "bin_end": 55.8943488851087,
            "bin_start": 53.658863302785,
            "count": 38
           },
           {
            "bin_end": 58.1298344674324,
            "bin_start": 55.8943488851087,
            "count": 47
           },
           {
            "bin_end": 60.3653200497561,
            "bin_start": 58.1298344674324,
            "count": 40
           },
           {
            "bin_end": 62.6008056320798,
            "bin_start": 60.3653200497561,
            "count": 98
           },
           {
            "bin_end": 64.8362912144035,
            "bin_start": 62.6008056320798,
            "count": 133
           },
           {
            "bin_end": 67.07177679672719,
            "bin_start": 64.8362912144035,
            "count": 50
           },
           {
            "bin_end": 69.3072623790509,
            "bin_start": 67.07177679672719,
            "count": 69
           },
           {
            "bin_end": 71.5427479613746,
            "bin_start": 69.3072623790509,
            "count": 10
           },
           {
            "bin_end": 73.77823354369829,
            "bin_start": 71.5427479613746,
            "count": 9
           },
           {
            "bin_end": 76.013719126022,
            "bin_start": 73.77823354369829,
            "count": 10
           }
          ],
          "max": 76.013719126022,
          "min": 53.658863302785,
          "nan_count": 0,
          "unique_count": 478
         }
        },
        {
         "dtype": "object",
         "name": "WIKI/CBRE - Adj. Close",
         "stats": {
          "categories": [
           {
            "count": 504,
            "name": "Missing"
           }
          ],
          "nan_count": 504,
          "unique_count": 0
         }
        },
        {
         "dtype": "object",
         "name": "WIKI/CDW - Not Found",
         "stats": {
          "categories": [
           {
            "count": 504,
            "name": "Missing"
           }
          ],
          "nan_count": 504,
          "unique_count": 0
         }
        },
        {
         "dtype": "float64",
         "name": "WIKI/CE - Adj. Close",
         "stats": {
          "histogram": [
           {
            "bin_end": 53.5842897813799,
            "bin_start": 50.45190883135,
            "count": 34
           },
           {
            "bin_end": 56.716670731409806,
            "bin_start": 53.5842897813799,
            "count": 54
           },
           {
            "bin_end": 59.849051681439704,
            "bin_start": 56.716670731409806,
            "count": 51
           },
           {
            "bin_end": 62.9814326314696,
            "bin_start": 59.849051681439704,
            "count": 88
           },
           {
            "bin_end": 66.1138135814995,
            "bin_start": 62.9814326314696,
            "count": 109
           },
           {
            "bin_end": 69.2461945315294,
            "bin_start": 66.1138135814995,
            "count": 109
           },
           {
            "bin_end": 72.3785754815593,
            "bin_start": 69.2461945315294,
            "count": 23
           },
           {
            "bin_end": 75.51095643158921,
            "bin_start": 72.3785754815593,
            "count": 3
           },
           {
            "bin_end": 78.6433373816191,
            "bin_start": 75.51095643158921,
            "count": 17
           },
           {
            "bin_end": 81.775718331649,
            "bin_start": 78.6433373816191,
            "count": 16
           }
          ],
          "max": 81.775718331649,
          "min": 50.45190883135,
          "nan_count": 0,
          "unique_count": 484
         }
        },
        {
         "dtype": "float64",
         "name": "WIKI/CNC - Adj. Close",
         "stats": {
          "histogram": [
           {
            "bin_end": 53.76,
            "bin_start": 50.68,
            "count": 18
           },
           {
            "bin_end": 56.84,
            "bin_start": 53.76,
            "count": 53
           },
           {
            "bin_end": 59.92,
            "bin_start": 56.84,
            "count": 95
           },
           {
            "bin_end": 63,
            "bin_start": 59.92,
            "count": 102
           },
           {
            "bin_end": 66.08,
            "bin_start": 63,
            "count": 47
           },
           {
            "bin_end": 69.16,
            "bin_start": 66.08,
            "count": 63
           },
           {
            "bin_end": 72.24000000000001,
            "bin_start": 69.16,
            "count": 84
           },
           {
            "bin_end": 75.32000000000001,
            "bin_start": 72.24000000000001,
            "count": 24
           },
           {
            "bin_end": 78.4,
            "bin_start": 75.32000000000001,
            "count": 7
           },
           {
            "bin_end": 81.48,
            "bin_start": 78.4,
            "count": 11
           }
          ],
          "max": 81.48,
          "min": 50.68,
          "nan_count": 0,
          "unique_count": 442
         }
        },
        {
         "dtype": "float64",
         "name": "WIKI/CNP - Adj. Close",
         "stats": {
          "histogram": [
           {
            "bin_end": 15.7072333370823,
            "bin_start": 14.796350550169,
            "count": 25
           },
           {
            "bin_end": 16.618116123995602,
            "bin_start": 15.7072333370823,
            "count": 56
           },
           {
            "bin_end": 17.5289989109089,
            "bin_start": 16.618116123995602,
            "count": 98
           },
           {
            "bin_end": 18.4398816978222,
            "bin_start": 17.5289989109089,
            "count": 66
           },
           {
            "bin_end": 19.3507644847355,
            "bin_start": 18.4398816978222,
            "count": 37
           },
           {
            "bin_end": 20.2616472716488,
            "bin_start": 19.3507644847355,
            "count": 57
           },
           {
            "bin_end": 21.172530058562103,
            "bin_start": 20.2616472716488,
            "count": 20
           },
           {
            "bin_end": 22.0834128454754,
            "bin_start": 21.172530058562103,
            "count": 68
           },
           {
            "bin_end": 22.9942956323887,
            "bin_start": 22.0834128454754,
            "count": 51
           },
           {
            "bin_end": 23.905178419302,
            "bin_start": 22.9942956323887,
            "count": 26
           }
          ],
          "max": 23.905178419302,
          "min": 14.796350550169,
          "nan_count": 0,
          "unique_count": 436
         }
        },
        {
         "dtype": "float64",
         "name": "WIKI/CERN - Adj. Close",
         "stats": {
          "histogram": [
           {
            "bin_end": 50.132999999999996,
            "bin_start": 47.37,
            "count": 32
           },
           {
            "bin_end": 52.896,
            "bin_start": 50.132999999999996,
            "count": 31
           },
           {
            "bin_end": 55.659,
            "bin_start": 52.896,
            "count": 55
           },
           {
            "bin_end": 58.422,
            "bin_start": 55.659,
            "count": 53
           },
           {
            "bin_end": 61.185,
            "bin_start": 58.422,
            "count": 73
           },
           {
            "bin_end": 63.948,
            "bin_start": 61.185,
            "count": 63
           },
           {
            "bin_end": 66.711,
            "bin_start": 63.948,
            "count": 58
           },
           {
            "bin_end": 69.474,
            "bin_start": 66.711,
            "count": 63
           },
           {
            "bin_end": 72.237,
            "bin_start": 69.474,
            "count": 42
           },
           {
            "bin_end": 75,
            "bin_start": 72.237,
            "count": 34
           }
          ],
          "max": 75,
          "min": 47.37,
          "nan_count": 0,
          "unique_count": 445
         }
        },
        {
         "dtype": "float64",
         "name": "WIKI/CF - Adj. Close",
         "stats": {
          "histogram": [
           {
            "bin_end": 24.6017753499607,
            "bin_start": 20.307558222005,
            "count": 82
           },
           {
            "bin_end": 28.8959924779164,
            "bin_start": 24.6017753499607,
            "count": 98
           },
           {
            "bin_end": 33.1902096058721,
            "bin_start": 28.8959924779164,
            "count": 62
           },
           {
            "bin_end": 37.4844267338278,
            "bin_start": 33.1902096058721,
            "count": 10
           },
           {
            "bin_end": 41.7786438617835,
            "bin_start": 37.4844267338278,
            "count": 26
           },
           {
            "bin_end": 46.0728609897392,
            "bin_start": 41.7786438617835,
            "count": 23
           },
           {
            "bin_end": 50.3670781176949,
            "bin_start": 46.0728609897392,
            "count": 27
           },
           {
            "bin_end": 54.6612952456506,
            "bin_start": 50.3670781176949,
            "count": 84
           },
           {
            "bin_end": 58.9555123736063,
            "bin_start": 54.6612952456506,
            "count": 82
           },
           {
            "bin_end": 63.249729501562,
            "bin_start": 58.9555123736063,
            "count": 10
           }
          ],
          "max": 63.249729501562,
          "min": 20.307558222005,
          "nan_count": 0,
          "unique_count": 487
         }
        },
        {
         "dtype": "float64",
         "name": "WIKI/SCHW - Adj. Close",
         "stats": {
          "histogram": [
           {
            "bin_end": 23.7221754438906,
            "bin_start": 21.895955667754,
            "count": 8
           },
           {
            "bin_end": 25.5483952200272,
            "bin_start": 23.7221754438906,
            "count": 32
           },
           {
            "bin_end": 27.3746149961638,
            "bin_start": 25.5483952200272,
            "count": 52
           },
           {
            "bin_end": 29.200834772300396,
            "bin_start": 27.3746149961638,
            "count": 118
           },
           {
            "bin_end": 31.027054548437,
            "bin_start": 29.200834772300396,
            "count": 127
           },
           {
            "bin_end": 32.8532743245736,
            "bin_start": 31.027054548437,
            "count": 91
           },
           {
            "bin_end": 34.6794941007102,
            "bin_start": 32.8532743245736,
            "count": 39
           },
           {
            "bin_end": 36.5057138768468,
            "bin_start": 34.6794941007102,
            "count": 6
           },
           {
            "bin_end": 38.331933652983395,
            "bin_start": 36.5057138768468,
            "count": 7
           },
           {
            "bin_end": 40.15815342912,
            "bin_start": 38.331933652983395,
            "count": 24
           }
          ],
          "max": 40.15815342912,
          "min": 21.895955667754,
          "nan_count": 0,
          "unique_count": 476
         }
        },
        {
         "dtype": "float64",
         "name": "WIKI/CHTR - Adj. Close",
         "stats": {
          "histogram": [
           {
            "bin_end": 164.759,
            "bin_start": 150.6,
            "count": 25
           },
           {
            "bin_end": 178.918,
            "bin_start": 164.759,
            "count": 100
           },
           {
            "bin_end": 193.077,
            "bin_start": 178.918,
            "count": 171
           },
           {
            "bin_end": 207.236,
            "bin_start": 193.077,
            "count": 37
           },
           {
            "bin_end": 221.39499999999998,
            "bin_start": 207.236,
            "count": 23
           },
           {
            "bin_end": 235.554,
            "bin_start": 221.39499999999998,
            "count": 30
           },
           {
            "bin_end": 249.713,
            "bin_start": 235.554,
            "count": 22
           },
           {
            "bin_end": 263.872,
            "bin_start": 249.713,
            "count": 38
           },
           {
            "bin_end": 278.031,
            "bin_start": 263.872,
            "count": 41
           },
           {
            "bin_end": 292.19,
            "bin_start": 278.031,
            "count": 17
           }
          ],
          "max": 292.19,
          "min": 150.6,
          "nan_count": 0,
          "unique_count": 486
         }
        },
        {
         "dtype": "float64",
         "name": "WIKI/CVX - Adj. Close",
         "stats": {
          "histogram": [
           {
            "bin_end": 69.4138116030146,
            "bin_start": 64.318180646684,
            "count": 4
           },
           {
            "bin_end": 74.5094425593452,
            "bin_start": 69.4138116030146,
            "count": 28
           },
           {
            "bin_end": 79.6050735156758,
            "bin_start": 74.5094425593452,
            "count": 38
           },
           {
            "bin_end": 84.70070447200641,
            "bin_start": 79.6050735156758,
            "count": 72
           },
           {
            "bin_end": 89.796335428337,
            "bin_start": 84.70070447200641,
            "count": 52
           },
           {
            "bin_end": 94.8919663846676,
            "bin_start": 89.796335428337,
            "count": 72
           },
           {
            "bin_end": 99.9875973409982,
            "bin_start": 94.8919663846676,
            "count": 180
           },
           {
            "bin_end": 105.0832282973288,
            "bin_start": 99.9875973409982,
            "count": 28
           },
           {
            "bin_end": 110.1788592536594,
            "bin_start": 105.0832282973288,
            "count": 13
           },
           {
            "bin_end": 115.27449020999,
            "bin_start": 110.1788592536594,
            "count": 17
           }
          ],
          "max": 115.27449020999,
          "min": 64.318180646684,
          "nan_count": 0,
          "unique_count": 487
         }
        },
        {
         "dtype": "float64",
         "name": "WIKI/CMG - Adj. Close",
         "stats": {
          "histogram": [
           {
            "bin_end": 399.70500000000004,
            "bin_start": 359.92,
            "count": 61
           },
           {
            "bin_end": 439.49,
            "bin_start": 399.70500000000004,
            "count": 98
           },
           {
            "bin_end": 479.275,
            "bin_start": 439.49,
            "count": 70
           },
           {
            "bin_end": 519.06,
            "bin_start": 479.275,
            "count": 23
           },
           {
            "bin_end": 558.845,
            "bin_start": 519.06,
            "count": 16
           },
           {
            "bin_end": 598.63,
            "bin_start": 558.845,
            "count": 16
           },
           {
            "bin_end": 638.415,
            "bin_start": 598.63,
            "count": 62
           },
           {
            "bin_end": 678.2,
            "bin_start": 638.415,
            "count": 63
           },
           {
            "bin_end": 717.9849999999999,
            "bin_start": 678.2,
            "count": 36
           },
           {
            "bin_end": 757.77,
            "bin_start": 717.9849999999999,
            "count": 59
           }
          ],
          "max": 757.77,
          "min": 359.92,
          "nan_count": 0,
          "unique_count": 497
         }
        },
        {
         "dtype": "float64",
         "name": "WIKI/CB - Adj. Close",
         "stats": {
          "histogram": [
           {
            "bin_end": 92.484621124523,
            "bin_start": 88.24416140488,
            "count": 43
           },
           {
            "bin_end": 96.725080844166,
            "bin_start": 92.484621124523,
            "count": 81
           },
           {
            "bin_end": 100.965540563809,
            "bin_start": 96.725080844166,
            "count": 0
           },
           {
            "bin_end": 105.206000283452,
            "bin_start": 100.965540563809,
            "count": 4
           },
           {
            "bin_end": 109.446460003095,
            "bin_start": 105.206000283452,
            "count": 15
           },
           {
            "bin_end": 113.686919722738,
            "bin_start": 109.446460003095,
            "count": 25
           },
           {
            "bin_end": 117.927379442381,
            "bin_start": 113.686919722738,
            "count": 83
           },
           {
            "bin_end": 122.167839162024,
            "bin_start": 117.927379442381,
            "count": 76
           },
           {
            "bin_end": 126.408298881667,
            "bin_start": 122.167839162024,
            "count": 143
           },
           {
            "bin_end": 130.64875860131,
            "bin_start": 126.408298881667,
            "count": 34
           }
          ],
          "max": 130.64875860131,
          "min": 88.24416140488,
          "nan_count": 0,
          "unique_count": 489
         }
        },
        {
         "dtype": "float64",
         "name": "WIKI/CHD - Adj. Close",
         "stats": {
          "histogram": [
           {
            "bin_end": 38.5128442265223,
            "bin_start": 37.159219268463,
            "count": 14
           },
           {
            "bin_end": 39.8664691845816,
            "bin_start": 38.5128442265223,
            "count": 36
           },
           {
            "bin_end": 41.220094142640896,
            "bin_start": 39.8664691845816,
            "count": 133
           },
           {
            "bin_end": 42.573719100700195,
            "bin_start": 41.220094142640896,
            "count": 78
           },
           {
            "bin_end": 43.9273440587595,
            "bin_start": 42.573719100700195,
            "count": 39
           },
           {
            "bin_end": 45.2809690168188,
            "bin_start": 43.9273440587595,
            "count": 59
           },
           {
            "bin_end": 46.6345939748781,
            "bin_start": 45.2809690168188,
            "count": 33
           },
           {
            "bin_end": 47.9882189329374,
            "bin_start": 46.6345939748781,
            "count": 39
           },
           {
            "bin_end": 49.3418438909967,
            "bin_start": 47.9882189329374,
            "count": 59
           },
           {
            "bin_end": 50.695468849056,
            "bin_start": 49.3418438909967,
            "count": 14
           }
          ],
          "max": 50.695468849056,
          "min": 37.159219268463,
          "nan_count": 0,
          "unique_count": 480
         }
        },
        {
         "dtype": "float64",
         "name": "WIKI/CI - Adj. Close",
         "stats": {
          "histogram": [
           {
            "bin_end": 107.84150929406877,
            "bin_start": 100.97090389944488,
            "count": 11
           },
           {
            "bin_end": 114.71211468869268,
            "bin_start": 107.84150929406877,
            "count": 17
           },
           {
            "bin_end": 121.58272008331659,
            "bin_start": 114.71211468869268,
            "count": 22
           },
           {
            "bin_end": 128.4533254779405,
            "bin_start": 121.58272008331659,
            "count": 87
           },
           {
            "bin_end": 135.32393087256438,
            "bin_start": 128.4533254779405,
            "count": 151
           },
           {
            "bin_end": 142.19453626718828,
            "bin_start": 135.32393087256438,
            "count": 146
           },
           {
            "bin_end": 149.0651416618122,
            "bin_start": 142.19453626718828,
            "count": 41
           },
           {
            "bin_end": 155.93574705643607,
            "bin_start": 149.0651416618122,
            "count": 15
           },
           {
            "bin_end": 162.80635245105998,
            "bin_start": 155.93574705643607,
            "count": 9
           },
           {
            "bin_end": 169.6769578456839,
            "bin_start": 162.80635245105998,
            "count": 5
           }
          ],
          "max": 169.6769578456839,
          "min": 100.97090389944488,
          "nan_count": 0,
          "unique_count": 481
         }
        },
        {
         "dtype": "float64",
         "name": "WIKI/CINF - Adj. Close",
         "stats": {
          "histogram": [
           {
            "bin_end": 49.2633696188849,
            "bin_start": 46.20516764202,
            "count": 122
           },
           {
            "bin_end": 52.3215715957498,
            "bin_start": 49.2633696188849,
            "count": 69
           },
           {
            "bin_end": 55.3797735726147,
            "bin_start": 52.3215715957498,
            "count": 36
           },
           {
            "bin_end": 58.4379755494796,
            "bin_start": 55.3797735726147,
            "count": 52
           },
           {
            "bin_end": 61.4961775263445,
            "bin_start": 58.4379755494796,
            "count": 18
           },
           {
            "bin_end": 64.5543795032094,
            "bin_start": 61.4961775263445,
            "count": 43
           },
           {
            "bin_end": 67.61258148007431,
            "bin_start": 64.5543795032094,
            "count": 32
           },
           {
            "bin_end": 70.6707834569392,
            "bin_start": 67.61258148007431,
            "count": 22
           },
           {
            "bin_end": 73.7289854338041,
            "bin_start": 70.6707834569392,
            "count": 69
           },
           {
            "bin_end": 76.787187410669,
            "bin_start": 73.7289854338041,
            "count": 41
           }
          ],
          "max": 76.787187410669,
          "min": 46.20516764202,
          "nan_count": 0,
          "unique_count": 476
         }
        },
        {
         "dtype": "float64",
         "name": "WIKI/CTAS - Adj. Close",
         "stats": {
          "histogram": [
           {
            "bin_end": 78.364785219622,
            "bin_start": 73.80751926061,
            "count": 34
           },
           {
            "bin_end": 82.92205117863399,
            "bin_start": 78.364785219622,
            "count": 134
           },
           {
            "bin_end": 87.47931713764599,
            "bin_start": 82.92205117863399,
            "count": 93
           },
           {
            "bin_end": 92.036583096658,
            "bin_start": 87.47931713764599,
            "count": 100
           },
           {
            "bin_end": 96.59384905567,
            "bin_start": 92.036583096658,
            "count": 25
           },
           {
            "bin_end": 101.151115014682,
            "bin_start": 96.59384905567,
            "count": 3
           },
           {
            "bin_end": 105.708380973694,
            "bin_start": 101.151115014682,
            "count": 34
           },
           {
            "bin_end": 110.265646932706,
            "bin_start": 105.708380973694,
            "count": 21
           },
           {
            "bin_end": 114.822912891718,
            "bin_start": 110.265646932706,
            "count": 36
           },
           {
            "bin_end": 119.38017885073,
            "bin_start": 114.822912891718,
            "count": 24
           }
          ],
          "max": 119.38017885073,
          "min": 73.80751926061,
          "nan_count": 0,
          "unique_count": 471
         }
        },
        {
         "dtype": "float64",
         "name": "WIKI/CSCO - Adj. Close",
         "stats": {
          "histogram": [
           {
            "bin_end": 22.107105425775,
            "bin_start": 21.16290688081,
            "count": 13
           },
           {
            "bin_end": 23.051303970739998,
            "bin_start": 22.107105425775,
            "count": 6
           },
           {
            "bin_end": 23.995502515705,
            "bin_start": 23.051303970739998,
            "count": 24
           },
           {
            "bin_end": 24.93970106067,
            "bin_start": 23.995502515705,
            "count": 49
           },
           {
            "bin_end": 25.883899605635,
            "bin_start": 24.93970106067,
            "count": 97
           },
           {
            "bin_end": 26.8280981506,
            "bin_start": 25.883899605635,
            "count": 128
           },
           {
            "bin_end": 27.772296695565,
            "bin_start": 26.8280981506,
            "count": 64
           },
           {
            "bin_end": 28.71649524053,
            "bin_start": 27.772296695565,
            "count": 13
           },
           {
            "bin_end": 29.660693785495,
            "bin_start": 28.71649524053,
            "count": 64
           },
           {
            "bin_end": 30.60489233046,
            "bin_start": 29.660693785495,
            "count": 46
           }
          ],
          "max": 30.60489233046,
          "min": 21.16290688081,
          "nan_count": 0,
          "unique_count": 446
         }
        },
        {
         "dtype": "float64",
         "name": "WIKI/C - Adj. Close",
         "stats": {
          "histogram": [
           {
            "bin_end": 36.8008338655678,
            "bin_start": 34.200034743506,
            "count": 4
           },
           {
            "bin_end": 39.401632987629604,
            "bin_start": 36.8008338655678,
            "count": 16
           },
           {
            "bin_end": 42.0024321096914,
            "bin_start": 39.401632987629604,
            "count": 53
           },
           {
            "bin_end": 44.6032312317532,
            "bin_start": 42.0024321096914,
            "count": 50
           },
           {
            "bin_end": 47.204030353815,
            "bin_start": 44.6032312317532,
            "count": 75
           },
           {
            "bin_end": 49.8048294758768,
            "bin_start": 47.204030353815,
            "count": 62
           },
           {
            "bin_end": 52.4056285979386,
            "bin_start": 49.8048294758768,
            "count": 112
           },
           {
            "bin_end": 55.0064277200004,
            "bin_start": 52.4056285979386,
            "count": 71
           },
           {
            "bin_end": 57.607226842062204,
            "bin_start": 55.0064277200004,
            "count": 41
           },
           {
            "bin_end": 60.208025964124,
            "bin_start": 57.607226842062204,
            "count": 20
           }
          ],
          "max": 60.208025964124,
          "min": 34.200034743506,
          "nan_count": 0,
          "unique_count": 480
         }
        },
        {
         "dtype": "float64",
         "name": "WIKI/CFG - Adj. Close",
         "stats": {
          "histogram": [
           {
            "bin_end": 19.3852840700624,
            "bin_start": 17.558247773911,
            "count": 25
           },
           {
            "bin_end": 21.2123203662138,
            "bin_start": 19.3852840700624,
            "count": 57
           },
           {
            "bin_end": 23.0393566623652,
            "bin_start": 21.2123203662138,
            "count": 128
           },
           {
            "bin_end": 24.8663929585166,
            "bin_start": 23.0393566623652,
            "count": 140
           },
           {
            "bin_end": 26.693429254668,
            "bin_start": 24.8663929585166,
            "count": 105
           },
           {
            "bin_end": 28.520465550819402,
            "bin_start": 26.693429254668,
            "count": 14
           },
           {
            "bin_end": 30.3475018469708,
            "bin_start": 28.520465550819402,
            "count": 4
           },
           {
            "bin_end": 32.174538143122206,
            "bin_start": 30.3475018469708,
            "count": 9
           },
           {
            "bin_end": 34.001574439273604,
            "bin_start": 32.174538143122206,
            "count": 4
           },
           {
            "bin_end": 35.828610735425,
            "bin_start": 34.001574439273604,
            "count": 18
           }
          ],
          "max": 35.828610735425,
          "min": 17.558247773911,
          "nan_count": 0,
          "unique_count": 456
         }
        },
        {
         "dtype": "float64",
         "name": "WIKI/CTXS - Adj. Close",
         "stats": {
          "histogram": [
           {
            "bin_end": 48.37932102474769,
            "bin_start": 45.573563549631714,
            "count": 15
           },
           {
            "bin_end": 51.18507849986366,
            "bin_start": 48.37932102474769,
            "count": 52
           },
           {
            "bin_end": 53.99083597497963,
            "bin_start": 51.18507849986366,
            "count": 63
           },
           {
            "bin_end": 56.7965934500956,
            "bin_start": 53.99083597497963,
            "count": 62
           },
           {
            "bin_end": 59.602350925211574,
            "bin_start": 56.7965934500956,
            "count": 32
           },
           {
            "bin_end": 62.40810840032755,
            "bin_start": 59.602350925211574,
            "count": 68
           },
           {
            "bin_end": 65.21386587544352,
            "bin_start": 62.40810840032755,
            "count": 39
           },
           {
            "bin_end": 68.0196233505595,
            "bin_start": 65.21386587544352,
            "count": 79
           },
           {
            "bin_end": 70.82538082567547,
            "bin_start": 68.0196233505595,
            "count": 73
           },
           {
            "bin_end": 73.63113830079143,
            "bin_start": 70.82538082567547,
            "count": 21
           }
          ],
          "max": 73.63113830079143,
          "min": 45.573563549631714,
          "nan_count": 0,
          "unique_count": 460
         }
        },
        {
         "dtype": "float64",
         "name": "WIKI/CME - Adj. Close",
         "stats": {
          "histogram": [
           {
            "bin_end": 79.6348724498463,
            "bin_start": 75.352634076207,
            "count": 35
           },
           {
            "bin_end": 83.9171108234856,
            "bin_start": 79.6348724498463,
            "count": 89
           },
           {
            "bin_end": 88.1993491971249,
            "bin_start": 83.9171108234856,
            "count": 172
           },
           {
            "bin_end": 92.48158757076419,
            "bin_start": 88.1993491971249,
            "count": 81
           },
           {
            "bin_end": 96.7638259444035,
            "bin_start": 92.48158757076419,
            "count": 22
           },
           {
            "bin_end": 101.0460643180428,
            "bin_start": 96.7638259444035,
            "count": 50
           },
           {
            "bin_end": 105.3283026916821,
            "bin_start": 101.0460643180428,
            "count": 19
           },
           {
            "bin_end": 109.6105410653214,
            "bin_start": 105.3283026916821,
            "count": 11
           },
           {
            "bin_end": 113.8927794389607,
            "bin_start": 109.6105410653214,
            "count": 10
           },
           {
            "bin_end": 118.1750178126,
            "bin_start": 113.8927794389607,
            "count": 15
           }
          ],
          "max": 118.1750178126,
          "min": 75.352634076207,
          "nan_count": 0,
          "unique_count": 491
         }
        },
        {
         "dtype": "float64",
         "name": "WIKI/CMS - Adj. Close",
         "stats": {
          "histogram": [
           {
            "bin_end": 30.609077801644798,
            "bin_start": 29.100020329466,
            "count": 40
           },
           {
            "bin_end": 32.1181352738236,
            "bin_start": 30.609077801644798,
            "count": 89
           },
           {
            "bin_end": 33.6271927460024,
            "bin_start": 32.1181352738236,
            "count": 89
           },
           {
            "bin_end": 35.136250218181196,
            "bin_start": 33.6271927460024,
            "count": 50
           },
           {
            "bin_end": 36.64530769036,
            "bin_start": 35.136250218181196,
            "count": 2
           },
           {
            "bin_end": 38.154365162538795,
            "bin_start": 36.64530769036,
            "count": 27
           },
           {
            "bin_end": 39.6634226347176,
            "bin_start": 38.154365162538795,
            "count": 73
           },
           {
            "bin_end": 41.1724801068964,
            "bin_start": 39.6634226347176,
            "count": 70
           },
           {
            "bin_end": 42.6815375790752,
            "bin_start": 41.1724801068964,
            "count": 38
           },
           {
            "bin_end": 44.190595051254,
            "bin_start": 42.6815375790752,
            "count": 26
           }
          ],
          "max": 44.190595051254,
          "min": 29.100020329466,
          "nan_count": 0,
          "unique_count": 467
         }
        },
        {
         "dtype": "float64",
         "name": "WIKI/KO - Adj. Close",
         "stats": {
          "histogram": [
           {
            "bin_end": 36.2365584675165,
            "bin_start": 35.303868193971,
            "count": 12
           },
           {
            "bin_end": 37.169248741062,
            "bin_start": 36.2365584675165,
            "count": 32
           },
           {
            "bin_end": 38.101939014607495,
            "bin_start": 37.169248741062,
            "count": 86
           },
           {
            "bin_end": 39.034629288153,
            "bin_start": 38.101939014607495,
            "count": 54
           },
           {
            "bin_end": 39.9673195616985,
            "bin_start": 39.034629288153,
            "count": 62
           },
           {
            "bin_end": 40.900009835244,
            "bin_start": 39.9673195616985,
            "count": 94
           },
           {
            "bin_end": 41.832700108789496,
            "bin_start": 40.900009835244,
            "count": 50
           },
           {
            "bin_end": 42.765390382335,
            "bin_start": 41.832700108789496,
            "count": 44
           },
           {
            "bin_end": 43.6980806558805,
            "bin_start": 42.765390382335,
            "count": 45
           },
           {
            "bin_end": 44.630770929426,
            "bin_start": 43.6980806558805,
            "count": 25
           }
          ],
          "max": 44.630770929426,
          "min": 35.303868193971,
          "nan_count": 0,
          "unique_count": 451
         }
        },
        {
         "dtype": "float64",
         "name": "WIKI/CTSH - Adj. Close",
         "stats": {
          "histogram": [
           {
            "bin_end": 49.591208514747,
            "bin_start": 47.400986852289,
            "count": 3
           },
           {
            "bin_end": 51.781430177205,
            "bin_start": 49.591208514747,
            "count": 26
           },
           {
            "bin_end": 53.971651839663004,
            "bin_start": 51.781430177205,
            "count": 31
           },
           {
            "bin_end": 56.161873502121,
            "bin_start": 53.971651839663004,
            "count": 54
           },
           {
            "bin_end": 58.352095164579,
            "bin_start": 56.161873502121,
            "count": 85
           },
           {
            "bin_end": 60.542316827037,
            "bin_start": 58.352095164579,
            "count": 88
           },
           {
            "bin_end": 62.732538489495,
            "bin_start": 60.542316827037,
            "count": 123
           },
           {
            "bin_end": 64.922760151953,
            "bin_start": 62.732538489495,
            "count": 57
           },
           {
            "bin_end": 67.112981814411,
            "bin_start": 64.922760151953,
            "count": 18
           },
           {
            "bin_end": 69.303203476869,
            "bin_start": 67.112981814411,
            "count": 19
           }
          ],
          "max": 69.303203476869,
          "min": 47.400986852289,
          "nan_count": 0,
          "unique_count": 426
         }
        },
        {
         "dtype": "float64",
         "name": "WIKI/CL - Adj. Close",
         "stats": {
          "histogram": [
           {
            "bin_end": 58.9969617120306,
            "bin_start": 57.417646833212,
            "count": 6
           },
           {
            "bin_end": 60.5762765908492,
            "bin_start": 58.9969617120306,
            "count": 26
           },
           {
            "bin_end": 62.1555914696678,
            "bin_start": 60.5762765908492,
            "count": 25
           },
           {
            "bin_end": 63.7349063484864,
            "bin_start": 62.1555914696678,
            "count": 92
           },
           {
            "bin_end": 65.314221227305,
            "bin_start": 63.7349063484864,
            "count": 137
           },
           {
            "bin_end": 66.8935361061236,
            "bin_start": 65.314221227305,
            "count": 54
           },
           {
            "bin_end": 68.4728509849422,
            "bin_start": 66.8935361061236,
            "count": 32
           },
           {
            "bin_end": 70.0521658637608,
            "bin_start": 68.4728509849422,
            "count": 58
           },
           {
            "bin_end": 71.6314807425794,
            "bin_start": 70.0521658637608,
            "count": 33
           },
           {
            "bin_end": 73.210795621398,
            "bin_start": 71.6314807425794,
            "count": 41
           }
          ],
          "max": 73.210795621398,
          "min": 57.417646833212,
          "nan_count": 0,
          "unique_count": 462
         }
        },
        {
         "dtype": "float64",
         "name": "WIKI/CMCSA - Adj. Close",
         "stats": {
          "histogram": [
           {
            "bin_end": 26.3262990928567,
            "bin_start": 25.369585473491,
            "count": 11
           },
           {
            "bin_end": 27.2830127122224,
            "bin_start": 26.3262990928567,
            "count": 61
           },
           {
            "bin_end": 28.239726331588102,
            "bin_start": 27.2830127122224,
            "count": 91
           },
           {
            "bin_end": 29.1964399509538,
            "bin_start": 28.239726331588102,
            "count": 84
           },
           {
            "bin_end": 30.1531535703195,
            "bin_start": 29.1964399509538,
            "count": 76
           },
           {
            "bin_end": 31.1098671896852,
            "bin_start": 30.1531535703195,
            "count": 62
           },
           {
            "bin_end": 32.0665808090509,
            "bin_start": 31.1098671896852,
            "count": 20
           },
           {
            "bin_end": 33.0232944284166,
            "bin_start": 32.0665808090509,
            "count": 56
           },
           {
            "bin_end": 33.9800080477823,
            "bin_start": 33.0232944284166,
            "count": 23
           },
           {
            "bin_end": 34.936721667148,
            "bin_start": 33.9800080477823,
            "count": 20
           }
          ],
          "max": 34.936721667148,
          "min": 25.369585473491,
          "nan_count": 0,
          "unique_count": 469
         }
        },
        {
         "dtype": "float64",
         "name": "WIKI/CMA - Adj. Close",
         "stats": {
          "histogram": [
           {
            "bin_end": 33.9934167395158,
            "bin_start": 30.101118572701,
            "count": 28
           },
           {
            "bin_end": 37.8857149063306,
            "bin_start": 33.9934167395158,
            "count": 34
           },
           {
            "bin_end": 41.7780130731454,
            "bin_start": 37.8857149063306,
            "count": 116
           },
           {
            "bin_end": 45.6703112399602,
            "bin_start": 41.7780130731454,
            "count": 178
           },
           {
            "bin_end": 49.562609406774996,
            "bin_start": 45.6703112399602,
            "count": 85
           },
           {
            "bin_end": 53.45490757358979,
            "bin_start": 49.562609406774996,
            "count": 27
           },
           {
            "bin_end": 57.3472057404046,
            "bin_start": 53.45490757358979,
            "count": 3
           },
           {
            "bin_end": 61.2395039072194,
            "bin_start": 57.3472057404046,
            "count": 9
           },
           {
            "bin_end": 65.1318020740342,
            "bin_start": 61.2395039072194,
            "count": 6
           },
           {
            "bin_end": 69.024100240849,
            "bin_start": 65.1318020740342,
            "count": 18
           }
          ],
          "max": 69.024100240849,
          "min": 30.101118572701,
          "nan_count": 0,
          "unique_count": 484
         }
        },
        {
         "dtype": "float64",
         "name": "WIKI/CAG - Adj. Close",
         "stats": {
          "histogram": [
           {
            "bin_end": 33.1016314800406,
            "bin_start": 31.492362576037,
            "count": 32
           },
           {
            "bin_end": 34.7109003840442,
            "bin_start": 33.1016314800406,
            "count": 36
           },
           {
            "bin_end": 36.3201692880478,
            "bin_start": 34.7109003840442,
            "count": 47
           },
           {
            "bin_end": 37.9294381920514,
            "bin_start": 36.3201692880478,
            "count": 48
           },
           {
            "bin_end": 39.538707096055,
            "bin_start": 37.9294381920514,
            "count": 70
           },
           {
            "bin_end": 41.147976000058605,
            "bin_start": 39.538707096055,
            "count": 57
           },
           {
            "bin_end": 42.757244904062205,
            "bin_start": 41.147976000058605,
            "count": 65
           },
           {
            "bin_end": 44.366513808065804,
            "bin_start": 42.757244904062205,
            "count": 46
           },
           {
            "bin_end": 45.9757827120694,
            "bin_start": 44.366513808065804,
            "count": 68
           },
           {
            "bin_end": 47.585051616073,
            "bin_start": 45.9757827120694,
            "count": 35
           }
          ],
          "max": 47.585051616073,
          "min": 31.492362576037,
          "nan_count": 0,
          "unique_count": 472
         }
        },
        {
         "dtype": "float64",
         "name": "WIKI/COP - Adj. Close",
         "stats": {
          "histogram": [
           {
            "bin_end": 33.9780895327644,
            "bin_start": 30.628619665249,
            "count": 21
           },
           {
            "bin_end": 37.3275594002798,
            "bin_start": 33.9780895327644,
            "count": 13
           },
           {
            "bin_end": 40.677029267795206,
            "bin_start": 37.3275594002798,
            "count": 73
           },
           {
            "bin_end": 44.0264991353106,
            "bin_start": 40.677029267795206,
            "count": 110
           },
           {
            "bin_end": 47.375969002826,
            "bin_start": 44.0264991353106,
            "count": 74
           },
           {
            "bin_end": 50.72543887034141,
            "bin_start": 47.375969002826,
            "count": 36
           },
           {
            "bin_end": 54.0749087378568,
            "bin_start": 50.72543887034141,
            "count": 42
           },
           {
            "bin_end": 57.4243786053722,
            "bin_start": 54.0749087378568,
            "count": 32
           },
           {
            "bin_end": 60.7738484728876,
            "bin_start": 57.4243786053722,
            "count": 64
           },
           {
            "bin_end": 64.123318340403,
            "bin_start": 60.7738484728876,
            "count": 39
           }
          ],
          "max": 64.123318340403,
          "min": 30.628619665249,
          "nan_count": 0,
          "unique_count": 492
         }
        },
        {
         "dtype": "float64",
         "name": "WIKI/ED - Adj. Close",
         "stats": {
          "histogram": [
           {
            "bin_end": 55.2003917958507,
            "bin_start": 52.654529339891,
            "count": 35
           },
           {
            "bin_end": 57.7462542518104,
            "bin_start": 55.2003917958507,
            "count": 85
           },
           {
            "bin_end": 60.2921167077701,
            "bin_start": 57.7462542518104,
            "count": 59
           },
           {
            "bin_end": 62.8379791637298,
            "bin_start": 60.2921167077701,
            "count": 72
           },
           {
            "bin_end": 65.38384161968949,
            "bin_start": 62.8379791637298,
            "count": 20
           },
           {
            "bin_end": 67.9297040756492,
            "bin_start": 65.38384161968949,
            "count": 28
           },
           {
            "bin_end": 70.4755665316089,
            "bin_start": 67.9297040756492,
            "count": 58
           },
           {
            "bin_end": 73.0214289875686,
            "bin_start": 70.4755665316089,
            "count": 81
           },
           {
            "bin_end": 75.56729144352829,
            "bin_start": 73.0214289875686,
            "count": 39
           },
           {
            "bin_end": 78.113153899488,
            "bin_start": 75.56729144352829,
            "count": 27
           }
          ],
          "max": 78.113153899488,
          "min": 52.654529339891,
          "nan_count": 0,
          "unique_count": 479
         }
        },
        {
         "dtype": "float64",
         "name": "WIKI/STZ - Adj. Close",
         "stats": {
          "histogram": [
           {
            "bin_end": 102.490183920266,
            "bin_start": 95.05357759208,
            "count": 4
           },
           {
            "bin_end": 109.92679024845201,
            "bin_start": 102.490183920266,
            "count": 22
           },
           {
            "bin_end": 117.363396576638,
            "bin_start": 109.92679024845201,
            "count": 114
           },
           {
            "bin_end": 124.800002904824,
            "bin_start": 117.363396576638,
            "count": 25
           },
           {
            "bin_end": 132.23660923301,
            "bin_start": 124.800002904824,
            "count": 38
           },
           {
            "bin_end": 139.673215561196,
            "bin_start": 132.23660923301,
            "count": 54
           },
           {
            "bin_end": 147.109821889382,
            "bin_start": 139.673215561196,
            "count": 50
           },
           {
            "bin_end": 154.546428217568,
            "bin_start": 147.109821889382,
            "count": 72
           },
           {
            "bin_end": 161.983034545754,
            "bin_start": 154.546428217568,
            "count": 58
           },
           {
            "bin_end": 169.41964087394,
            "bin_start": 161.983034545754,
            "count": 67
           }
          ],
          "max": 169.41964087394,
          "min": 95.05357759208,
          "nan_count": 0,
          "unique_count": 487
         }
        },
        {
         "dtype": "float64",
         "name": "WIKI/CPRT - Adj. Close",
         "stats": {
          "histogram": [
           {
            "bin_end": 17.637,
            "bin_start": 16.45,
            "count": 80
           },
           {
            "bin_end": 18.823999999999998,
            "bin_start": 17.637,
            "count": 155
           },
           {
            "bin_end": 20.011,
            "bin_start": 18.823999999999998,
            "count": 62
           },
           {
            "bin_end": 21.198,
            "bin_start": 20.011,
            "count": 31
           },
           {
            "bin_end": 22.384999999999998,
            "bin_start": 21.198,
            "count": 24
           },
           {
            "bin_end": 23.572,
            "bin_start": 22.384999999999998,
            "count": 2
           },
           {
            "bin_end": 24.759,
            "bin_start": 23.572,
            "count": 26
           },
           {
            "bin_end": 25.945999999999998,
            "bin_start": 24.759,
            "count": 51
           },
           {
            "bin_end": 27.133,
            "bin_start": 25.945999999999998,
            "count": 40
           },
           {
            "bin_end": 28.32,
            "bin_start": 27.133,
            "count": 33
           }
          ],
          "max": 28.32,
          "min": 16.45,
          "nan_count": 0,
          "unique_count": 427
         }
        },
        {
         "dtype": "float64",
         "name": "WIKI/GLW - Adj. Close",
         "stats": {
          "histogram": [
           {
            "bin_end": 15.9734507374098,
            "bin_start": 15.035289981458,
            "count": 14
           },
           {
            "bin_end": 16.9116114933616,
            "bin_start": 15.9734507374098,
            "count": 49
           },
           {
            "bin_end": 17.8497722493134,
            "bin_start": 16.9116114933616,
            "count": 77
           },
           {
            "bin_end": 18.7879330052652,
            "bin_start": 17.8497722493134,
            "count": 61
           },
           {
            "bin_end": 19.726093761217,
            "bin_start": 18.7879330052652,
            "count": 45
           },
           {
            "bin_end": 20.6642545171688,
            "bin_start": 19.726093761217,
            "count": 62
           },
           {
            "bin_end": 21.6024152731206,
            "bin_start": 20.6642545171688,
            "count": 46
           },
           {
            "bin_end": 22.540576029072398,
            "bin_start": 21.6024152731206,
            "count": 69
           },
           {
            "bin_end": 23.4787367850242,
            "bin_start": 22.540576029072398,
            "count": 57
           },
           {
            "bin_end": 24.416897540976,
            "bin_start": 23.4787367850242,
            "count": 24
           }
          ],
          "max": 24.416897540976,
          "min": 15.035289981458,
          "nan_count": 0,
          "unique_count": 459
         }
        },
        {
         "dtype": "object",
         "name": "WIKI/CTVA - Not Found",
         "stats": {
          "categories": [
           {
            "count": 504,
            "name": "Missing"
           }
          ],
          "nan_count": 504,
          "unique_count": 0
         }
        },
        {
         "dtype": "float64",
         "name": "WIKI/COST - Adj. Close",
         "stats": {
          "histogram": [
           {
            "bin_end": 133.468780531917,
            "bin_start": 129.73635462273,
            "count": 21
           },
           {
            "bin_end": 137.201206441104,
            "bin_start": 133.468780531917,
            "count": 36
           },
           {
            "bin_end": 140.93363235029102,
            "bin_start": 137.201206441104,
            "count": 44
           },
           {
            "bin_end": 144.666058259478,
            "bin_start": 140.93363235029102,
            "count": 81
           },
           {
            "bin_end": 148.398484168665,
            "bin_start": 144.666058259478,
            "count": 87
           },
           {
            "bin_end": 152.130910077852,
            "bin_start": 148.398484168665,
            "count": 99
           },
           {
            "bin_end": 155.86333598703902,
            "bin_start": 152.130910077852,
            "count": 47
           },
           {
            "bin_end": 159.595761896226,
            "bin_start": 155.86333598703902,
            "count": 34
           },
           {
            "bin_end": 163.328187805413,
            "bin_start": 159.595761896226,
            "count": 19
           },
           {
            "bin_end": 167.0606137146,
            "bin_start": 163.328187805413,
            "count": 36
           }
          ],
          "max": 167.0606137146,
          "min": 129.73635462273,
          "nan_count": 0,
          "unique_count": 488
         }
        },
        {
         "dtype": "float64",
         "name": "WIKI/CCI - Adj. Close",
         "stats": {
          "histogram": [
           {
            "bin_end": 73.3908872768947,
            "bin_start": 70.699223516489,
            "count": 29
           },
           {
            "bin_end": 76.0825510373004,
            "bin_start": 73.3908872768947,
            "count": 98
           },
           {
            "bin_end": 78.7742147977061,
            "bin_start": 76.0825510373004,
            "count": 105
           },
           {
            "bin_end": 81.4658785581118,
            "bin_start": 78.7742147977061,
            "count": 89
           },
           {
            "bin_end": 84.1575423185175,
            "bin_start": 81.4658785581118,
            "count": 44
           },
           {
            "bin_end": 86.8492060789232,
            "bin_start": 84.1575423185175,
            "count": 40
           },
           {
            "bin_end": 89.5408698393289,
            "bin_start": 86.8492060789232,
            "count": 33
           },
           {
            "bin_end": 92.23253359973461,
            "bin_start": 89.5408698393289,
            "count": 41
           },
           {
            "bin_end": 94.9241973601403,
            "bin_start": 92.23253359973461,
            "count": 14
           },
           {
            "bin_end": 97.615861120546,
            "bin_start": 94.9241973601403,
            "count": 11
           }
          ],
          "max": 97.615861120546,
          "min": 70.699223516489,
          "nan_count": 0,
          "unique_count": 483
         }
        },
        {
         "dtype": "float64",
         "name": "WIKI/CSX - Adj. Close",
         "stats": {
          "histogram": [
           {
            "bin_end": 22.7349700566983,
            "bin_start": 21.166969644794,
            "count": 21
           },
           {
            "bin_end": 24.302970468602602,
            "bin_start": 22.7349700566983,
            "count": 31
           },
           {
            "bin_end": 25.870970880506903,
            "bin_start": 24.302970468602602,
            "count": 88
           },
           {
            "bin_end": 27.4389712924112,
            "bin_start": 25.870970880506903,
            "count": 82
           },
           {
            "bin_end": 29.0069717043155,
            "bin_start": 27.4389712924112,
            "count": 62
           },
           {
            "bin_end": 30.5749721162198,
            "bin_start": 29.0069717043155,
            "count": 49
           },
           {
            "bin_end": 32.1429725281241,
            "bin_start": 30.5749721162198,
            "count": 50
           },
           {
            "bin_end": 33.7109729400284,
            "bin_start": 32.1429725281241,
            "count": 68
           },
           {
            "bin_end": 35.2789733519327,
            "bin_start": 33.7109729400284,
            "count": 30
           },
           {
            "bin_end": 36.846973763837,
            "bin_start": 35.2789733519327,
            "count": 23
           }
          ],
          "max": 36.846973763837,
          "min": 21.166969644794,
          "nan_count": 0,
          "unique_count": 460
         }
        },
        {
         "dtype": "float64",
         "name": "WIKI/CMI - Adj. Close",
         "stats": {
          "histogram": [
           {
            "bin_end": 85.5184023354676,
            "bin_start": 79.074844764304,
            "count": 37
           },
           {
            "bin_end": 91.96195990663121,
            "bin_start": 85.5184023354676,
            "count": 13
           },
           {
            "bin_end": 98.4055174777948,
            "bin_start": 91.96195990663121,
            "count": 36
           },
           {
            "bin_end": 104.84907504895841,
            "bin_start": 98.4055174777948,
            "count": 45
           },
           {
            "bin_end": 111.292632620122,
            "bin_start": 104.84907504895841,
            "count": 59
           },
           {
            "bin_end": 117.7361901912856,
            "bin_start": 111.292632620122,
            "count": 64
           },
           {
            "bin_end": 124.17974776244921,
            "bin_start": 117.7361901912856,
            "count": 84
           },
           {
            "bin_end": 130.6233053336128,
            "bin_start": 124.17974776244921,
            "count": 91
           },
           {
            "bin_end": 137.0668629047764,
            "bin_start": 130.6233053336128,
            "count": 63
           },
           {
            "bin_end": 143.51042047594,
            "bin_start": 137.0668629047764,
            "count": 12
           }
          ],
          "max": 143.51042047594,
          "min": 79.074844764304,
          "nan_count": 0,
          "unique_count": 489
         }
        },
        {
         "dtype": "float64",
         "name": "WIKI/CVS - Adj. Close",
         "stats": {
          "histogram": [
           {
            "bin_end": 75.334673932227,
            "bin_start": 71.67584124196,
            "count": 17
           },
           {
            "bin_end": 78.993506622494,
            "bin_start": 75.334673932227,
            "count": 20
           },
           {
            "bin_end": 82.652339312761,
            "bin_start": 78.993506622494,
            "count": 7
           },
           {
            "bin_end": 86.311172003028,
            "bin_start": 82.652339312761,
            "count": 20
           },
           {
            "bin_end": 89.97000469329501,
            "bin_start": 86.311172003028,
            "count": 39
           },
           {
            "bin_end": 93.628837383562,
            "bin_start": 89.97000469329501,
            "count": 102
           },
           {
            "bin_end": 97.287670073829,
            "bin_start": 93.628837383562,
            "count": 150
           },
           {
            "bin_end": 100.94650276409601,
            "bin_start": 97.287670073829,
            "count": 110
           },
           {
            "bin_end": 104.605335454363,
            "bin_start": 100.94650276409601,
            "count": 24
           },
           {
            "bin_end": 108.26416814463,
            "bin_start": 104.605335454363,
            "count": 15
           }
          ],
          "max": 108.26416814463,
          "min": 71.67584124196,
          "nan_count": 0,
          "unique_count": 488
         }
        },
        {
         "dtype": "float64",
         "name": "WIKI/DHI - Adj. Close",
         "stats": {
          "histogram": [
           {
            "bin_end": 23.423316098514398,
            "bin_start": 22.260046647112,
            "count": 10
           },
           {
            "bin_end": 24.586585549916798,
            "bin_start": 23.423316098514398,
            "count": 19
           },
           {
            "bin_end": 25.749855001319197,
            "bin_start": 24.586585549916798,
            "count": 42
           },
           {
            "bin_end": 26.9131244527216,
            "bin_start": 25.749855001319197,
            "count": 77
           },
           {
            "bin_end": 28.076393904124,
            "bin_start": 26.9131244527216,
            "count": 66
           },
           {
            "bin_end": 29.2396633555264,
            "bin_start": 28.076393904124,
            "count": 78
           },
           {
            "bin_end": 30.402932806928803,
            "bin_start": 29.2396633555264,
            "count": 92
           },
           {
            "bin_end": 31.566202258331202,
            "bin_start": 30.402932806928803,
            "count": 67
           },
           {
            "bin_end": 32.7294717097336,
            "bin_start": 31.566202258331202,
            "count": 38
           },
           {
            "bin_end": 33.892741161136,
            "bin_start": 32.7294717097336,
            "count": 15
           }
          ],
          "max": 33.892741161136,
          "min": 22.260046647112,
          "nan_count": 0,
          "unique_count": 467
         }
        },
        {
         "dtype": "float64",
         "name": "WIKI/DHR - Adj. Close",
         "stats": {
          "histogram": [
           {
            "bin_end": 63.0083498703046,
            "bin_start": 60.989641933456,
            "count": 43
           },
           {
            "bin_end": 65.0270578071532,
            "bin_start": 63.0083498703046,
            "count": 128
           },
           {
            "bin_end": 67.0457657440018,
            "bin_start": 65.0270578071532,
            "count": 55
           },
           {
            "bin_end": 69.0644736808504,
            "bin_start": 67.0457657440018,
            "count": 31
           },
           {
            "bin_end": 71.083181617699,
            "bin_start": 69.0644736808504,
            "count": 35
           },
           {
            "bin_end": 73.1018895545476,
            "bin_start": 71.083181617699,
            "count": 47
           },
           {
            "bin_end": 75.1205974913962,
            "bin_start": 73.1018895545476,
            "count": 33
           },
           {
            "bin_end": 77.1393054282448,
            "bin_start": 75.1205974913962,
            "count": 36
           },
           {
            "bin_end": 79.1580133650934,
            "bin_start": 77.1393054282448,
            "count": 43
           },
           {
            "bin_end": 81.176721301942,
            "bin_start": 79.1580133650934,
            "count": 53
           }
          ],
          "max": 81.176721301942,
          "min": 60.989641933456,
          "nan_count": 0,
          "unique_count": 474
         }
        },
        {
         "dtype": "float64",
         "name": "WIKI/DRI - Adj. Close",
         "stats": {
          "histogram": [
           {
            "bin_end": 50.000018708661294,
            "bin_start": 47.037341455484,
            "count": 22
           },
           {
            "bin_end": 52.9626959618386,
            "bin_start": 50.000018708661294,
            "count": 64
           },
           {
            "bin_end": 55.925373215015895,
            "bin_start": 52.9626959618386,
            "count": 74
           },
           {
            "bin_end": 58.8880504681932,
            "bin_start": 55.925373215015895,
            "count": 84
           },
           {
            "bin_end": 61.8507277213705,
            "bin_start": 58.8880504681932,
            "count": 164
           },
           {
            "bin_end": 64.8134049745478,
            "bin_start": 61.8507277213705,
            "count": 57
           },
           {
            "bin_end": 67.7760822277251,
            "bin_start": 64.8134049745478,
            "count": 5
           },
           {
            "bin_end": 70.73875948090239,
            "bin_start": 67.7760822277251,
            "count": 5
           },
           {
            "bin_end": 73.70143673407969,
            "bin_start": 70.73875948090239,
            "count": 21
           },
           {
            "bin_end": 76.664113987257,
            "bin_start": 73.70143673407969,
            "count": 8
           }
          ],
          "max": 76.664113987257,
          "min": 47.037341455484,
          "nan_count": 0,
          "unique_count": 475
         }
        },
        {
         "dtype": "float64",
         "name": "WIKI/DVA - Adj. Close",
         "stats": {
          "histogram": [
           {
            "bin_end": 58.067,
            "bin_start": 55.16,
            "count": 7
           },
           {
            "bin_end": 60.974,
            "bin_start": 58.067,
            "count": 12
           },
           {
            "bin_end": 63.881,
            "bin_start": 60.974,
            "count": 31
           },
           {
            "bin_end": 66.788,
            "bin_start": 63.881,
            "count": 71
           },
           {
            "bin_end": 69.695,
            "bin_start": 66.788,
            "count": 25
           },
           {
            "bin_end": 72.602,
            "bin_start": 69.695,
            "count": 38
           },
           {
            "bin_end": 75.509,
            "bin_start": 72.602,
            "count": 96
           },
           {
            "bin_end": 78.416,
            "bin_start": 75.509,
            "count": 109
           },
           {
            "bin_end": 81.32300000000001,
            "bin_start": 78.416,
            "count": 57
           },
           {
            "bin_end": 84.23,
            "bin_start": 81.32300000000001,
            "count": 58
           }
          ],
          "max": 84.23,
          "min": 55.16,
          "nan_count": 0,
          "unique_count": 445
         }
        },
        {
         "dtype": "float64",
         "name": "WIKI/DE - Adj. Close",
         "stats": {
          "histogram": [
           {
            "bin_end": 72.0748720924763,
            "bin_start": 68.766733365017,
            "count": 34
           },
           {
            "bin_end": 75.3830108199356,
            "bin_start": 72.0748720924763,
            "count": 80
           },
           {
            "bin_end": 78.6911495473949,
            "bin_start": 75.3830108199356,
            "count": 75
           },
           {
            "bin_end": 81.99928827485421,
            "bin_start": 78.6911495473949,
            "count": 87
           },
           {
            "bin_end": 85.3074270023135,
            "bin_start": 81.99928827485421,
            "count": 111
           },
           {
            "bin_end": 88.61556572977281,
            "bin_start": 85.3074270023135,
            "count": 56
           },
           {
            "bin_end": 91.9237044572321,
            "bin_start": 88.61556572977281,
            "count": 35
           },
           {
            "bin_end": 95.2318431846914,
            "bin_start": 91.9237044572321,
            "count": 0
           },
           {
            "bin_end": 98.53998191215071,
            "bin_start": 95.2318431846914,
            "count": 3
           },
           {
            "bin_end": 101.84812063961,
            "bin_start": 98.53998191215071,
            "count": 23
           }
          ],
          "max": 101.84812063961,
          "min": 68.766733365017,
          "nan_count": 0,
          "unique_count": 483
         }
        },
        {
         "dtype": "float64",
         "name": "WIKI/DAL - Adj. Close",
         "stats": {
          "histogram": [
           {
            "bin_end": 34.3959155968749,
            "bin_start": 32.547627306029,
            "count": 3
           },
           {
            "bin_end": 36.2442038877208,
            "bin_start": 34.3959155968749,
            "count": 25
           },
           {
            "bin_end": 38.0924921785667,
            "bin_start": 36.2442038877208,
            "count": 33
           },
           {
            "bin_end": 39.9407804694126,
            "bin_start": 38.0924921785667,
            "count": 46
           },
           {
            "bin_end": 41.7890687602585,
            "bin_start": 39.9407804694126,
            "count": 63
           },
           {
            "bin_end": 43.6373570511044,
            "bin_start": 41.7890687602585,
            "count": 87
           },
           {
            "bin_end": 45.485645341950296,
            "bin_start": 43.6373570511044,
            "count": 93
           },
           {
            "bin_end": 47.333933632796196,
            "bin_start": 45.485645341950296,
            "count": 66
           },
           {
            "bin_end": 49.182221923642096,
            "bin_start": 47.333933632796196,
            "count": 61
           },
           {
            "bin_end": 51.030510214488,
            "bin_start": 49.182221923642096,
            "count": 27
           }
          ],
          "max": 51.030510214488,
          "min": 32.547627306029,
          "nan_count": 0,
          "unique_count": 481
         }
        },
        {
         "dtype": "float64",
         "name": "WIKI/XRAY - Adj. Close",
         "stats": {
          "histogram": [
           {
            "bin_end": 50.8053811256362,
            "bin_start": 49.261839095503,
            "count": 66
           },
           {
            "bin_end": 52.3489231557694,
            "bin_start": 50.8053811256362,
            "count": 91
           },
           {
            "bin_end": 53.892465185902594,
            "bin_start": 52.3489231557694,
            "count": 19
           },
           {
            "bin_end": 55.4360072160358,
            "bin_start": 53.892465185902594,
            "count": 16
           },
           {
            "bin_end": 56.979549246169,
            "bin_start": 55.4360072160358,
            "count": 36
           },
           {
            "bin_end": 58.523091276302196,
            "bin_start": 56.979549246169,
            "count": 34
           },
           {
            "bin_end": 60.06663330643539,
            "bin_start": 58.523091276302196,
            "count": 96
           },
           {
            "bin_end": 61.610175336568595,
            "bin_start": 60.06663330643539,
            "count": 94
           },
           {
            "bin_end": 63.1537173667018,
            "bin_start": 61.610175336568595,
            "count": 41
           },
           {
            "bin_end": 64.697259396835,
            "bin_start": 63.1537173667018,
            "count": 11
           }
          ],
          "max": 64.697259396835,
          "min": 49.261839095503,
          "nan_count": 0,
          "unique_count": 478
         }
        },
        {
         "dtype": "float64",
         "name": "WIKI/DVN - Adj. Close",
         "stats": {
          "histogram": [
           {
            "bin_end": 23.1265042050258,
            "bin_start": 18.298301519194,
            "count": 24
           },
           {
            "bin_end": 27.9547068908576,
            "bin_start": 23.1265042050258,
            "count": 38
           },
           {
            "bin_end": 32.7829095766894,
            "bin_start": 27.9547068908576,
            "count": 33
           },
           {
            "bin_end": 37.6111122625212,
            "bin_start": 32.7829095766894,
            "count": 70
           },
           {
            "bin_end": 42.439314948353,
            "bin_start": 37.6111122625212,
            "count": 81
           },
           {
            "bin_end": 47.2675176341848,
            "bin_start": 42.439314948353,
            "count": 103
           },
           {
            "bin_end": 52.0957203200166,
            "bin_start": 47.2675176341848,
            "count": 20
           },
           {
            "bin_end": 56.9239230058484,
            "bin_start": 52.0957203200166,
            "count": 32
           },
           {
            "bin_end": 61.7521256916802,
            "bin_start": 56.9239230058484,
            "count": 55
           },
           {
            "bin_end": 66.580328377512,
            "bin_start": 61.7521256916802,
            "count": 48
           }
          ],
          "max": 66.580328377512,
          "min": 18.298301519194,
          "nan_count": 0,
          "unique_count": 487
         }
        },
        {
         "dtype": "float64",
         "name": "WIKI/DXCM - Adj. Close",
         "stats": {
          "histogram": [
           {
            "bin_end": 58.233000000000004,
            "bin_start": 53.38,
            "count": 14
           },
           {
            "bin_end": 63.086,
            "bin_start": 58.233000000000004,
            "count": 90
           },
           {
            "bin_end": 67.93900000000001,
            "bin_start": 63.086,
            "count": 82
           },
           {
            "bin_end": 72.792,
            "bin_start": 67.93900000000001,
            "count": 70
           },
           {
            "bin_end": 77.64500000000001,
            "bin_start": 72.792,
            "count": 25
           },
           {
            "bin_end": 82.498,
            "bin_start": 77.64500000000001,
            "count": 68
           },
           {
            "bin_end": 87.351,
            "bin_start": 82.498,
            "count": 66
           },
           {
            "bin_end": 92.20400000000001,
            "bin_start": 87.351,
            "count": 50
           },
           {
            "bin_end": 97.057,
            "bin_start": 92.20400000000001,
            "count": 29
           },
           {
            "bin_end": 101.91,
            "bin_start": 97.057,
            "count": 10
           }
          ],
          "max": 101.91,
          "min": 53.38,
          "nan_count": 0,
          "unique_count": 466
         }
        },
        {
         "dtype": "float64",
         "name": "WIKI/FANG - Adj. Close",
         "stats": {
          "histogram": [
           {
            "bin_end": 62.552,
            "bin_start": 57.28,
            "count": 21
           },
           {
            "bin_end": 67.824,
            "bin_start": 62.552,
            "count": 56
           },
           {
            "bin_end": 73.096,
            "bin_start": 67.824,
            "count": 87
           },
           {
            "bin_end": 78.368,
            "bin_start": 73.096,
            "count": 96
           },
           {
            "bin_end": 83.64,
            "bin_start": 78.368,
            "count": 67
           },
           {
            "bin_end": 88.912,
            "bin_start": 83.64,
            "count": 45
           },
           {
            "bin_end": 94.184,
            "bin_start": 88.912,
            "count": 54
           },
           {
            "bin_end": 99.456,
            "bin_start": 94.184,
            "count": 43
           },
           {
            "bin_end": 104.72800000000001,
            "bin_start": 99.456,
            "count": 22
           },
           {
            "bin_end": 110,
            "bin_start": 104.72800000000001,
            "count": 13
           }
          ],
          "max": 110,
          "min": 57.28,
          "nan_count": 0,
          "unique_count": 482
         }
        },
        {
         "dtype": "float64",
         "name": "WIKI/DLR - Adj. Close",
         "stats": {
          "histogram": [
           {
            "bin_end": 61.4471864551591,
            "bin_start": 56.345015013689,
            "count": 150
           },
           {
            "bin_end": 66.5493578966292,
            "bin_start": 61.4471864551591,
            "count": 62
           },
           {
            "bin_end": 71.6515293380993,
            "bin_start": 66.5493578966292,
            "count": 44
           },
           {
            "bin_end": 76.7537007795694,
            "bin_start": 71.6515293380993,
            "count": 33
           },
           {
            "bin_end": 81.8558722210395,
            "bin_start": 76.7537007795694,
            "count": 15
           },
           {
            "bin_end": 86.9580436625096,
            "bin_start": 81.8558722210395,
            "count": 48
           },
           {
            "bin_end": 92.0602151039797,
            "bin_start": 86.9580436625096,
            "count": 53
           },
           {
            "bin_end": 97.1623865454498,
            "bin_start": 92.0602151039797,
            "count": 53
           },
           {
            "bin_end": 102.2645579869199,
            "bin_start": 97.1623865454498,
            "count": 34
           },
           {
            "bin_end": 107.36672942839,
            "bin_start": 102.2645579869199,
            "count": 12
           }
          ],
          "max": 107.36672942839,
          "min": 56.345015013689,
          "nan_count": 0,
          "unique_count": 480
         }
        },
        {
         "dtype": "float64",
         "name": "WIKI/DFS - Adj. Close",
         "stats": {
          "histogram": [
           {
            "bin_end": 44.7094137742837,
            "bin_start": 41.710867520152,
            "count": 14
           },
           {
            "bin_end": 47.7079600284154,
            "bin_start": 44.7094137742837,
            "count": 30
           },
           {
            "bin_end": 50.706506282547096,
            "bin_start": 47.7079600284154,
            "count": 59
           },
           {
            "bin_end": 53.7050525366788,
            "bin_start": 50.706506282547096,
            "count": 109
           },
           {
            "bin_end": 56.7035987908105,
            "bin_start": 53.7050525366788,
            "count": 222
           },
           {
            "bin_end": 59.7021450449422,
            "bin_start": 56.7035987908105,
            "count": 32
           },
           {
            "bin_end": 62.700691299073895,
            "bin_start": 59.7021450449422,
            "count": 4
           },
           {
            "bin_end": 65.69923755320559,
            "bin_start": 62.700691299073895,
            "count": 7
           },
           {
            "bin_end": 68.6977838073373,
            "bin_start": 65.69923755320559,
            "count": 10
           },
           {
            "bin_end": 71.696330061469,
            "bin_start": 68.6977838073373,
            "count": 17
           }
          ],
          "max": 71.696330061469,
          "min": 41.710867520152,
          "nan_count": 0,
          "unique_count": 478
         }
        },
        {
         "dtype": "float64",
         "name": "WIKI/DISCA - Adj. Close",
         "stats": {
          "histogram": [
           {
            "bin_end": 24.837,
            "bin_start": 23.73,
            "count": 17
           },
           {
            "bin_end": 25.944,
            "bin_start": 24.837,
            "count": 71
           },
           {
            "bin_end": 27.051,
            "bin_start": 25.944,
            "count": 87
           },
           {
            "bin_end": 28.158,
            "bin_start": 27.051,
            "count": 78
           },
           {
            "bin_end": 29.265,
            "bin_start": 28.158,
            "count": 69
           },
           {
            "bin_end": 30.372,
            "bin_start": 29.265,
            "count": 39
           },
           {
            "bin_end": 31.479,
            "bin_start": 30.372,
            "count": 32
           },
           {
            "bin_end": 32.586,
            "bin_start": 31.479,
            "count": 37
           },
           {
            "bin_end": 33.693,
            "bin_start": 32.586,
            "count": 53
           },
           {
            "bin_end": 34.8,
            "bin_start": 33.693,
            "count": 21
           }
          ],
          "max": 34.8,
          "min": 23.73,
          "nan_count": 0,
          "unique_count": 395
         }
        },
        {
         "dtype": "float64",
         "name": "WIKI/DISCK - Adj. Close",
         "stats": {
          "histogram": [
           {
            "bin_end": 23.63,
            "bin_start": 22.54,
            "count": 7
           },
           {
            "bin_end": 24.72,
            "bin_start": 23.63,
            "count": 49
           },
           {
            "bin_end": 25.81,
            "bin_start": 24.72,
            "count": 100
           },
           {
            "bin_end": 26.9,
            "bin_start": 25.81,
            "count": 83
           },
           {
            "bin_end": 27.99,
            "bin_start": 26.9,
            "count": 89
           },
           {
            "bin_end": 29.08,
            "bin_start": 27.99,
            "count": 34
           },
           {
            "bin_end": 30.169999999999998,
            "bin_start": 29.08,
            "count": 44
           },
           {
            "bin_end": 31.259999999999998,
            "bin_start": 30.169999999999998,
            "count": 51
           },
           {
            "bin_end": 32.349999999999994,
            "bin_start": 31.259999999999998,
            "count": 44
           },
           {
            "bin_end": 33.44,
            "bin_start": 32.349999999999994,
            "count": 3
           }
          ],
          "max": 33.44,
          "min": 22.54,
          "nan_count": 0,
          "unique_count": 378
         }
        },
        {
         "dtype": "float64",
         "name": "WIKI/DISH - Adj. Close",
         "stats": {
          "histogram": [
           {
            "bin_end": 43.57,
            "bin_start": 39.71,
            "count": 8
           },
           {
            "bin_end": 47.43,
            "bin_start": 43.57,
            "count": 41
           },
           {
            "bin_end": 51.290000000000006,
            "bin_start": 47.43,
            "count": 73
           },
           {
            "bin_end": 55.150000000000006,
            "bin_start": 51.290000000000006,
            "count": 67
           },
           {
            "bin_end": 59.010000000000005,
            "bin_start": 55.150000000000006,
            "count": 85
           },
           {
            "bin_end": 62.870000000000005,
            "bin_start": 59.010000000000005,
            "count": 51
           },
           {
            "bin_end": 66.73,
            "bin_start": 62.870000000000005,
            "count": 44
           },
           {
            "bin_end": 70.59,
            "bin_start": 66.73,
            "count": 61
           },
           {
            "bin_end": 74.45,
            "bin_start": 70.59,
            "count": 47
           },
           {
            "bin_end": 78.31,
            "bin_start": 74.45,
            "count": 27
           }
          ],
          "max": 78.31,
          "min": 39.71,
          "nan_count": 0,
          "unique_count": 468
         }
        },
        {
         "dtype": "float64",
         "name": "WIKI/DG - Adj. Close",
         "stats": {
          "histogram": [
           {
            "bin_end": 62.1235018915223,
            "bin_start": 58.46626580352,
            "count": 7
           },
           {
            "bin_end": 65.7807379795246,
            "bin_start": 62.1235018915223,
            "count": 41
           },
           {
            "bin_end": 69.43797406752691,
            "bin_start": 65.7807379795246,
            "count": 98
           },
           {
            "bin_end": 73.0952101555292,
            "bin_start": 69.43797406752691,
            "count": 126
           },
           {
            "bin_end": 76.7524462435315,
            "bin_start": 73.0952101555292,
            "count": 84
           },
           {
            "bin_end": 80.4096823315338,
            "bin_start": 76.7524462435315,
            "count": 41
           },
           {
            "bin_end": 84.06691841953611,
            "bin_start": 80.4096823315338,
            "count": 39
           },
           {
            "bin_end": 87.7241545075384,
            "bin_start": 84.06691841953611,
            "count": 6
           },
           {
            "bin_end": 91.3813905955407,
            "bin_start": 87.7241545075384,
            "count": 36
           },
           {
            "bin_end": 95.038626683543,
            "bin_start": 91.3813905955407,
            "count": 26
           }
          ],
          "max": 95.038626683543,
          "min": 58.46626580352,
          "nan_count": 0,
          "unique_count": 489
         }
        },
        {
         "dtype": "float64",
         "name": "WIKI/DLTR - Adj. Close",
         "stats": {
          "histogram": [
           {
            "bin_end": 65.054,
            "bin_start": 61.38,
            "count": 20
           },
           {
            "bin_end": 68.72800000000001,
            "bin_start": 65.054,
            "count": 39
           },
           {
            "bin_end": 72.402,
            "bin_start": 68.72800000000001,
            "count": 21
           },
           {
            "bin_end": 76.07600000000001,
            "bin_start": 72.402,
            "count": 45
           },
           {
            "bin_end": 79.75,
            "bin_start": 76.07600000000001,
            "count": 165
           },
           {
            "bin_end": 83.424,
            "bin_start": 79.75,
            "count": 122
           },
           {
            "bin_end": 87.09800000000001,
            "bin_start": 83.424,
            "count": 17
           },
           {
            "bin_end": 90.772,
            "bin_start": 87.09800000000001,
            "count": 18
           },
           {
            "bin_end": 94.446,
            "bin_start": 90.772,
            "count": 23
           },
           {
            "bin_end": 98.12,
            "bin_start": 94.446,
            "count": 34
           }
          ],
          "max": 98.12,
          "min": 61.38,
          "nan_count": 0,
          "unique_count": 433
         }
        },
        {
         "dtype": "float64",
         "name": "WIKI/D - Adj. Close",
         "stats": {
          "histogram": [
           {
            "bin_end": 62.117712773643404,
            "bin_start": 60.658335898643,
            "count": 24
           },
           {
            "bin_end": 63.577089648643806,
            "bin_start": 62.117712773643404,
            "count": 57
           },
           {
            "bin_end": 65.03646652364421,
            "bin_start": 63.577089648643806,
            "count": 76
           },
           {
            "bin_end": 66.49584339864461,
            "bin_start": 65.03646652364421,
            "count": 84
           },
           {
            "bin_end": 67.95522027364501,
            "bin_start": 66.49584339864461,
            "count": 43
           },
           {
            "bin_end": 69.41459714864541,
            "bin_start": 67.95522027364501,
            "count": 57
           },
           {
            "bin_end": 70.8739740236458,
            "bin_start": 69.41459714864541,
            "count": 55
           },
           {
            "bin_end": 72.3333508986462,
            "bin_start": 70.8739740236458,
            "count": 46
           },
           {
            "bin_end": 73.7927277736466,
            "bin_start": 72.3333508986462,
            "count": 31
           },
           {
            "bin_end": 75.252104648647,
            "bin_start": 73.7927277736466,
            "count": 31
           }
          ],
          "max": 75.252104648647,
          "min": 60.658335898643,
          "nan_count": 0,
          "unique_count": 472
         }
        },
        {
         "dtype": "float64",
         "name": "WIKI/DPZ - Adj. Close",
         "stats": {
          "histogram": [
           {
            "bin_end": 99.46158005916351,
            "bin_start": 91.552484319135,
            "count": 61
           },
           {
            "bin_end": 107.370675799192,
            "bin_start": 99.46158005916351,
            "count": 121
           },
           {
            "bin_end": 115.2797715392205,
            "bin_start": 107.370675799192,
            "count": 101
           },
           {
            "bin_end": 123.188867279249,
            "bin_start": 115.2797715392205,
            "count": 35
           },
           {
            "bin_end": 131.0979630192775,
            "bin_start": 123.188867279249,
            "count": 38
           },
           {
            "bin_end": 139.007058759306,
            "bin_start": 131.0979630192775,
            "count": 34
           },
           {
            "bin_end": 146.9161544993345,
            "bin_start": 139.007058759306,
            "count": 23
           },
           {
            "bin_end": 154.82525023936302,
            "bin_start": 146.9161544993345,
            "count": 39
           },
           {
            "bin_end": 162.7343459793915,
            "bin_start": 154.82525023936302,
            "count": 22
           },
           {
            "bin_end": 170.64344171942,
            "bin_start": 162.7343459793915,
            "count": 30
           }
          ],
          "max": 170.64344171942,
          "min": 91.552484319135,
          "nan_count": 0,
          "unique_count": 489
         }
        },
        {
         "dtype": "float64",
         "name": "WIKI/DOV - Adj. Close",
         "stats": {
          "histogram": [
           {
            "bin_end": 53.035657811303196,
            "bin_start": 50.497822687595,
            "count": 7
           },
           {
            "bin_end": 55.5734929350114,
            "bin_start": 53.035657811303196,
            "count": 23
           },
           {
            "bin_end": 58.1113280587196,
            "bin_start": 55.5734929350114,
            "count": 38
           },
           {
            "bin_end": 60.6491631824278,
            "bin_start": 58.1113280587196,
            "count": 53
           },
           {
            "bin_end": 63.186998306136005,
            "bin_start": 60.6491631824278,
            "count": 74
           },
           {
            "bin_end": 65.72483342984421,
            "bin_start": 63.186998306136005,
            "count": 74
           },
           {
            "bin_end": 68.2626685535524,
            "bin_start": 65.72483342984421,
            "count": 81
           },
           {
            "bin_end": 70.80050367726061,
            "bin_start": 68.2626685535524,
            "count": 79
           },
           {
            "bin_end": 73.33833880096881,
            "bin_start": 70.80050367726061,
            "count": 55
           },
           {
            "bin_end": 75.876173924677,
            "bin_start": 73.33833880096881,
            "count": 20
           }
          ],
          "max": 75.876173924677,
          "min": 50.497822687595,
          "nan_count": 0,
          "unique_count": 479
         }
        },
        {
         "dtype": "float64",
         "name": "WIKI/DOW - Adj. Close",
         "stats": {
          "histogram": [
           {
            "bin_end": 38.614461791253206,
            "bin_start": 36.529031670431,
            "count": 5
           },
           {
            "bin_end": 40.6998919120754,
            "bin_start": 38.614461791253206,
            "count": 44
           },
           {
            "bin_end": 42.785322032897604,
            "bin_start": 40.6998919120754,
            "count": 36
           },
           {
            "bin_end": 44.870752153719806,
            "bin_start": 42.785322032897604,
            "count": 65
           },
           {
            "bin_end": 46.956182274542,
            "bin_start": 44.870752153719806,
            "count": 54
           },
           {
            "bin_end": 49.041612395364204,
            "bin_start": 46.956182274542,
            "count": 118
           },
           {
            "bin_end": 51.12704251618641,
            "bin_start": 49.041612395364204,
            "count": 83
           },
           {
            "bin_end": 53.2124726370086,
            "bin_start": 51.12704251618641,
            "count": 76
           },
           {
            "bin_end": 55.2979027578308,
            "bin_start": 53.2124726370086,
            "count": 7
           },
           {
            "bin_end": 57.383332878653,
            "bin_start": 55.2979027578308,
            "count": 16
           }
          ],
          "max": 57.383332878653,
          "min": 36.529031670431,
          "nan_count": 0,
          "unique_count": 471
         }
        },
        {
         "dtype": "float64",
         "name": "WIKI/DTE - Adj. Close",
         "stats": {
          "histogram": [
           {
            "bin_end": 71.3295988432149,
            "bin_start": 68.512914475581,
            "count": 38
           },
           {
            "bin_end": 74.1462832108488,
            "bin_start": 71.3295988432149,
            "count": 76
           },
           {
            "bin_end": 76.9629675784827,
            "bin_start": 74.1462832108488,
            "count": 99
           },
           {
            "bin_end": 79.7796519461166,
            "bin_start": 76.9629675784827,
            "count": 49
           },
           {
            "bin_end": 82.5963363137505,
            "bin_start": 79.7796519461166,
            "count": 33
           },
           {
            "bin_end": 85.4130206813844,
            "bin_start": 82.5963363137505,
            "count": 41
           },
           {
            "bin_end": 88.22970504901829,
            "bin_start": 85.4130206813844,
            "count": 24
           },
           {
            "bin_end": 91.0463894166522,
            "bin_start": 88.22970504901829,
            "count": 68
           },
           {
            "bin_end": 93.8630737842861,
            "bin_start": 91.0463894166522,
            "count": 43
           },
           {
            "bin_end": 96.67975815192,
            "bin_start": 93.8630737842861,
            "count": 33
           }
          ],
          "max": 96.67975815192,
          "min": 68.512914475581,
          "nan_count": 0,
          "unique_count": 481
         }
        },
        {
         "dtype": "float64",
         "name": "WIKI/DUK - Adj. Close",
         "stats": {
          "histogram": [
           {
            "bin_end": 63.265473342052395,
            "bin_start": 61.105390012059,
            "count": 25
           },
           {
            "bin_end": 65.4255566720458,
            "bin_start": 63.265473342052395,
            "count": 38
           },
           {
            "bin_end": 67.5856400020392,
            "bin_start": 65.4255566720458,
            "count": 93
           },
           {
            "bin_end": 69.7457233320326,
            "bin_start": 67.5856400020392,
            "count": 61
           },
           {
            "bin_end": 71.905806662026,
            "bin_start": 69.7457233320326,
            "count": 54
           },
           {
            "bin_end": 74.06588999201941,
            "bin_start": 71.905806662026,
            "count": 58
           },
           {
            "bin_end": 76.2259733220128,
            "bin_start": 74.06588999201941,
            "count": 84
           },
           {
            "bin_end": 78.3860566520062,
            "bin_start": 76.2259733220128,
            "count": 44
           },
           {
            "bin_end": 80.5461399819996,
            "bin_start": 78.3860566520062,
            "count": 27
           },
           {
            "bin_end": 82.706223311993,
            "bin_start": 80.5461399819996,
            "count": 20
           }
          ],
          "max": 82.706223311993,
          "min": 61.105390012059,
          "nan_count": 0,
          "unique_count": 489
         }
        },
        {
         "dtype": "float64",
         "name": "WIKI/DRE - Adj. Close",
         "stats": {
          "histogram": [
           {
            "bin_end": 17.4050665644876,
            "bin_start": 16.272444405192,
            "count": 29
           },
           {
            "bin_end": 18.5376887237832,
            "bin_start": 17.4050665644876,
            "count": 116
           },
           {
            "bin_end": 19.670310883078802,
            "bin_start": 18.5376887237832,
            "count": 107
           },
           {
            "bin_end": 20.8029330423744,
            "bin_start": 19.670310883078802,
            "count": 56
           },
           {
            "bin_end": 21.93555520167,
            "bin_start": 20.8029330423744,
            "count": 31
           },
           {
            "bin_end": 23.0681773609656,
            "bin_start": 21.93555520167,
            "count": 21
           },
           {
            "bin_end": 24.2007995202612,
            "bin_start": 23.0681773609656,
            "count": 20
           },
           {
            "bin_end": 25.3334216795568,
            "bin_start": 24.2007995202612,
            "count": 48
           },
           {
            "bin_end": 26.4660438388524,
            "bin_start": 25.3334216795568,
            "count": 42
           },
           {
            "bin_end": 27.598665998148,
            "bin_start": 26.4660438388524,
            "count": 34
           }
          ],
          "max": 27.598665998148,
          "min": 16.272444405192,
          "nan_count": 0,
          "unique_count": 458
         }
        },
        {
         "dtype": "float64",
         "name": "WIKI/DD - Adj. Close",
         "stats": {
          "histogram": [
           {
            "bin_end": 48.2300642076062,
            "bin_start": 45.322356588488,
            "count": 23
           },
           {
            "bin_end": 51.137771826724396,
            "bin_start": 48.2300642076062,
            "count": 19
           },
           {
            "bin_end": 54.0454794458426,
            "bin_start": 51.137771826724396,
            "count": 26
           },
           {
            "bin_end": 56.9531870649608,
            "bin_start": 54.0454794458426,
            "count": 32
           },
           {
            "bin_end": 59.860894684079,
            "bin_start": 56.9531870649608,
            "count": 24
           },
           {
            "bin_end": 62.7686023031972,
            "bin_start": 59.860894684079,
            "count": 69
           },
           {
            "bin_end": 65.6763099223154,
            "bin_start": 62.7686023031972,
            "count": 131
           },
           {
            "bin_end": 68.5840175414336,
            "bin_start": 65.6763099223154,
            "count": 122
           },
           {
            "bin_end": 71.4917251605518,
            "bin_start": 68.5840175414336,
            "count": 32
           },
           {
            "bin_end": 74.39943277967,
            "bin_start": 71.4917251605518,
            "count": 26
           }
          ],
          "max": 74.39943277967,
          "min": 45.322356588488,
          "nan_count": 0,
          "unique_count": 489
         }
        },
        {
         "dtype": "object",
         "name": "WIKI/DXC - Adj. Close",
         "stats": {
          "categories": [
           {
            "count": 504,
            "name": "Missing"
           }
          ],
          "nan_count": 504,
          "unique_count": 0
         }
        },
        {
         "dtype": "float64",
         "name": "WIKI/EMN - Adj. Close",
         "stats": {
          "histogram": [
           {
            "bin_end": 58.1780122934705,
            "bin_start": 55.855375860427,
            "count": 10
           },
           {
            "bin_end": 60.500648726514,
            "bin_start": 58.1780122934705,
            "count": 18
           },
           {
            "bin_end": 62.8232851595575,
            "bin_start": 60.500648726514,
            "count": 27
           },
           {
            "bin_end": 65.145921592601,
            "bin_start": 62.8232851595575,
            "count": 74
           },
           {
            "bin_end": 67.46855802564451,
            "bin_start": 65.145921592601,
            "count": 96
           },
           {
            "bin_end": 69.79119445868801,
            "bin_start": 67.46855802564451,
            "count": 82
           },
           {
            "bin_end": 72.11383089173151,
            "bin_start": 69.79119445868801,
            "count": 80
           },
           {
            "bin_end": 74.43646732477501,
            "bin_start": 72.11383089173151,
            "count": 82
           },
           {
            "bin_end": 76.75910375781851,
            "bin_start": 74.43646732477501,
            "count": 28
           },
           {
            "bin_end": 79.081740190862,
            "bin_start": 76.75910375781851,
            "count": 7
           }
          ],
          "max": 79.081740190862,
          "min": 55.855375860427,
          "nan_count": 0,
          "unique_count": 492
         }
        },
        {
         "dtype": "float64",
         "name": "WIKI/ETN - Adj. Close",
         "stats": {
          "histogram": [
           {
            "bin_end": 46.4682056419789,
            "bin_start": 44.111401711228,
            "count": 16
           },
           {
            "bin_end": 48.8250095727298,
            "bin_start": 46.4682056419789,
            "count": 33
           },
           {
            "bin_end": 51.1818135034807,
            "bin_start": 48.8250095727298,
            "count": 38
           },
           {
            "bin_end": 53.5386174342316,
            "bin_start": 51.1818135034807,
            "count": 38
           },
           {
            "bin_end": 55.8954213649825,
            "bin_start": 53.5386174342316,
            "count": 32
           },
           {
            "bin_end": 58.252225295733396,
            "bin_start": 55.8954213649825,
            "count": 47
           },
           {
            "bin_end": 60.609029226484296,
            "bin_start": 58.252225295733396,
            "count": 93
           },
           {
            "bin_end": 62.965833157235195,
            "bin_start": 60.609029226484296,
            "count": 86
           },
           {
            "bin_end": 65.3226370879861,
            "bin_start": 62.965833157235195,
            "count": 71
           },
           {
            "bin_end": 67.679441018737,
            "bin_start": 65.3226370879861,
            "count": 50
           }
          ],
          "max": 67.679441018737,
          "min": 44.111401711228,
          "nan_count": 0,
          "unique_count": 482
         }
        },
        {
         "dtype": "float64",
         "name": "WIKI/EBAY - Adj. Close",
         "stats": {
          "histogram": [
           {
            "bin_end": 22.05595464520848,
            "bin_start": 20.851060716898314,
            "count": 27
           },
           {
            "bin_end": 23.26084857351865,
            "bin_start": 22.05595464520848,
            "count": 66
           },
           {
            "bin_end": 24.46574250182882,
            "bin_start": 23.26084857351865,
            "count": 141
           },
           {
            "bin_end": 25.670636430138988,
            "bin_start": 24.46574250182882,
            "count": 39
           },
           {
            "bin_end": 26.875530358449154,
            "bin_start": 25.670636430138988,
            "count": 40
           },
           {
            "bin_end": 28.080424286759325,
            "bin_start": 26.875530358449154,
            "count": 30
           },
           {
            "bin_end": 29.285318215069495,
            "bin_start": 28.080424286759325,
            "count": 77
           },
           {
            "bin_end": 30.49021214337966,
            "bin_start": 29.285318215069495,
            "count": 22
           },
           {
            "bin_end": 31.69510607168983,
            "bin_start": 30.49021214337966,
            "count": 34
           },
           {
            "bin_end": 32.9,
            "bin_start": 31.69510607168983,
            "count": 28
           }
          ],
          "max": 32.9,
          "min": 20.851060716898314,
          "nan_count": 0,
          "unique_count": 433
         }
        },
        {
         "dtype": "float64",
         "name": "WIKI/ECL - Adj. Close",
         "stats": {
          "histogram": [
           {
            "bin_end": 98.4003850508781,
            "bin_start": 95.749910570479,
            "count": 7
           },
           {
            "bin_end": 101.0508595312772,
            "bin_start": 98.4003850508781,
            "count": 19
           },
           {
            "bin_end": 103.70133401167631,
            "bin_start": 101.0508595312772,
            "count": 33
           },
           {
            "bin_end": 106.3518084920754,
            "bin_start": 103.70133401167631,
            "count": 29
           },
           {
            "bin_end": 109.0022829724745,
            "bin_start": 106.3518084920754,
            "count": 36
           },
           {
            "bin_end": 111.6527574528736,
            "bin_start": 109.0022829724745,
            "count": 82
           },
           {
            "bin_end": 114.3032319332727,
            "bin_start": 111.6527574528736,
            "count": 114
           },
           {
            "bin_end": 116.9537064136718,
            "bin_start": 114.3032319332727,
            "count": 84
           },
           {
            "bin_end": 119.60418089407091,
            "bin_start": 116.9537064136718,
            "count": 66
           },
           {
            "bin_end": 122.25465537447,
            "bin_start": 119.60418089407091,
            "count": 34
           }
          ],
          "max": 122.25465537447,
          "min": 95.749910570479,
          "nan_count": 0,
          "unique_count": 479
         }
        },
        {
         "dtype": "float64",
         "name": "WIKI/EIX - Adj. Close",
         "stats": {
          "histogram": [
           {
            "bin_end": 54.584200614011,
            "bin_start": 52.219664034482,
            "count": 35
           },
           {
            "bin_end": 56.94873719354,
            "bin_start": 54.584200614011,
            "count": 97
           },
           {
            "bin_end": 59.313273773069,
            "bin_start": 56.94873719354,
            "count": 75
           },
           {
            "bin_end": 61.677810352598,
            "bin_start": 59.313273773069,
            "count": 57
           },
           {
            "bin_end": 64.042346932127,
            "bin_start": 61.677810352598,
            "count": 25
           },
           {
            "bin_end": 66.40688351165599,
            "bin_start": 64.042346932127,
            "count": 13
           },
           {
            "bin_end": 68.771420091185,
            "bin_start": 66.40688351165599,
            "count": 75
           },
           {
            "bin_end": 71.135956670714,
            "bin_start": 68.771420091185,
            "count": 72
           },
           {
            "bin_end": 73.500493250243,
            "bin_start": 71.135956670714,
            "count": 32
           },
           {
            "bin_end": 75.865029829772,
            "bin_start": 73.500493250243,
            "count": 23
           }
          ],
          "max": 75.865029829772,
          "min": 52.219664034482,
          "nan_count": 0,
          "unique_count": 481
         }
        },
        {
         "dtype": "float64",
         "name": "WIKI/EW - Adj. Close",
         "stats": {
          "histogram": [
           {
            "bin_end": 67.873,
            "bin_start": 61.93,
            "count": 84
           },
           {
            "bin_end": 73.816,
            "bin_start": 67.873,
            "count": 89
           },
           {
            "bin_end": 79.759,
            "bin_start": 73.816,
            "count": 81
           },
           {
            "bin_end": 85.702,
            "bin_start": 79.759,
            "count": 40
           },
           {
            "bin_end": 91.645,
            "bin_start": 85.702,
            "count": 53
           },
           {
            "bin_end": 97.588,
            "bin_start": 91.645,
            "count": 17
           },
           {
            "bin_end": 103.531,
            "bin_start": 97.588,
            "count": 32
           },
           {
            "bin_end": 109.47399999999999,
            "bin_start": 103.531,
            "count": 44
           },
           {
            "bin_end": 115.417,
            "bin_start": 109.47399999999999,
            "count": 26
           },
           {
            "bin_end": 121.36,
            "bin_start": 115.417,
            "count": 38
           }
          ],
          "max": 121.36,
          "min": 61.93,
          "nan_count": 0,
          "unique_count": 487
         }
        },
        {
         "dtype": "float64",
         "name": "WIKI/EA - Adj. Close",
         "stats": {
          "histogram": [
           {
            "bin_end": 49.92,
            "bin_start": 45.96,
            "count": 17
           },
           {
            "bin_end": 53.88,
            "bin_start": 49.92,
            "count": 0
           },
           {
            "bin_end": 57.84,
            "bin_start": 53.88,
            "count": 53
           },
           {
            "bin_end": 61.8,
            "bin_start": 57.84,
            "count": 35
           },
           {
            "bin_end": 65.76,
            "bin_start": 61.8,
            "count": 82
           },
           {
            "bin_end": 69.72,
            "bin_start": 65.76,
            "count": 84
           },
           {
            "bin_end": 73.68,
            "bin_start": 69.72,
            "count": 60
           },
           {
            "bin_end": 77.64,
            "bin_start": 73.68,
            "count": 71
           },
           {
            "bin_end": 81.6,
            "bin_start": 77.64,
            "count": 62
           },
           {
            "bin_end": 85.56,
            "bin_start": 81.6,
            "count": 40
           }
          ],
          "max": 85.56,
          "min": 45.96,
          "nan_count": 0,
          "unique_count": 454
         }
        },
        {
         "dtype": "float64",
         "name": "WIKI/EMR - Adj. Close",
         "stats": {
          "histogram": [
           {
            "bin_end": 41.5089795790946,
            "bin_start": 39.787120823193,
            "count": 20
           },
           {
            "bin_end": 43.2308383349962,
            "bin_start": 41.5089795790946,
            "count": 31
           },
           {
            "bin_end": 44.9526970908978,
            "bin_start": 43.2308383349962,
            "count": 42
           },
           {
            "bin_end": 46.6745558467994,
            "bin_start": 44.9526970908978,
            "count": 39
           },
           {
            "bin_end": 48.396414602701,
            "bin_start": 46.6745558467994,
            "count": 39
           },
           {
            "bin_end": 50.1182733586026,
            "bin_start": 48.396414602701,
            "count": 59
           },
           {
            "bin_end": 51.8401321145042,
            "bin_start": 50.1182733586026,
            "count": 82
           },
           {
            "bin_end": 53.5619908704058,
            "bin_start": 51.8401321145042,
            "count": 93
           },
           {
            "bin_end": 55.2838496263074,
            "bin_start": 53.5619908704058,
            "count": 68
           },
           {
            "bin_end": 57.005708382209,
            "bin_start": 55.2838496263074,
            "count": 31
           }
          ],
          "max": 57.005708382209,
          "min": 39.787120823193,
          "nan_count": 0,
          "unique_count": 474
         }
        },
        {
         "dtype": "float64",
         "name": "WIKI/ENPH - Adj. Close",
         "stats": {
          "histogram": [
           {
            "bin_end": 2.388,
            "bin_start": 0.97,
            "count": 232
           },
           {
            "bin_end": 3.806,
            "bin_start": 2.388,
            "count": 71
           },
           {
            "bin_end": 5.223999999999999,
            "bin_start": 3.806,
            "count": 44
           },
           {
            "bin_end": 6.6419999999999995,
            "bin_start": 5.223999999999999,
            "count": 26
           },
           {
            "bin_end": 8.06,
            "bin_start": 6.6419999999999995,
            "count": 9
           },
           {
            "bin_end": 9.478,
            "bin_start": 8.06,
            "count": 19
           },
           {
            "bin_end": 10.896,
            "bin_start": 9.478,
            "count": 22
           },
           {
            "bin_end": 12.314,
            "bin_start": 10.896,
            "count": 16
           },
           {
            "bin_end": 13.732,
            "bin_start": 12.314,
            "count": 46
           },
           {
            "bin_end": 15.15,
            "bin_start": 13.732,
            "count": 19
           }
          ],
          "max": 15.15,
          "min": 0.97,
          "nan_count": 0,
          "unique_count": 323
         }
        },
        {
         "dtype": "float64",
         "name": "WIKI/ETR - Adj. Close",
         "stats": {
          "histogram": [
           {
            "bin_end": 58.3424528207739,
            "bin_start": 56.026345061793,
            "count": 17
           },
           {
            "bin_end": 60.658560579754806,
            "bin_start": 58.3424528207739,
            "count": 25
           },
           {
            "bin_end": 62.974668338735704,
            "bin_start": 60.658560579754806,
            "count": 54
           },
           {
            "bin_end": 65.2907760977166,
            "bin_start": 62.974668338735704,
            "count": 67
           },
           {
            "bin_end": 67.60688385669751,
            "bin_start": 65.2907760977166,
            "count": 49
           },
           {
            "bin_end": 69.9229916156784,
            "bin_start": 67.60688385669751,
            "count": 88
           },
           {
            "bin_end": 72.2390993746593,
            "bin_start": 69.9229916156784,
            "count": 75
           },
           {
            "bin_end": 74.55520713364021,
            "bin_start": 72.2390993746593,
            "count": 48
           },
           {
            "bin_end": 76.87131489262111,
            "bin_start": 74.55520713364021,
            "count": 53
           },
           {
            "bin_end": 79.187422651602,
            "bin_start": 76.87131489262111,
            "count": 28
           }
          ],
          "max": 79.187422651602,
          "min": 56.026345061793,
          "nan_count": 0,
          "unique_count": 483
         }
        },
        {
         "dtype": "float64",
         "name": "WIKI/EOG - Adj. Close",
         "stats": {
          "histogram": [
           {
            "bin_end": 64.255597811064,
            "bin_start": 59.47607858357,
            "count": 10
           },
           {
            "bin_end": 69.035117038558,
            "bin_start": 64.255597811064,
            "count": 32
           },
           {
            "bin_end": 73.81463626605199,
            "bin_start": 69.035117038558,
            "count": 41
           },
           {
            "bin_end": 78.594155493546,
            "bin_start": 73.81463626605199,
            "count": 70
           },
           {
            "bin_end": 83.37367472104,
            "bin_start": 78.594155493546,
            "count": 87
           },
           {
            "bin_end": 88.153193948534,
            "bin_start": 83.37367472104,
            "count": 93
           },
           {
            "bin_end": 92.93271317602799,
            "bin_start": 88.153193948534,
            "count": 95
           },
           {
            "bin_end": 97.712232403522,
            "bin_start": 92.93271317602799,
            "count": 53
           },
           {
            "bin_end": 102.491751631016,
            "bin_start": 97.712232403522,
            "count": 10
           },
           {
            "bin_end": 107.27127085851,
            "bin_start": 102.491751631016,
            "count": 13
           }
          ],
          "max": 107.27127085851,
          "min": 59.47607858357,
          "nan_count": 0,
          "unique_count": 490
         }
        },
        {
         "dtype": "float64",
         "name": "WIKI/EFX - Adj. Close",
         "stats": {
          "histogram": [
           {
            "bin_end": 83.2651644576882,
            "bin_start": 77.565128944708,
            "count": 28
           },
           {
            "bin_end": 88.9651999706684,
            "bin_start": 83.2651644576882,
            "count": 1
           },
           {
            "bin_end": 94.6652354836486,
            "bin_start": 88.9651999706684,
            "count": 60
           },
           {
            "bin_end": 100.3652709966288,
            "bin_start": 94.6652354836486,
            "count": 109
           },
           {
            "bin_end": 106.065306509609,
            "bin_start": 100.3652709966288,
            "count": 69
           },
           {
            "bin_end": 111.76534202258921,
            "bin_start": 106.065306509609,
            "count": 46
           },
           {
            "bin_end": 117.46537753556942,
            "bin_start": 111.76534202258921,
            "count": 41
           },
           {
            "bin_end": 123.16541304854961,
            "bin_start": 117.46537753556942,
            "count": 49
           },
           {
            "bin_end": 128.8654485615298,
            "bin_start": 123.16541304854961,
            "count": 35
           },
           {
            "bin_end": 134.56548407451,
            "bin_start": 128.8654485615298,
            "count": 66
           }
          ],
          "max": 134.56548407451,
          "min": 77.565128944708,
          "nan_count": 0,
          "unique_count": 489
         }
        },
        {
         "dtype": "float64",
         "name": "WIKI/EQIX - Adj. Close",
         "stats": {
          "histogram": [
           {
            "bin_end": 214.477442365183,
            "bin_start": 196.08097347217,
            "count": 59
           },
           {
            "bin_end": 232.87391125819602,
            "bin_start": 214.477442365183,
            "count": 25
           },
           {
            "bin_end": 251.270380151209,
            "bin_start": 232.87391125819602,
            "count": 68
           },
           {
            "bin_end": 269.666849044222,
            "bin_start": 251.270380151209,
            "count": 51
           },
           {
            "bin_end": 288.063317937235,
            "bin_start": 269.666849044222,
            "count": 57
           },
           {
            "bin_end": 306.459786830248,
            "bin_start": 288.063317937235,
            "count": 41
           },
           {
            "bin_end": 324.85625572326103,
            "bin_start": 306.459786830248,
            "count": 40
           },
           {
            "bin_end": 343.252724616274,
            "bin_start": 324.85625572326103,
            "count": 36
           },
           {
            "bin_end": 361.649193509287,
            "bin_start": 343.252724616274,
            "count": 81
           },
           {
            "bin_end": 380.0456624023,
            "bin_start": 361.649193509287,
            "count": 46
           }
          ],
          "max": 380.0456624023,
          "min": 196.08097347217,
          "nan_count": 0,
          "unique_count": 498
         }
        },
        {
         "dtype": "float64",
         "name": "WIKI/EQR - Adj. Close",
         "stats": {
          "histogram": [
           {
            "bin_end": 56.502854108099,
            "bin_start": 55.156009120139,
            "count": 15
           },
           {
            "bin_end": 57.849699096059,
            "bin_start": 56.502854108099,
            "count": 27
           },
           {
            "bin_end": 59.196544084018996,
            "bin_start": 57.849699096059,
            "count": 66
           },
           {
            "bin_end": 60.543389071979,
            "bin_start": 59.196544084018996,
            "count": 106
           },
           {
            "bin_end": 61.890234059939004,
            "bin_start": 60.543389071979,
            "count": 85
           },
           {
            "bin_end": 63.237079047899,
            "bin_start": 61.890234059939004,
            "count": 79
           },
           {
            "bin_end": 64.583924035859,
            "bin_start": 63.237079047899,
            "count": 66
           },
           {
            "bin_end": 65.93076902381901,
            "bin_start": 64.583924035859,
            "count": 35
           },
           {
            "bin_end": 67.27761401177901,
            "bin_start": 65.93076902381901,
            "count": 14
           },
           {
            "bin_end": 68.624458999739,
            "bin_start": 67.27761401177901,
            "count": 11
           }
          ],
          "max": 68.624458999739,
          "min": 55.156009120139,
          "nan_count": 0,
          "unique_count": 476
         }
        },
        {
         "dtype": "float64",
         "name": "WIKI/ESS - Adj. Close",
         "stats": {
          "histogram": [
           {
            "bin_end": 187.906044374673,
            "bin_start": 183.04941752157,
            "count": 4
           },
           {
            "bin_end": 192.762671227776,
            "bin_start": 187.906044374673,
            "count": 4
           },
           {
            "bin_end": 197.61929808087902,
            "bin_start": 192.762671227776,
            "count": 11
           },
           {
            "bin_end": 202.47592493398201,
            "bin_start": 197.61929808087902,
            "count": 47
           },
           {
            "bin_end": 207.332551787085,
            "bin_start": 202.47592493398201,
            "count": 65
           },
           {
            "bin_end": 212.189178640188,
            "bin_start": 207.332551787085,
            "count": 134
           },
           {
            "bin_end": 217.045805493291,
            "bin_start": 212.189178640188,
            "count": 96
           },
           {
            "bin_end": 221.902432346394,
            "bin_start": 217.045805493291,
            "count": 79
           },
           {
            "bin_end": 226.75905919949702,
            "bin_start": 221.902432346394,
            "count": 57
           },
           {
            "bin_end": 231.6156860526,
            "bin_start": 226.75905919949702,
            "count": 7
           }
          ],
          "max": 231.6156860526,
          "min": 183.04941752157,
          "nan_count": 0,
          "unique_count": 498
         }
        },
        {
         "dtype": "float64",
         "name": "WIKI/EL - Adj. Close",
         "stats": {
          "histogram": [
           {
            "bin_end": 70.5536847847504,
            "bin_start": 67.833295076893,
            "count": 8
           },
           {
            "bin_end": 73.2740744926078,
            "bin_start": 70.5536847847504,
            "count": 15
           },
           {
            "bin_end": 75.99446420046519,
            "bin_start": 73.2740744926078,
            "count": 22
           },
           {
            "bin_end": 78.7148539083226,
            "bin_start": 75.99446420046519,
            "count": 59
           },
           {
            "bin_end": 81.43524361618,
            "bin_start": 78.7148539083226,
            "count": 75
           },
           {
            "bin_end": 84.1556333240374,
            "bin_start": 81.43524361618,
            "count": 50
           },
           {
            "bin_end": 86.87602303189479,
            "bin_start": 84.1556333240374,
            "count": 112
           },
           {
            "bin_end": 89.5964127397522,
            "bin_start": 86.87602303189479,
            "count": 48
           },
           {
            "bin_end": 92.3168024476096,
            "bin_start": 89.5964127397522,
            "count": 88
           },
           {
            "bin_end": 95.037192155467,
            "bin_start": 92.3168024476096,
            "count": 27
           }
          ],
          "max": 95.037192155467,
          "min": 67.833295076893,
          "nan_count": 0,
          "unique_count": 484
         }
        },
        {
         "dtype": "object",
         "name": "WIKI/ETSY - Not Found",
         "stats": {
          "categories": [
           {
            "count": 504,
            "name": "Missing"
           }
          ],
          "nan_count": 504,
          "unique_count": 0
         }
        },
        {
         "dtype": "float64",
         "name": "WIKI/RE - Adj. Close",
         "stats": {
          "histogram": [
           {
            "bin_end": 161.825871821604,
            "bin_start": 156.04996704791,
            "count": 17
           },
           {
            "bin_end": 167.601776595298,
            "bin_start": 161.825871821604,
            "count": 80
           },
           {
            "bin_end": 173.377681368992,
            "bin_start": 167.601776595298,
            "count": 134
           },
           {
            "bin_end": 179.153586142686,
            "bin_start": 173.377681368992,
            "count": 114
           },
           {
            "bin_end": 184.92949091638002,
            "bin_start": 179.153586142686,
            "count": 47
           },
           {
            "bin_end": 190.705395690074,
            "bin_start": 184.92949091638002,
            "count": 63
           },
           {
            "bin_end": 196.481300463768,
            "bin_start": 190.705395690074,
            "count": 5
           },
           {
            "bin_end": 202.25720523746202,
            "bin_start": 196.481300463768,
            "count": 7
           },
           {
            "bin_end": 208.033110011156,
            "bin_start": 202.25720523746202,
            "count": 21
           },
           {
            "bin_end": 213.80901478485,
            "bin_start": 208.033110011156,
            "count": 16
           }
          ],
          "max": 213.80901478485,
          "min": 156.04996704791,
          "nan_count": 0,
          "unique_count": 496
         }
        },
        {
         "dtype": "object",
         "name": "WIKI/EVRG - Not Found",
         "stats": {
          "categories": [
           {
            "count": 504,
            "name": "Missing"
           }
          ],
          "nan_count": 504,
          "unique_count": 0
         }
        },
        {
         "dtype": "float64",
         "name": "WIKI/ES - Adj. Close",
         "stats": {
          "histogram": [
           {
            "bin_end": 43.7456792175616,
            "bin_start": 42.174575528054,
            "count": 32
           },
           {
            "bin_end": 45.3167829070692,
            "bin_start": 43.7456792175616,
            "count": 50
           },
           {
            "bin_end": 46.8878865965768,
            "bin_start": 45.3167829070692,
            "count": 67
           },
           {
            "bin_end": 48.4589902860844,
            "bin_start": 46.8878865965768,
            "count": 66
           },
           {
            "bin_end": 50.030093975591996,
            "bin_start": 48.4589902860844,
            "count": 41
           },
           {
            "bin_end": 51.6011976650996,
            "bin_start": 50.030093975591996,
            "count": 53
           },
           {
            "bin_end": 53.1723013546072,
            "bin_start": 51.6011976650996,
            "count": 72
           },
           {
            "bin_end": 54.743405044114795,
            "bin_start": 53.1723013546072,
            "count": 76
           },
           {
            "bin_end": 56.3145087336224,
            "bin_start": 54.743405044114795,
            "count": 37
           },
           {
            "bin_end": 57.88561242313,
            "bin_start": 56.3145087336224,
            "count": 10
           }
          ],
          "max": 57.88561242313,
          "min": 42.174575528054,
          "nan_count": 0,
          "unique_count": 473
         }
        },
        {
         "dtype": "float64",
         "name": "WIKI/EXC - Adj. Close",
         "stats": {
          "histogram": [
           {
            "bin_end": 25.0250777111528,
            "bin_start": 23.831236504981,
            "count": 9
           },
           {
            "bin_end": 26.2189189173246,
            "bin_start": 25.0250777111528,
            "count": 34
           },
           {
            "bin_end": 27.412760123496398,
            "bin_start": 26.2189189173246,
            "count": 29
           },
           {
            "bin_end": 28.606601329668198,
            "bin_start": 27.412760123496398,
            "count": 34
           },
           {
            "bin_end": 29.80044253584,
            "bin_start": 28.606601329668198,
            "count": 48
           },
           {
            "bin_end": 30.9942837420118,
            "bin_start": 29.80044253584,
            "count": 97
           },
           {
            "bin_end": 32.1881249481836,
            "bin_start": 30.9942837420118,
            "count": 70
           },
           {
            "bin_end": 33.381966154355396,
            "bin_start": 32.1881249481836,
            "count": 107
           },
           {
            "bin_end": 34.5758073605272,
            "bin_start": 33.381966154355396,
            "count": 50
           },
           {
            "bin_end": 35.769648566699,
            "bin_start": 34.5758073605272,
            "count": 26
           }
          ],
          "max": 35.769648566699,
          "min": 23.831236504981,
          "nan_count": 0,
          "unique_count": 456
         }
        },
        {
         "dtype": "float64",
         "name": "WIKI/EXPE - Adj. Close",
         "stats": {
          "histogram": [
           {
            "bin_end": 81.79380060462731,
            "bin_start": 75.920356596177,
            "count": 6
           },
           {
            "bin_end": 87.6672446130776,
            "bin_start": 81.79380060462731,
            "count": 29
           },
           {
            "bin_end": 93.54068862152789,
            "bin_start": 87.6672446130776,
            "count": 31
           },
           {
            "bin_end": 99.4141326299782,
            "bin_start": 93.54068862152789,
            "count": 32
           },
           {
            "bin_end": 105.2875766384285,
            "bin_start": 99.4141326299782,
            "count": 75
           },
           {
            "bin_end": 111.1610206468788,
            "bin_start": 105.2875766384285,
            "count": 111
           },
           {
            "bin_end": 117.03446465532909,
            "bin_start": 111.1610206468788,
            "count": 82
           },
           {
            "bin_end": 122.9079086637794,
            "bin_start": 117.03446465532909,
            "count": 68
           },
           {
            "bin_end": 128.7813526722297,
            "bin_start": 122.9079086637794,
            "count": 62
           },
           {
            "bin_end": 134.65479668068,
            "bin_start": 128.7813526722297,
            "count": 8
           }
          ],
          "max": 134.65479668068,
          "min": 75.920356596177,
          "nan_count": 0,
          "unique_count": 495
         }
        },
        {
         "dtype": "float64",
         "name": "WIKI/EXPD - Adj. Close",
         "stats": {
          "histogram": [
           {
            "bin_end": 42.433373313211696,
            "bin_start": 40.936215739144,
            "count": 25
           },
           {
            "bin_end": 43.930530887279396,
            "bin_start": 42.433373313211696,
            "count": 41
           },
           {
            "bin_end": 45.427688461347095,
            "bin_start": 43.930530887279396,
            "count": 81
           },
           {
            "bin_end": 46.924846035414795,
            "bin_start": 45.427688461347095,
            "count": 103
           },
           {
            "bin_end": 48.4220036094825,
            "bin_start": 46.924846035414795,
            "count": 103
           },
           {
            "bin_end": 49.9191611835502,
            "bin_start": 48.4220036094825,
            "count": 64
           },
           {
            "bin_end": 51.4163187576179,
            "bin_start": 49.9191611835502,
            "count": 60
           },
           {
            "bin_end": 52.9134763316856,
            "bin_start": 51.4163187576179,
            "count": 10
           },
           {
            "bin_end": 54.4106339057533,
            "bin_start": 52.9134763316856,
            "count": 11
           },
           {
            "bin_end": 55.907791479821,
            "bin_start": 54.4106339057533,
            "count": 6
           }
          ],
          "max": 55.907791479821,
          "min": 40.936215739144,
          "nan_count": 0,
          "unique_count": 455
         }
        },
        {
         "dtype": "float64",
         "name": "WIKI/EXR - Adj. Close",
         "stats": {
          "histogram": [
           {
            "bin_end": 57.0444213612161,
            "bin_start": 53.424623594588,
            "count": 4
           },
           {
            "bin_end": 60.6642191278442,
            "bin_start": 57.0444213612161,
            "count": 57
           },
           {
            "bin_end": 64.2840168944723,
            "bin_start": 60.6642191278442,
            "count": 63
           },
           {
            "bin_end": 67.9038146611004,
            "bin_start": 64.2840168944723,
            "count": 47
           },
           {
            "bin_end": 71.5236124277285,
            "bin_start": 67.9038146611004,
            "count": 50
           },
           {
            "bin_end": 75.1434101943566,
            "bin_start": 71.5236124277285,
            "count": 73
           },
           {
            "bin_end": 78.7632079609847,
            "bin_start": 75.1434101943566,
            "count": 51
           },
           {
            "bin_end": 82.38300572761281,
            "bin_start": 78.7632079609847,
            "count": 49
           },
           {
            "bin_end": 86.00280349424091,
            "bin_start": 82.38300572761281,
            "count": 61
           },
           {
            "bin_end": 89.622601260869,
            "bin_start": 86.00280349424091,
            "count": 49
           }
          ],
          "max": 89.622601260869,
          "min": 53.424623594588,
          "nan_count": 0,
          "unique_count": 489
         }
        },
        {
         "dtype": "float64",
         "name": "WIKI/XOM - Adj. Close",
         "stats": {
          "histogram": [
           {
            "bin_end": 66.034290319283,
            "bin_start": 63.364517089745,
            "count": 2
           },
           {
            "bin_end": 68.704063548821,
            "bin_start": 66.034290319283,
            "count": 26
           },
           {
            "bin_end": 71.37383677835899,
            "bin_start": 68.704063548821,
            "count": 29
           },
           {
            "bin_end": 74.043610007897,
            "bin_start": 71.37383677835899,
            "count": 43
           },
           {
            "bin_end": 76.713383237435,
            "bin_start": 74.043610007897,
            "count": 76
           },
           {
            "bin_end": 79.38315646697299,
            "bin_start": 76.713383237435,
            "count": 94
           },
           {
            "bin_end": 82.052929696511,
            "bin_start": 79.38315646697299,
            "count": 61
           },
           {
            "bin_end": 84.722702926049,
            "bin_start": 82.052929696511,
            "count": 109
           },
           {
            "bin_end": 87.39247615558699,
            "bin_start": 84.722702926049,
            "count": 40
           },
           {
            "bin_end": 90.062249385125,
            "bin_start": 87.39247615558699,
            "count": 24
           }
          ],
          "max": 90.062249385125,
          "min": 63.364517089745,
          "nan_count": 0,
          "unique_count": 486
         }
        },
        {
         "dtype": "float64",
         "name": "WIKI/FFIV - Adj. Close",
         "stats": {
          "histogram": [
           {
            "bin_end": 92.91999999999999,
            "bin_start": 86.96,
            "count": 19
           },
           {
            "bin_end": 98.88,
            "bin_start": 92.91999999999999,
            "count": 43
           },
           {
            "bin_end": 104.84,
            "bin_start": 98.88,
            "count": 56
           },
           {
            "bin_end": 110.8,
            "bin_start": 104.84,
            "count": 34
           },
           {
            "bin_end": 116.75999999999999,
            "bin_start": 110.8,
            "count": 74
           },
           {
            "bin_end": 122.72,
            "bin_start": 116.75999999999999,
            "count": 110
           },
           {
            "bin_end": 128.68,
            "bin_start": 122.72,
            "count": 102
           },
           {
            "bin_end": 134.64,
            "bin_start": 128.68,
            "count": 22
           },
           {
            "bin_end": 140.6,
            "bin_start": 134.64,
            "count": 13
           },
           {
            "bin_end": 146.56,
            "bin_start": 140.6,
            "count": 31
           }
          ],
          "max": 146.56,
          "min": 86.96,
          "nan_count": 0,
          "unique_count": 476
         }
        },
        {
         "dtype": "float64",
         "name": "WIKI/FB - Adj. Close",
         "stats": {
          "histogram": [
           {
            "bin_end": 79.973,
            "bin_start": 74.05,
            "count": 59
           },
           {
            "bin_end": 85.896,
            "bin_start": 79.973,
            "count": 65
           },
           {
            "bin_end": 91.81899999999999,
            "bin_start": 85.896,
            "count": 29
           },
           {
            "bin_end": 97.74199999999999,
            "bin_start": 91.81899999999999,
            "count": 57
           },
           {
            "bin_end": 103.66499999999999,
            "bin_start": 97.74199999999999,
            "count": 23
           },
           {
            "bin_end": 109.588,
            "bin_start": 103.66499999999999,
            "count": 64
           },
           {
            "bin_end": 115.511,
            "bin_start": 109.588,
            "count": 53
           },
           {
            "bin_end": 121.434,
            "bin_start": 115.511,
            "count": 77
           },
           {
            "bin_end": 127.357,
            "bin_start": 121.434,
            "count": 39
           },
           {
            "bin_end": 133.28,
            "bin_start": 127.357,
            "count": 38
           }
          ],
          "max": 133.28,
          "min": 74.05,
          "nan_count": 0,
          "unique_count": 477
         }
        },
        {
         "dtype": "float64",
         "name": "WIKI/FAST - Adj. Close",
         "stats": {
          "histogram": [
           {
            "bin_end": 34.7497955242914,
            "bin_start": 33.296245665677,
            "count": 15
           },
           {
            "bin_end": 36.2033453829058,
            "bin_start": 34.7497955242914,
            "count": 26
           },
           {
            "bin_end": 37.6568952415202,
            "bin_start": 36.2033453829058,
            "count": 72
           },
           {
            "bin_end": 39.1104451001346,
            "bin_start": 37.6568952415202,
            "count": 101
           },
           {
            "bin_end": 40.563994958749,
            "bin_start": 39.1104451001346,
            "count": 85
           },
           {
            "bin_end": 42.0175448173634,
            "bin_start": 40.563994958749,
            "count": 50
           },
           {
            "bin_end": 43.4710946759778,
            "bin_start": 42.0175448173634,
            "count": 54
           },
           {
            "bin_end": 44.924644534592204,
            "bin_start": 43.4710946759778,
            "count": 58
           },
           {
            "bin_end": 46.3781943932066,
            "bin_start": 44.924644534592204,
            "count": 16
           },
           {
            "bin_end": 47.831744251821,
            "bin_start": 46.3781943932066,
            "count": 27
           }
          ],
          "max": 47.831744251821,
          "min": 33.296245665677,
          "nan_count": 0,
          "unique_count": 475
         }
        },
        {
         "dtype": "float64",
         "name": "WIKI/FRT - Adj. Close",
         "stats": {
          "histogram": [
           {
            "bin_end": 122.09594736898799,
            "bin_start": 117.42046905923,
            "count": 18
           },
           {
            "bin_end": 126.771425678746,
            "bin_start": 122.09594736898799,
            "count": 56
           },
           {
            "bin_end": 131.446903988504,
            "bin_start": 126.771425678746,
            "count": 58
           },
           {
            "bin_end": 136.12238229826198,
            "bin_start": 131.446903988504,
            "count": 88
           },
           {
            "bin_end": 140.79786060802,
            "bin_start": 136.12238229826198,
            "count": 98
           },
           {
            "bin_end": 145.473338917778,
            "bin_start": 140.79786060802,
            "count": 50
           },
           {
            "bin_end": 150.148817227536,
            "bin_start": 145.473338917778,
            "count": 55
           },
           {
            "bin_end": 154.824295537294,
            "bin_start": 150.148817227536,
            "count": 48
           },
           {
            "bin_end": 159.49977384705198,
            "bin_start": 154.824295537294,
            "count": 10
           },
           {
            "bin_end": 164.17525215681,
            "bin_start": 159.49977384705198,
            "count": 23
           }
          ],
          "max": 164.17525215681,
          "min": 117.42046905923,
          "nan_count": 0,
          "unique_count": 485
         }
        },
        {
         "dtype": "float64",
         "name": "WIKI/FDX - Adj. Close",
         "stats": {
          "histogram": [
           {
            "bin_end": 129.11516858268502,
            "bin_start": 121.2782502894,
            "count": 18
           },
           {
            "bin_end": 136.95208687597,
            "bin_start": 129.11516858268502,
            "count": 18
           },
           {
            "bin_end": 144.789005169255,
            "bin_start": 136.95208687597,
            "count": 33
           },
           {
            "bin_end": 152.62592346254,
            "bin_start": 144.789005169255,
            "count": 50
           },
           {
            "bin_end": 160.462841755825,
            "bin_start": 152.62592346254,
            "count": 83
           },
           {
            "bin_end": 168.29976004910998,
            "bin_start": 160.462841755825,
            "count": 147
           },
           {
            "bin_end": 176.136678342395,
            "bin_start": 168.29976004910998,
            "count": 107
           },
           {
            "bin_end": 183.97359663568,
            "bin_start": 176.136678342395,
            "count": 18
           },
           {
            "bin_end": 191.810514928965,
            "bin_start": 183.97359663568,
            "count": 19
           },
           {
            "bin_end": 199.64743322225,
            "bin_start": 191.810514928965,
            "count": 11
           }
          ],
          "max": 199.64743322225,
          "min": 121.2782502894,
          "nan_count": 0,
          "unique_count": 493
         }
        },
        {
         "dtype": "float64",
         "name": "WIKI/FIS - Adj. Close",
         "stats": {
          "histogram": [
           {
            "bin_end": 57.1624477307845,
            "bin_start": 54.681778816779,
            "count": 13
           },
           {
            "bin_end": 59.64311664479,
            "bin_start": 57.1624477307845,
            "count": 48
           },
           {
            "bin_end": 62.123785558795504,
            "bin_start": 59.64311664479,
            "count": 109
           },
           {
            "bin_end": 64.604454472801,
            "bin_start": 62.123785558795504,
            "count": 78
           },
           {
            "bin_end": 67.0851233868065,
            "bin_start": 64.604454472801,
            "count": 48
           },
           {
            "bin_end": 69.565792300812,
            "bin_start": 67.0851233868065,
            "count": 38
           },
           {
            "bin_end": 72.0464612148175,
            "bin_start": 69.565792300812,
            "count": 23
           },
           {
            "bin_end": 74.527130128823,
            "bin_start": 72.0464612148175,
            "count": 42
           },
           {
            "bin_end": 77.0077990428285,
            "bin_start": 74.527130128823,
            "count": 70
           },
           {
            "bin_end": 79.488467956834,
            "bin_start": 77.0077990428285,
            "count": 35
           }
          ],
          "max": 79.488467956834,
          "min": 54.681778816779,
          "nan_count": 0,
          "unique_count": 476
         }
        },
        {
         "dtype": "float64",
         "name": "WIKI/FITB - Adj. Close",
         "stats": {
          "histogram": [
           {
            "bin_end": 14.7269486677123,
            "bin_start": 13.3425604981,
            "count": 16
           },
           {
            "bin_end": 16.1113368373246,
            "bin_start": 14.7269486677123,
            "count": 26
           },
           {
            "bin_end": 17.4957250069369,
            "bin_start": 16.1113368373246,
            "count": 75
           },
           {
            "bin_end": 18.8801131765492,
            "bin_start": 17.4957250069369,
            "count": 182
           },
           {
            "bin_end": 20.264501346161502,
            "bin_start": 18.8801131765492,
            "count": 147
           },
           {
            "bin_end": 21.6488895157738,
            "bin_start": 20.264501346161502,
            "count": 22
           },
           {
            "bin_end": 23.0332776853861,
            "bin_start": 21.6488895157738,
            "count": 1
           },
           {
            "bin_end": 24.4176658549984,
            "bin_start": 23.0332776853861,
            "count": 3
           },
           {
            "bin_end": 25.8020540246107,
            "bin_start": 24.4176658549984,
            "count": 14
           },
           {
            "bin_end": 27.186442194223,
            "bin_start": 25.8020540246107,
            "count": 18
           }
          ],
          "max": 27.186442194223,
          "min": 13.3425604981,
          "nan_count": 0,
          "unique_count": 464
         }
        },
        {
         "dtype": "float64",
         "name": "WIKI/FRC - Adj. Close",
         "stats": {
          "histogram": [
           {
            "bin_end": 50.9201224049123,
            "bin_start": 46.410586384659,
            "count": 21
           },
           {
            "bin_end": 55.4296584251656,
            "bin_start": 50.9201224049123,
            "count": 17
           },
           {
            "bin_end": 59.9391944454189,
            "bin_start": 55.4296584251656,
            "count": 84
           },
           {
            "bin_end": 64.4487304656722,
            "bin_start": 59.9391944454189,
            "count": 127
           },
           {
            "bin_end": 68.95826648592549,
            "bin_start": 64.4487304656722,
            "count": 101
           },
           {
            "bin_end": 73.4678025061788,
            "bin_start": 68.95826648592549,
            "count": 71
           },
           {
            "bin_end": 77.9773385264321,
            "bin_start": 73.4678025061788,
            "count": 48
           },
           {
            "bin_end": 82.4868745466854,
            "bin_start": 77.9773385264321,
            "count": 11
           },
           {
            "bin_end": 86.99641056693869,
            "bin_start": 82.4868745466854,
            "count": 7
           },
           {
            "bin_end": 91.505946587192,
            "bin_start": 86.99641056693869,
            "count": 17
           }
          ],
          "max": 91.505946587192,
          "min": 46.410586384659,
          "nan_count": 0,
          "unique_count": 479
         }
        },
        {
         "dtype": "float64",
         "name": "WIKI/FE - Adj. Close",
         "stats": {
          "histogram": [
           {
            "bin_end": 27.3012220895382,
            "bin_start": 26.342036672358,
            "count": 6
           },
           {
            "bin_end": 28.260407506718398,
            "bin_start": 27.3012220895382,
            "count": 50
           },
           {
            "bin_end": 29.2195929238986,
            "bin_start": 28.260407506718398,
            "count": 63
           },
           {
            "bin_end": 30.178778341078797,
            "bin_start": 29.2195929238986,
            "count": 95
           },
           {
            "bin_end": 31.137963758258998,
            "bin_start": 30.178778341078797,
            "count": 120
           },
           {
            "bin_end": 32.0971491754392,
            "bin_start": 31.137963758258998,
            "count": 82
           },
           {
            "bin_end": 33.0563345926194,
            "bin_start": 32.0971491754392,
            "count": 45
           },
           {
            "bin_end": 34.015520009799594,
            "bin_start": 33.0563345926194,
            "count": 25
           },
           {
            "bin_end": 34.974705426979796,
            "bin_start": 34.015520009799594,
            "count": 4
           },
           {
            "bin_end": 35.93389084416,
            "bin_start": 34.974705426979796,
            "count": 14
           }
          ],
          "max": 35.93389084416,
          "min": 26.342036672358,
          "nan_count": 0,
          "unique_count": 463
         }
        },
        {
         "dtype": "float64",
         "name": "WIKI/FISV - Adj. Close",
         "stats": {
          "histogram": [
           {
            "bin_end": 73.92999999999999,
            "bin_start": 69.82,
            "count": 19
           },
           {
            "bin_end": 78.03999999999999,
            "bin_start": 73.92999999999999,
            "count": 19
           },
           {
            "bin_end": 82.14999999999999,
            "bin_start": 78.03999999999999,
            "count": 79
           },
           {
            "bin_end": 86.25999999999999,
            "bin_start": 82.14999999999999,
            "count": 31
           },
           {
            "bin_end": 90.37,
            "bin_start": 86.25999999999999,
            "count": 59
           },
           {
            "bin_end": 94.48,
            "bin_start": 90.37,
            "count": 40
           },
           {
            "bin_end": 98.59,
            "bin_start": 94.48,
            "count": 64
           },
           {
            "bin_end": 102.7,
            "bin_start": 98.59,
            "count": 84
           },
           {
            "bin_end": 106.81,
            "bin_start": 102.7,
            "count": 72
           },
           {
            "bin_end": 110.92,
            "bin_start": 106.81,
            "count": 37
           }
          ],
          "max": 110.92,
          "min": 69.82,
          "nan_count": 0,
          "unique_count": 474
         }
        },
        {
         "dtype": "float64",
         "name": "WIKI/FLT - Adj. Close",
         "stats": {
          "histogram": [
           {
            "bin_end": 119.604,
            "bin_start": 113.39,
            "count": 14
           },
           {
            "bin_end": 125.818,
            "bin_start": 119.604,
            "count": 11
           },
           {
            "bin_end": 132.032,
            "bin_start": 125.818,
            "count": 11
           },
           {
            "bin_end": 138.246,
            "bin_start": 132.032,
            "count": 15
           },
           {
            "bin_end": 144.46,
            "bin_start": 138.246,
            "count": 68
           },
           {
            "bin_end": 150.674,
            "bin_start": 144.46,
            "count": 127
           },
           {
            "bin_end": 156.888,
            "bin_start": 150.674,
            "count": 156
           },
           {
            "bin_end": 163.102,
            "bin_start": 156.888,
            "count": 44
           },
           {
            "bin_end": 169.316,
            "bin_start": 163.102,
            "count": 29
           },
           {
            "bin_end": 175.53,
            "bin_start": 169.316,
            "count": 29
           }
          ],
          "max": 175.53,
          "min": 113.39,
          "nan_count": 0,
          "unique_count": 468
         }
        },
        {
         "dtype": "float64",
         "name": "WIKI/FLIR - Adj. Close",
         "stats": {
          "histogram": [
           {
            "bin_end": 26.3253904585512,
            "bin_start": 25.214150260307,
            "count": 11
           },
           {
            "bin_end": 27.4366306567954,
            "bin_start": 26.3253904585512,
            "count": 32
           },
           {
            "bin_end": 28.5478708550396,
            "bin_start": 27.4366306567954,
            "count": 49
           },
           {
            "bin_end": 29.6591110532838,
            "bin_start": 28.5478708550396,
            "count": 93
           },
           {
            "bin_end": 30.770351251528,
            "bin_start": 29.6591110532838,
            "count": 175
           },
           {
            "bin_end": 31.881591449772202,
            "bin_start": 30.770351251528,
            "count": 71
           },
           {
            "bin_end": 32.992831648016406,
            "bin_start": 31.881591449772202,
            "count": 36
           },
           {
            "bin_end": 34.1040718462606,
            "bin_start": 32.992831648016406,
            "count": 3
           },
           {
            "bin_end": 35.2153120445048,
            "bin_start": 34.1040718462606,
            "count": 14
           },
           {
            "bin_end": 36.326552242749,
            "bin_start": 35.2153120445048,
            "count": 20
           }
          ],
          "max": 36.326552242749,
          "min": 25.214150260307,
          "nan_count": 0,
          "unique_count": 454
         }
        },
        {
         "dtype": "float64",
         "name": "WIKI/FMC - Adj. Close",
         "stats": {
          "histogram": [
           {
            "bin_end": 35.139365682975,
            "bin_start": 32.119916428707,
            "count": 31
           },
           {
            "bin_end": 38.158814937243,
            "bin_start": 35.139365682975,
            "count": 56
           },
           {
            "bin_end": 41.178264191511005,
            "bin_start": 38.158814937243,
            "count": 71
           },
           {
            "bin_end": 44.197713445779,
            "bin_start": 41.178264191511005,
            "count": 21
           },
           {
            "bin_end": 47.217162700047,
            "bin_start": 44.197713445779,
            "count": 87
           },
           {
            "bin_end": 50.236611954315,
            "bin_start": 47.217162700047,
            "count": 73
           },
           {
            "bin_end": 53.256061208583006,
            "bin_start": 50.236611954315,
            "count": 16
           },
           {
            "bin_end": 56.275510462851,
            "bin_start": 53.256061208583006,
            "count": 70
           },
           {
            "bin_end": 59.294959717119,
            "bin_start": 56.275510462851,
            "count": 59
           },
           {
            "bin_end": 62.314408971387,
            "bin_start": 59.294959717119,
            "count": 20
           }
          ],
          "max": 62.314408971387,
          "min": 32.119916428707,
          "nan_count": 0,
          "unique_count": 481
         }
        },
        {
         "dtype": "float64",
         "name": "WIKI/F - Adj. Close",
         "stats": {
          "histogram": [
           {
            "bin_end": 10.6246111973025,
            "bin_start": 10.222029501493,
            "count": 13
           },
           {
            "bin_end": 11.027192893112,
            "bin_start": 10.6246111973025,
            "count": 16
           },
           {
            "bin_end": 11.4297745889215,
            "bin_start": 11.027192893112,
            "count": 63
           },
           {
            "bin_end": 11.832356284731,
            "bin_start": 11.4297745889215,
            "count": 57
           },
           {
            "bin_end": 12.2349379805405,
            "bin_start": 11.832356284731,
            "count": 75
           },
           {
            "bin_end": 12.63751967635,
            "bin_start": 12.2349379805405,
            "count": 82
           },
           {
            "bin_end": 13.0401013721595,
            "bin_start": 12.63751967635,
            "count": 76
           },
           {
            "bin_end": 13.442683067969,
            "bin_start": 13.0401013721595,
            "count": 44
           },
           {
            "bin_end": 13.8452647637785,
            "bin_start": 13.442683067969,
            "count": 50
           },
           {
            "bin_end": 14.247846459588,
            "bin_start": 13.8452647637785,
            "count": 28
           }
          ],
          "max": 14.247846459588,
          "min": 10.222029501493,
          "nan_count": 0,
          "unique_count": 416
         }
        },
        {
         "dtype": "float64",
         "name": "WIKI/FTNT - Adj. Close",
         "stats": {
          "histogram": [
           {
            "bin_end": 26.33,
            "bin_start": 23.83,
            "count": 12
           },
           {
            "bin_end": 28.83,
            "bin_start": 26.33,
            "count": 38
           },
           {
            "bin_end": 31.33,
            "bin_start": 28.83,
            "count": 97
           },
           {
            "bin_end": 33.83,
            "bin_start": 31.33,
            "count": 104
           },
           {
            "bin_end": 36.33,
            "bin_start": 33.83,
            "count": 105
           },
           {
            "bin_end": 38.83,
            "bin_start": 36.33,
            "count": 36
           },
           {
            "bin_end": 41.33,
            "bin_start": 38.83,
            "count": 30
           },
           {
            "bin_end": 43.83,
            "bin_start": 41.33,
            "count": 48
           },
           {
            "bin_end": 46.33,
            "bin_start": 43.83,
            "count": 14
           },
           {
            "bin_end": 48.83,
            "bin_start": 46.33,
            "count": 20
           }
          ],
          "max": 48.83,
          "min": 23.83,
          "nan_count": 0,
          "unique_count": 441
         }
        },
        {
         "dtype": "float64",
         "name": "WIKI/FTV - Adj. Close",
         "stats": {
          "histogram": [
           {
            "bin_end": 48.071317671956294,
            "bin_start": 47.214779623449,
            "count": 8
           },
           {
            "bin_end": 48.9278557204636,
            "bin_start": 48.071317671956294,
            "count": 11
           },
           {
            "bin_end": 49.7843937689709,
            "bin_start": 48.9278557204636,
            "count": 10
           },
           {
            "bin_end": 50.6409318174782,
            "bin_start": 49.7843937689709,
            "count": 21
           },
           {
            "bin_end": 51.497469865985494,
            "bin_start": 50.6409318174782,
            "count": 21
           },
           {
            "bin_end": 52.3540079144928,
            "bin_start": 51.497469865985494,
            "count": 7
           },
           {
            "bin_end": 53.2105459630001,
            "bin_start": 52.3540079144928,
            "count": 11
           },
           {
            "bin_end": 54.0670840115074,
            "bin_start": 53.2105459630001,
            "count": 20
           },
           {
            "bin_end": 54.923622060014694,
            "bin_start": 54.0670840115074,
            "count": 12
           },
           {
            "bin_end": 55.780160108522,
            "bin_start": 54.923622060014694,
            "count": 5
           }
          ],
          "max": 55.780160108522,
          "min": 47.214779623449,
          "nan_count": 378,
          "unique_count": 121
         }
        },
        {
         "dtype": "float64",
         "name": "WIKI/FBHS - Adj. Close",
         "stats": {
          "histogram": [
           {
            "bin_end": 43.848244571987,
            "bin_start": 41.705222690191,
            "count": 46
           },
           {
            "bin_end": 45.991266453783,
            "bin_start": 43.848244571987,
            "count": 105
           },
           {
            "bin_end": 48.134288335579,
            "bin_start": 45.991266453783,
            "count": 47
           },
           {
            "bin_end": 50.277310217375,
            "bin_start": 48.134288335579,
            "count": 37
           },
           {
            "bin_end": 52.420332099171,
            "bin_start": 50.277310217375,
            "count": 38
           },
           {
            "bin_end": 54.563353980967,
            "bin_start": 52.420332099171,
            "count": 62
           },
           {
            "bin_end": 56.706375862763,
            "bin_start": 54.563353980967,
            "count": 81
           },
           {
            "bin_end": 58.849397744559,
            "bin_start": 56.706375862763,
            "count": 44
           },
           {
            "bin_end": 60.992419626355,
            "bin_start": 58.849397744559,
            "count": 14
           },
           {
            "bin_end": 63.135441508151,
            "bin_start": 60.992419626355,
            "count": 30
           }
          ],
          "max": 63.135441508151,
          "min": 41.705222690191,
          "nan_count": 0,
          "unique_count": 484
         }
        },
        {
         "dtype": "float64",
         "name": "WIKI/FOXA - Adj. Close",
         "stats": {
          "histogram": [
           {
            "bin_end": 24.4393134073486,
            "bin_start": 23.096407822808,
            "count": 45
           },
           {
            "bin_end": 25.782218991889202,
            "bin_start": 24.4393134073486,
            "count": 48
           },
           {
            "bin_end": 27.1251245764298,
            "bin_start": 25.782218991889202,
            "count": 87
           },
           {
            "bin_end": 28.4680301609704,
            "bin_start": 27.1251245764298,
            "count": 96
           },
           {
            "bin_end": 29.810935745511003,
            "bin_start": 28.4680301609704,
            "count": 71
           },
           {
            "bin_end": 31.153841330051602,
            "bin_start": 29.810935745511003,
            "count": 9
           },
           {
            "bin_end": 32.4967469145922,
            "bin_start": 31.153841330051602,
            "count": 40
           },
           {
            "bin_end": 33.839652499132804,
            "bin_start": 32.4967469145922,
            "count": 91
           },
           {
            "bin_end": 35.1825580836734,
            "bin_start": 33.839652499132804,
            "count": 14
           },
           {
            "bin_end": 36.525463668214,
            "bin_start": 35.1825580836734,
            "count": 3
           }
          ],
          "max": 36.525463668214,
          "min": 23.096407822808,
          "nan_count": 0,
          "unique_count": 445
         }
        },
        {
         "dtype": "float64",
         "name": "WIKI/FOX - Adj. Close",
         "stats": {
          "histogram": [
           {
            "bin_end": 24.761844558518302,
            "bin_start": 23.597428060142,
            "count": 42
           },
           {
            "bin_end": 25.9262610568946,
            "bin_start": 24.761844558518302,
            "count": 53
           },
           {
            "bin_end": 27.0906775552709,
            "bin_start": 25.9262610568946,
            "count": 76
           },
           {
            "bin_end": 28.2550940536472,
            "bin_start": 27.0906775552709,
            "count": 89
           },
           {
            "bin_end": 29.4195105520235,
            "bin_start": 28.2550940536472,
            "count": 64
           },
           {
            "bin_end": 30.5839270503998,
            "bin_start": 29.4195105520235,
            "count": 31
           },
           {
            "bin_end": 31.7483435487761,
            "bin_start": 30.5839270503998,
            "count": 38
           },
           {
            "bin_end": 32.9127600471524,
            "bin_start": 31.7483435487761,
            "count": 95
           },
           {
            "bin_end": 34.0771765455287,
            "bin_start": 32.9127600471524,
            "count": 14
           },
           {
            "bin_end": 35.241593043905,
            "bin_start": 34.0771765455287,
            "count": 2
           }
          ],
          "max": 35.241593043905,
          "min": 23.597428060142,
          "nan_count": 0,
          "unique_count": 443
         }
        },
        {
         "dtype": "float64",
         "name": "WIKI/BEN - Adj. Close"
        },
        {
         "dtype": "float64",
         "name": "WIKI/FCX - Adj. Close"
        },
        {
         "dtype": "float64",
         "name": "WIKI/GPS - Adj. Close"
        },
        {
         "dtype": "float64",
         "name": "WIKI/GRMN - Adj. Close"
        },
        {
         "dtype": "float64",
         "name": "WIKI/IT - Adj. Close"
        },
        {
         "dtype": "float64",
         "name": "WIKI/GNRC - Adj. Close"
        },
        {
         "dtype": "float64",
         "name": "WIKI/GD - Adj. Close"
        },
        {
         "dtype": "float64",
         "name": "WIKI/GE - Adj. Close"
        },
        {
         "dtype": "float64",
         "name": "WIKI/GIS - Adj. Close"
        },
        {
         "dtype": "float64",
         "name": "WIKI/GM - Adj. Close"
        },
        {
         "dtype": "float64",
         "name": "WIKI/GPC - Adj. Close"
        },
        {
         "dtype": "float64",
         "name": "WIKI/GILD - Adj. Close"
        },
        {
         "dtype": "float64",
         "name": "WIKI/GPN - Adj. Close"
        },
        {
         "dtype": "object",
         "name": "WIKI/GL - Not Found"
        },
        {
         "dtype": "float64",
         "name": "WIKI/GS - Adj. Close"
        },
        {
         "dtype": "float64",
         "name": "WIKI/GWW - Adj. Close"
        },
        {
         "dtype": "float64",
         "name": "WIKI/HAL - Adj. Close"
        },
        {
         "dtype": "float64",
         "name": "WIKI/HBI - Adj. Close"
        },
        {
         "dtype": "float64",
         "name": "WIKI/HIG - Adj. Close"
        },
        {
         "dtype": "float64",
         "name": "WIKI/HAS - Adj. Close"
        },
        {
         "dtype": "float64",
         "name": "WIKI/HCA - Adj. Close"
        },
        {
         "dtype": "object",
         "name": "WIKI/PEAK - Not Found"
        },
        {
         "dtype": "float64",
         "name": "WIKI/HSIC - Adj. Close"
        },
        {
         "dtype": "float64",
         "name": "WIKI/HES - Adj. Close"
        },
        {
         "dtype": "float64",
         "name": "WIKI/HPE - Adj. Close"
        },
        {
         "dtype": "object",
         "name": "WIKI/HLT - Adj. Close"
        },
        {
         "dtype": "float64",
         "name": "WIKI/HFC - Adj. Close"
        },
        {
         "dtype": "float64",
         "name": "WIKI/HOLX - Adj. Close"
        },
        {
         "dtype": "float64",
         "name": "WIKI/HD - Adj. Close"
        },
        {
         "dtype": "float64",
         "name": "WIKI/HON - Adj. Close"
        },
        {
         "dtype": "float64",
         "name": "WIKI/HRL - Adj. Close"
        },
        {
         "dtype": "float64",
         "name": "WIKI/HST - Adj. Close"
        },
        {
         "dtype": "object",
         "name": "WIKI/HWM - Not Found"
        },
        {
         "dtype": "float64",
         "name": "WIKI/HPQ - Adj. Close"
        },
        {
         "dtype": "float64",
         "name": "WIKI/HUM - Adj. Close"
        },
        {
         "dtype": "float64",
         "name": "WIKI/HBAN - Adj. Close"
        },
        {
         "dtype": "float64",
         "name": "WIKI/HII - Adj. Close"
        },
        {
         "dtype": "float64",
         "name": "WIKI/IEX - Adj. Close"
        },
        {
         "dtype": "float64",
         "name": "WIKI/IDXX - Adj. Close"
        },
        {
         "dtype": "object",
         "name": "WIKI/INFO - Adj. Close"
        },
        {
         "dtype": "float64",
         "name": "WIKI/ITW - Adj. Close"
        },
        {
         "dtype": "float64",
         "name": "WIKI/ILMN - Adj. Close"
        },
        {
         "dtype": "float64",
         "name": "WIKI/INCY - Adj. Close"
        },
        {
         "dtype": "float64",
         "name": "WIKI/IR - Adj. Close"
        },
        {
         "dtype": "float64",
         "name": "WIKI/INTC - Adj. Close"
        },
        {
         "dtype": "float64",
         "name": "WIKI/ICE - Adj. Close"
        },
        {
         "dtype": "float64",
         "name": "WIKI/IBM - Adj. Close"
        },
        {
         "dtype": "float64",
         "name": "WIKI/IFF - Adj. Close"
        },
        {
         "dtype": "float64",
         "name": "WIKI/IP - Adj. Close"
        },
        {
         "dtype": "float64",
         "name": "WIKI/IPG - Adj. Close"
        },
        {
         "dtype": "float64",
         "name": "WIKI/INTU - Adj. Close"
        },
        {
         "dtype": "float64",
         "name": "WIKI/ISRG - Adj. Close"
        },
        {
         "dtype": "float64",
         "name": "WIKI/IVZ - Adj. Close"
        },
        {
         "dtype": "float64",
         "name": "WIKI/IPGP - Adj. Close"
        },
        {
         "dtype": "object",
         "name": "WIKI/IQV - Adj. Close"
        },
        {
         "dtype": "float64",
         "name": "WIKI/IRM - Adj. Close"
        },
        {
         "dtype": "float64",
         "name": "WIKI/JBHT - Adj. Close"
        },
        {
         "dtype": "float64",
         "name": "WIKI/JKHY - Adj. Close"
        },
        {
         "dtype": "object",
         "name": "WIKI/J - Not Found"
        },
        {
         "dtype": "float64",
         "name": "WIKI/SJM - Adj. Close"
        },
        {
         "dtype": "float64",
         "name": "WIKI/JNJ - Adj. Close"
        },
        {
         "dtype": "float64",
         "name": "WIKI/JCI - Adj. Close"
        },
        {
         "dtype": "float64",
         "name": "WIKI/JPM - Adj. Close"
        },
        {
         "dtype": "float64",
         "name": "WIKI/JNPR - Adj. Close"
        },
        {
         "dtype": "float64",
         "name": "WIKI/KSU - Adj. Close"
        },
        {
         "dtype": "float64",
         "name": "WIKI/K - Adj. Close"
        },
        {
         "dtype": "float64",
         "name": "WIKI/KEY - Adj. Close"
        },
        {
         "dtype": "object",
         "name": "WIKI/KEYS - Not Found"
        },
        {
         "dtype": "float64",
         "name": "WIKI/KMB - Adj. Close"
        },
        {
         "dtype": "float64",
         "name": "WIKI/KIM - Adj. Close"
        },
        {
         "dtype": "float64",
         "name": "WIKI/KMI - Adj. Close"
        },
        {
         "dtype": "float64",
         "name": "WIKI/KLAC - Adj. Close"
        },
        {
         "dtype": "float64",
         "name": "WIKI/KHC - Adj. Close"
        },
        {
         "dtype": "float64",
         "name": "WIKI/KR - Adj. Close"
        },
        {
         "dtype": "float64",
         "name": "WIKI/LB - Adj. Close"
        },
        {
         "dtype": "object",
         "name": "WIKI/LHX - Not Found"
        },
        {
         "dtype": "float64",
         "name": "WIKI/LH - Adj. Close"
        },
        {
         "dtype": "float64",
         "name": "WIKI/LRCX - Adj. Close"
        },
        {
         "dtype": "object",
         "name": "WIKI/LW - Not Found"
        },
        {
         "dtype": "float64",
         "name": "WIKI/LVS - Adj. Close"
        },
        {
         "dtype": "float64",
         "name": "WIKI/LEG - Adj. Close"
        },
        {
         "dtype": "float64",
         "name": "WIKI/LDOS - Adj. Close"
        },
        {
         "dtype": "float64",
         "name": "WIKI/LEN - Adj. Close"
        },
        {
         "dtype": "float64",
         "name": "WIKI/LLY - Adj. Close"
        },
        {
         "dtype": "float64",
         "name": "WIKI/LNC - Adj. Close"
        },
        {
         "dtype": "object",
         "name": "WIKI/LIN - Not Found"
        },
        {
         "dtype": "float64",
         "name": "WIKI/LYV - Adj. Close"
        },
        {
         "dtype": "float64",
         "name": "WIKI/LKQ - Adj. Close"
        },
        {
         "dtype": "float64",
         "name": "WIKI/LMT - Adj. Close"
        },
        {
         "dtype": "float64",
         "name": "WIKI/L - Adj. Close"
        },
        {
         "dtype": "float64",
         "name": "WIKI/LOW - Adj. Close"
        },
        {
         "dtype": "object",
         "name": "WIKI/LUMN - Not Found"
        },
        {
         "dtype": "float64",
         "name": "WIKI/LYB - Adj. Close"
        },
        {
         "dtype": "float64",
         "name": "WIKI/MTB - Adj. Close"
        },
        {
         "dtype": "float64",
         "name": "WIKI/MRO - Adj. Close"
        },
        {
         "dtype": "float64",
         "name": "WIKI/MPC - Adj. Close"
        },
        {
         "dtype": "float64",
         "name": "WIKI/MKTX - Adj. Close"
        },
        {
         "dtype": "float64",
         "name": "WIKI/MAR - Adj. Close"
        },
        {
         "dtype": "float64",
         "name": "WIKI/MMC - Adj. Close"
        },
        {
         "dtype": "float64",
         "name": "WIKI/MLM - Adj. Close"
        },
        {
         "dtype": "float64",
         "name": "WIKI/MAS - Adj. Close"
        },
        {
         "dtype": "float64",
         "name": "WIKI/MA - Adj. Close"
        },
        {
         "dtype": "float64",
         "name": "WIKI/MXIM - Adj. Close"
        },
        {
         "dtype": "float64",
         "name": "WIKI/MKC - Adj. Close"
        },
        {
         "dtype": "float64",
         "name": "WIKI/MCD - Adj. Close"
        },
        {
         "dtype": "float64",
         "name": "WIKI/MCK - Adj. Close"
        },
        {
         "dtype": "float64",
         "name": "WIKI/MDT - Adj. Close"
        },
        {
         "dtype": "float64",
         "name": "WIKI/MRK - Adj. Close"
        },
        {
         "dtype": "float64",
         "name": "WIKI/MET - Adj. Close"
        },
        {
         "dtype": "float64",
         "name": "WIKI/MTD - Adj. Close"
        },
        {
         "dtype": "float64",
         "name": "WIKI/MGM - Adj. Close"
        },
        {
         "dtype": "float64",
         "name": "WIKI/MCHP - Adj. Close"
        },
        {
         "dtype": "float64",
         "name": "WIKI/MU - Adj. Close"
        },
        {
         "dtype": "float64",
         "name": "WIKI/MSFT - Adj. Close"
        },
        {
         "dtype": "float64",
         "name": "WIKI/MAA - Adj. Close"
        },
        {
         "dtype": "float64",
         "name": "WIKI/MHK - Adj. Close"
        },
        {
         "dtype": "float64",
         "name": "WIKI/TAP - Adj. Close"
        },
        {
         "dtype": "float64",
         "name": "WIKI/MDLZ - Adj. Close"
        },
        {
         "dtype": "float64",
         "name": "WIKI/MPWR - Adj. Close"
        },
        {
         "dtype": "float64",
         "name": "WIKI/MNST - Adj. Close"
        },
        {
         "dtype": "float64",
         "name": "WIKI/MCO - Adj. Close"
        },
        {
         "dtype": "float64",
         "name": "WIKI/MS - Adj. Close"
        },
        {
         "dtype": "float64",
         "name": "WIKI/MSI - Adj. Close"
        },
        {
         "dtype": "float64",
         "name": "WIKI/MSCI - Adj. Close"
        },
        {
         "dtype": "float64",
         "name": "WIKI/NDAQ - Adj. Close"
        },
        {
         "dtype": "float64",
         "name": "WIKI/NTAP - Adj. Close"
        },
        {
         "dtype": "float64",
         "name": "WIKI/NFLX - Adj. Close"
        },
        {
         "dtype": "float64",
         "name": "WIKI/NWL - Adj. Close"
        },
        {
         "dtype": "float64",
         "name": "WIKI/NEM - Adj. Close"
        },
        {
         "dtype": "float64",
         "name": "WIKI/NWSA - Adj. Close"
        },
        {
         "dtype": "float64",
         "name": "WIKI/NWS - Adj. Close"
        },
        {
         "dtype": "float64",
         "name": "WIKI/NEE - Adj. Close"
        },
        {
         "dtype": "float64",
         "name": "WIKI/NLSN - Adj. Close"
        },
        {
         "dtype": "float64",
         "name": "WIKI/NKE - Adj. Close"
        },
        {
         "dtype": "float64",
         "name": "WIKI/NI - Adj. Close"
        },
        {
         "dtype": "float64",
         "name": "WIKI/NSC - Adj. Close"
        },
        {
         "dtype": "float64",
         "name": "WIKI/NTRS - Adj. Close"
        },
        {
         "dtype": "float64",
         "name": "WIKI/NOC - Adj. Close"
        },
        {
         "dtype": "object",
         "name": "WIKI/NLOK - Not Found"
        },
        {
         "dtype": "float64",
         "name": "WIKI/NCLH - Adj. Close"
        },
        {
         "dtype": "float64",
         "name": "WIKI/NOV - Adj. Close"
        },
        {
         "dtype": "float64",
         "name": "WIKI/NRG - Adj. Close"
        },
        {
         "dtype": "float64",
         "name": "WIKI/NUE - Adj. Close"
        },
        {
         "dtype": "float64",
         "name": "WIKI/NVDA - Adj. Close"
        },
        {
         "dtype": "float64",
         "name": "WIKI/NVR - Adj. Close"
        },
        {
         "dtype": "object",
         "name": "WIKI/NXPI - Not Found"
        },
        {
         "dtype": "float64",
         "name": "WIKI/ORLY - Adj. Close"
        },
        {
         "dtype": "float64",
         "name": "WIKI/OXY - Adj. Close"
        },
        {
         "dtype": "float64",
         "name": "WIKI/ODFL - Adj. Close"
        },
        {
         "dtype": "float64",
         "name": "WIKI/OMC - Adj. Close"
        },
        {
         "dtype": "float64",
         "name": "WIKI/OKE - Adj. Close"
        },
        {
         "dtype": "float64",
         "name": "WIKI/ORCL - Adj. Close"
        },
        {
         "dtype": "object",
         "name": "WIKI/OTIS - Not Found"
        },
        {
         "dtype": "float64",
         "name": "WIKI/PCAR - Adj. Close"
        },
        {
         "dtype": "float64",
         "name": "WIKI/PKG - Adj. Close"
        },
        {
         "dtype": "float64",
         "name": "WIKI/PH - Adj. Close"
        },
        {
         "dtype": "float64",
         "name": "WIKI/PAYX - Adj. Close"
        },
        {
         "dtype": "float64",
         "name": "WIKI/PAYC - Adj. Close"
        },
        {
         "dtype": "float64",
         "name": "WIKI/PYPL - Adj. Close"
        },
        {
         "dtype": "float64",
         "name": "WIKI/PENN - Adj. Close"
        },
        {
         "dtype": "float64",
         "name": "WIKI/PNR - Adj. Close"
        },
        {
         "dtype": "float64",
         "name": "WIKI/PBCT - Adj. Close"
        },
        {
         "dtype": "float64",
         "name": "WIKI/PEP - Adj. Close"
        },
        {
         "dtype": "float64",
         "name": "WIKI/PKI - Adj. Close"
        },
        {
         "dtype": "float64",
         "name": "WIKI/PRGO - Adj. Close"
        },
        {
         "dtype": "float64",
         "name": "WIKI/PFE - Adj. Close"
        },
        {
         "dtype": "float64",
         "name": "WIKI/PM - Adj. Close"
        },
        {
         "dtype": "float64",
         "name": "WIKI/PSX - Adj. Close"
        },
        {
         "dtype": "float64",
         "name": "WIKI/PNW - Adj. Close"
        },
        {
         "dtype": "float64",
         "name": "WIKI/PXD - Adj. Close"
        },
        {
         "dtype": "float64",
         "name": "WIKI/PNC - Adj. Close"
        },
        {
         "dtype": "float64",
         "name": "WIKI/POOL - Adj. Close"
        },
        {
         "dtype": "object",
         "name": "WIKI/PPG - Adj. Close"
        },
        {
         "dtype": "float64",
         "name": "WIKI/PPL - Adj. Close"
        },
        {
         "dtype": "float64",
         "name": "WIKI/PFG - Adj. Close"
        },
        {
         "dtype": "float64",
         "name": "WIKI/PG - Adj. Close"
        },
        {
         "dtype": "float64",
         "name": "WIKI/PGR - Adj. Close"
        },
        {
         "dtype": "float64",
         "name": "WIKI/PLD - Adj. Close"
        },
        {
         "dtype": "float64",
         "name": "WIKI/PRU - Adj. Close"
        },
        {
         "dtype": "float64",
         "name": "WIKI/PEG - Adj. Close"
        },
        {
         "dtype": "float64",
         "name": "WIKI/PSA - Adj. Close"
        },
        {
         "dtype": "float64",
         "name": "WIKI/PHM - Adj. Close"
        },
        {
         "dtype": "float64",
         "name": "WIKI/PVH - Adj. Close"
        },
        {
         "dtype": "float64",
         "name": "WIKI/QRVO - Adj. Close"
        },
        {
         "dtype": "float64",
         "name": "WIKI/QCOM - Adj. Close"
        },
        {
         "dtype": "float64",
         "name": "WIKI/PWR - Adj. Close"
        },
        {
         "dtype": "float64",
         "name": "WIKI/DGX - Adj. Close"
        },
        {
         "dtype": "float64",
         "name": "WIKI/RL - Adj. Close"
        },
        {
         "dtype": "float64",
         "name": "WIKI/RJF - Adj. Close"
        },
        {
         "dtype": "object",
         "name": "WIKI/RTX - Not Found"
        },
        {
         "dtype": "float64",
         "name": "WIKI/O - Adj. Close"
        },
        {
         "dtype": "float64",
         "name": "WIKI/REG - Adj. Close"
        },
        {
         "dtype": "float64",
         "name": "WIKI/REGN - Adj. Close"
        },
        {
         "dtype": "float64",
         "name": "WIKI/RF - Adj. Close"
        },
        {
         "dtype": "float64",
         "name": "WIKI/RSG - Adj. Close"
        },
        {
         "dtype": "float64",
         "name": "WIKI/RMD - Adj. Close"
        },
        {
         "dtype": "float64",
         "name": "WIKI/RHI - Adj. Close"
        },
        {
         "dtype": "float64",
         "name": "WIKI/ROK - Adj. Close"
        },
        {
         "dtype": "float64",
         "name": "WIKI/ROL - Adj. Close"
        },
        {
         "dtype": "float64",
         "name": "WIKI/ROP - Adj. Close"
        },
        {
         "dtype": "float64",
         "name": "WIKI/ROST - Adj. Close"
        },
        {
         "dtype": "float64",
         "name": "WIKI/RCL - Adj. Close"
        },
        {
         "dtype": "float64",
         "name": "WIKI/SPGI - Adj. Close"
        },
        {
         "dtype": "float64",
         "name": "WIKI/CRM - Adj. Close"
        },
        {
         "dtype": "float64",
         "name": "WIKI/SBAC - Adj. Close"
        },
        {
         "dtype": "float64",
         "name": "WIKI/SLB - Adj. Close"
        },
        {
         "dtype": "float64",
         "name": "WIKI/STX - Adj. Close"
        },
        {
         "dtype": "float64",
         "name": "WIKI/SEE - Adj. Close"
        },
        {
         "dtype": "float64",
         "name": "WIKI/SRE - Adj. Close"
        },
        {
         "dtype": "float64",
         "name": "WIKI/NOW - Adj. Close"
        },
        {
         "dtype": "float64",
         "name": "WIKI/SHW - Adj. Close"
        },
        {
         "dtype": "float64",
         "name": "WIKI/SPG - Adj. Close"
        },
        {
         "dtype": "float64",
         "name": "WIKI/SWKS - Adj. Close"
        },
        {
         "dtype": "float64",
         "name": "WIKI/SNA - Adj. Close"
        },
        {
         "dtype": "float64",
         "name": "WIKI/SO - Adj. Close"
        },
        {
         "dtype": "float64",
         "name": "WIKI/LUV - Adj. Close"
        },
        {
         "dtype": "float64",
         "name": "WIKI/SWK - Adj. Close"
        },
        {
         "dtype": "float64",
         "name": "WIKI/SBUX - Adj. Close"
        },
        {
         "dtype": "float64",
         "name": "WIKI/STT - Adj. Close"
        },
        {
         "dtype": "float64",
         "name": "WIKI/STE - Adj. Close"
        },
        {
         "dtype": "float64",
         "name": "WIKI/SYK - Adj. Close"
        },
        {
         "dtype": "float64",
         "name": "WIKI/SIVB - Adj. Close"
        },
        {
         "dtype": "float64",
         "name": "WIKI/SYF - Adj. Close"
        },
        {
         "dtype": "float64",
         "name": "WIKI/SNPS - Adj. Close"
        },
        {
         "dtype": "float64",
         "name": "WIKI/SYY - Adj. Close"
        },
        {
         "dtype": "float64",
         "name": "WIKI/TMUS - Adj. Close"
        },
        {
         "dtype": "float64",
         "name": "WIKI/TROW - Adj. Close"
        },
        {
         "dtype": "float64",
         "name": "WIKI/TTWO - Adj. Close"
        },
        {
         "dtype": "object",
         "name": "WIKI/TPR - Adj. Close"
        },
        {
         "dtype": "float64",
         "name": "WIKI/TGT - Adj. Close"
        },
        {
         "dtype": "float64",
         "name": "WIKI/TEL - Adj. Close"
        },
        {
         "dtype": "float64",
         "name": "WIKI/TDY - Adj. Close"
        },
        {
         "dtype": "float64",
         "name": "WIKI/TFX - Adj. Close"
        },
        {
         "dtype": "float64",
         "name": "WIKI/TER - Adj. Close"
        },
        {
         "dtype": "float64",
         "name": "WIKI/TSLA - Adj. Close"
        },
        {
         "dtype": "float64",
         "name": "WIKI/TXN - Adj. Close"
        },
        {
         "dtype": "float64",
         "name": "WIKI/TXT - Adj. Close"
        },
        {
         "dtype": "float64",
         "name": "WIKI/BK - Adj. Close"
        },
        {
         "dtype": "float64",
         "name": "WIKI/CLX - Adj. Close"
        },
        {
         "dtype": "float64",
         "name": "WIKI/COO - Adj. Close"
        },
        {
         "dtype": "float64",
         "name": "WIKI/HSY - Adj. Close"
        },
        {
         "dtype": "float64",
         "name": "WIKI/MOS - Adj. Close"
        },
        {
         "dtype": "object",
         "name": "WIKI/TRV - Adj. Close"
        },
        {
         "dtype": "float64",
         "name": "WIKI/DIS - Adj. Close"
        },
        {
         "dtype": "float64",
         "name": "WIKI/TMO - Adj. Close"
        },
        {
         "dtype": "float64",
         "name": "WIKI/TJX - Adj. Close"
        },
        {
         "dtype": "float64",
         "name": "WIKI/TSCO - Adj. Close"
        },
        {
         "dtype": "object",
         "name": "WIKI/TT - Not Found"
        },
        {
         "dtype": "float64",
         "name": "WIKI/TDG - Adj. Close"
        },
        {
         "dtype": "float64",
         "name": "WIKI/TRMB - Adj. Close"
        },
        {
         "dtype": "object",
         "name": "WIKI/TFC - Not Found"
        },
        {
         "dtype": "float64",
         "name": "WIKI/TWTR - Adj. Close"
        },
        {
         "dtype": "float64",
         "name": "WIKI/TYL - Adj. Close"
        },
        {
         "dtype": "float64",
         "name": "WIKI/TSN - Adj. Close"
        },
        {
         "dtype": "float64",
         "name": "WIKI/USB - Adj. Close"
        },
        {
         "dtype": "float64",
         "name": "WIKI/UDR - Adj. Close"
        },
        {
         "dtype": "float64",
         "name": "WIKI/ULTA - Adj. Close"
        },
        {
         "dtype": "float64",
         "name": "WIKI/UAA - Adj. Close"
        },
        {
         "dtype": "float64",
         "name": "WIKI/UA - Adj. Close"
        },
        {
         "dtype": "float64",
         "name": "WIKI/UNP - Adj. Close"
        },
        {
         "dtype": "float64",
         "name": "WIKI/UAL - Adj. Close"
        },
        {
         "dtype": "float64",
         "name": "WIKI/UPS - Adj. Close"
        },
        {
         "dtype": "float64",
         "name": "WIKI/URI - Adj. Close"
        },
        {
         "dtype": "float64",
         "name": "WIKI/UNH - Adj. Close"
        },
        {
         "dtype": "float64",
         "name": "WIKI/UHS - Adj. Close"
        },
        {
         "dtype": "float64",
         "name": "WIKI/UNM - Adj. Close"
        },
        {
         "dtype": "float64",
         "name": "WIKI/VLO - Adj. Close"
        },
        {
         "dtype": "float64",
         "name": "WIKI/VAR - Adj. Close"
        },
        {
         "dtype": "float64",
         "name": "WIKI/VTR - Adj. Close"
        },
        {
         "dtype": "float64",
         "name": "WIKI/VRSN - Adj. Close"
        },
        {
         "dtype": "float64",
         "name": "WIKI/VRSK - Adj. Close"
        },
        {
         "dtype": "float64",
         "name": "WIKI/VZ - Adj. Close"
        },
        {
         "dtype": "float64",
         "name": "WIKI/VRTX - Adj. Close"
        },
        {
         "dtype": "float64",
         "name": "WIKI/VFC - Adj. Close"
        },
        {
         "dtype": "object",
         "name": "WIKI/VIAC - Not Found"
        },
        {
         "dtype": "object",
         "name": "WIKI/VTRS - Not Found"
        },
        {
         "dtype": "float64",
         "name": "WIKI/V - Adj. Close"
        },
        {
         "dtype": "float64",
         "name": "WIKI/VNO - Adj. Close"
        },
        {
         "dtype": "float64",
         "name": "WIKI/VMC - Adj. Close"
        },
        {
         "dtype": "float64",
         "name": "WIKI/WRB - Adj. Close"
        },
        {
         "dtype": "float64",
         "name": "WIKI/WBA - Adj. Close"
        },
        {
         "dtype": "float64",
         "name": "WIKI/WMT - Adj. Close"
        },
        {
         "dtype": "float64",
         "name": "WIKI/WM - Adj. Close"
        },
        {
         "dtype": "float64",
         "name": "WIKI/WAT - Adj. Close"
        },
        {
         "dtype": "float64",
         "name": "WIKI/WEC - Adj. Close"
        },
        {
         "dtype": "float64",
         "name": "WIKI/WFC - Adj. Close"
        },
        {
         "dtype": "object",
         "name": "WIKI/WELL - Adj. Close"
        },
        {
         "dtype": "float64",
         "name": "WIKI/WST - Adj. Close"
        },
        {
         "dtype": "float64",
         "name": "WIKI/WDC - Adj. Close"
        },
        {
         "dtype": "float64",
         "name": "WIKI/WU - Adj. Close"
        },
        {
         "dtype": "float64",
         "name": "WIKI/WAB - Adj. Close"
        },
        {
         "dtype": "float64",
         "name": "WIKI/WRK - Adj. Close"
        },
        {
         "dtype": "float64",
         "name": "WIKI/WY - Adj. Close"
        },
        {
         "dtype": "float64",
         "name": "WIKI/WHR - Adj. Close"
        },
        {
         "dtype": "float64",
         "name": "WIKI/WMB - Adj. Close"
        },
        {
         "dtype": "float64",
         "name": "WIKI/WLTW - Adj. Close"
        },
        {
         "dtype": "float64",
         "name": "WIKI/WYNN - Adj. Close"
        },
        {
         "dtype": "float64",
         "name": "WIKI/XEL - Adj. Close"
        },
        {
         "dtype": "float64",
         "name": "WIKI/XLNX - Adj. Close"
        },
        {
         "dtype": "float64",
         "name": "WIKI/XYL - Adj. Close"
        },
        {
         "dtype": "float64",
         "name": "WIKI/YUM - Adj. Close"
        },
        {
         "dtype": "float64",
         "name": "WIKI/ZBRA - Adj. Close"
        },
        {
         "dtype": "datetime64[ns]",
         "name": "_deepnote_index_column"
        }
       ],
       "row_count": 504,
       "rows_bottom": [
        {
         "WIKI/A - Adj. Close": 45.25265791023,
         "WIKI/AAL - Adj. Close": 46.392383503713,
         "WIKI/AAP - Adj. Close": 168.86038824232,
         "WIKI/AAPL - Adj. Close": 114.38945378366,
         "WIKI/ABBV - Adj. Close": 60.395113139557,
         "WIKI/ABC - Adj. Close": 76.826014312801,
         "WIKI/ABMD - Adj. Close": 112.68,
         "WIKI/ABT - Adj. Close": 37.544858591313,
         "WIKI/ACN - Adj. Close": 114.81047370646,
         "WIKI/ADBE - Adj. Close": 102.95,
         "WIKI/ADI - Adj. Close": 71.427794457682,
         "WIKI/ADM - Adj. Close": 44.274291115775,
         "WIKI/ADP - Adj. Close": 101.11506715686,
         "WIKI/ADSK - Adj. Close": 74.01,
         "WIKI/AEE - Adj. Close": 51.251098005171,
         "WIKI/AEP - Adj. Close": 60.837511073906,
         "WIKI/AES - Adj. Close": 11.12977857947,
         "WIKI/AFL - Adj. Close": 68.411636296029,
         "WIKI/AIG - Adj. Close": 64.312593406621,
         "WIKI/AIZ - Adj. Close": 91.386811809892,
         "WIKI/AJG - Adj. Close": 50.915695524545,
         "WIKI/AKAM - Adj. Close": 66.68,
         "WIKI/ALB - Adj. Close": 85.357364638122,
         "WIKI/ALGN - Adj. Close": 96.13,
         "WIKI/ALK - Adj. Close": 87.410373591659,
         "WIKI/ALL - Adj. Close": 73.17181814877,
         "WIKI/ALLE - Adj. Close": 63.611728078141,
         "WIKI/ALXN - Adj. Close": 122.35,
         "WIKI/AMAT - Adj. Close": 32.036217510449,
         "WIKI/AMCR - Not Found": "nan",
         "WIKI/AMD - Adj. Close": 11.34,
         "WIKI/AME - Adj. Close": 48.320498548607,
         "WIKI/AMGN - Adj. Close": 143.2089514807,
         "WIKI/AMP - Adj. Close": 108.37975331831,
         "WIKI/AMT - Adj. Close": 104.1310594689,
         "WIKI/AMZN - Adj. Close": 749.87,
         "WIKI/ANET - Not Found": "nan",
         "WIKI/ANSS - Adj. Close": 92.49,
         "WIKI/ANTM - Adj. Close": 142.19878342001,
         "WIKI/AON - Adj. Close": 110.30638477823,
         "WIKI/AOS - Adj. Close": 46.856661012554,
         "WIKI/APA - Adj. Close": 62.89909874156096,
         "WIKI/APD - Adj. Close": 140.99501366165,
         "WIKI/APH - Adj. Close": 66.755417577861,
         "WIKI/APTV - Adj. Close": "nan",
         "WIKI/ARE - Adj. Close": 108.71912627314,
         "WIKI/ATO - Adj. Close": 72.937651957478,
         "WIKI/ATVI - Adj. Close": 35.893599680383545,
         "WIKI/AVB - Adj. Close": 173.12600242686,
         "WIKI/AVGO - Adj. Close": 174.49942077656,
         "WIKI/AVY - Adj. Close": 68.56643131731,
         "WIKI/AWK - Adj. Close": 70.911981797048,
         "WIKI/AXP - Adj. Close": 72.912264933832,
         "WIKI/AZO - Adj. Close": 789.79,
         "WIKI/BA - Adj. Close": 151.41379351693,
         "WIKI/BAC - Adj. Close": 21.851836753195,
         "WIKI/BAX - Adj. Close": 43.994239485806,
         "WIKI/BBY - Adj. Close": 41.85822960051,
         "WIKI/BDX - Adj. Close": 163.67463912237,
         "WIKI/BEN - Adj. Close": 39.039701176235,
         "WIKI/BIIB - Adj. Close": 283.58,
         "WIKI/BIO - Adj. Close": 182.28,
         "WIKI/BK - Adj. Close": 46.560561165213,
         "WIKI/BKNG - Adj. Close": "nan",
         "WIKI/BKR - Not Found": "nan",
         "WIKI/BLK - Adj. Close": 373.62406818875,
         "WIKI/BLL - Adj. Close": 37.282822339363,
         "WIKI/BMY - Adj. Close": 56.889781657423,
         "WIKI/BR - Adj. Close": 65.392819162791,
         "WIKI/BSX - Adj. Close": 21.63,
         "WIKI/BWA - Adj. Close": 39.058230075727,
         "WIKI/BXP - Adj. Close": 123.5543662748,
         "WIKI/C - Adj. Close": 58.571991865246,
         "WIKI/CAG - Adj. Close": 38.660410670002,
         "WIKI/CAH - Adj. Close": 70.668494564914,
         "WIKI/CARR - Not Found": "nan",
         "WIKI/CAT - Adj. Close": 90.044419127346,
         "WIKI/CB - Adj. Close": 130.14877246808,
         "WIKI/CBOE - Adj. Close": 73.247961739981,
         "WIKI/CBRE - Adj. Close": "nan",
         "WIKI/CCI - Adj. Close": 84.305697929092,
         "WIKI/CCL - Adj. Close": 51.100397349731,
         "WIKI/CDNS - Adj. Close": 25.22,
         "WIKI/CDW - Not Found": "nan",
         "WIKI/CE - Adj. Close": 77.299160401369,
         "WIKI/CERN - Adj. Close": 47.37,
         "WIKI/CF - Adj. Close": 30.567520267706,
         "WIKI/CFG - Adj. Close": 35.012984105957,
         "WIKI/CHD - Adj. Close": 43.685814385037,
         "WIKI/CHRW - Adj. Close": 71.9255541295,
         "WIKI/CHTR - Adj. Close": 287.92,
         "WIKI/CI - Adj. Close": 133.35496191226687,
         "WIKI/CINF - Adj. Close": 74.240804641869,
         "WIKI/CL - Adj. Close": 63.999740159389,
         "WIKI/CLX - Adj. Close": 117.00448325034,
         "WIKI/CMA - Adj. Close": 67.358608358173,
         "WIKI/CMCSA - Adj. Close": 34.102903823923,
         "WIKI/CME - Adj. Close": 113.50887014829,
         "WIKI/CMG - Adj. Close": 377.32,
         "WIKI/CMI - Adj. Close": 133.91758272871,
         "WIKI/CMS - Adj. Close": 40.419773761046,
         "WIKI/CNC - Adj. Close": 56.51,
         "WIKI/CNP - Adj. Close": 23.712705163108,
         "WIKI/COF - Adj. Close": 86.009712531246,
         "WIKI/COG - Adj. Close": 23.202699987618,
         "WIKI/COO - Adj. Close": 174.88057361896,
         "WIKI/COP - Adj. Close": 49.033987533963,
         "WIKI/COST - Adj. Close": 158.72199111007,
         "WIKI/CPB - Adj. Close": 58.893160889513,
         "WIKI/CPRT - Adj. Close": 27.705,
         "WIKI/CRM - Adj. Close": 68.46,
         "WIKI/CSCO - Adj. Close": 29.176020385694,
         "WIKI/CSX - Adj. Close": 35.522183185798,
         "WIKI/CTAS - Adj. Close": 114.28691465488,
         "WIKI/CTLT - Not Found": "nan",
         "WIKI/CTSH - Adj. Close": 55.667099000917,
         "WIKI/CTVA - Not Found": "nan",
         "WIKI/CTXS - Adj. Close": 71.43164199048103,
         "WIKI/CVS - Adj. Close": 76.920177239263,
         "WIKI/CVX - Adj. Close": 114.23598128918,
         "WIKI/CZR - Adj. Close": 8.5,
         "WIKI/D - Adj. Close": 74.423836007631,
         "WIKI/DAL - Adj. Close": 48.477999178267,
         "WIKI/DD - Adj. Close": 72.368385449613,
         "WIKI/DE - Adj. Close": 101.48370902916,
         "WIKI/DFS - Adj. Close": 70.628428998788,
         "WIKI/DG - Adj. Close": 73.283883795726,
         "WIKI/DGX - Adj. Close": 90.226626323704,
         "WIKI/DHI - Adj. Close": 27.079990316601,
         "WIKI/DHR - Adj. Close": 77.457203608384,
         "WIKI/DIS - Adj. Close": 103.4393258427,
         "WIKI/DISCA - Adj. Close": 27.41,
         "WIKI/DISCK - Adj. Close": 26.78,
         "WIKI/DISH - Adj. Close": 57.93,
         "WIKI/DLR - Adj. Close": 95.866051612649,
         "WIKI/DLTR - Adj. Close": 77.18,
         "WIKI/DOV - Adj. Close": 73.711937147362,
         "WIKI/DOW - Adj. Close": 56.014285899066,
         "WIKI/DPZ - Adj. Close": 158.11596737693,
         "WIKI/DRE - Adj. Close": 25.829489257499,
         "WIKI/DRI - Adj. Close": 70.623440197027,
         "WIKI/DTE - Adj. Close": 96.269311387301,
         "WIKI/DUK - Adj. Close": 75.204907486352,
         "WIKI/DVA - Adj. Close": 64.2,
         "WIKI/DVN - Adj. Close": 45.441215863558,
         "WIKI/DXC - Adj. Close": "nan",
         "WIKI/DXCM - Adj. Close": 59.7,
         "WIKI/EA - Adj. Close": 78.76,
         "WIKI/EBAY - Adj. Close": 29.69,
         "WIKI/ECL - Adj. Close": 116.22457340056,
         "WIKI/ED - Adj. Close": 71.775272396446,
         "WIKI/EFX - Adj. Close": 117.22528643344,
         "WIKI/EIX - Adj. Close": 70.516184871245,
         "WIKI/EL - Adj. Close": 75.66192088176,
         "WIKI/EMN - Adj. Close": 73.824666327066,
         "WIKI/EMR - Adj. Close": 54.450791795507,
         "WIKI/ENPH - Adj. Close": 1.01,
         "WIKI/EOG - Adj. Close": 100.40853146741,
         "WIKI/EQIX - Adj. Close": 352.29989094216,
         "WIKI/EQR - Adj. Close": 62.892823584498,
         "WIKI/ES - Adj. Close": 53.950378036315,
         "WIKI/ESS - Adj. Close": 227.64366863561,
         "WIKI/ETN - Adj. Close": 64.995901774221,
         "WIKI/ETR - Adj. Close": 70.950458017372,
         "WIKI/ETSY - Not Found": "nan",
         "WIKI/EVRG - Not Found": "nan",
         "WIKI/EW - Adj. Close": 93.7,
         "WIKI/EXC - Adj. Close": 34.521481903021,
         "WIKI/EXPD - Adj. Close": 52.544394618834,
         "WIKI/EXPE - Adj. Close": 112.2930904426,
         "WIKI/EXR - Adj. Close": 74.896172439164,
         "WIKI/F - Adj. Close": 11.487500352505,
         "WIKI/FANG - Adj. Close": 101.06,
         "WIKI/FAST - Adj. Close": 45.701349297347,
         "WIKI/FB - Adj. Close": 115.05,
         "WIKI/FBHS - Adj. Close": 52.987496525836,
         "WIKI/FCX - Adj. Close": 13.19,
         "WIKI/FDX - Adj. Close": 184.92862434576,
         "WIKI/FE - Adj. Close": 29.243881104109,
         "WIKI/FFIV - Adj. Close": 144.72,
         "WIKI/FIS - Adj. Close": 74.885227140847,
         "WIKI/FISV - Adj. Close": 106.28,
         "WIKI/FITB - Adj. Close": 26.519753776162,
         "WIKI/FLIR - Adj. Close": 35.753547067313,
         "WIKI/FLT - Adj. Close": 141.52,
         "WIKI/FMC - Adj. Close": 56.17918768662,
         "WIKI/FOX - Adj. Close": 26.897045654478,
         "WIKI/FOXA - Adj. Close": 27.683096739748,
         "WIKI/FRC - Adj. Close": 91.505946587192,
         "WIKI/FRT - Adj. Close": 138.79376604032,
         "WIKI/FTNT - Adj. Close": 30.12,
         "WIKI/FTV - Adj. Close": 53.448096955869,
         "WIKI/GD - Adj. Close": 169.76280729834,
         "WIKI/GE - Adj. Close": 30.782800964026,
         "WIKI/GILD - Adj. Close": 70.057923673689,
         "WIKI/GIS - Adj. Close": 59.668389749039,
         "WIKI/GL - Not Found": "nan",
         "WIKI/GLW - Adj. Close": 23.760950413773,
         "WIKI/GM - Adj. Close": 33.763292774388,
         "WIKI/GNRC - Adj. Close": 40.74,
         "WIKI/GOOG - Adj. Close": 771.82,
         "WIKI/GOOGL - Adj. Close": 792.45,
         "WIKI/GPC - Adj. Close": 93.413870323139,
         "WIKI/GPN - Adj. Close": 69.384293263922,
         "WIKI/GPS - Adj. Close": 21.821062729784,
         "WIKI/GRMN - Adj. Close": 46.63684474804,
         "WIKI/GS - Adj. Close": 237.1981670126,
         "WIKI/GWW - Adj. Close": 227.785523034,
         "WIKI/HAL - Adj. Close": 53.206580708809,
         "WIKI/HAS - Adj. Close": 76.000986013766,
         "WIKI/HBAN - Adj. Close": 12.984399793492,
         "WIKI/HBI - Adj. Close": 21.134659941838,
         "WIKI/HCA - Adj. Close": 74.02,
         "WIKI/HD - Adj. Close": 131.71900666951,
         "WIKI/HES - Adj. Close": 61.262482844244,
         "WIKI/HFC - Adj. Close": 31.377950426979,
         "WIKI/HIG - Adj. Close": 47.00719173559,
         "WIKI/HII - Adj. Close": 182.59541161711,
         "WIKI/HLT - Adj. Close": "nan",
         "WIKI/HOLX - Adj. Close": 40.12,
         "WIKI/HON - Adj. Close": 114.10086761612,
         "WIKI/HPE - Adj. Close": 22.870836550212,
         "WIKI/HPQ - Adj. Close": 14.518194075142,
         "WIKI/HRL - Adj. Close": 34.104641658616,
         "WIKI/HSIC - Adj. Close": 75.855,
         "WIKI/HST - Adj. Close": 18.240112829972,
         "WIKI/HSY - Adj. Close": 101.05092711293,
         "WIKI/HUM - Adj. Close": 202.66856903594,
         "WIKI/HWM - Not Found": "nan",
         "WIKI/IBM - Adj. Close": 159.78471210607,
         "WIKI/ICE - Adj. Close": 55.722636431527,
         "WIKI/IDXX - Adj. Close": 117.27,
         "WIKI/IEX - Adj. Close": 88.8562734624,
         "WIKI/IFF - Adj. Close": 116.16569021528,
         "WIKI/ILMN - Adj. Close": 128.04,
         "WIKI/INCY - Adj. Close": 100.27,
         "WIKI/INFO - Adj. Close": "nan",
         "WIKI/INTC - Adj. Close": 35.072815026653,
         "WIKI/INTU - Adj. Close": 113.34730387313,
         "WIKI/IP - Adj. Close": 51.680044652739,
         "WIKI/IPG - Adj. Close": 22.866584464773,
         "WIKI/IPGP - Adj. Close": 98.71,
         "WIKI/IQV - Adj. Close": "nan",
         "WIKI/IR - Adj. Close": 73.93428718225,
         "WIKI/IRM - Adj. Close": 31.021549362505,
         "WIKI/ISRG - Adj. Close": 211.39,
         "WIKI/IT - Adj. Close": 101.07,
         "WIKI/ITW - Adj. Close": 120.67128554872,
         "WIKI/IVZ - Adj. Close": 29.556486927977,
         "WIKI/J - Not Found": "nan",
         "WIKI/JBHT - Adj. Close": 96.140183360279,
         "WIKI/JCI - Adj. Close": 40.453756697016,
         "WIKI/JKHY - Adj. Close": 87.951882729487,
         "WIKI/JNJ - Adj. Close": 112.31094012009,
         "WIKI/JNPR - Adj. Close": 27.963642691639,
         "WIKI/JPM - Adj. Close": 84.383167187449,
         "WIKI/K - Adj. Close": 72.078371947917,
         "WIKI/KEY - Adj. Close": 17.891255337983,
         "WIKI/KEYS - Not Found": "nan",
         "WIKI/KHC - Adj. Close": 85.554904051527,
         "WIKI/KIM - Adj. Close": 24.166477595009,
         "WIKI/KLAC - Adj. Close": 77.27230768058,
         "WIKI/KMB - Adj. Close": 111.54730449909,
         "WIKI/KMI - Adj. Close": 20.205033450224,
         "WIKI/KMX - Adj. Close": 64.39,
         "WIKI/KO - Adj. Close": 40.43876912929,
         "WIKI/KR - Adj. Close": 34.069387499136,
         "WIKI/KSU - Adj. Close": 83.959923658982,
         "WIKI/L - Adj. Close": 46.583434205776,
         "WIKI/LB - Adj. Close": 63.456649833562,
         "WIKI/LDOS - Adj. Close": 50.262823135055,
         "WIKI/LEG - Adj. Close": 47.834954057995,
         "WIKI/LEN - Adj. Close": 42.797191995361,
         "WIKI/LH - Adj. Close": 128.38,
         "WIKI/LHX - Not Found": "nan",
         "WIKI/LIN - Not Found": "nan",
         "WIKI/LKQ - Adj. Close": 30.65,
         "WIKI/LLY - Adj. Close": 72.128743061052,
         "WIKI/LMT - Adj. Close": 245.20280956642,
         "WIKI/LNC - Adj. Close": 65.170363427894,
         "WIKI/LNT - Adj. Close": 36.717917312867,
         "WIKI/LOW - Adj. Close": 69.746482712146,
         "WIKI/LRCX - Adj. Close": 104.47071287262,
         "WIKI/LUMN - Not Found": "nan",
         "WIKI/LUV - Adj. Close": 49.534806825392,
         "WIKI/LVS - Adj. Close": 51.541502671927,
         "WIKI/LW - Not Found": "nan",
         "WIKI/LYB - Adj. Close": 83.227997986124,
         "WIKI/LYV - Adj. Close": 26.6,
         "WIKI/MA - Adj. Close": 102.49425281132,
         "WIKI/MAA - Adj. Close": 94.628390708768,
         "WIKI/MAR - Adj. Close": 81.656621179776,
         "WIKI/MAS - Adj. Close": 31.263365992912,
         "WIKI/MCD - Adj. Close": 119.38146744175,
         "WIKI/MCHP - Adj. Close": 63.011825247979,
         "WIKI/MCK - Adj. Close": 139.63101750618,
         "WIKI/MCO - Adj. Close": 93.120770400214,
         "WIKI/MDLZ - Adj. Close": 43.711337487414,
         "WIKI/MDT - Adj. Close": 70.074325523006,
         "WIKI/MET - Adj. Close": 52.294395228829,
         "WIKI/MGM - Adj. Close": 28.516624457149,
         "WIKI/MHK - Adj. Close": 199.68,
         "WIKI/MKC - Adj. Close": 91.999535421513,
         "WIKI/MKTX - Adj. Close": 145.89061836864,
         "WIKI/MLM - Adj. Close": 220.24003364689,
         "WIKI/MMC - Adj. Close": 66.323500254984,
         "WIKI/MMM - Adj. Close": 175.34254464726,
         "WIKI/MNST - Adj. Close": 44.34,
         "WIKI/MO - Adj. Close": 65.839852779338,
         "WIKI/MOS - Adj. Close": 28.666953865651,
         "WIKI/MPC - Adj. Close": 48.964115401528,
         "WIKI/MPWR - Adj. Close": 81.434225210065,
         "WIKI/MRK - Adj. Close": 57.601440997427,
         "WIKI/MRO - Adj. Close": 17.12352037951,
         "WIKI/MS - Adj. Close": 41.438600737907,
         "WIKI/MSCI - Adj. Close": 78.057039893834,
         "WIKI/MSFT - Adj. Close": 60.78871003371,
         "WIKI/MSI - Adj. Close": 81.514870056005,
         "WIKI/MTB - Adj. Close": 154.22092584048,
         "WIKI/MTD - Adj. Close": 418.56,
         "WIKI/MU - Adj. Close": 21.92,
         "WIKI/MXIM - Adj. Close": 37.718332374668,
         "WIKI/NCLH - Adj. Close": 42.53,
         "WIKI/NDAQ - Adj. Close": 66.126232445309,
         "WIKI/NEE - Adj. Close": 116.97891313587,
         "WIKI/NEM - Adj. Close": 33.903318396985,
         "WIKI/NFLX - Adj. Close": 123.8,
         "WIKI/NI - Adj. Close": 21.52058080479,
         "WIKI/NKE - Adj. Close": 50.326861494126,
         "WIKI/NLOK - Not Found": "nan",
         "WIKI/NLSN - Adj. Close": 40.558706623921,
         "WIKI/NOC - Adj. Close": 229.96961855462,
         "WIKI/NOV - Adj. Close": 37.28035013299,
         "WIKI/NOW - Adj. Close": 74.34,
         "WIKI/NRG - Adj. Close": 12.186493622184,
         "WIKI/NSC - Adj. Close": 105.90539704117,
         "WIKI/NTAP - Adj. Close": 34.590293245192,
         "WIKI/NTRS - Adj. Close": 87.871525595541,
         "WIKI/NUE - Adj. Close": 58.369503513799,
         "WIKI/NVDA - Adj. Close": 106.40395826848,
         "WIKI/NVR - Adj. Close": 1669,
         "WIKI/NWL - Adj. Close": 44.07188097681,
         "WIKI/NWS - Adj. Close": 11.62064054871,
         "WIKI/NWSA - Adj. Close": 11.282345776944,
         "WIKI/NXPI - Not Found": "nan",
         "WIKI/O - Adj. Close": 55.40937393837,
         "WIKI/ODFL - Adj. Close": 85.449693232561,
         "WIKI/OKE - Adj. Close": 54.584997631695,
         "WIKI/OMC - Adj. Close": 83.372058444505,
         "WIKI/ORCL - Adj. Close": 37.844028143402,
         "WIKI/ORLY - Adj. Close": 278.41,
         "WIKI/OTIS - Not Found": "nan",
         "WIKI/OXY - Adj. Close": 68.612927785373,
         "WIKI/PAYC - Adj. Close": 45.49,
         "WIKI/PAYX - Adj. Close": 59.433483417235,
         "WIKI/PBCT - Adj. Close": 18.643690051455,
         "WIKI/PCAR - Adj. Close": 63.185217812548,
         "WIKI/PEAK - Not Found": "nan",
         "WIKI/PEG - Adj. Close": 42.64153709944,
         "WIKI/PENN - Adj. Close": 13.79,
         "WIKI/PEP - Adj. Close": 102.49044438821,
         "WIKI/PFE - Adj. Close": 31.255834389666,
         "WIKI/PFG - Adj. Close": 56.612988833015,
         "WIKI/PG - Adj. Close": 81.529610647777,
         "WIKI/PGR - Adj. Close": 34.857393477047395,
         "WIKI/PH - Adj. Close": 137.71989926185,
         "WIKI/PHM - Adj. Close": 18.176691272668,
         "WIKI/PKG - Adj. Close": 83.291247840156,
         "WIKI/PKI - Adj. Close": 51.86230876275,
         "WIKI/PLD - Adj. Close": 51.576351680184,
         "WIKI/PM - Adj. Close": 89.032489041772,
         "WIKI/PNC - Adj. Close": 115.18914227609,
         "WIKI/PNR - Adj. Close": 54.893927017777,
         "WIKI/PNW - Adj. Close": 75.604414126388,
         "WIKI/POOL - Adj. Close": 103.39403392148,
         "WIKI/PPG - Adj. Close": "nan",
         "WIKI/PPL - Adj. Close": 33.015691116184,
         "WIKI/PRGO - Adj. Close": 82.697511880796,
         "WIKI/PRU - Adj. Close": 101.87273110707,
         "WIKI/PSA - Adj. Close": 217.24932049908,
         "WIKI/PSX - Adj. Close": 84.254454850443,
         "WIKI/PVH - Adj. Close": 90.114288407315,
         "WIKI/PWR - Adj. Close": 34.85,
         "WIKI/PXD - Adj. Close": 179.982968058,
         "WIKI/PYPL - Adj. Close": 39.47,
         "WIKI/QCOM - Adj. Close": 62.743603949707,
         "WIKI/QRVO - Adj. Close": 52.73,
         "WIKI/RCL - Adj. Close": 80.858004316509,
         "WIKI/RE - Adj. Close": 211.87045883067,
         "WIKI/REG - Adj. Close": 67.313160915635,
         "WIKI/REGN - Adj. Close": 367.09,
         "WIKI/RF - Adj. Close": 14.129065658574,
         "WIKI/RHI - Adj. Close": 48.024133197356,
         "WIKI/RJF - Adj. Close": 68.702815267869,
         "WIKI/RL - Adj. Close": 88.668057089751,
         "WIKI/RMD - Adj. Close": 61.158243301395,
         "WIKI/ROK - Adj. Close": 132.46540741894,
         "WIKI/ROL - Adj. Close": 33.32698746655,
         "WIKI/ROP - Adj. Close": 181.90184615704,
         "WIKI/ROST - Adj. Close": 65.103072113526,
         "WIKI/RSG - Adj. Close": 55.891024290763,
         "WIKI/RTX - Not Found": "nan",
         "WIKI/SBAC - Adj. Close": 103.26,
         "WIKI/SBUX - Adj. Close": 54.504564333662,
         "WIKI/SCHW - Adj. Close": 39.165859052319,
         "WIKI/SEE - Adj. Close": 44.862393498727,
         "WIKI/SHW - Adj. Close": 266.63415677943,
         "WIKI/SIVB - Adj. Close": 171.66,
         "WIKI/SJM - Adj. Close": 124.85389699439,
         "WIKI/SLB - Adj. Close": 81.546265663892,
         "WIKI/SNA - Adj. Close": 169.03523766672,
         "WIKI/SNPS - Adj. Close": 58.86,
         "WIKI/SO - Adj. Close": 46.956260174968,
         "WIKI/SPG - Adj. Close": 170.08774366366,
         "WIKI/SPGI - Adj. Close": 106.33599796721,
         "WIKI/SRE - Adj. Close": 98.470135567813,
         "WIKI/STE - Adj. Close": 66.409864747048,
         "WIKI/STT - Adj. Close": 76.689099820911,
         "WIKI/STX - Adj. Close": 36.384167906466,
         "WIKI/STZ - Adj. Close": 152.06041974362,
         "WIKI/SWK - Adj. Close": 113.18455777681,
         "WIKI/SWKS - Adj. Close": 73.78412351202,
         "WIKI/SYF - Adj. Close": 35.633008390982,
         "WIKI/SYK - Adj. Close": 118.70345209918,
         "WIKI/SYY - Adj. Close": 53.999436846448,
         "WIKI/T - Adj. Close": 40.476169795462,
         "WIKI/TAP - Adj. Close": 96.062950123861,
         "WIKI/TDG - Adj. Close": 248.96,
         "WIKI/TDY - Adj. Close": 123,
         "WIKI/TEL - Adj. Close": 68.236564489102,
         "WIKI/TER - Adj. Close": 25.199294842279,
         "WIKI/TFC - Not Found": "nan",
         "WIKI/TFX - Adj. Close": 160.04183140471,
         "WIKI/TGT - Adj. Close": 70.021802023248,
         "WIKI/TJX - Adj. Close": 74.250652968896,
         "WIKI/TMO - Adj. Close": 140.73614405998,
         "WIKI/TMUS - Adj. Close": 57.51,
         "WIKI/TPR - Adj. Close": "nan",
         "WIKI/TRMB - Adj. Close": 30.15,
         "WIKI/TROW - Adj. Close": 73.588718966444,
         "WIKI/TRV - Adj. Close": "nan",
         "WIKI/TSCO - Adj. Close": 74.524457060703,
         "WIKI/TSLA - Adj. Close": 213.69,
         "WIKI/TSN - Adj. Close": 61.000875968008,
         "WIKI/TT - Not Found": "nan",
         "WIKI/TTWO - Adj. Close": 49.29,
         "WIKI/TWTR - Adj. Close": 16.3,
         "WIKI/TXN - Adj. Close": 71.157967448371,
         "WIKI/TXT - Adj. Close": 48.500326110647,
         "WIKI/TYL - Adj. Close": 142.77,
         "WIKI/UA - Adj. Close": 25.17,
         "WIKI/UAA - Adj. Close": 29.05,
         "WIKI/UAL - Adj. Close": 72.88,
         "WIKI/UDR - Adj. Close": 35.301783705306,
         "WIKI/UHS - Adj. Close": 106.1042331507,
         "WIKI/ULTA - Adj. Close": 254.94,
         "WIKI/UNH - Adj. Close": 158.18760590091,
         "WIKI/UNM - Adj. Close": 43.159899219535,
         "WIKI/UNP - Adj. Close": 101.95237903613,
         "WIKI/UPS - Adj. Close": 112.02172190866,
         "WIKI/URI - Adj. Close": 105.58,
         "WIKI/USB - Adj. Close": 50.536314245951,
         "WIKI/V - Adj. Close": 77.609501735675,
         "WIKI/VAR - Adj. Close": 89.78,
         "WIKI/VFC - Adj. Close": 52.169510644033,
         "WIKI/VIAC - Not Found": "nan",
         "WIKI/VLO - Adj. Close": 65.658057982658,
         "WIKI/VMC - Adj. Close": 124.11561244734,
         "WIKI/VNO - Adj. Close": 101.31072525383,
         "WIKI/VRSK - Adj. Close": 81.17,
         "WIKI/VRSN - Adj. Close": 76.07,
         "WIKI/VRTX - Adj. Close": 73.67,
         "WIKI/VTR - Adj. Close": 60.388204195154,
         "WIKI/VTRS - Not Found": "nan",
         "WIKI/VZ - Adj. Close": 52.18614679491914,
         "WIKI/WAB - Adj. Close": 82.683735019172,
         "WIKI/WAT - Adj. Close": 134.39,
         "WIKI/WBA - Adj. Close": 81.623908401684,
         "WIKI/WDC - Adj. Close": 66.791390967375,
         "WIKI/WEC - Adj. Close": 57.169062573163,
         "WIKI/WELL - Adj. Close": "nan",
         "WIKI/WFC - Adj. Close": 53.598709770182,
         "WIKI/WHR - Adj. Close": 178.50423383767,
         "WIKI/WLTW - Adj. Close": 120.93697437382,
         "WIKI/WM - Adj. Close": 69.699407711278,
         "WIKI/WMB - Adj. Close": 30.193865351945,
         "WIKI/WMT - Adj. Close": 67.742044969125,
         "WIKI/WRB - Adj. Close": 65.636748922345,
         "WIKI/WRK - Adj. Close": 49.313060514153,
         "WIKI/WST - Adj. Close": 84.318987940325,
         "WIKI/WU - Adj. Close": 21.143709612912,
         "WIKI/WY - Adj. Close": 29.267646461784,
         "WIKI/WYNN - Adj. Close": 85.118671358252,
         "WIKI/XEL - Adj. Close": 39.765937856633,
         "WIKI/XLNX - Adj. Close": 59.375783057375,
         "WIKI/XOM - Adj. Close": 86.960272793505,
         "WIKI/XRAY - Adj. Close": 57.488648093386,
         "WIKI/XYL - Adj. Close": 48.888604674611,
         "WIKI/YUM - Adj. Close": 62.49034127677,
         "WIKI/ZBRA - Adj. Close": 85.76,
         "_deepnote_index_column": "2016-12-30T00:00:00.000000"
        }
       ],
       "rows_top": [
        {
         "WIKI/A - Adj. Close": 39.435958572163,
         "WIKI/AAL - Adj. Close": 52.513051122411,
         "WIKI/AAP - Adj. Close": 157.83524984037,
         "WIKI/AAPL - Adj. Close": 103.86395724039,
         "WIKI/ABBV - Adj. Close": 59.166809310955,
         "WIKI/ABC - Adj. Close": 86.383853664237,
         "WIKI/ABMD - Adj. Close": 37.31,
         "WIKI/ABT - Adj. Close": 41.911850121591,
         "WIKI/ACN - Adj. Close": 83.567917862542,
         "WIKI/ADBE - Adj. Close": 72.34,
         "WIKI/ADI - Adj. Close": 51.752068407719,
         "WIKI/ADM - Adj. Close": 47.725988921679,
         "WIKI/ADP - Adj. Close": 78.100827366673,
         "WIKI/ADSK - Adj. Close": 59.53,
         "WIKI/AEE - Adj. Close": 41.277596540957,
         "WIKI/AEP - Adj. Close": 54.90845398654,
         "WIKI/AES - Adj. Close": 12.207401573779,
         "WIKI/AFL - Adj. Close": 57.129244097633,
         "WIKI/AIG - Adj. Close": 53.300237404025,
         "WIKI/AIZ - Adj. Close": 63.871813419191,
         "WIKI/AJG - Adj. Close": 43.133551537963,
         "WIKI/AKAM - Adj. Close": 63.25,
         "WIKI/ALB - Adj. Close": 57.489419387859,
         "WIKI/ALGN - Adj. Close": 56.2,
         "WIKI/ALK - Adj. Close": 57.846334894997,
         "WIKI/ALL - Adj. Close": 66.650871966217,
         "WIKI/ALLE - Adj. Close": 53.96559753426,
         "WIKI/ALXN - Adj. Close": 186.6,
         "WIKI/AMAT - Adj. Close": 23.882006393407,
         "WIKI/AMCR - Not Found": "nan",
         "WIKI/AMD - Adj. Close": 2.69,
         "WIKI/AME - Adj. Close": 51.579163323937,
         "WIKI/AMGN - Adj. Close": 149.54590768016,
         "WIKI/AMP - Adj. Close": 122.30984143837,
         "WIKI/AMT - Adj. Close": 94.410930619351,
         "WIKI/AMZN - Adj. Close": 308.52,
         "WIKI/ANET - Not Found": "nan",
         "WIKI/ANSS - Adj. Close": 81.64,
         "WIKI/ANTM - Adj. Close": 119.64787157964,
         "WIKI/AON - Adj. Close": 91.035828896046,
         "WIKI/AOS - Adj. Close": 27.084157505332,
         "WIKI/APA - Adj. Close": 60.87025608178604,
         "WIKI/APD - Adj. Close": 135.13020366831,
         "WIKI/APH - Adj. Close": 52.270399941695,
         "WIKI/APTV - Adj. Close": "nan",
         "WIKI/ARE - Adj. Close": 82.31812580296,
         "WIKI/ATO - Adj. Close": 52.213580284057,
         "WIKI/ATVI - Adj. Close": 19.647773195276717,
         "WIKI/AVB - Adj. Close": 152.79063610398,
         "WIKI/AVGO - Adj. Close": 96.161930010213,
         "WIKI/AVY - Adj. Close": 48.278900713826,
         "WIKI/AWK - Adj. Close": 50.555972377357,
         "WIKI/AXP - Adj. Close": 88.598858134709,
         "WIKI/AZO - Adj. Close": 616.79,
         "WIKI/BA - Adj. Close": 119.23429154902,
         "WIKI/BAC - Adj. Close": 17.221568681577,
         "WIKI/BAX - Adj. Close": 38.04746203128,
         "WIKI/BBY - Adj. Close": 35.424884796752,
         "WIKI/BDX - Adj. Close": 133.69999451595,
         "WIKI/BEN - Adj. Close": 52.828511345818,
         "WIKI/BIIB - Adj. Close": 342.01,
         "WIKI/BIO - Adj. Close": 120.35,
         "WIKI/BK - Adj. Close": 38.406353597542,
         "WIKI/BKNG - Adj. Close": "nan",
         "WIKI/BKR - Not Found": "nan",
         "WIKI/BLK - Adj. Close": 332.9813649179,
         "WIKI/BLL - Adj. Close": 33.437103146885,
         "WIKI/BMY - Adj. Close": 55.603432673796,
         "WIKI/BR - Adj. Close": 43.140253446,
         "WIKI/BSX - Adj. Close": 13.22,
         "WIKI/BWA - Adj. Close": 52.826917209473,
         "WIKI/BXP - Adj. Close": 122.52447425073,
         "WIKI/C - Adj. Close": 52.829656287624,
         "WIKI/CAG - Adj. Close": 33.374704601904,
         "WIKI/CAH - Adj. Close": 75.9394016259,
         "WIKI/CARR - Not Found": "nan",
         "WIKI/CAT - Adj. Close": 82.560201928633,
         "WIKI/CB - Adj. Close": 94.873527390902,
         "WIKI/CBOE - Adj. Close": 61.050865357931,
         "WIKI/CBRE - Adj. Close": "nan",
         "WIKI/CCI - Adj. Close": 71.29099888137,
         "WIKI/CCL - Adj. Close": 42.575297240452,
         "WIKI/CDNS - Adj. Close": 18.83,
         "WIKI/CDW - Not Found": "nan",
         "WIKI/CE - Adj. Close": 56.667478202447,
         "WIKI/CERN - Adj. Close": 65.03,
         "WIKI/CF - Adj. Close": 50.507535400772,
         "WIKI/CFG - Adj. Close": 23.473995118157,
         "WIKI/CHD - Adj. Close": 37.892246672805,
         "WIKI/CHRW - Adj. Close": 69.13489106547,
         "WIKI/CHTR - Adj. Close": 166.43,
         "WIKI/CI - Adj. Close": 102.73934343934214,
         "WIKI/CINF - Adj. Close": 47.239475079331,
         "WIKI/CL - Adj. Close": 64.595208968947,
         "WIKI/CLX - Adj. Close": 96.157827111133,
         "WIKI/CMA - Adj. Close": 44.099152604593,
         "WIKI/CMCSA - Adj. Close": 27.267272765724,
         "WIKI/CME - Adj. Close": 78.255934576139,
         "WIKI/CMG - Adj. Close": 678.4,
         "WIKI/CMI - Adj. Close": 134.71656925261,
         "WIKI/CMS - Adj. Close": 32.042470157131,
         "WIKI/CNC - Adj. Close": 52.22,
         "WIKI/CNP - Adj. Close": 20.591626221215,
         "WIKI/COF - Adj. Close": 77.952031499077,
         "WIKI/COG - Adj. Close": 29.699767071212,
         "WIKI/COO - Adj. Close": 160.44132542487,
         "WIKI/COP - Adj. Close": 62.571078654498,
         "WIKI/COST - Adj. Close": 132.89132257747,
         "WIKI/CPB - Adj. Close": 40.829928907599,
         "WIKI/CPRT - Adj. Close": 18.29,
         "WIKI/CRM - Adj. Close": 59.24,
         "WIKI/CSCO - Adj. Close": 25.157858611251,
         "WIKI/CSX - Adj. Close": 33.774566974728,
         "WIKI/CTAS - Adj. Close": 75.723532151897,
         "WIKI/CTLT - Not Found": "nan",
         "WIKI/CTSH - Adj. Close": 52.328861402432,
         "WIKI/CTVA - Not Found": "nan",
         "WIKI/CTXS - Adj. Close": 50.77237301036541,
         "WIKI/CVS - Adj. Close": 89.833932550754,
         "WIKI/CVX - Adj. Close": 100.13207247465,
         "WIKI/CZR - Adj. Close": 15.44,
         "WIKI/D - Adj. Close": 69.832375154936,
         "WIKI/DAL - Adj. Close": 47.224847997005,
         "WIKI/DD - Adj. Close": 65.749328328091,
         "WIKI/DE - Adj. Close": 82.225732875415,
         "WIKI/DFS - Adj. Close": 61.461631477835,
         "WIKI/DG - Adj. Close": 68.33423210498,
         "WIKI/DGX - Adj. Close": 64.932951916762,
         "WIKI/DHI - Adj. Close": 24.209619359996,
         "WIKI/DHR - Adj. Close": 63.747901151128,
         "WIKI/DIS - Adj. Close": 90.586145533267,
         "WIKI/DISCA - Adj. Close": 34.48,
         "WIKI/DISCK - Adj. Close": 33.44,
         "WIKI/DISH - Adj. Close": 72.27,
         "WIKI/DLR - Adj. Close": 59.260106077318,
         "WIKI/DLTR - Adj. Close": 70.35,
         "WIKI/DOV - Adj. Close": 67.397775492183,
         "WIKI/DOW - Adj. Close": 41.57860236484,
         "WIKI/DPZ - Adj. Close": 91.552484319135,
         "WIKI/DRE - Adj. Close": 18.419111774846,
         "WIKI/DRI - Adj. Close": 47.386126708559,
         "WIKI/DTE - Adj. Close": 79.361992934952,
         "WIKI/DUK - Adj. Close": 74.710183288575,
         "WIKI/DVA - Adj. Close": 75.83,
         "WIKI/DVN - Adj. Close": 58.553747329418,
         "WIKI/DXC - Adj. Close": "nan",
         "WIKI/DXCM - Adj. Close": 54.51,
         "WIKI/EA - Adj. Close": 46.87,
         "WIKI/EBAY - Adj. Close": 22.113926847110456,
         "WIKI/ECL - Adj. Close": 100.95697130907,
         "WIKI/ED - Adj. Close": 59.806135255017,
         "WIKI/EFX - Adj. Close": 78.844953572296,
         "WIKI/EIX - Adj. Close": 60.689211772858,
         "WIKI/EL - Adj. Close": 72.834073506567,
         "WIKI/EMN - Adj. Close": 71.443759182167,
         "WIKI/EMR - Adj. Close": 56.117082165117,
         "WIKI/ENPH - Adj. Close": 14.21,
         "WIKI/EOG - Adj. Close": 90.143678320648,
         "WIKI/EQIX - Adj. Close": 204.9329181844,
         "WIKI/EQR - Adj. Close": 57.871127838914,
         "WIKI/ES - Adj. Close": 49.092528999058,
         "WIKI/ESS - Adj. Close": 195.23802166354,
         "WIKI/ETN - Adj. Close": 61.246180229644,
         "WIKI/ETR - Adj. Close": 77.258385325607,
         "WIKI/ETSY - Not Found": "nan",
         "WIKI/EVRG - Not Found": "nan",
         "WIKI/EW - Adj. Close": 63.86,
         "WIKI/EXC - Adj. Close": 33.838356350038,
         "WIKI/EXPD - Adj. Close": 42.73529267057,
         "WIKI/EXPE - Adj. Close": 83.61281342864,
         "WIKI/EXR - Adj. Close": 53.424623594588,
         "WIKI/F - Adj. Close": 13.071818545985,
         "WIKI/FANG - Adj. Close": 59.93,
         "WIKI/FAST - Adj. Close": 43.581175703267,
         "WIKI/FB - Adj. Close": 78.45,
         "WIKI/FBHS - Adj. Close": 43.400950843255,
         "WIKI/FCX - Adj. Close": 22.982974859729097,
         "WIKI/FDX - Adj. Close": 168.79900032933,
         "WIKI/FE - Adj. Close": 34.026169549101,
         "WIKI/FFIV - Adj. Close": 130.33,
         "WIKI/FIS - Adj. Close": 59.92502472241,
         "WIKI/FISV - Adj. Close": 70.62,
         "WIKI/FITB - Adj. Close": 18.842917607698,
         "WIKI/FLIR - Adj. Close": 30.878440320594,
         "WIKI/FLT - Adj. Close": 150.26,
         "WIKI/FMC - Adj. Close": 54.962871638023,
         "WIKI/FOX - Adj. Close": 35.241593043905,
         "WIKI/FOXA - Adj. Close": 36.525463668214,
         "WIKI/FRC - Adj. Close": 50.776807027315,
         "WIKI/FRT - Adj. Close": 125.98771936214,
         "WIKI/FTNT - Adj. Close": 30.79,
         "WIKI/FTV - Adj. Close": "nan",
         "WIKI/GD - Adj. Close": 130.66370319679,
         "WIKI/GE - Adj. Close": 22.885078190233,
         "WIKI/GILD - Adj. Close": 89.7049964842,
         "WIKI/GIS - Adj. Close": 48.288294197759,
         "WIKI/GL - Not Found": "nan",
         "WIKI/GLW - Adj. Close": 21.436343839254,
         "WIKI/GM - Adj. Close": 30.916343749258,
         "WIKI/GNRC - Adj. Close": 46.37,
         "WIKI/GOOG - Adj. Close": 524.81,
         "WIKI/GOOGL - Adj. Close": 529.55,
         "WIKI/GPC - Adj. Close": 98.615698702729,
         "WIKI/GPN - Adj. Close": 40.256698810748,
         "WIKI/GPS - Adj. Close": 38.076256122564,
         "WIKI/GRMN - Adj. Close": 45.378882787383,
         "WIKI/GS - Adj. Close": 187.18937233711,
         "WIKI/GWW - Adj. Close": 240.04434587201,
         "WIKI/HAL - Adj. Close": 37.530802811981,
         "WIKI/HAS - Adj. Close": 51.063654835532,
         "WIKI/HBAN - Adj. Close": 9.8065697627008,
         "WIKI/HBI - Adj. Close": 26.287604036744,
         "WIKI/HCA - Adj. Close": 73.97,
         "WIKI/HD - Adj. Close": 97.51086017843,
         "WIKI/HES - Adj. Close": 70.385866990758,
         "WIKI/HFC - Adj. Close": 34.140284228914,
         "WIKI/HIG - Adj. Close": 39.715583710381,
         "WIKI/HII - Adj. Close": 108.00480617207,
         "WIKI/HLT - Adj. Close": "nan",
         "WIKI/HOLX - Adj. Close": 26.38,
         "WIKI/HON - Adj. Close": 94.613094772917,
         "WIKI/HPE - Adj. Close": "nan",
         "WIKI/HPQ - Adj. Close": 16.767143655074,
         "WIKI/HRL - Adj. Close": 24.478573999467,
         "WIKI/HSIC - Adj. Close": 68.4175,
         "WIKI/HST - Adj. Close": 20.935681887872,
         "WIKI/HSY - Adj. Close": 96.516903406754,
         "WIKI/HUM - Adj. Close": 140.46416282498,
         "WIKI/HWM - Not Found": "nan",
         "WIKI/IBM - Adj. Close": 145.5303351754,
         "WIKI/ICE - Adj. Close": 41.928682322025,
         "WIKI/IDXX - Adj. Close": 73.665,
         "WIKI/IEX - Adj. Close": 74.348603106094,
         "WIKI/IFF - Adj. Close": 95.777679876175,
         "WIKI/ILMN - Adj. Close": 185.42,
         "WIKI/INCY - Adj. Close": 73.76,
         "WIKI/INFO - Adj. Close": "nan",
         "WIKI/INTC - Adj. Close": 33.034703513051,
         "WIKI/INTU - Adj. Close": 88.165740848538,
         "WIKI/IP - Adj. Close": 48.013685253173,
         "WIKI/IPG - Adj. Close": 18.843621252881,
         "WIKI/IPGP - Adj. Close": 73.98,
         "WIKI/IQV - Adj. Close": "nan",
         "WIKI/IR - Adj. Close": 59.917670104558,
         "WIKI/IRM - Adj. Close": 33.008789810381,
         "WIKI/ISRG - Adj. Close": 175.19,
         "WIKI/IT - Adj. Close": 83.6,
         "WIKI/ITW - Adj. Close": 89.246027520091,
         "WIKI/IVZ - Adj. Close": 35.351409895364,
         "WIKI/J - Not Found": "nan",
         "WIKI/JBHT - Adj. Close": 80.680068146655,
         "WIKI/JCI - Adj. Close": 39.095449045068,
         "WIKI/JKHY - Adj. Close": 59.948738816415,
         "WIKI/JNJ - Adj. Close": 96.227782793233,
         "WIKI/JNPR - Adj. Close": 21.529669736632,
         "WIKI/JPM - Adj. Close": 58.152826588867,
         "WIKI/K - Adj. Close": 60.493866631102,
         "WIKI/KEY - Adj. Close": 12.952956656673,
         "WIKI/KEYS - Not Found": "nan",
         "WIKI/KHC - Adj. Close": "nan",
         "WIKI/KIM - Adj. Close": 22.671948933148,
         "WIKI/KLAC - Adj. Close": 64.704085685379,
         "WIKI/KMB - Adj. Close": 106.24573618084,
         "WIKI/KMI - Adj. Close": 38.482382018109,
         "WIKI/KMX - Adj. Close": 66.47,
         "WIKI/KO - Adj. Close": 38.527414179321,
         "WIKI/KR - Adj. Close": 30.531931986835,
         "WIKI/KSU - Adj. Close": 115.71916667177,
         "WIKI/L - Adj. Close": 41.000412497351,
         "WIKI/LB - Adj. Close": 76.58119995751,
         "WIKI/LDOS - Adj. Close": 29.173295841578,
         "WIKI/LEG - Adj. Close": 39.041326407764,
         "WIKI/LEN - Adj. Close": 43.850980680343,
         "WIKI/LH - Adj. Close": 111.42,
         "WIKI/LHX - Not Found": "nan",
         "WIKI/LIN - Not Found": "nan",
         "WIKI/LKQ - Adj. Close": 27.78,
         "WIKI/LLY - Adj. Close": 65.188008661572,
         "WIKI/LMT - Adj. Close": 178.96400777449,
         "WIKI/LNC - Adj. Close": 54.329487659598,
         "WIKI/LNT - Adj. Close": 30.098320380783,
         "WIKI/LOW - Adj. Close": 64.337014163557,
         "WIKI/LRCX - Adj. Close": 76.246499771235,
         "WIKI/LUMN - Not Found": "nan",
         "WIKI/LUV - Adj. Close": 41.761162124215,
         "WIKI/LVS - Adj. Close": 48.74773078961,
         "WIKI/LW - Not Found": "nan",
         "WIKI/LYB - Adj. Close": 72.065175749406,
         "WIKI/LYV - Adj. Close": 26.16,
         "WIKI/MA - Adj. Close": 83.771962501021,
         "WIKI/MAA - Adj. Close": 68.374368128549,
         "WIKI/MAR - Adj. Close": 74.603211029696,
         "WIKI/MAS - Adj. Close": 21.198358490518,
         "WIKI/MCD - Adj. Close": 85.783316887628,
         "WIKI/MCHP - Adj. Close": 41.613668475621,
         "WIKI/MCK - Adj. Close": 203.59290656596,
         "WIKI/MCO - Adj. Close": 92.075515583833,
         "WIKI/MDLZ - Adj. Close": 35.114917904225,
         "WIKI/MDT - Adj. Close": 67.922829067348,
         "WIKI/MET - Adj. Close": 49.012316091649,
         "WIKI/MGM - Adj. Close": 20.791517380828,
         "WIKI/MHK - Adj. Close": 154.57,
         "WIKI/MKC - Adj. Close": 70.183419513347,
         "WIKI/MKTX - Adj. Close": 68.697835402512,
         "WIKI/MLM - Adj. Close": 108.087801361,
         "WIKI/MMC - Adj. Close": 53.58199983964,
         "WIKI/MMM - Adj. Close": 152.85729564342,
         "WIKI/MNST - Adj. Close": 36.05333333333333,
         "WIKI/MO - Adj. Close": 44.130155957113,
         "WIKI/MOS - Adj. Close": 41.8365517247,
         "WIKI/MPC - Adj. Close": 42.08378558082,
         "WIKI/MPWR - Adj. Close": 47.092087915645,
         "WIKI/MRK - Adj. Close": 52.449748350388,
         "WIKI/MRO - Adj. Close": 27.000617791833,
         "WIKI/MS - Adj. Close": 36.500600087373,
         "WIKI/MSCI - Adj. Close": 46.065453285301,
         "WIKI/MSFT - Adj. Close": 43.344312280166,
         "WIKI/MSI - Adj. Close": 62.537321433721,
         "WIKI/MTB - Adj. Close": 118.05109955902,
         "WIKI/MTD - Adj. Close": 301.95,
         "WIKI/MU - Adj. Close": 34.75,
         "WIKI/MXIM - Adj. Close": 28.943875285646,
         "WIKI/NCLH - Adj. Close": 46.7,
         "WIKI/NDAQ - Adj. Close": 45.513221517793,
         "WIKI/NEE - Adj. Close": 98.418583419634,
         "WIKI/NEM - Adj. Close": 19.07590691839,
         "WIKI/NFLX - Adj. Close": 49.848571428571425,
         "WIKI/NI - Adj. Close": 15.076485781688,
         "WIKI/NKE - Adj. Close": 46.003795074801,
         "WIKI/NLOK - Not Found": "nan",
         "WIKI/NLSN - Adj. Close": 41.27906483434,
         "WIKI/NOC - Adj. Close": 139.92444839274,
         "WIKI/NOV - Adj. Close": 61.331060508536,
         "WIKI/NOW - Adj. Close": 67.38,
         "WIKI/NRG - Adj. Close": 25.989221538635,
         "WIKI/NSC - Adj. Close": 101.31133670566,
         "WIKI/NTAP - Adj. Close": 38.785457690928,
         "WIKI/NTRS - Adj. Close": 64.036669224102,
         "WIKI/NUE - Adj. Close": 45.049017950597,
         "WIKI/NVDA - Adj. Close": 19.555005423159,
         "WIKI/NVR - Adj. Close": 1251.99,
         "WIKI/NWL - Adj. Close": 36.091655877845,
         "WIKI/NWS - Adj. Close": 14.417907556009,
         "WIKI/NWSA - Adj. Close": 14.988132225851,
         "WIKI/NXPI - Not Found": "nan",
         "WIKI/O - Adj. Close": 43.011025554479,
         "WIKI/ODFL - Adj. Close": 77.202537853547,
         "WIKI/OKE - Adj. Close": 41.695575601889,
         "WIKI/OMC - Adj. Close": 70.551901078116,
         "WIKI/ORCL - Adj. Close": 42.369653110316,
         "WIKI/ORLY - Adj. Close": 192.11,
         "WIKI/OTIS - Not Found": "nan",
         "WIKI/OXY - Adj. Close": 71.498799408635,
         "WIKI/PAYC - Adj. Close": 26.06,
         "WIKI/PAYX - Adj. Close": 42.246315468588,
         "WIKI/PBCT - Adj. Close": 13.370735285766,
         "WIKI/PCAR - Adj. Close": 62.758336867671,
         "WIKI/PEAK - Not Found": "nan",
         "WIKI/PEG - Adj. Close": 37.682361717851,
         "WIKI/PENN - Adj. Close": 13.48,
         "WIKI/PEP - Adj. Close": 87.319363056415,
         "WIKI/PFE - Adj. Close": 28.097890798365,
         "WIKI/PFG - Adj. Close": 47.53994448247,
         "WIKI/PG - Adj. Close": 82.193051116632,
         "WIKI/PGR - Adj. Close": 25.131805868966293,
         "WIKI/PH - Adj. Close": 121.54654550595,
         "WIKI/PHM - Adj. Close": 20.280472734792,
         "WIKI/PKG - Adj. Close": 72.011510867279,
         "WIKI/PKI - Adj. Close": 43.356272760184,
         "WIKI/PLD - Adj. Close": 39.472678904988,
         "WIKI/PM - Adj. Close": 71.915893500778,
         "WIKI/PNC - Adj. Close": 85.357632396879,
         "WIKI/PNR - Adj. Close": 62.361458734196,
         "WIKI/PNW - Adj. Close": 61.857478077904,
         "WIKI/POOL - Adj. Close": 60.846290662834,
         "WIKI/PPG - Adj. Close": "nan",
         "WIKI/PPL - Adj. Close": 29.85679630676,
         "WIKI/PRGO - Adj. Close": 164.09324948085,
         "WIKI/PRU - Adj. Close": 82.670774640149,
         "WIKI/PSA - Adj. Close": 170.85485615198,
         "WIKI/PSX - Adj. Close": 66.55306001091,
         "WIKI/PVH - Adj. Close": 125.7755961895,
         "WIKI/PWR - Adj. Close": 28.35,
         "WIKI/PXD - Adj. Close": 149.65431664878,
         "WIKI/PYPL - Adj. Close": "nan",
         "WIKI/QCOM - Adj. Close": 66.906627609249,
         "WIKI/QRVO - Adj. Close": 70.4,
         "WIKI/RCL - Adj. Close": 78.677730849747,
         "WIKI/RE - Adj. Close": 157.76007807071,
         "WIKI/REG - Adj. Close": 59.79415804349,
         "WIKI/REGN - Adj. Close": 410.16,
         "WIKI/RF - Adj. Close": 9.8488473518211,
         "WIKI/RHI - Adj. Close": 54.957563021982,
         "WIKI/RJF - Adj. Close": 55.104145023275,
         "WIKI/RL - Adj. Close": 173.07322631225,
         "WIKI/RMD - Adj. Close": 54.091164607729,
         "WIKI/ROK - Adj. Close": 104.1785875522,
         "WIKI/ROL - Adj. Close": 20.630043171888,
         "WIKI/ROP - Adj. Close": 153.62951888557,
         "WIKI/ROST - Adj. Close": 45.666326792014,
         "WIKI/RSG - Adj. Close": 37.721110594665,
         "WIKI/RTX - Not Found": "nan",
         "WIKI/SBAC - Adj. Close": 110.97,
         "WIKI/SBUX - Adj. Close": 38.881278341832,
         "WIKI/SCHW - Adj. Close": 29.473553229546,
         "WIKI/SEE - Adj. Close": 41.248014395213,
         "WIKI/SHW - Adj. Close": 254.77217447655,
         "WIKI/SIVB - Adj. Close": 115.13,
         "WIKI/SJM - Adj. Close": 93.748106569438,
         "WIKI/SLB - Adj. Close": 79.158021274282,
         "WIKI/SNA - Adj. Close": 130.52543363811,
         "WIKI/SNPS - Adj. Close": 43.1,
         "WIKI/SO - Adj. Close": 42.969694873535,
         "WIKI/SPG - Adj. Close": 166.20632917765,
         "WIKI/SPGI - Adj. Close": "nan",
         "WIKI/SRE - Adj. Close": 103.23789138617,
         "WIKI/STE - Adj. Close": 62.321372708426,
         "WIKI/STT - Adj. Close": 74.176860458836,
         "WIKI/STX - Adj. Close": 55.20825243866,
         "WIKI/STZ - Adj. Close": 95.05357759208,
         "WIKI/SWK - Adj. Close": 90.94642499115,
         "WIKI/SWKS - Adj. Close": 70.622341456383,
         "WIKI/SYF - Adj. Close": 28.694118176576,
         "WIKI/SYK - Adj. Close": 90.498237232719,
         "WIKI/SYY - Adj. Close": 36.938762427671,
         "WIKI/T - Adj. Close": 29.007725266848,
         "WIKI/TAP - Adj. Close": 70.197700776364,
         "WIKI/TDG - Adj. Close": 181.0499049931384,
         "WIKI/TDY - Adj. Close": 102.16,
         "WIKI/TEL - Adj. Close": 59.614118356124,
         "WIKI/TER - Adj. Close": 19.089573477848,
         "WIKI/TFC - Not Found": "nan",
         "WIKI/TFX - Adj. Close": 111.68526001083,
         "WIKI/TGT - Adj. Close": 68.784891830951,
         "WIKI/TJX - Adj. Close": 65.518373407094,
         "WIKI/TMO - Adj. Close": 126.67293103403,
         "WIKI/TMUS - Adj. Close": 27.3,
         "WIKI/TPR - Adj. Close": "nan",
         "WIKI/TRMB - Adj. Close": 26.91,
         "WIKI/TROW - Adj. Close": 77.213006461769,
         "WIKI/TRV - Adj. Close": "nan",
         "WIKI/TSCO - Adj. Close": 75.241743139291,
         "WIKI/TSLA - Adj. Close": 219.31,
         "WIKI/TSN - Adj. Close": 38.758290678171,
         "WIKI/TT - Not Found": "nan",
         "WIKI/TTWO - Adj. Close": 28.095,
         "WIKI/TWTR - Adj. Close": 36.56,
         "WIKI/TXN - Adj. Close": 49.496156180096,
         "WIKI/TXT - Adj. Close": 41.954640364725,
         "WIKI/TYL - Adj. Close": 107.85,
         "WIKI/UA - Adj. Close": "nan",
         "WIKI/UAA - Adj. Close": 33.445,
         "WIKI/UAL - Adj. Close": 66.34,
         "WIKI/UDR - Adj. Close": 28.448196916436,
         "WIKI/UHS - Adj. Close": 109.97251286995,
         "WIKI/ULTA - Adj. Close": 126.84,
         "WIKI/UNH - Adj. Close": 96.350794563334,
         "WIKI/UNM - Adj. Close": 32.653772271539,
         "WIKI/UNP - Adj. Close": 111.17549726322,
         "WIKI/UPS - Adj. Close": 101.76244619562,
         "WIKI/URI - Adj. Close": 103.59,
         "WIKI/USB - Adj. Close": 42.024879970779,
         "WIKI/V - Adj. Close": 64.958977937785,
         "WIKI/VAR - Adj. Close": 87.02,
         "WIKI/VFC - Adj. Close": 69.031567199415,
         "WIKI/VIAC - Not Found": "nan",
         "WIKI/VLO - Adj. Close": 45.133348081937,
         "WIKI/VMC - Adj. Close": 65.677662591392,
         "WIKI/VNO - Adj. Close": 99.661002026285,
         "WIKI/VRSK - Adj. Close": 63.97,
         "WIKI/VRSN - Adj. Close": 57.19,
         "WIKI/VRTX - Adj. Close": 123.07,
         "WIKI/VTR - Adj. Close": 56.264108086419,
         "WIKI/VTRS - Not Found": "nan",
         "WIKI/VZ - Adj. Close": 41.40179354212127,
         "WIKI/WAB - Adj. Close": 86.067431311539,
         "WIKI/WAT - Adj. Close": 113.88,
         "WIKI/WBA - Adj. Close": 72.391320987147,
         "WIKI/WDC - Adj. Close": 101.84502777742,
         "WIKI/WEC - Adj. Close": 48.211974129852,
         "WIKI/WELL - Adj. Close": "nan",
         "WIKI/WFC - Adj. Close": 50.171164097943,
         "WIKI/WHR - Adj. Close": 181.59322682812,
         "WIKI/WLTW - Adj. Close": "nan",
         "WIKI/WM - Adj. Close": 48.106555190262,
         "WIKI/WMB - Adj. Close": 38.049022309246,
         "WIKI/WMT - Adj. Close": 79.600659121223,
         "WIKI/WRB - Adj. Close": 48.245499112699,
         "WIKI/WRK - Adj. Close": "nan",
         "WIKI/WST - Adj. Close": 51.066339156443,
         "WIKI/WU - Adj. Close": 16.363626254437,
         "WIKI/WY - Adj. Close": 32.408522012973,
         "WIKI/WYNN - Adj. Close": 137.60109389413,
         "WIKI/XEL - Adj. Close": 32.876453892184,
         "WIKI/XLNX - Adj. Close": 40.568728903883,
         "WIKI/XOM - Adj. Close": 83.472154193587,
         "WIKI/XRAY - Adj. Close": 51.17358080075,
         "WIKI/XYL - Adj. Close": 36.487373479493,
         "WIKI/YUM - Adj. Close": 48.740797345116,
         "WIKI/ZBRA - Adj. Close": 77.43,
         "_deepnote_index_column": "2015-01-02T00:00:00.000000"
        }
       ]
      },
      "text/html": [
       "<div>\n",
       "<style scoped>\n",
       "    .dataframe tbody tr th:only-of-type {\n",
       "        vertical-align: middle;\n",
       "    }\n",
       "\n",
       "    .dataframe tbody tr th {\n",
       "        vertical-align: top;\n",
       "    }\n",
       "\n",
       "    .dataframe thead th {\n",
       "        text-align: right;\n",
       "    }\n",
       "</style>\n",
       "<table border=\"1\" class=\"dataframe\">\n",
       "  <thead>\n",
       "    <tr style=\"text-align: right;\">\n",
       "      <th></th>\n",
       "      <th>WIKI/MMM - Adj. Close</th>\n",
       "      <th>WIKI/AOS - Adj. Close</th>\n",
       "      <th>WIKI/ABT - Adj. Close</th>\n",
       "      <th>WIKI/ABBV - Adj. Close</th>\n",
       "      <th>WIKI/ABMD - Adj. Close</th>\n",
       "      <th>WIKI/ACN - Adj. Close</th>\n",
       "      <th>WIKI/ATVI - Adj. Close</th>\n",
       "      <th>WIKI/ADBE - Adj. Close</th>\n",
       "      <th>WIKI/AAP - Adj. Close</th>\n",
       "      <th>WIKI/AMD - Adj. Close</th>\n",
       "      <th>...</th>\n",
       "      <th>WIKI/WLTW - Adj. Close</th>\n",
       "      <th>WIKI/WYNN - Adj. Close</th>\n",
       "      <th>WIKI/XEL - Adj. Close</th>\n",
       "      <th>WIKI/XLNX - Adj. Close</th>\n",
       "      <th>WIKI/XYL - Adj. Close</th>\n",
       "      <th>WIKI/YUM - Adj. Close</th>\n",
       "      <th>WIKI/ZBRA - Adj. Close</th>\n",
       "      <th>WIKI/ZBH - Adj. Close</th>\n",
       "      <th>WIKI/ZION - Adj. Close</th>\n",
       "      <th>WIKI/ZTS - Adj. Close</th>\n",
       "    </tr>\n",
       "    <tr>\n",
       "      <th>Date</th>\n",
       "      <th></th>\n",
       "      <th></th>\n",
       "      <th></th>\n",
       "      <th></th>\n",
       "      <th></th>\n",
       "      <th></th>\n",
       "      <th></th>\n",
       "      <th></th>\n",
       "      <th></th>\n",
       "      <th></th>\n",
       "      <th></th>\n",
       "      <th></th>\n",
       "      <th></th>\n",
       "      <th></th>\n",
       "      <th></th>\n",
       "      <th></th>\n",
       "      <th></th>\n",
       "      <th></th>\n",
       "      <th></th>\n",
       "      <th></th>\n",
       "      <th></th>\n",
       "    </tr>\n",
       "  </thead>\n",
       "  <tbody>\n",
       "    <tr>\n",
       "      <th>2015-01-02</th>\n",
       "      <td>152.857296</td>\n",
       "      <td>27.084158</td>\n",
       "      <td>41.911850</td>\n",
       "      <td>59.166809</td>\n",
       "      <td>37.31</td>\n",
       "      <td>83.567918</td>\n",
       "      <td>19.647773</td>\n",
       "      <td>72.340</td>\n",
       "      <td>157.835250</td>\n",
       "      <td>2.69</td>\n",
       "      <td>...</td>\n",
       "      <td>NaN</td>\n",
       "      <td>137.601094</td>\n",
       "      <td>32.876454</td>\n",
       "      <td>40.568729</td>\n",
       "      <td>36.487373</td>\n",
       "      <td>48.740797</td>\n",
       "      <td>77.43</td>\n",
       "      <td>110.052964</td>\n",
       "      <td>27.623683</td>\n",
       "      <td>42.403000</td>\n",
       "    </tr>\n",
       "    <tr>\n",
       "      <th>2015-01-05</th>\n",
       "      <td>149.409947</td>\n",
       "      <td>26.610269</td>\n",
       "      <td>41.921185</td>\n",
       "      <td>58.053335</td>\n",
       "      <td>37.07</td>\n",
       "      <td>82.156933</td>\n",
       "      <td>19.374481</td>\n",
       "      <td>71.980</td>\n",
       "      <td>155.754803</td>\n",
       "      <td>2.66</td>\n",
       "      <td>...</td>\n",
       "      <td>NaN</td>\n",
       "      <td>135.259187</td>\n",
       "      <td>32.503272</td>\n",
       "      <td>39.819696</td>\n",
       "      <td>34.216494</td>\n",
       "      <td>47.750487</td>\n",
       "      <td>76.34</td>\n",
       "      <td>114.158329</td>\n",
       "      <td>26.588649</td>\n",
       "      <td>42.148444</td>\n",
       "    </tr>\n",
       "    <tr>\n",
       "      <th>2015-01-06</th>\n",
       "      <td>147.816713</td>\n",
       "      <td>26.392668</td>\n",
       "      <td>41.445126</td>\n",
       "      <td>57.765986</td>\n",
       "      <td>36.13</td>\n",
       "      <td>81.564320</td>\n",
       "      <td>19.013344</td>\n",
       "      <td>70.530</td>\n",
       "      <td>155.645306</td>\n",
       "      <td>2.63</td>\n",
       "      <td>...</td>\n",
       "      <td>NaN</td>\n",
       "      <td>132.373957</td>\n",
       "      <td>32.676210</td>\n",
       "      <td>39.247454</td>\n",
       "      <td>34.015277</td>\n",
       "      <td>47.164385</td>\n",
       "      <td>75.79</td>\n",
       "      <td>113.190639</td>\n",
       "      <td>25.573145</td>\n",
       "      <td>41.737240</td>\n",
       "    </tr>\n",
       "    <tr>\n",
       "      <th>2015-01-07</th>\n",
       "      <td>148.888186</td>\n",
       "      <td>26.586091</td>\n",
       "      <td>41.781167</td>\n",
       "      <td>60.100691</td>\n",
       "      <td>37.28</td>\n",
       "      <td>83.276314</td>\n",
       "      <td>18.598525</td>\n",
       "      <td>71.110</td>\n",
       "      <td>158.989948</td>\n",
       "      <td>2.58</td>\n",
       "      <td>...</td>\n",
       "      <td>NaN</td>\n",
       "      <td>136.261523</td>\n",
       "      <td>32.958372</td>\n",
       "      <td>39.261411</td>\n",
       "      <td>34.283567</td>\n",
       "      <td>48.727324</td>\n",
       "      <td>77.72</td>\n",
       "      <td>116.005740</td>\n",
       "      <td>25.812374</td>\n",
       "      <td>42.598811</td>\n",
       "    </tr>\n",
       "    <tr>\n",
       "      <th>2015-01-08</th>\n",
       "      <td>152.456658</td>\n",
       "      <td>27.277581</td>\n",
       "      <td>42.639940</td>\n",
       "      <td>60.729266</td>\n",
       "      <td>38.96</td>\n",
       "      <td>84.546201</td>\n",
       "      <td>18.788854</td>\n",
       "      <td>72.915</td>\n",
       "      <td>160.383549</td>\n",
       "      <td>2.61</td>\n",
       "      <td>...</td>\n",
       "      <td>NaN</td>\n",
       "      <td>137.900858</td>\n",
       "      <td>33.340656</td>\n",
       "      <td>40.136058</td>\n",
       "      <td>34.542275</td>\n",
       "      <td>49.576161</td>\n",
       "      <td>79.38</td>\n",
       "      <td>117.237350</td>\n",
       "      <td>26.178542</td>\n",
       "      <td>43.254780</td>\n",
       "    </tr>\n",
       "    <tr>\n",
       "      <th>...</th>\n",
       "      <td>...</td>\n",
       "      <td>...</td>\n",
       "      <td>...</td>\n",
       "      <td>...</td>\n",
       "      <td>...</td>\n",
       "      <td>...</td>\n",
       "      <td>...</td>\n",
       "      <td>...</td>\n",
       "      <td>...</td>\n",
       "      <td>...</td>\n",
       "      <td>...</td>\n",
       "      <td>...</td>\n",
       "      <td>...</td>\n",
       "      <td>...</td>\n",
       "      <td>...</td>\n",
       "      <td>...</td>\n",
       "      <td>...</td>\n",
       "      <td>...</td>\n",
       "      <td>...</td>\n",
       "      <td>...</td>\n",
       "      <td>...</td>\n",
       "    </tr>\n",
       "    <tr>\n",
       "      <th>2016-12-23</th>\n",
       "      <td>175.519291</td>\n",
       "      <td>47.341556</td>\n",
       "      <td>37.554633</td>\n",
       "      <td>60.125062</td>\n",
       "      <td>112.38</td>\n",
       "      <td>115.153543</td>\n",
       "      <td>36.281262</td>\n",
       "      <td>105.020</td>\n",
       "      <td>170.627671</td>\n",
       "      <td>11.58</td>\n",
       "      <td>...</td>\n",
       "      <td>122.641675</td>\n",
       "      <td>86.919240</td>\n",
       "      <td>39.736626</td>\n",
       "      <td>59.562654</td>\n",
       "      <td>50.359607</td>\n",
       "      <td>62.963977</td>\n",
       "      <td>86.42</td>\n",
       "      <td>101.475507</td>\n",
       "      <td>43.580449</td>\n",
       "      <td>53.476809</td>\n",
       "    </tr>\n",
       "    <tr>\n",
       "      <th>2016-12-27</th>\n",
       "      <td>175.686219</td>\n",
       "      <td>47.737388</td>\n",
       "      <td>37.730579</td>\n",
       "      <td>60.279377</td>\n",
       "      <td>113.74</td>\n",
       "      <td>115.222156</td>\n",
       "      <td>36.311083</td>\n",
       "      <td>104.980</td>\n",
       "      <td>171.576213</td>\n",
       "      <td>12.07</td>\n",
       "      <td>...</td>\n",
       "      <td>122.434793</td>\n",
       "      <td>86.820848</td>\n",
       "      <td>39.795249</td>\n",
       "      <td>60.231455</td>\n",
       "      <td>50.211519</td>\n",
       "      <td>63.181060</td>\n",
       "      <td>87.05</td>\n",
       "      <td>102.288740</td>\n",
       "      <td>43.650003</td>\n",
       "      <td>53.417147</td>\n",
       "    </tr>\n",
       "    <tr>\n",
       "      <th>2016-12-28</th>\n",
       "      <td>174.861401</td>\n",
       "      <td>47.094160</td>\n",
       "      <td>37.359138</td>\n",
       "      <td>60.057549</td>\n",
       "      <td>112.78</td>\n",
       "      <td>114.300771</td>\n",
       "      <td>36.211682</td>\n",
       "      <td>103.770</td>\n",
       "      <td>170.158393</td>\n",
       "      <td>11.55</td>\n",
       "      <td>...</td>\n",
       "      <td>121.035876</td>\n",
       "      <td>85.679504</td>\n",
       "      <td>39.365347</td>\n",
       "      <td>59.631501</td>\n",
       "      <td>49.303250</td>\n",
       "      <td>62.875170</td>\n",
       "      <td>85.61</td>\n",
       "      <td>102.447419</td>\n",
       "      <td>43.004146</td>\n",
       "      <td>53.138726</td>\n",
       "    </tr>\n",
       "    <tr>\n",
       "      <th>2016-12-29</th>\n",
       "      <td>175.185436</td>\n",
       "      <td>47.163431</td>\n",
       "      <td>37.447111</td>\n",
       "      <td>60.501205</td>\n",
       "      <td>113.58</td>\n",
       "      <td>114.692850</td>\n",
       "      <td>36.261382</td>\n",
       "      <td>103.680</td>\n",
       "      <td>170.018608</td>\n",
       "      <td>11.59</td>\n",
       "      <td>...</td>\n",
       "      <td>120.828183</td>\n",
       "      <td>85.768057</td>\n",
       "      <td>40.000430</td>\n",
       "      <td>59.739690</td>\n",
       "      <td>49.135417</td>\n",
       "      <td>62.786364</td>\n",
       "      <td>85.94</td>\n",
       "      <td>102.884804</td>\n",
       "      <td>42.517269</td>\n",
       "      <td>53.317711</td>\n",
       "    </tr>\n",
       "    <tr>\n",
       "      <th>2016-12-30</th>\n",
       "      <td>175.342545</td>\n",
       "      <td>46.856661</td>\n",
       "      <td>37.544859</td>\n",
       "      <td>60.395113</td>\n",
       "      <td>112.68</td>\n",
       "      <td>114.810474</td>\n",
       "      <td>35.893600</td>\n",
       "      <td>102.950</td>\n",
       "      <td>168.860388</td>\n",
       "      <td>11.34</td>\n",
       "      <td>...</td>\n",
       "      <td>120.936974</td>\n",
       "      <td>85.118671</td>\n",
       "      <td>39.765938</td>\n",
       "      <td>59.375783</td>\n",
       "      <td>48.888605</td>\n",
       "      <td>62.490341</td>\n",
       "      <td>85.76</td>\n",
       "      <td>102.586587</td>\n",
       "      <td>42.765676</td>\n",
       "      <td>53.228218</td>\n",
       "    </tr>\n",
       "  </tbody>\n",
       "</table>\n",
       "<p>504 rows × 503 columns</p>\n",
       "</div>"
      ],
      "text/plain": [
       "            WIKI/MMM - Adj. Close  WIKI/AOS - Adj. Close  \\\n",
       "Date                                                       \n",
       "2015-01-02             152.857296              27.084158   \n",
       "2015-01-05             149.409947              26.610269   \n",
       "2015-01-06             147.816713              26.392668   \n",
       "2015-01-07             148.888186              26.586091   \n",
       "2015-01-08             152.456658              27.277581   \n",
       "...                           ...                    ...   \n",
       "2016-12-23             175.519291              47.341556   \n",
       "2016-12-27             175.686219              47.737388   \n",
       "2016-12-28             174.861401              47.094160   \n",
       "2016-12-29             175.185436              47.163431   \n",
       "2016-12-30             175.342545              46.856661   \n",
       "\n",
       "            WIKI/ABT - Adj. Close  WIKI/ABBV - Adj. Close  \\\n",
       "Date                                                        \n",
       "2015-01-02              41.911850               59.166809   \n",
       "2015-01-05              41.921185               58.053335   \n",
       "2015-01-06              41.445126               57.765986   \n",
       "2015-01-07              41.781167               60.100691   \n",
       "2015-01-08              42.639940               60.729266   \n",
       "...                           ...                     ...   \n",
       "2016-12-23              37.554633               60.125062   \n",
       "2016-12-27              37.730579               60.279377   \n",
       "2016-12-28              37.359138               60.057549   \n",
       "2016-12-29              37.447111               60.501205   \n",
       "2016-12-30              37.544859               60.395113   \n",
       "\n",
       "            WIKI/ABMD - Adj. Close  WIKI/ACN - Adj. Close  \\\n",
       "Date                                                        \n",
       "2015-01-02                   37.31              83.567918   \n",
       "2015-01-05                   37.07              82.156933   \n",
       "2015-01-06                   36.13              81.564320   \n",
       "2015-01-07                   37.28              83.276314   \n",
       "2015-01-08                   38.96              84.546201   \n",
       "...                            ...                    ...   \n",
       "2016-12-23                  112.38             115.153543   \n",
       "2016-12-27                  113.74             115.222156   \n",
       "2016-12-28                  112.78             114.300771   \n",
       "2016-12-29                  113.58             114.692850   \n",
       "2016-12-30                  112.68             114.810474   \n",
       "\n",
       "            WIKI/ATVI - Adj. Close  WIKI/ADBE - Adj. Close  \\\n",
       "Date                                                         \n",
       "2015-01-02               19.647773                  72.340   \n",
       "2015-01-05               19.374481                  71.980   \n",
       "2015-01-06               19.013344                  70.530   \n",
       "2015-01-07               18.598525                  71.110   \n",
       "2015-01-08               18.788854                  72.915   \n",
       "...                            ...                     ...   \n",
       "2016-12-23               36.281262                 105.020   \n",
       "2016-12-27               36.311083                 104.980   \n",
       "2016-12-28               36.211682                 103.770   \n",
       "2016-12-29               36.261382                 103.680   \n",
       "2016-12-30               35.893600                 102.950   \n",
       "\n",
       "            WIKI/AAP - Adj. Close  WIKI/AMD - Adj. Close  ...  \\\n",
       "Date                                                      ...   \n",
       "2015-01-02             157.835250                   2.69  ...   \n",
       "2015-01-05             155.754803                   2.66  ...   \n",
       "2015-01-06             155.645306                   2.63  ...   \n",
       "2015-01-07             158.989948                   2.58  ...   \n",
       "2015-01-08             160.383549                   2.61  ...   \n",
       "...                           ...                    ...  ...   \n",
       "2016-12-23             170.627671                  11.58  ...   \n",
       "2016-12-27             171.576213                  12.07  ...   \n",
       "2016-12-28             170.158393                  11.55  ...   \n",
       "2016-12-29             170.018608                  11.59  ...   \n",
       "2016-12-30             168.860388                  11.34  ...   \n",
       "\n",
       "            WIKI/WLTW - Adj. Close  WIKI/WYNN - Adj. Close  \\\n",
       "Date                                                         \n",
       "2015-01-02                     NaN              137.601094   \n",
       "2015-01-05                     NaN              135.259187   \n",
       "2015-01-06                     NaN              132.373957   \n",
       "2015-01-07                     NaN              136.261523   \n",
       "2015-01-08                     NaN              137.900858   \n",
       "...                            ...                     ...   \n",
       "2016-12-23              122.641675               86.919240   \n",
       "2016-12-27              122.434793               86.820848   \n",
       "2016-12-28              121.035876               85.679504   \n",
       "2016-12-29              120.828183               85.768057   \n",
       "2016-12-30              120.936974               85.118671   \n",
       "\n",
       "            WIKI/XEL - Adj. Close  WIKI/XLNX - Adj. Close  \\\n",
       "Date                                                        \n",
       "2015-01-02              32.876454               40.568729   \n",
       "2015-01-05              32.503272               39.819696   \n",
       "2015-01-06              32.676210               39.247454   \n",
       "2015-01-07              32.958372               39.261411   \n",
       "2015-01-08              33.340656               40.136058   \n",
       "...                           ...                     ...   \n",
       "2016-12-23              39.736626               59.562654   \n",
       "2016-12-27              39.795249               60.231455   \n",
       "2016-12-28              39.365347               59.631501   \n",
       "2016-12-29              40.000430               59.739690   \n",
       "2016-12-30              39.765938               59.375783   \n",
       "\n",
       "            WIKI/XYL - Adj. Close  WIKI/YUM - Adj. Close  \\\n",
       "Date                                                       \n",
       "2015-01-02              36.487373              48.740797   \n",
       "2015-01-05              34.216494              47.750487   \n",
       "2015-01-06              34.015277              47.164385   \n",
       "2015-01-07              34.283567              48.727324   \n",
       "2015-01-08              34.542275              49.576161   \n",
       "...                           ...                    ...   \n",
       "2016-12-23              50.359607              62.963977   \n",
       "2016-12-27              50.211519              63.181060   \n",
       "2016-12-28              49.303250              62.875170   \n",
       "2016-12-29              49.135417              62.786364   \n",
       "2016-12-30              48.888605              62.490341   \n",
       "\n",
       "            WIKI/ZBRA - Adj. Close  WIKI/ZBH - Adj. Close  \\\n",
       "Date                                                        \n",
       "2015-01-02                   77.43             110.052964   \n",
       "2015-01-05                   76.34             114.158329   \n",
       "2015-01-06                   75.79             113.190639   \n",
       "2015-01-07                   77.72             116.005740   \n",
       "2015-01-08                   79.38             117.237350   \n",
       "...                            ...                    ...   \n",
       "2016-12-23                   86.42             101.475507   \n",
       "2016-12-27                   87.05             102.288740   \n",
       "2016-12-28                   85.61             102.447419   \n",
       "2016-12-29                   85.94             102.884804   \n",
       "2016-12-30                   85.76             102.586587   \n",
       "\n",
       "            WIKI/ZION - Adj. Close  WIKI/ZTS - Adj. Close  \n",
       "Date                                                       \n",
       "2015-01-02               27.623683              42.403000  \n",
       "2015-01-05               26.588649              42.148444  \n",
       "2015-01-06               25.573145              41.737240  \n",
       "2015-01-07               25.812374              42.598811  \n",
       "2015-01-08               26.178542              43.254780  \n",
       "...                            ...                    ...  \n",
       "2016-12-23               43.580449              53.476809  \n",
       "2016-12-27               43.650003              53.417147  \n",
       "2016-12-28               43.004146              53.138726  \n",
       "2016-12-29               42.517269              53.317711  \n",
       "2016-12-30               42.765676              53.228218  \n",
       "\n",
       "[504 rows x 503 columns]"
      ]
     },
     "execution_count": 19,
     "metadata": {},
     "output_type": "execute_result"
    }
   ],
   "source": [
    "# remove symbols with a '.' in their ticker\n",
    "spsymbolsclean = []\n",
    "for symbol in spsymbols:\n",
    "    if '.' not in symbol:\n",
    "        spsymbolsclean.append(symbol)\n",
    "clean_sp_symbols = np.array(spsymbolsclean)\n",
    "clean_sp_symbols\n",
    "\n",
    "quandl_symbols = [\"WIKI/\" + symbol for symbol in clean_sp_symbols]\n",
    "spdata = quandl.get(quandl_symbols, start_date = \"2015-01-01\", end_date = \"2016-12-31\", column_index = 11, collapse=\"daily\")\n",
    "spdata"
   ]
  },
  {
   "cell_type": "code",
   "execution_count": 21,
   "metadata": {
    "cell_id": "00004-479a086d-4f5a-4f5c-85cf-e237fba000cd",
    "deepnote_cell_type": "code",
    "deepnote_to_be_reexecuted": false,
    "execution_millis": 322,
    "execution_start": 1617584856439,
    "source_hash": "c204e8b5",
    "tags": []
   },
   "outputs": [],
   "source": [
    "spdata.to_csv(\"sp500_data_Quandl.csv\")"
   ]
  },
  {
   "cell_type": "code",
   "execution_count": 37,
   "metadata": {
    "cell_id": "00005-525afca7-35dc-41d2-84f3-6f618309f496",
    "deepnote_cell_type": "code",
    "deepnote_to_be_reexecuted": false,
    "execution_millis": 13,
    "execution_start": 1617585569356,
    "source_hash": "5c8e73a5",
    "tags": []
   },
   "outputs": [
    {
     "name": "stdout",
     "output_type": "stream",
     "text": [
      "           Date     Open     High      Low    Close\n",
      "503    1/2/2015  2058.90  2072.36  2046.04  2058.20\n",
      "502    1/5/2015  2054.44  2054.44  2017.34  2020.58\n",
      "501    1/6/2015  2022.15  2030.25  1992.44  2002.61\n",
      "500    1/7/2015  2005.55  2029.61  2005.55  2025.90\n",
      "499    1/8/2015  2030.61  2064.08  2030.61  2062.14\n",
      "..          ...      ...      ...      ...      ...\n",
      "4    12/23/2016  2260.25  2263.79  2258.84  2263.79\n",
      "3    12/27/2016  2266.23  2273.82  2266.15  2268.88\n",
      "2    12/28/2016  2270.23  2271.31  2249.11  2249.92\n",
      "1    12/29/2016  2249.50  2254.51  2244.56  2249.26\n",
      "0    12/30/2016  2251.61  2253.58  2233.62  2238.83\n",
      "\n",
      "[504 rows x 5 columns]\n"
     ]
    }
   ],
   "source": [
    "# https://datahub.io/core/s-and-p-500-companies\n",
    "spindexcsv = pd.read_csv(\"sp500_index.csv\")\n",
    "spindexcsv = spindexcsv.iloc[::-1]\n",
    "print(spindexcsv)"
   ]
  },
  {
   "cell_type": "code",
   "execution_count": 38,
   "metadata": {
    "cell_id": "00006-87ccc9fb-6823-4e47-b155-bc12e55e4e7c",
    "deepnote_cell_type": "code",
    "deepnote_to_be_reexecuted": false,
    "execution_millis": 77,
    "execution_start": 1617585571044,
    "source_hash": "5758622a",
    "tags": []
   },
   "outputs": [
    {
     "name": "stdout",
     "output_type": "stream",
     "text": [
      "1/2/2015\n",
      "1/5/2015\n",
      "1/6/2015\n",
      "1/7/2015\n",
      "1/8/2015\n",
      "1/9/2015\n",
      "1/12/2015\n",
      "1/13/2015\n",
      "1/14/2015\n",
      "1/15/2015\n",
      "1/16/2015\n",
      "1/20/2015\n",
      "1/21/2015\n",
      "1/22/2015\n",
      "1/23/2015\n",
      "1/26/2015\n",
      "1/27/2015\n",
      "1/28/2015\n",
      "1/29/2015\n",
      "1/30/2015\n",
      "2/2/2015\n",
      "2/3/2015\n",
      "2/4/2015\n",
      "2/5/2015\n",
      "2/6/2015\n",
      "2/9/2015\n",
      "2/10/2015\n",
      "2/11/2015\n",
      "2/12/2015\n",
      "2/13/2015\n",
      "2/17/2015\n",
      "2/18/2015\n",
      "2/19/2015\n",
      "2/20/2015\n",
      "2/23/2015\n",
      "2/24/2015\n",
      "2/25/2015\n",
      "2/26/2015\n",
      "2/27/2015\n",
      "3/2/2015\n",
      "3/3/2015\n",
      "3/4/2015\n",
      "3/5/2015\n",
      "3/6/2015\n",
      "3/9/2015\n",
      "3/10/2015\n",
      "3/11/2015\n",
      "3/12/2015\n",
      "3/13/2015\n",
      "3/16/2015\n",
      "3/17/2015\n",
      "3/18/2015\n",
      "3/19/2015\n",
      "3/20/2015\n",
      "3/23/2015\n",
      "3/24/2015\n",
      "3/25/2015\n",
      "3/26/2015\n",
      "3/27/2015\n",
      "3/30/2015\n",
      "3/31/2015\n",
      "4/1/2015\n",
      "4/2/2015\n",
      "4/6/2015\n",
      "4/7/2015\n",
      "4/8/2015\n",
      "4/9/2015\n",
      "4/10/2015\n",
      "4/13/2015\n",
      "4/14/2015\n",
      "4/15/2015\n",
      "4/16/2015\n",
      "4/17/2015\n",
      "4/20/2015\n",
      "4/21/2015\n",
      "4/22/2015\n",
      "4/23/2015\n",
      "4/24/2015\n",
      "4/27/2015\n",
      "4/28/2015\n",
      "4/29/2015\n",
      "4/30/2015\n",
      "5/1/2015\n",
      "5/4/2015\n",
      "5/5/2015\n",
      "5/6/2015\n",
      "5/7/2015\n",
      "5/8/2015\n",
      "5/11/2015\n",
      "5/12/2015\n",
      "5/13/2015\n",
      "5/14/2015\n",
      "5/15/2015\n",
      "5/18/2015\n",
      "5/19/2015\n",
      "5/20/2015\n",
      "5/21/2015\n",
      "5/22/2015\n",
      "5/26/2015\n",
      "5/27/2015\n",
      "5/28/2015\n",
      "5/29/2015\n",
      "6/1/2015\n",
      "6/2/2015\n",
      "6/3/2015\n",
      "6/4/2015\n",
      "6/5/2015\n",
      "6/8/2015\n",
      "6/9/2015\n",
      "6/10/2015\n",
      "6/11/2015\n",
      "6/12/2015\n",
      "6/15/2015\n",
      "6/16/2015\n",
      "6/17/2015\n",
      "6/18/2015\n",
      "6/19/2015\n",
      "6/22/2015\n",
      "6/23/2015\n",
      "6/24/2015\n",
      "6/25/2015\n",
      "6/26/2015\n",
      "6/29/2015\n",
      "6/30/2015\n",
      "7/1/2015\n",
      "7/2/2015\n",
      "7/6/2015\n",
      "7/7/2015\n",
      "7/8/2015\n",
      "7/9/2015\n",
      "7/10/2015\n",
      "7/13/2015\n",
      "7/14/2015\n",
      "7/15/2015\n",
      "7/16/2015\n",
      "7/17/2015\n",
      "7/20/2015\n",
      "7/21/2015\n",
      "7/22/2015\n",
      "7/23/2015\n",
      "7/24/2015\n",
      "7/27/2015\n",
      "7/28/2015\n",
      "7/29/2015\n",
      "7/30/2015\n",
      "7/31/2015\n",
      "8/3/2015\n",
      "8/4/2015\n",
      "8/5/2015\n",
      "8/6/2015\n",
      "8/7/2015\n",
      "8/10/2015\n",
      "8/11/2015\n",
      "8/12/2015\n",
      "8/13/2015\n",
      "8/14/2015\n",
      "8/17/2015\n",
      "8/18/2015\n",
      "8/19/2015\n",
      "8/20/2015\n",
      "8/21/2015\n",
      "8/24/2015\n",
      "8/25/2015\n",
      "8/26/2015\n",
      "8/27/2015\n",
      "8/28/2015\n",
      "8/31/2015\n",
      "9/1/2015\n",
      "9/2/2015\n",
      "9/3/2015\n",
      "9/4/2015\n",
      "9/8/2015\n",
      "9/9/2015\n",
      "9/10/2015\n",
      "9/11/2015\n",
      "9/14/2015\n",
      "9/15/2015\n",
      "9/16/2015\n",
      "9/17/2015\n",
      "9/18/2015\n",
      "9/21/2015\n",
      "9/22/2015\n",
      "9/23/2015\n",
      "9/24/2015\n",
      "9/25/2015\n",
      "9/28/2015\n",
      "9/29/2015\n",
      "9/30/2015\n",
      "10/1/2015\n",
      "10/2/2015\n",
      "10/5/2015\n",
      "10/6/2015\n",
      "10/7/2015\n",
      "10/8/2015\n",
      "10/9/2015\n",
      "10/12/2015\n",
      "10/13/2015\n",
      "10/14/2015\n",
      "10/15/2015\n",
      "10/16/2015\n",
      "10/19/2015\n",
      "10/20/2015\n",
      "10/21/2015\n",
      "10/22/2015\n",
      "10/23/2015\n",
      "10/26/2015\n",
      "10/27/2015\n",
      "10/28/2015\n",
      "10/29/2015\n",
      "10/30/2015\n",
      "11/2/2015\n",
      "11/3/2015\n",
      "11/4/2015\n",
      "11/5/2015\n",
      "11/6/2015\n",
      "11/9/2015\n",
      "11/10/2015\n",
      "11/11/2015\n",
      "11/12/2015\n",
      "11/13/2015\n",
      "11/16/2015\n",
      "11/17/2015\n",
      "11/18/2015\n",
      "11/19/2015\n",
      "11/20/2015\n",
      "11/23/2015\n",
      "11/24/2015\n",
      "11/25/2015\n",
      "11/27/2015\n",
      "11/30/2015\n",
      "12/1/2015\n",
      "12/2/2015\n",
      "12/3/2015\n",
      "12/4/2015\n",
      "12/7/2015\n",
      "12/8/2015\n",
      "12/9/2015\n",
      "12/10/2015\n",
      "12/11/2015\n",
      "12/14/2015\n",
      "12/15/2015\n",
      "12/16/2015\n",
      "12/17/2015\n",
      "12/18/2015\n",
      "12/21/2015\n",
      "12/22/2015\n",
      "12/23/2015\n",
      "12/24/2015\n",
      "12/28/2015\n",
      "12/29/2015\n",
      "12/30/2015\n",
      "12/31/2015\n",
      "1/4/2016\n",
      "1/5/2016\n",
      "1/6/2016\n",
      "1/7/2016\n",
      "1/8/2016\n",
      "1/11/2016\n",
      "1/12/2016\n",
      "1/13/2016\n",
      "1/14/2016\n",
      "1/15/2016\n",
      "1/19/2016\n",
      "1/20/2016\n",
      "1/21/2016\n",
      "1/22/2016\n",
      "1/25/2016\n",
      "1/26/2016\n",
      "1/27/2016\n",
      "1/28/2016\n",
      "1/29/2016\n",
      "2/1/2016\n",
      "2/2/2016\n",
      "2/3/2016\n",
      "2/4/2016\n",
      "2/5/2016\n",
      "2/8/2016\n",
      "2/9/2016\n",
      "2/10/2016\n",
      "2/11/2016\n",
      "2/12/2016\n",
      "2/16/2016\n",
      "2/17/2016\n",
      "2/18/2016\n",
      "2/19/2016\n",
      "2/22/2016\n",
      "2/23/2016\n",
      "2/24/2016\n",
      "2/25/2016\n",
      "2/26/2016\n",
      "2/29/2016\n",
      "3/1/2016\n",
      "3/2/2016\n",
      "3/3/2016\n",
      "3/4/2016\n",
      "3/7/2016\n",
      "3/8/2016\n",
      "3/9/2016\n",
      "3/10/2016\n",
      "3/11/2016\n",
      "3/14/2016\n",
      "3/15/2016\n",
      "3/16/2016\n",
      "3/17/2016\n",
      "3/18/2016\n",
      "3/21/2016\n",
      "3/22/2016\n",
      "3/23/2016\n",
      "3/24/2016\n",
      "3/28/2016\n",
      "3/29/2016\n",
      "3/30/2016\n",
      "3/31/2016\n",
      "4/1/2016\n",
      "4/4/2016\n",
      "4/5/2016\n",
      "4/6/2016\n",
      "4/7/2016\n",
      "4/8/2016\n",
      "4/11/2016\n",
      "4/12/2016\n",
      "4/13/2016\n",
      "4/14/2016\n",
      "4/15/2016\n",
      "4/18/2016\n",
      "4/19/2016\n",
      "4/20/2016\n",
      "4/21/2016\n",
      "4/22/2016\n",
      "4/25/2016\n",
      "4/26/2016\n",
      "4/27/2016\n",
      "4/28/2016\n",
      "4/29/2016\n",
      "5/2/2016\n",
      "5/3/2016\n",
      "5/4/2016\n",
      "5/5/2016\n",
      "5/6/2016\n",
      "5/9/2016\n",
      "5/10/2016\n",
      "5/11/2016\n",
      "5/12/2016\n",
      "5/13/2016\n",
      "5/16/2016\n",
      "5/17/2016\n",
      "5/18/2016\n",
      "5/19/2016\n",
      "5/20/2016\n",
      "5/23/2016\n",
      "5/24/2016\n",
      "5/25/2016\n",
      "5/26/2016\n",
      "5/27/2016\n",
      "5/31/2016\n",
      "6/1/2016\n",
      "6/2/2016\n",
      "6/3/2016\n",
      "6/6/2016\n",
      "6/7/2016\n",
      "6/8/2016\n",
      "6/9/2016\n",
      "6/10/2016\n",
      "6/13/2016\n",
      "6/14/2016\n",
      "6/15/2016\n",
      "6/16/2016\n",
      "6/17/2016\n",
      "6/20/2016\n",
      "6/21/2016\n",
      "6/22/2016\n",
      "6/23/2016\n",
      "6/24/2016\n",
      "6/27/2016\n",
      "6/28/2016\n",
      "6/29/2016\n",
      "6/30/2016\n",
      "7/1/2016\n",
      "7/5/2016\n",
      "7/6/2016\n",
      "7/7/2016\n",
      "7/8/2016\n",
      "7/11/2016\n",
      "7/12/2016\n",
      "7/13/2016\n",
      "7/14/2016\n",
      "7/15/2016\n",
      "7/18/2016\n",
      "7/19/2016\n",
      "7/20/2016\n",
      "7/21/2016\n",
      "7/22/2016\n",
      "7/25/2016\n",
      "7/26/2016\n",
      "7/27/2016\n",
      "7/28/2016\n",
      "7/29/2016\n",
      "8/1/2016\n",
      "8/2/2016\n",
      "8/3/2016\n",
      "8/4/2016\n",
      "8/5/2016\n",
      "8/8/2016\n",
      "8/9/2016\n",
      "8/10/2016\n",
      "8/11/2016\n",
      "8/12/2016\n",
      "8/15/2016\n",
      "8/16/2016\n",
      "8/17/2016\n",
      "8/18/2016\n",
      "8/19/2016\n",
      "8/22/2016\n",
      "8/23/2016\n",
      "8/24/2016\n",
      "8/25/2016\n",
      "8/26/2016\n",
      "8/29/2016\n",
      "8/30/2016\n",
      "8/31/2016\n",
      "9/1/2016\n",
      "9/2/2016\n",
      "9/6/2016\n",
      "9/7/2016\n",
      "9/8/2016\n",
      "9/9/2016\n",
      "9/12/2016\n",
      "9/13/2016\n",
      "9/14/2016\n",
      "9/15/2016\n",
      "9/16/2016\n",
      "9/19/2016\n",
      "9/20/2016\n",
      "9/21/2016\n",
      "9/22/2016\n",
      "9/23/2016\n",
      "9/26/2016\n",
      "9/27/2016\n",
      "9/28/2016\n",
      "9/29/2016\n",
      "9/30/2016\n",
      "10/3/2016\n",
      "10/4/2016\n",
      "10/5/2016\n",
      "10/6/2016\n",
      "10/7/2016\n",
      "10/10/2016\n",
      "10/11/2016\n",
      "10/12/2016\n",
      "10/13/2016\n",
      "10/14/2016\n",
      "10/17/2016\n",
      "10/18/2016\n",
      "10/19/2016\n",
      "10/20/2016\n",
      "10/21/2016\n",
      "10/24/2016\n",
      "10/25/2016\n",
      "10/26/2016\n",
      "10/27/2016\n",
      "10/28/2016\n",
      "10/31/2016\n",
      "11/1/2016\n",
      "11/2/2016\n",
      "11/3/2016\n",
      "11/4/2016\n",
      "11/7/2016\n",
      "11/8/2016\n",
      "11/9/2016\n",
      "11/10/2016\n",
      "11/11/2016\n",
      "11/14/2016\n",
      "11/15/2016\n",
      "11/16/2016\n",
      "11/17/2016\n",
      "11/18/2016\n",
      "11/21/2016\n",
      "11/22/2016\n",
      "11/23/2016\n",
      "11/25/2016\n",
      "11/28/2016\n",
      "11/29/2016\n",
      "11/30/2016\n",
      "12/1/2016\n",
      "12/2/2016\n",
      "12/5/2016\n",
      "12/6/2016\n",
      "12/7/2016\n",
      "12/8/2016\n",
      "12/9/2016\n",
      "12/12/2016\n",
      "12/13/2016\n",
      "12/14/2016\n",
      "12/15/2016\n",
      "12/16/2016\n",
      "12/19/2016\n",
      "12/20/2016\n",
      "12/21/2016\n",
      "12/22/2016\n",
      "12/23/2016\n",
      "12/27/2016\n",
      "12/28/2016\n",
      "12/29/2016\n",
      "12/30/2016\n"
     ]
    },
    {
     "data": {
      "application/vnd.deepnote.dataframe.v2+json": {
       "column_count": 5,
       "columns": [
        {
         "dtype": "object",
         "name": "Date",
         "stats": {
          "categories": [
           {
            "count": 1,
            "name": "2015-01-02"
           },
           {
            "count": 1,
            "name": "2015-01-05"
           },
           {
            "count": 502,
            "name": "502 others"
           }
          ],
          "nan_count": 0,
          "unique_count": 504
         }
        },
        {
         "dtype": "float64",
         "name": " Open",
         "stats": {
          "histogram": [
           {
            "bin_end": 1877.114,
            "bin_start": 1833.4,
            "count": 9
           },
           {
            "bin_end": 1920.828,
            "bin_start": 1877.114,
            "count": 20
           },
           {
            "bin_end": 1964.542,
            "bin_start": 1920.828,
            "count": 29
           },
           {
            "bin_end": 2008.256,
            "bin_start": 1964.542,
            "count": 27
           },
           {
            "bin_end": 2051.9700000000003,
            "bin_start": 2008.256,
            "count": 66
           },
           {
            "bin_end": 2095.684,
            "bin_start": 2051.9700000000003,
            "count": 134
           },
           {
            "bin_end": 2139.398,
            "bin_start": 2095.684,
            "count": 115
           },
           {
            "bin_end": 2183.112,
            "bin_start": 2139.398,
            "count": 67
           },
           {
            "bin_end": 2226.826,
            "bin_start": 2183.112,
            "count": 21
           },
           {
            "bin_end": 2270.54,
            "bin_start": 2226.826,
            "count": 16
           }
          ],
          "max": 2270.54,
          "min": 1833.4,
          "nan_count": 0,
          "unique_count": 500
         }
        },
        {
         "dtype": "float64",
         "name": " High",
         "stats": {
          "histogram": [
           {
            "bin_end": 1890.053,
            "bin_start": 1847,
            "count": 7
           },
           {
            "bin_end": 1933.106,
            "bin_start": 1890.053,
            "count": 19
           },
           {
            "bin_end": 1976.159,
            "bin_start": 1933.106,
            "count": 29
           },
           {
            "bin_end": 2019.212,
            "bin_start": 1976.159,
            "count": 26
           },
           {
            "bin_end": 2062.2650000000003,
            "bin_start": 2019.212,
            "count": 61
           },
           {
            "bin_end": 2105.318,
            "bin_start": 2062.2650000000003,
            "count": 157
           },
           {
            "bin_end": 2148.371,
            "bin_start": 2105.318,
            "count": 102
           },
           {
            "bin_end": 2191.424,
            "bin_start": 2148.371,
            "count": 73
           },
           {
            "bin_end": 2234.4770000000003,
            "bin_start": 2191.424,
            "count": 13
           },
           {
            "bin_end": 2277.53,
            "bin_start": 2234.4770000000003,
            "count": 17
           }
          ],
          "max": 2277.53,
          "min": 1847,
          "nan_count": 0,
          "unique_count": 501
         }
        },
        {
         "dtype": "float64",
         "name": " Low",
         "stats": {
          "histogram": [
           {
            "bin_end": 1855.705,
            "bin_start": 1810.1,
            "count": 7
           },
           {
            "bin_end": 1901.31,
            "bin_start": 1855.705,
            "count": 26
           },
           {
            "bin_end": 1946.915,
            "bin_start": 1901.31,
            "count": 25
           },
           {
            "bin_end": 1992.52,
            "bin_start": 1946.915,
            "count": 30
           },
           {
            "bin_end": 2038.125,
            "bin_start": 1992.52,
            "count": 47
           },
           {
            "bin_end": 2083.73,
            "bin_start": 2038.125,
            "count": 143
           },
           {
            "bin_end": 2129.335,
            "bin_start": 2083.73,
            "count": 121
           },
           {
            "bin_end": 2174.94,
            "bin_start": 2129.335,
            "count": 62
           },
           {
            "bin_end": 2220.545,
            "bin_start": 2174.94,
            "count": 27
           },
           {
            "bin_end": 2266.15,
            "bin_start": 2220.545,
            "count": 16
           }
          ],
          "max": 2266.15,
          "min": 1810.1,
          "nan_count": 0,
          "unique_count": 499
         }
        },
        {
         "dtype": "float64",
         "name": " Close",
         "stats": {
          "histogram": [
           {
            "bin_end": 1873.3439999999998,
            "bin_start": 1829.08,
            "count": 8
           },
           {
            "bin_end": 1917.608,
            "bin_start": 1873.3439999999998,
            "count": 17
           },
           {
            "bin_end": 1961.8719999999998,
            "bin_start": 1917.608,
            "count": 32
           },
           {
            "bin_end": 2006.136,
            "bin_start": 1961.8719999999998,
            "count": 29
           },
           {
            "bin_end": 2050.3999999999996,
            "bin_start": 2006.136,
            "count": 61
           },
           {
            "bin_end": 2094.6639999999998,
            "bin_start": 2050.3999999999996,
            "count": 134
           },
           {
            "bin_end": 2138.928,
            "bin_start": 2094.6639999999998,
            "count": 117
           },
           {
            "bin_end": 2183.192,
            "bin_start": 2138.928,
            "count": 69
           },
           {
            "bin_end": 2227.4559999999997,
            "bin_start": 2183.192,
            "count": 20
           },
           {
            "bin_end": 2271.72,
            "bin_start": 2227.4559999999997,
            "count": 17
           }
          ],
          "max": 2271.72,
          "min": 1829.08,
          "nan_count": 0,
          "unique_count": 499
         }
        },
        {
         "dtype": "int64",
         "name": "_deepnote_index_column"
        }
       ],
       "row_count": 504,
       "rows_bottom": [
        {
         " Close": 2175.49,
         " High": 2183.41,
         " Low": 2172,
         " Open": 2182.81,
         "Date": "2016-08-10",
         "_deepnote_index_column": 99
        },
        {
         " Close": 2185.79,
         " High": 2188.45,
         " Low": 2177.97,
         " Open": 2177.97,
         "Date": "2016-08-11",
         "_deepnote_index_column": 98
        },
        {
         " Close": 2184.05,
         " High": 2186.28,
         " Low": 2179.42,
         " Open": 2183.74,
         "Date": "2016-08-12",
         "_deepnote_index_column": 97
        },
        {
         " Close": 2190.15,
         " High": 2193.81,
         " Low": 2186.08,
         " Open": 2186.08,
         "Date": "2016-08-15",
         "_deepnote_index_column": 96
        },
        {
         " Close": 2178.15,
         " High": 2186.24,
         " Low": 2178.14,
         " Open": 2186.24,
         "Date": "2016-08-16",
         "_deepnote_index_column": 95
        },
        {
         " Close": 2182.22,
         " High": 2183.08,
         " Low": 2168.5,
         " Open": 2177.84,
         "Date": "2016-08-17",
         "_deepnote_index_column": 94
        },
        {
         " Close": 2187.02,
         " High": 2187.03,
         " Low": 2180.46,
         " Open": 2181.9,
         "Date": "2016-08-18",
         "_deepnote_index_column": 93
        },
        {
         " Close": 2183.87,
         " High": 2185,
         " Low": 2175.13,
         " Open": 2184.24,
         "Date": "2016-08-19",
         "_deepnote_index_column": 92
        },
        {
         " Close": 2182.64,
         " High": 2185.15,
         " Low": 2175.96,
         " Open": 2181.58,
         "Date": "2016-08-22",
         "_deepnote_index_column": 91
        },
        {
         " Close": 2186.9,
         " High": 2193.42,
         " Low": 2186.8,
         " Open": 2187.81,
         "Date": "2016-08-23",
         "_deepnote_index_column": 90
        },
        {
         " Close": 2175.44,
         " High": 2186.66,
         " Low": 2171.25,
         " Open": 2185.09,
         "Date": "2016-08-24",
         "_deepnote_index_column": 89
        },
        {
         " Close": 2172.47,
         " High": 2179,
         " Low": 2169.74,
         " Open": 2173.29,
         "Date": "2016-08-25",
         "_deepnote_index_column": 88
        },
        {
         " Close": 2169.04,
         " High": 2187.94,
         " Low": 2160.39,
         " Open": 2175.1,
         "Date": "2016-08-26",
         "_deepnote_index_column": 87
        },
        {
         " Close": 2180.38,
         " High": 2183.48,
         " Low": 2170.19,
         " Open": 2170.19,
         "Date": "2016-08-29",
         "_deepnote_index_column": 86
        },
        {
         " Close": 2176.12,
         " High": 2182.27,
         " Low": 2170.41,
         " Open": 2179.45,
         "Date": "2016-08-30",
         "_deepnote_index_column": 85
        },
        {
         " Close": 2170.95,
         " High": 2173.79,
         " Low": 2161.35,
         " Open": 2173.56,
         "Date": "2016-08-31",
         "_deepnote_index_column": 84
        },
        {
         " Close": 2170.86,
         " High": 2173.56,
         " Low": 2157.09,
         " Open": 2171.33,
         "Date": "2016-09-01",
         "_deepnote_index_column": 83
        },
        {
         " Close": 2179.98,
         " High": 2184.87,
         " Low": 2173.59,
         " Open": 2177.49,
         "Date": "2016-09-02",
         "_deepnote_index_column": 82
        },
        {
         " Close": 2186.48,
         " High": 2186.57,
         " Low": 2175.1,
         " Open": 2181.61,
         "Date": "2016-09-06",
         "_deepnote_index_column": 81
        },
        {
         " Close": 2186.16,
         " High": 2187.87,
         " Low": 2179.07,
         " Open": 2185.17,
         "Date": "2016-09-07",
         "_deepnote_index_column": 80
        },
        {
         " Close": 2181.3,
         " High": 2184.94,
         " Low": 2177.49,
         " Open": 2182.76,
         "Date": "2016-09-08",
         "_deepnote_index_column": 79
        },
        {
         " Close": 2127.81,
         " High": 2169.08,
         " Low": 2127.81,
         " Open": 2169.08,
         "Date": "2016-09-09",
         "_deepnote_index_column": 78
        },
        {
         " Close": 2159.04,
         " High": 2163.3,
         " Low": 2119.12,
         " Open": 2120.86,
         "Date": "2016-09-12",
         "_deepnote_index_column": 77
        },
        {
         " Close": 2127.02,
         " High": 2150.47,
         " Low": 2120.27,
         " Open": 2150.47,
         "Date": "2016-09-13",
         "_deepnote_index_column": 76
        },
        {
         " Close": 2125.77,
         " High": 2141.33,
         " Low": 2119.9,
         " Open": 2127.86,
         "Date": "2016-09-14",
         "_deepnote_index_column": 75
        },
        {
         " Close": 2147.26,
         " High": 2151.31,
         " Low": 2122.36,
         " Open": 2125.36,
         "Date": "2016-09-15",
         "_deepnote_index_column": 74
        },
        {
         " Close": 2139.16,
         " High": 2146.48,
         " Low": 2131.2,
         " Open": 2146.48,
         "Date": "2016-09-16",
         "_deepnote_index_column": 73
        },
        {
         " Close": 2139.12,
         " High": 2153.61,
         " Low": 2135.91,
         " Open": 2143.99,
         "Date": "2016-09-19",
         "_deepnote_index_column": 72
        },
        {
         " Close": 2139.76,
         " High": 2150.8,
         " Low": 2139.17,
         " Open": 2145.94,
         "Date": "2016-09-20",
         "_deepnote_index_column": 71
        },
        {
         " Close": 2163.12,
         " High": 2165.11,
         " Low": 2139.57,
         " Open": 2144.58,
         "Date": "2016-09-21",
         "_deepnote_index_column": 70
        },
        {
         " Close": 2177.18,
         " High": 2179.99,
         " Low": 2170.94,
         " Open": 2170.94,
         "Date": "2016-09-22",
         "_deepnote_index_column": 69
        },
        {
         " Close": 2164.69,
         " High": 2173.75,
         " Low": 2163.97,
         " Open": 2173.29,
         "Date": "2016-09-23",
         "_deepnote_index_column": 68
        },
        {
         " Close": 2146.1,
         " High": 2158.54,
         " Low": 2145.04,
         " Open": 2158.54,
         "Date": "2016-09-26",
         "_deepnote_index_column": 67
        },
        {
         " Close": 2159.93,
         " High": 2161.13,
         " Low": 2141.55,
         " Open": 2146.04,
         "Date": "2016-09-27",
         "_deepnote_index_column": 66
        },
        {
         " Close": 2171.37,
         " High": 2172.4,
         " Low": 2151.79,
         " Open": 2161.85,
         "Date": "2016-09-28",
         "_deepnote_index_column": 65
        },
        {
         " Close": 2151.13,
         " High": 2172.67,
         " Low": 2145.2,
         " Open": 2168.9,
         "Date": "2016-09-29",
         "_deepnote_index_column": 64
        },
        {
         " Close": 2168.27,
         " High": 2175.3,
         " Low": 2156.51,
         " Open": 2156.51,
         "Date": "2016-09-30",
         "_deepnote_index_column": 63
        },
        {
         " Close": 2161.2,
         " High": 2164.41,
         " Low": 2154.77,
         " Open": 2164.33,
         "Date": "2016-10-03",
         "_deepnote_index_column": 62
        },
        {
         " Close": 2150.49,
         " High": 2165.46,
         " Low": 2144.01,
         " Open": 2163.37,
         "Date": "2016-10-04",
         "_deepnote_index_column": 61
        },
        {
         " Close": 2159.73,
         " High": 2163.95,
         " Low": 2155.15,
         " Open": 2155.15,
         "Date": "2016-10-05",
         "_deepnote_index_column": 60
        },
        {
         " Close": 2160.77,
         " High": 2162.93,
         " Low": 2150.28,
         " Open": 2158.22,
         "Date": "2016-10-06",
         "_deepnote_index_column": 59
        },
        {
         " Close": 2153.74,
         " High": 2165.86,
         " Low": 2144.85,
         " Open": 2164.19,
         "Date": "2016-10-07",
         "_deepnote_index_column": 58
        },
        {
         " Close": 2163.66,
         " High": 2169.6,
         " Low": 2160.39,
         " Open": 2160.39,
         "Date": "2016-10-10",
         "_deepnote_index_column": 57
        },
        {
         " Close": 2136.73,
         " High": 2161.56,
         " Low": 2128.84,
         " Open": 2161.35,
         "Date": "2016-10-11",
         "_deepnote_index_column": 56
        },
        {
         " Close": 2139.18,
         " High": 2145.36,
         " Low": 2132.77,
         " Open": 2137.67,
         "Date": "2016-10-12",
         "_deepnote_index_column": 55
        },
        {
         " Close": 2132.55,
         " High": 2138.19,
         " Low": 2114.74,
         " Open": 2130.26,
         "Date": "2016-10-13",
         "_deepnote_index_column": 54
        },
        {
         " Close": 2132.98,
         " High": 2149.19,
         " Low": 2132.98,
         " Open": 2139.68,
         "Date": "2016-10-14",
         "_deepnote_index_column": 53
        },
        {
         " Close": 2126.5,
         " High": 2135.61,
         " Low": 2124.43,
         " Open": 2132.95,
         "Date": "2016-10-17",
         "_deepnote_index_column": 52
        },
        {
         " Close": 2139.6,
         " High": 2144.38,
         " Low": 2135.49,
         " Open": 2138.31,
         "Date": "2016-10-18",
         "_deepnote_index_column": 51
        },
        {
         " Close": 2144.29,
         " High": 2148.44,
         " Low": 2138.15,
         " Open": 2140.81,
         "Date": "2016-10-19",
         "_deepnote_index_column": 50
        },
        {
         " Close": 2141.34,
         " High": 2147.18,
         " Low": 2133.44,
         " Open": 2142.51,
         "Date": "2016-10-20",
         "_deepnote_index_column": 49
        },
        {
         " Close": 2141.16,
         " High": 2142.63,
         " Low": 2130.09,
         " Open": 2139.43,
         "Date": "2016-10-21",
         "_deepnote_index_column": 48
        },
        {
         " Close": 2151.33,
         " High": 2154.79,
         " Low": 2146.91,
         " Open": 2148.5,
         "Date": "2016-10-24",
         "_deepnote_index_column": 47
        },
        {
         " Close": 2143.16,
         " High": 2151.44,
         " Low": 2141.93,
         " Open": 2149.72,
         "Date": "2016-10-25",
         "_deepnote_index_column": 46
        },
        {
         " Close": 2139.43,
         " High": 2145.73,
         " Low": 2131.59,
         " Open": 2136.97,
         "Date": "2016-10-26",
         "_deepnote_index_column": 45
        },
        {
         " Close": 2133.04,
         " High": 2147.13,
         " Low": 2132.52,
         " Open": 2144.06,
         "Date": "2016-10-27",
         "_deepnote_index_column": 44
        },
        {
         " Close": 2126.41,
         " High": 2140.72,
         " Low": 2119.36,
         " Open": 2132.23,
         "Date": "2016-10-28",
         "_deepnote_index_column": 43
        },
        {
         " Close": 2126.15,
         " High": 2133.25,
         " Low": 2125.53,
         " Open": 2129.78,
         "Date": "2016-10-31",
         "_deepnote_index_column": 42
        },
        {
         " Close": 2111.72,
         " High": 2131.45,
         " Low": 2097.85,
         " Open": 2128.68,
         "Date": "2016-11-01",
         "_deepnote_index_column": 41
        },
        {
         " Close": 2097.94,
         " High": 2111.76,
         " Low": 2094,
         " Open": 2109.43,
         "Date": "2016-11-02",
         "_deepnote_index_column": 40
        },
        {
         " Close": 2088.66,
         " High": 2102.56,
         " Low": 2085.23,
         " Open": 2098.8,
         "Date": "2016-11-03",
         "_deepnote_index_column": 39
        },
        {
         " Close": 2085.18,
         " High": 2099.07,
         " Low": 2083.79,
         " Open": 2083.79,
         "Date": "2016-11-04",
         "_deepnote_index_column": 38
        },
        {
         " Close": 2131.52,
         " High": 2132,
         " Low": 2100.59,
         " Open": 2100.59,
         "Date": "2016-11-07",
         "_deepnote_index_column": 37
        },
        {
         " Close": 2139.56,
         " High": 2146.87,
         " Low": 2123.56,
         " Open": 2129.92,
         "Date": "2016-11-08",
         "_deepnote_index_column": 36
        },
        {
         " Close": 2163.26,
         " High": 2170.1,
         " Low": 2125.35,
         " Open": 2131.56,
         "Date": "2016-11-09",
         "_deepnote_index_column": 35
        },
        {
         " Close": 2167.48,
         " High": 2182.3,
         " Low": 2151.17,
         " Open": 2167.49,
         "Date": "2016-11-10",
         "_deepnote_index_column": 34
        },
        {
         " Close": 2164.45,
         " High": 2165.92,
         " Low": 2152.49,
         " Open": 2162.71,
         "Date": "2016-11-11",
         "_deepnote_index_column": 33
        },
        {
         " Close": 2164.2,
         " High": 2171.36,
         " Low": 2156.08,
         " Open": 2165.64,
         "Date": "2016-11-14",
         "_deepnote_index_column": 32
        },
        {
         " Close": 2180.39,
         " High": 2180.84,
         " Low": 2166.38,
         " Open": 2168.29,
         "Date": "2016-11-15",
         "_deepnote_index_column": 31
        },
        {
         " Close": 2176.94,
         " High": 2179.22,
         " Low": 2172.2,
         " Open": 2177.53,
         "Date": "2016-11-16",
         "_deepnote_index_column": 30
        },
        {
         " Close": 2187.12,
         " High": 2188.06,
         " Low": 2176.65,
         " Open": 2178.61,
         "Date": "2016-11-17",
         "_deepnote_index_column": 29
        },
        {
         " Close": 2181.9,
         " High": 2189.89,
         " Low": 2180.38,
         " Open": 2186.85,
         "Date": "2016-11-18",
         "_deepnote_index_column": 28
        },
        {
         " Close": 2198.18,
         " High": 2198.7,
         " Low": 2186.43,
         " Open": 2186.43,
         "Date": "2016-11-21",
         "_deepnote_index_column": 27
        },
        {
         " Close": 2202.94,
         " High": 2204.8,
         " Low": 2194.51,
         " Open": 2201.56,
         "Date": "2016-11-22",
         "_deepnote_index_column": 26
        },
        {
         " Close": 2204.72,
         " High": 2204.72,
         " Low": 2194.51,
         " Open": 2198.55,
         "Date": "2016-11-23",
         "_deepnote_index_column": 25
        },
        {
         " Close": 2213.35,
         " High": 2213.35,
         " Low": 2206.27,
         " Open": 2206.27,
         "Date": "2016-11-25",
         "_deepnote_index_column": 24
        },
        {
         " Close": 2201.72,
         " High": 2211.14,
         " Low": 2200.36,
         " Open": 2210.21,
         "Date": "2016-11-28",
         "_deepnote_index_column": 23
        },
        {
         " Close": 2204.66,
         " High": 2210.46,
         " Low": 2198.15,
         " Open": 2200.76,
         "Date": "2016-11-29",
         "_deepnote_index_column": 22
        },
        {
         " Close": 2198.81,
         " High": 2214.1,
         " Low": 2198.81,
         " Open": 2204.97,
         "Date": "2016-11-30",
         "_deepnote_index_column": 21
        },
        {
         " Close": 2191.08,
         " High": 2202.6,
         " Low": 2187.44,
         " Open": 2200.17,
         "Date": "2016-12-01",
         "_deepnote_index_column": 20
        },
        {
         " Close": 2191.95,
         " High": 2197.95,
         " Low": 2188.37,
         " Open": 2191.12,
         "Date": "2016-12-02",
         "_deepnote_index_column": 19
        },
        {
         " Close": 2204.71,
         " High": 2209.42,
         " Low": 2199.97,
         " Open": 2200.65,
         "Date": "2016-12-05",
         "_deepnote_index_column": 18
        },
        {
         " Close": 2212.23,
         " High": 2212.78,
         " Low": 2202.21,
         " Open": 2207.26,
         "Date": "2016-12-06",
         "_deepnote_index_column": 17
        },
        {
         " Close": 2241.35,
         " High": 2241.63,
         " Low": 2208.93,
         " Open": 2210.72,
         "Date": "2016-12-07",
         "_deepnote_index_column": 16
        },
        {
         " Close": 2246.19,
         " High": 2251.69,
         " Low": 2237.57,
         " Open": 2241.13,
         "Date": "2016-12-08",
         "_deepnote_index_column": 15
        },
        {
         " Close": 2259.53,
         " High": 2259.8,
         " Low": 2249.23,
         " Open": 2249.73,
         "Date": "2016-12-09",
         "_deepnote_index_column": 14
        },
        {
         " Close": 2256.96,
         " High": 2264.03,
         " Low": 2252.37,
         " Open": 2258.83,
         "Date": "2016-12-12",
         "_deepnote_index_column": 13
        },
        {
         " Close": 2271.72,
         " High": 2277.53,
         " Low": 2263.32,
         " Open": 2263.32,
         "Date": "2016-12-13",
         "_deepnote_index_column": 12
        },
        {
         " Close": 2253.28,
         " High": 2276.2,
         " Low": 2248.44,
         " Open": 2268.35,
         "Date": "2016-12-14",
         "_deepnote_index_column": 11
        },
        {
         " Close": 2262.03,
         " High": 2272.12,
         " Low": 2253.77,
         " Open": 2253.77,
         "Date": "2016-12-15",
         "_deepnote_index_column": 10
        },
        {
         " Close": 2258.07,
         " High": 2268.05,
         " Low": 2254.24,
         " Open": 2266.81,
         "Date": "2016-12-16",
         "_deepnote_index_column": 9
        },
        {
         " Close": 2262.53,
         " High": 2267.47,
         " Low": 2258.21,
         " Open": 2259.24,
         "Date": "2016-12-19",
         "_deepnote_index_column": 8
        },
        {
         " Close": 2270.76,
         " High": 2272.56,
         " Low": 2266.14,
         " Open": 2266.5,
         "Date": "2016-12-20",
         "_deepnote_index_column": 7
        },
        {
         " Close": 2265.18,
         " High": 2271.23,
         " Low": 2265.15,
         " Open": 2270.54,
         "Date": "2016-12-21",
         "_deepnote_index_column": 6
        },
        {
         " Close": 2260.96,
         " High": 2263.18,
         " Low": 2256.08,
         " Open": 2262.93,
         "Date": "2016-12-22",
         "_deepnote_index_column": 5
        },
        {
         " Close": 2263.79,
         " High": 2263.79,
         " Low": 2258.84,
         " Open": 2260.25,
         "Date": "2016-12-23",
         "_deepnote_index_column": 4
        },
        {
         " Close": 2268.88,
         " High": 2273.82,
         " Low": 2266.15,
         " Open": 2266.23,
         "Date": "2016-12-27",
         "_deepnote_index_column": 3
        },
        {
         " Close": 2249.92,
         " High": 2271.31,
         " Low": 2249.11,
         " Open": 2270.23,
         "Date": "2016-12-28",
         "_deepnote_index_column": 2
        },
        {
         " Close": 2249.26,
         " High": 2254.51,
         " Low": 2244.56,
         " Open": 2249.5,
         "Date": "2016-12-29",
         "_deepnote_index_column": 1
        },
        {
         " Close": 2238.83,
         " High": 2253.58,
         " Low": 2233.62,
         " Open": 2251.61,
         "Date": "2016-12-30",
         "_deepnote_index_column": 0
        }
       ],
       "rows_top": [
        {
         " Close": 2058.2,
         " High": 2072.36,
         " Low": 2046.04,
         " Open": 2058.9,
         "Date": "2015-01-02",
         "_deepnote_index_column": 503
        },
        {
         " Close": 2020.58,
         " High": 2054.44,
         " Low": 2017.34,
         " Open": 2054.44,
         "Date": "2015-01-05",
         "_deepnote_index_column": 502
        },
        {
         " Close": 2002.61,
         " High": 2030.25,
         " Low": 1992.44,
         " Open": 2022.15,
         "Date": "2015-01-06",
         "_deepnote_index_column": 501
        },
        {
         " Close": 2025.9,
         " High": 2029.61,
         " Low": 2005.55,
         " Open": 2005.55,
         "Date": "2015-01-07",
         "_deepnote_index_column": 500
        },
        {
         " Close": 2062.14,
         " High": 2064.08,
         " Low": 2030.61,
         " Open": 2030.61,
         "Date": "2015-01-08",
         "_deepnote_index_column": 499
        },
        {
         " Close": 2044.81,
         " High": 2064.43,
         " Low": 2038.33,
         " Open": 2063.45,
         "Date": "2015-01-09",
         "_deepnote_index_column": 498
        },
        {
         " Close": 2028.26,
         " High": 2049.3,
         " Low": 2022.58,
         " Open": 2046.13,
         "Date": "2015-01-12",
         "_deepnote_index_column": 497
        },
        {
         " Close": 2023.03,
         " High": 2056.93,
         " Low": 2008.25,
         " Open": 2031.58,
         "Date": "2015-01-13",
         "_deepnote_index_column": 496
        },
        {
         " Close": 2011.27,
         " High": 2018.4,
         " Low": 1988.44,
         " Open": 2018.4,
         "Date": "2015-01-14",
         "_deepnote_index_column": 495
        },
        {
         " Close": 1992.67,
         " High": 2021.35,
         " Low": 1991.47,
         " Open": 2013.75,
         "Date": "2015-01-15",
         "_deepnote_index_column": 494
        },
        {
         " Close": 2019.42,
         " High": 2020.46,
         " Low": 1988.12,
         " Open": 1992.25,
         "Date": "2015-01-16",
         "_deepnote_index_column": 493
        },
        {
         " Close": 2022.55,
         " High": 2028.94,
         " Low": 2004.49,
         " Open": 2020.76,
         "Date": "2015-01-20",
         "_deepnote_index_column": 492
        },
        {
         " Close": 2032.12,
         " High": 2038.29,
         " Low": 2012.04,
         " Open": 2020.19,
         "Date": "2015-01-21",
         "_deepnote_index_column": 491
        },
        {
         " Close": 2063.15,
         " High": 2064.62,
         " Low": 2026.38,
         " Open": 2034.3,
         "Date": "2015-01-22",
         "_deepnote_index_column": 490
        },
        {
         " Close": 2051.82,
         " High": 2062.98,
         " Low": 2050.54,
         " Open": 2062.98,
         "Date": "2015-01-23",
         "_deepnote_index_column": 489
        },
        {
         " Close": 2057.09,
         " High": 2057.62,
         " Low": 2040.97,
         " Open": 2050.42,
         "Date": "2015-01-26",
         "_deepnote_index_column": 488
        },
        {
         " Close": 2029.55,
         " High": 2047.86,
         " Low": 2019.91,
         " Open": 2047.86,
         "Date": "2015-01-27",
         "_deepnote_index_column": 487
        },
        {
         " Close": 2002.16,
         " High": 2042.49,
         " Low": 2001.49,
         " Open": 2032.34,
         "Date": "2015-01-28",
         "_deepnote_index_column": 486
        },
        {
         " Close": 2021.25,
         " High": 2024.64,
         " Low": 1989.18,
         " Open": 2002.45,
         "Date": "2015-01-29",
         "_deepnote_index_column": 485
        },
        {
         " Close": 1994.99,
         " High": 2023.32,
         " Low": 1993.38,
         " Open": 2019.35,
         "Date": "2015-01-30",
         "_deepnote_index_column": 484
        },
        {
         " Close": 2020.85,
         " High": 2021.66,
         " Low": 1980.9,
         " Open": 1996.67,
         "Date": "2015-02-02",
         "_deepnote_index_column": 483
        },
        {
         " Close": 2050.03,
         " High": 2050.3,
         " Low": 2022.71,
         " Open": 2022.71,
         "Date": "2015-02-03",
         "_deepnote_index_column": 482
        },
        {
         " Close": 2041.51,
         " High": 2054.74,
         " Low": 2036.72,
         " Open": 2048.86,
         "Date": "2015-02-04",
         "_deepnote_index_column": 481
        },
        {
         " Close": 2062.52,
         " High": 2063.55,
         " Low": 2043.45,
         " Open": 2043.45,
         "Date": "2015-02-05",
         "_deepnote_index_column": 480
        },
        {
         " Close": 2055.47,
         " High": 2072.4,
         " Low": 2049.97,
         " Open": 2062.28,
         "Date": "2015-02-06",
         "_deepnote_index_column": 479
        },
        {
         " Close": 2046.74,
         " High": 2056.16,
         " Low": 2041.88,
         " Open": 2053.47,
         "Date": "2015-02-09",
         "_deepnote_index_column": 478
        },
        {
         " Close": 2068.59,
         " High": 2070.86,
         " Low": 2048.62,
         " Open": 2049.38,
         "Date": "2015-02-10",
         "_deepnote_index_column": 477
        },
        {
         " Close": 2068.53,
         " High": 2073.48,
         " Low": 2057.99,
         " Open": 2068.55,
         "Date": "2015-02-11",
         "_deepnote_index_column": 476
        },
        {
         " Close": 2088.48,
         " High": 2088.53,
         " Low": 2069.98,
         " Open": 2069.98,
         "Date": "2015-02-12",
         "_deepnote_index_column": 475
        },
        {
         " Close": 2096.99,
         " High": 2097.03,
         " Low": 2086.7,
         " Open": 2088.78,
         "Date": "2015-02-13",
         "_deepnote_index_column": 474
        },
        {
         " Close": 2100.34,
         " High": 2101.3,
         " Low": 2089.8,
         " Open": 2096.47,
         "Date": "2015-02-17",
         "_deepnote_index_column": 473
        },
        {
         " Close": 2099.68,
         " High": 2100.23,
         " Low": 2092.15,
         " Open": 2099.16,
         "Date": "2015-02-18",
         "_deepnote_index_column": 472
        },
        {
         " Close": 2097.45,
         " High": 2102.13,
         " Low": 2090.79,
         " Open": 2099.25,
         "Date": "2015-02-19",
         "_deepnote_index_column": 471
        },
        {
         " Close": 2110.3,
         " High": 2110.61,
         " Low": 2085.44,
         " Open": 2097.65,
         "Date": "2015-02-20",
         "_deepnote_index_column": 470
        },
        {
         " Close": 2109.66,
         " High": 2110.05,
         " Low": 2103,
         " Open": 2109.83,
         "Date": "2015-02-23",
         "_deepnote_index_column": 469
        },
        {
         " Close": 2115.48,
         " High": 2117.94,
         " Low": 2105.87,
         " Open": 2109.1,
         "Date": "2015-02-24",
         "_deepnote_index_column": 468
        },
        {
         " Close": 2113.86,
         " High": 2119.59,
         " Low": 2109.89,
         " Open": 2115.3,
         "Date": "2015-02-25",
         "_deepnote_index_column": 467
        },
        {
         " Close": 2110.74,
         " High": 2113.91,
         " Low": 2103.76,
         " Open": 2113.91,
         "Date": "2015-02-26",
         "_deepnote_index_column": 466
        },
        {
         " Close": 2104.5,
         " High": 2112.74,
         " Low": 2103.75,
         " Open": 2110.88,
         "Date": "2015-02-27",
         "_deepnote_index_column": 465
        },
        {
         " Close": 2117.39,
         " High": 2117.52,
         " Low": 2104.5,
         " Open": 2105.23,
         "Date": "2015-03-02",
         "_deepnote_index_column": 464
        },
        {
         " Close": 2107.78,
         " High": 2115.76,
         " Low": 2098.26,
         " Open": 2115.76,
         "Date": "2015-03-03",
         "_deepnote_index_column": 463
        },
        {
         " Close": 2098.53,
         " High": 2107.72,
         " Low": 2087.62,
         " Open": 2107.72,
         "Date": "2015-03-04",
         "_deepnote_index_column": 462
        },
        {
         " Close": 2101.04,
         " High": 2104.25,
         " Low": 2095.22,
         " Open": 2098.54,
         "Date": "2015-03-05",
         "_deepnote_index_column": 461
        },
        {
         " Close": 2071.26,
         " High": 2100.91,
         " Low": 2067.27,
         " Open": 2100.91,
         "Date": "2015-03-06",
         "_deepnote_index_column": 460
        },
        {
         " Close": 2079.43,
         " High": 2083.49,
         " Low": 2072.21,
         " Open": 2072.25,
         "Date": "2015-03-09",
         "_deepnote_index_column": 459
        },
        {
         " Close": 2044.16,
         " High": 2076.14,
         " Low": 2044.16,
         " Open": 2076.14,
         "Date": "2015-03-10",
         "_deepnote_index_column": 458
        },
        {
         " Close": 2040.24,
         " High": 2050.08,
         " Low": 2039.69,
         " Open": 2044.69,
         "Date": "2015-03-11",
         "_deepnote_index_column": 457
        },
        {
         " Close": 2065.95,
         " High": 2066.41,
         " Low": 2041.1,
         " Open": 2041.1,
         "Date": "2015-03-12",
         "_deepnote_index_column": 456
        },
        {
         " Close": 2053.4,
         " High": 2064.56,
         " Low": 2041.17,
         " Open": 2064.56,
         "Date": "2015-03-13",
         "_deepnote_index_column": 455
        },
        {
         " Close": 2081.19,
         " High": 2081.41,
         " Low": 2055.35,
         " Open": 2055.35,
         "Date": "2015-03-16",
         "_deepnote_index_column": 454
        },
        {
         " Close": 2074.28,
         " High": 2080.59,
         " Low": 2065.08,
         " Open": 2080.59,
         "Date": "2015-03-17",
         "_deepnote_index_column": 453
        },
        {
         " Close": 2099.5,
         " High": 2106.85,
         " Low": 2061.23,
         " Open": 2072.84,
         "Date": "2015-03-18",
         "_deepnote_index_column": 452
        },
        {
         " Close": 2089.27,
         " High": 2098.69,
         " Low": 2085.56,
         " Open": 2098.69,
         "Date": "2015-03-19",
         "_deepnote_index_column": 451
        },
        {
         " Close": 2108.1,
         " High": 2113.92,
         " Low": 2090.32,
         " Open": 2090.32,
         "Date": "2015-03-20",
         "_deepnote_index_column": 450
        },
        {
         " Close": 2104.42,
         " High": 2114.86,
         " Low": 2104.42,
         " Open": 2107.99,
         "Date": "2015-03-23",
         "_deepnote_index_column": 449
        },
        {
         " Close": 2091.5,
         " High": 2107.63,
         " Low": 2091.5,
         " Open": 2103.94,
         "Date": "2015-03-24",
         "_deepnote_index_column": 448
        },
        {
         " Close": 2061.05,
         " High": 2097.43,
         " Low": 2061.05,
         " Open": 2093.1,
         "Date": "2015-03-25",
         "_deepnote_index_column": 447
        },
        {
         " Close": 2056.15,
         " High": 2067.15,
         " Low": 2045.5,
         " Open": 2059.94,
         "Date": "2015-03-26",
         "_deepnote_index_column": 446
        },
        {
         " Close": 2061.02,
         " High": 2062.83,
         " Low": 2052.96,
         " Open": 2055.78,
         "Date": "2015-03-27",
         "_deepnote_index_column": 445
        },
        {
         " Close": 2086.24,
         " High": 2088.97,
         " Low": 2064.11,
         " Open": 2064.11,
         "Date": "2015-03-30",
         "_deepnote_index_column": 444
        },
        {
         " Close": 2067.89,
         " High": 2084.05,
         " Low": 2067.04,
         " Open": 2084.05,
         "Date": "2015-03-31",
         "_deepnote_index_column": 443
        },
        {
         " Close": 2059.69,
         " High": 2067.63,
         " Low": 2048.38,
         " Open": 2067.63,
         "Date": "2015-04-01",
         "_deepnote_index_column": 442
        },
        {
         " Close": 2066.96,
         " High": 2072.17,
         " Low": 2057.32,
         " Open": 2060.03,
         "Date": "2015-04-02",
         "_deepnote_index_column": 441
        },
        {
         " Close": 2080.62,
         " High": 2086.99,
         " Low": 2056.52,
         " Open": 2064.87,
         "Date": "2015-04-06",
         "_deepnote_index_column": 440
        },
        {
         " Close": 2076.33,
         " High": 2089.81,
         " Low": 2076.1,
         " Open": 2080.79,
         "Date": "2015-04-07",
         "_deepnote_index_column": 439
        },
        {
         " Close": 2081.9,
         " High": 2086.69,
         " Low": 2073.3,
         " Open": 2076.94,
         "Date": "2015-04-08",
         "_deepnote_index_column": 438
        },
        {
         " Close": 2091.18,
         " High": 2093.31,
         " Low": 2074.29,
         " Open": 2081.29,
         "Date": "2015-04-09",
         "_deepnote_index_column": 437
        },
        {
         " Close": 2102.06,
         " High": 2102.61,
         " Low": 2091.51,
         " Open": 2091.51,
         "Date": "2015-04-10",
         "_deepnote_index_column": 436
        },
        {
         " Close": 2092.43,
         " High": 2107.65,
         " Low": 2092.33,
         " Open": 2102.03,
         "Date": "2015-04-13",
         "_deepnote_index_column": 435
        },
        {
         " Close": 2095.84,
         " High": 2098.62,
         " Low": 2083.24,
         " Open": 2092.28,
         "Date": "2015-04-14",
         "_deepnote_index_column": 434
        },
        {
         " Close": 2106.63,
         " High": 2111.91,
         " Low": 2097.82,
         " Open": 2097.82,
         "Date": "2015-04-15",
         "_deepnote_index_column": 433
        },
        {
         " Close": 2104.99,
         " High": 2111.3,
         " Low": 2100.02,
         " Open": 2105.96,
         "Date": "2015-04-16",
         "_deepnote_index_column": 432
        },
        {
         " Close": 2081.18,
         " High": 2102.58,
         " Low": 2072.37,
         " Open": 2102.58,
         "Date": "2015-04-17",
         "_deepnote_index_column": 431
        },
        {
         " Close": 2100.4,
         " High": 2103.94,
         " Low": 2084.11,
         " Open": 2084.11,
         "Date": "2015-04-20",
         "_deepnote_index_column": 430
        },
        {
         " Close": 2097.29,
         " High": 2109.64,
         " Low": 2094.38,
         " Open": 2102.82,
         "Date": "2015-04-21",
         "_deepnote_index_column": 429
        },
        {
         " Close": 2107.96,
         " High": 2109.98,
         " Low": 2091.05,
         " Open": 2098.27,
         "Date": "2015-04-22",
         "_deepnote_index_column": 428
        },
        {
         " Close": 2112.93,
         " High": 2120.49,
         " Low": 2103.19,
         " Open": 2107.21,
         "Date": "2015-04-23",
         "_deepnote_index_column": 427
        },
        {
         " Close": 2117.69,
         " High": 2120.92,
         " Low": 2112.8,
         " Open": 2112.8,
         "Date": "2015-04-24",
         "_deepnote_index_column": 426
        },
        {
         " Close": 2108.92,
         " High": 2125.92,
         " Low": 2107.04,
         " Open": 2119.29,
         "Date": "2015-04-27",
         "_deepnote_index_column": 425
        },
        {
         " Close": 2114.76,
         " High": 2116.09,
         " Low": 2094.89,
         " Open": 2108.35,
         "Date": "2015-04-28",
         "_deepnote_index_column": 424
        },
        {
         " Close": 2106.85,
         " High": 2113.65,
         " Low": 2097.41,
         " Open": 2112.49,
         "Date": "2015-04-29",
         "_deepnote_index_column": 423
        },
        {
         " Close": 2085.51,
         " High": 2105.52,
         " Low": 2077.59,
         " Open": 2105.52,
         "Date": "2015-04-30",
         "_deepnote_index_column": 422
        },
        {
         " Close": 2108.29,
         " High": 2108.41,
         " Low": 2087.38,
         " Open": 2087.38,
         "Date": "2015-05-01",
         "_deepnote_index_column": 421
        },
        {
         " Close": 2114.49,
         " High": 2120.95,
         " Low": 2110.23,
         " Open": 2110.23,
         "Date": "2015-05-04",
         "_deepnote_index_column": 420
        },
        {
         " Close": 2089.46,
         " High": 2115.24,
         " Low": 2088.46,
         " Open": 2112.63,
         "Date": "2015-05-05",
         "_deepnote_index_column": 419
        },
        {
         " Close": 2080.15,
         " High": 2098.42,
         " Low": 2067.93,
         " Open": 2091.26,
         "Date": "2015-05-06",
         "_deepnote_index_column": 418
        },
        {
         " Close": 2088,
         " High": 2092.9,
         " Low": 2074.99,
         " Open": 2079.96,
         "Date": "2015-05-07",
         "_deepnote_index_column": 417
        },
        {
         " Close": 2116.1,
         " High": 2117.66,
         " Low": 2092.13,
         " Open": 2092.13,
         "Date": "2015-05-08",
         "_deepnote_index_column": 416
        },
        {
         " Close": 2105.33,
         " High": 2117.69,
         " Low": 2104.58,
         " Open": 2115.56,
         "Date": "2015-05-11",
         "_deepnote_index_column": 415
        },
        {
         " Close": 2099.12,
         " High": 2105.06,
         " Low": 2085.57,
         " Open": 2102.87,
         "Date": "2015-05-12",
         "_deepnote_index_column": 414
        },
        {
         " Close": 2098.48,
         " High": 2110.19,
         " Low": 2096.04,
         " Open": 2099.62,
         "Date": "2015-05-13",
         "_deepnote_index_column": 413
        },
        {
         " Close": 2121.1,
         " High": 2121.45,
         " Low": 2100.43,
         " Open": 2100.43,
         "Date": "2015-05-14",
         "_deepnote_index_column": 412
        },
        {
         " Close": 2122.73,
         " High": 2123.89,
         " Low": 2116.79,
         " Open": 2122.07,
         "Date": "2015-05-15",
         "_deepnote_index_column": 411
        },
        {
         " Close": 2129.2,
         " High": 2131.78,
         " Low": 2120.01,
         " Open": 2121.3,
         "Date": "2015-05-18",
         "_deepnote_index_column": 410
        },
        {
         " Close": 2127.83,
         " High": 2133.02,
         " Low": 2124.5,
         " Open": 2129.45,
         "Date": "2015-05-19",
         "_deepnote_index_column": 409
        },
        {
         " Close": 2125.85,
         " High": 2134.72,
         " Low": 2122.59,
         " Open": 2127.79,
         "Date": "2015-05-20",
         "_deepnote_index_column": 408
        },
        {
         " Close": 2130.82,
         " High": 2134.28,
         " Low": 2122.95,
         " Open": 2125.55,
         "Date": "2015-05-21",
         "_deepnote_index_column": 407
        },
        {
         " Close": 2126.06,
         " High": 2132.15,
         " Low": 2126.06,
         " Open": 2130.36,
         "Date": "2015-05-22",
         "_deepnote_index_column": 406
        },
        {
         " Close": 2104.2,
         " High": 2125.34,
         " Low": 2099.18,
         " Open": 2125.34,
         "Date": "2015-05-26",
         "_deepnote_index_column": 405
        },
        {
         " Close": 2123.48,
         " High": 2126.22,
         " Low": 2105.13,
         " Open": 2105.13,
         "Date": "2015-05-27",
         "_deepnote_index_column": 404
        }
       ]
      },
      "text/html": [
       "<div>\n",
       "<style scoped>\n",
       "    .dataframe tbody tr th:only-of-type {\n",
       "        vertical-align: middle;\n",
       "    }\n",
       "\n",
       "    .dataframe tbody tr th {\n",
       "        vertical-align: top;\n",
       "    }\n",
       "\n",
       "    .dataframe thead th {\n",
       "        text-align: right;\n",
       "    }\n",
       "</style>\n",
       "<table border=\"1\" class=\"dataframe\">\n",
       "  <thead>\n",
       "    <tr style=\"text-align: right;\">\n",
       "      <th></th>\n",
       "      <th>Date</th>\n",
       "      <th>Open</th>\n",
       "      <th>High</th>\n",
       "      <th>Low</th>\n",
       "      <th>Close</th>\n",
       "    </tr>\n",
       "  </thead>\n",
       "  <tbody>\n",
       "    <tr>\n",
       "      <th>503</th>\n",
       "      <td>2015-01-02</td>\n",
       "      <td>2058.90</td>\n",
       "      <td>2072.36</td>\n",
       "      <td>2046.04</td>\n",
       "      <td>2058.20</td>\n",
       "    </tr>\n",
       "    <tr>\n",
       "      <th>502</th>\n",
       "      <td>2015-01-05</td>\n",
       "      <td>2054.44</td>\n",
       "      <td>2054.44</td>\n",
       "      <td>2017.34</td>\n",
       "      <td>2020.58</td>\n",
       "    </tr>\n",
       "    <tr>\n",
       "      <th>501</th>\n",
       "      <td>2015-01-06</td>\n",
       "      <td>2022.15</td>\n",
       "      <td>2030.25</td>\n",
       "      <td>1992.44</td>\n",
       "      <td>2002.61</td>\n",
       "    </tr>\n",
       "    <tr>\n",
       "      <th>500</th>\n",
       "      <td>2015-01-07</td>\n",
       "      <td>2005.55</td>\n",
       "      <td>2029.61</td>\n",
       "      <td>2005.55</td>\n",
       "      <td>2025.90</td>\n",
       "    </tr>\n",
       "    <tr>\n",
       "      <th>499</th>\n",
       "      <td>2015-01-08</td>\n",
       "      <td>2030.61</td>\n",
       "      <td>2064.08</td>\n",
       "      <td>2030.61</td>\n",
       "      <td>2062.14</td>\n",
       "    </tr>\n",
       "    <tr>\n",
       "      <th>...</th>\n",
       "      <td>...</td>\n",
       "      <td>...</td>\n",
       "      <td>...</td>\n",
       "      <td>...</td>\n",
       "      <td>...</td>\n",
       "    </tr>\n",
       "    <tr>\n",
       "      <th>4</th>\n",
       "      <td>2016-12-23</td>\n",
       "      <td>2260.25</td>\n",
       "      <td>2263.79</td>\n",
       "      <td>2258.84</td>\n",
       "      <td>2263.79</td>\n",
       "    </tr>\n",
       "    <tr>\n",
       "      <th>3</th>\n",
       "      <td>2016-12-27</td>\n",
       "      <td>2266.23</td>\n",
       "      <td>2273.82</td>\n",
       "      <td>2266.15</td>\n",
       "      <td>2268.88</td>\n",
       "    </tr>\n",
       "    <tr>\n",
       "      <th>2</th>\n",
       "      <td>2016-12-28</td>\n",
       "      <td>2270.23</td>\n",
       "      <td>2271.31</td>\n",
       "      <td>2249.11</td>\n",
       "      <td>2249.92</td>\n",
       "    </tr>\n",
       "    <tr>\n",
       "      <th>1</th>\n",
       "      <td>2016-12-29</td>\n",
       "      <td>2249.50</td>\n",
       "      <td>2254.51</td>\n",
       "      <td>2244.56</td>\n",
       "      <td>2249.26</td>\n",
       "    </tr>\n",
       "    <tr>\n",
       "      <th>0</th>\n",
       "      <td>2016-12-30</td>\n",
       "      <td>2251.61</td>\n",
       "      <td>2253.58</td>\n",
       "      <td>2233.62</td>\n",
       "      <td>2238.83</td>\n",
       "    </tr>\n",
       "  </tbody>\n",
       "</table>\n",
       "<p>504 rows × 5 columns</p>\n",
       "</div>"
      ],
      "text/plain": [
       "           Date     Open     High      Low    Close\n",
       "503  2015-01-02  2058.90  2072.36  2046.04  2058.20\n",
       "502  2015-01-05  2054.44  2054.44  2017.34  2020.58\n",
       "501  2015-01-06  2022.15  2030.25  1992.44  2002.61\n",
       "500  2015-01-07  2005.55  2029.61  2005.55  2025.90\n",
       "499  2015-01-08  2030.61  2064.08  2030.61  2062.14\n",
       "..          ...      ...      ...      ...      ...\n",
       "4    2016-12-23  2260.25  2263.79  2258.84  2263.79\n",
       "3    2016-12-27  2266.23  2273.82  2266.15  2268.88\n",
       "2    2016-12-28  2270.23  2271.31  2249.11  2249.92\n",
       "1    2016-12-29  2249.50  2254.51  2244.56  2249.26\n",
       "0    2016-12-30  2251.61  2253.58  2233.62  2238.83\n",
       "\n",
       "[504 rows x 5 columns]"
      ]
     },
     "execution_count": 38,
     "metadata": {},
     "output_type": "execute_result"
    }
   ],
   "source": [
    "def redate(date):\n",
    "    print(date)\n",
    "    datelist=date.split('/')\n",
    "    newdate = \"{:04d}\".format(int(datelist[2])) + \"-{:02d}\".format(int(datelist[0])) + \"-{:02d}\".format(int(datelist[1]))\n",
    "    return newdate\n",
    "    \n",
    "spindexcsv[\"Date\"] = spindexcsv[\"Date\"].apply(redate)\n",
    "spindexcsv"
   ]
  },
  {
   "cell_type": "code",
   "execution_count": 39,
   "metadata": {
    "cell_id": "00007-aff5a28e-85c7-4c59-b60b-75ebee792fa3",
    "deepnote_cell_type": "code",
    "deepnote_to_be_reexecuted": false,
    "execution_millis": 5,
    "execution_start": 1617585620438,
    "source_hash": "de6beb1d",
    "tags": []
   },
   "outputs": [],
   "source": [
    "spindexcsv.to_csv(\"index_sp500_data_cleaned.csv\")"
   ]
  },
  {
   "cell_type": "markdown",
   "metadata": {
    "created_in_deepnote_cell": true,
    "deepnote_cell_type": "markdown",
    "tags": []
   },
   "source": [
    "<a style='text-decoration:none;line-height:16px;display:flex;color:#5B5B62;padding:10px;justify-content:end;' href='https://deepnote.com?utm_source=created-in-deepnote-cell&projectId=fdd5d891-f745-48e2-8273-77786379a664' target=\"_blank\">\n",
    "<img alt='Created in deepnote.com' style='display:inline;max-height:16px;margin:0px;margin-right:7.5px;' src='data:image/svg+xml;base64,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' > </img>\n",
    "Created in <span style='font-weight:600;margin-left:4px;'>Deepnote</span></a>"
   ]
  }
 ],
 "metadata": {
  "deepnote": {},
  "deepnote_execution_queue": [],
  "deepnote_notebook_id": "e28390bb-36aa-4dc8-816d-d3dcef4d07fa",
  "kernelspec": {
   "display_name": "Python 3",
   "language": "python",
   "name": "python3"
  },
  "language_info": {
   "codemirror_mode": {
    "name": "ipython",
    "version": 3
   },
   "file_extension": ".py",
   "mimetype": "text/x-python",
   "name": "python",
   "nbconvert_exporter": "python",
   "pygments_lexer": "ipython3",
   "version": "3.8.5"
  }
 },
 "nbformat": 4,
 "nbformat_minor": 4
}
