{
 "cells": [
  {
   "cell_type": "code",
   "execution_count": 3,
   "metadata": {
    "cell_id": "00000-874a21be-3d99-4906-ba91-ee3efc67a7c3",
    "deepnote_cell_type": "code",
    "deepnote_to_be_reexecuted": false,
    "execution_millis": 14,
    "execution_start": 1617581507012,
    "output_cleared": true,
    "source_hash": null,
    "tags": []
   },
   "outputs": [],
   "source": [
    "# Start writing code here...\n",
    "# 8UTjM2Hjf4LDuyaK2JWy is my Quandl API Key"
   ]
  },
  {
   "cell_type": "code",
   "execution_count": 2,
   "metadata": {
    "cell_id": "00001-237e6cd1-a69d-4523-afa2-64a2ec3f943a",
    "deepnote_cell_type": "code",
    "deepnote_to_be_reexecuted": false,
    "execution_millis": 2,
    "execution_start": 1617584114673,
    "source_hash": "b15c58ef",
    "tags": []
   },
   "outputs": [],
   "source": [
    "import quandl\n",
    "quandl.ApiConfig.api_key = \"8UTjM2Hjf4LDuyaK2JWy\"\n",
    "import numpy as np\n",
    "import pandas as pd\n",
    "from pandas import DataFrame\n",
    "import csv\n"
   ]
  },
  {
   "cell_type": "code",
   "execution_count": 3,
   "metadata": {
    "cell_id": "00002-98951201-2fdb-4d7b-80e5-d2b12230cf64",
    "deepnote_cell_type": "code",
    "deepnote_to_be_reexecuted": false,
    "execution_millis": 9,
    "execution_start": 1617584162240,
    "source_hash": "d02475de",
    "tags": []
   },
   "outputs": [
    {
     "name": "stdout",
     "output_type": "stream",
     "text": [
      "['MMM' 'AOS' 'ABT' 'ABBV' 'ABMD' 'ACN' 'ATVI' 'ADBE' 'AAP' 'AMD' 'AES'\n",
      " 'AFL' 'A' 'APD' 'AKAM' 'ALK' 'ALB' 'ARE' 'ALXN' 'ALGN' 'ALLE' 'LNT' 'ALL'\n",
      " 'GOOGL' 'GOOG' 'MO' 'AMZN' 'AMCR' 'AEE' 'AAL' 'AEP' 'AXP' 'AIG' 'AMT'\n",
      " 'AWK' 'AMP' 'ABC' 'AME' 'AMGN' 'APH' 'ADI' 'ANSS' 'ANTM' 'AON' 'APA'\n",
      " 'AAPL' 'AMAT' 'APTV' 'ADM' 'ANET' 'AJG' 'AIZ' 'T' 'ATO' 'ADSK' 'ADP'\n",
      " 'AZO' 'AVB' 'AVY' 'BKR' 'BLL' 'BAC' 'BAX' 'BDX' 'BRK.B' 'BBY' 'BIO'\n",
      " 'BIIB' 'BLK' 'BA' 'BKNG' 'BWA' 'BXP' 'BSX' 'BMY' 'AVGO' 'BR' 'BF.B'\n",
      " 'CHRW' 'COG' 'CDNS' 'CZR' 'CPB' 'COF' 'CAH' 'KMX' 'CCL' 'CARR' 'CTLT'\n",
      " 'CAT' 'CBOE' 'CBRE' 'CDW' 'CE' 'CNC' 'CNP' 'CERN' 'CF' 'SCHW' 'CHTR'\n",
      " 'CVX' 'CMG' 'CB' 'CHD' 'CI' 'CINF' 'CTAS' 'CSCO' 'C' 'CFG' 'CTXS' 'CME'\n",
      " 'CMS' 'KO' 'CTSH' 'CL' 'CMCSA' 'CMA' 'CAG' 'COP' 'ED' 'STZ' 'CPRT' 'GLW'\n",
      " 'CTVA' 'COST' 'CCI' 'CSX' 'CMI' 'CVS' 'DHI' 'DHR' 'DRI' 'DVA' 'DE' 'DAL'\n",
      " 'XRAY' 'DVN' 'DXCM' 'FANG' 'DLR' 'DFS' 'DISCA' 'DISCK' 'DISH' 'DG' 'DLTR'\n",
      " 'D' 'DPZ' 'DOV' 'DOW' 'DTE' 'DUK' 'DRE' 'DD' 'DXC' 'EMN' 'ETN' 'EBAY'\n",
      " 'ECL' 'EIX' 'EW' 'EA' 'EMR' 'ENPH' 'ETR' 'EOG' 'EFX' 'EQIX' 'EQR' 'ESS'\n",
      " 'EL' 'ETSY' 'RE' 'EVRG' 'ES' 'EXC' 'EXPE' 'EXPD' 'EXR' 'XOM' 'FFIV' 'FB'\n",
      " 'FAST' 'FRT' 'FDX' 'FIS' 'FITB' 'FRC' 'FE' 'FISV' 'FLT' 'FLIR' 'FMC' 'F'\n",
      " 'FTNT' 'FTV' 'FBHS' 'FOXA' 'FOX' 'BEN' 'FCX' 'GPS' 'GRMN' 'IT' 'GNRC'\n",
      " 'GD' 'GE' 'GIS' 'GM' 'GPC' 'GILD' 'GPN' 'GL' 'GS' 'GWW' 'HAL' 'HBI' 'HIG'\n",
      " 'HAS' 'HCA' 'PEAK' 'HSIC' 'HES' 'HPE' 'HLT' 'HFC' 'HOLX' 'HD' 'HON' 'HRL'\n",
      " 'HST' 'HWM' 'HPQ' 'HUM' 'HBAN' 'HII' 'IEX' 'IDXX' 'INFO' 'ITW' 'ILMN'\n",
      " 'INCY' 'IR' 'INTC' 'ICE' 'IBM' 'IFF' 'IP' 'IPG' 'INTU' 'ISRG' 'IVZ'\n",
      " 'IPGP' 'IQV' 'IRM' 'JBHT' 'JKHY' 'J' 'SJM' 'JNJ' 'JCI' 'JPM' 'JNPR' 'KSU'\n",
      " 'K' 'KEY' 'KEYS' 'KMB' 'KIM' 'KMI' 'KLAC' 'KHC' 'KR' 'LB' 'LHX' 'LH'\n",
      " 'LRCX' 'LW' 'LVS' 'LEG' 'LDOS' 'LEN' 'LLY' 'LNC' 'LIN' 'LYV' 'LKQ' 'LMT'\n",
      " 'L' 'LOW' 'LUMN' 'LYB' 'MTB' 'MRO' 'MPC' 'MKTX' 'MAR' 'MMC' 'MLM' 'MAS'\n",
      " 'MA' 'MXIM' 'MKC' 'MCD' 'MCK' 'MDT' 'MRK' 'MET' 'MTD' 'MGM' 'MCHP' 'MU'\n",
      " 'MSFT' 'MAA' 'MHK' 'TAP' 'MDLZ' 'MPWR' 'MNST' 'MCO' 'MS' 'MSI' 'MSCI'\n",
      " 'NDAQ' 'NTAP' 'NFLX' 'NWL' 'NEM' 'NWSA' 'NWS' 'NEE' 'NLSN' 'NKE' 'NI'\n",
      " 'NSC' 'NTRS' 'NOC' 'NLOK' 'NCLH' 'NOV' 'NRG' 'NUE' 'NVDA' 'NVR' 'NXPI'\n",
      " 'ORLY' 'OXY' 'ODFL' 'OMC' 'OKE' 'ORCL' 'OTIS' 'PCAR' 'PKG' 'PH' 'PAYX'\n",
      " 'PAYC' 'PYPL' 'PENN' 'PNR' 'PBCT' 'PEP' 'PKI' 'PRGO' 'PFE' 'PM' 'PSX'\n",
      " 'PNW' 'PXD' 'PNC' 'POOL' 'PPG' 'PPL' 'PFG' 'PG' 'PGR' 'PLD' 'PRU' 'PEG'\n",
      " 'PSA' 'PHM' 'PVH' 'QRVO' 'QCOM' 'PWR' 'DGX' 'RL' 'RJF' 'RTX' 'O' 'REG'\n",
      " 'REGN' 'RF' 'RSG' 'RMD' 'RHI' 'ROK' 'ROL' 'ROP' 'ROST' 'RCL' 'SPGI' 'CRM'\n",
      " 'SBAC' 'SLB' 'STX' 'SEE' 'SRE' 'NOW' 'SHW' 'SPG' 'SWKS' 'SNA' 'SO' 'LUV'\n",
      " 'SWK' 'SBUX' 'STT' 'STE' 'SYK' 'SIVB' 'SYF' 'SNPS' 'SYY' 'TMUS' 'TROW'\n",
      " 'TTWO' 'TPR' 'TGT' 'TEL' 'TDY' 'TFX' 'TER' 'TSLA' 'TXN' 'TXT' 'BK' 'CLX'\n",
      " 'COO' 'HSY' 'MOS' 'TRV' 'DIS' 'TMO' 'TJX' 'TSCO' 'TT' 'TDG' 'TRMB' 'TFC'\n",
      " 'TWTR' 'TYL' 'TSN' 'USB' 'UDR' 'ULTA' 'UAA' 'UA' 'UNP' 'UAL' 'UPS' 'URI'\n",
      " 'UNH' 'UHS' 'UNM' 'VLO' 'VAR' 'VTR' 'VRSN' 'VRSK' 'VZ' 'VRTX' 'VFC'\n",
      " 'VIAC' 'VTRS' 'V' 'VNO' 'VMC' 'WRB' 'WBA' 'WMT' 'WM' 'WAT' 'WEC' 'WFC'\n",
      " 'WELL' 'WST' 'WDC' 'WU' 'WAB' 'WRK' 'WY' 'WHR' 'WMB' 'WLTW' 'WYNN' 'XEL'\n",
      " 'XLNX' 'XYL' 'YUM' 'ZBRA' 'ZBH' 'ZION' 'ZTS']\n",
      "<class 'numpy.ndarray'>\n"
     ]
    }
   ],
   "source": [
    "# https://datahub.io/core/s-and-p-500-companies\n",
    "spcsv = pd.read_csv(\"constituents_csv.csv\")\n",
    "# print(spcsv.head())\n",
    "# print(spcsv[\"Symbol\"])\n",
    "spsymbols = spcsv.loc[:,\"Symbol\"].values\n",
    "print(spsymbols)\n",
    "print(type(spsymbols))"
   ]
  },
  {
   "cell_type": "code",
   "execution_count": null,
   "metadata": {
    "cell_id": "00003-6fb0b1fd-609d-49ad-bae9-859ba46fe558",
    "deepnote_cell_type": "code",
    "deepnote_to_be_reexecuted": false,
    "execution_millis": 127238,
    "execution_start": 1617584610586,
    "source_hash": "81ea0e09",
    "tags": []
   },
   "outputs": [],
   "source": [
    "# remove symbols with a '.' in their ticker\n",
    "spsymbolsclean = []\n",
    "for symbol in spsymbols:\n",
    "    if '.' not in symbol:\n",
    "        spsymbolsclean.append(symbol)\n",
    "clean_sp_symbols = np.array(spsymbolsclean)\n",
    "clean_sp_symbols\n",
    "\n",
    "quandl_symbols = [\"WIKI/\" + symbol for symbol in clean_sp_symbols]\n",
    "spdata = quandl.get(quandl_symbols, start_date = \"2015-01-01\", end_date = \"2016-12-31\", column_index = 11, collapse=\"daily\")\n",
    "spdata"
   ]
  },
  {
   "cell_type": "code",
   "execution_count": null,
   "metadata": {
    "cell_id": "00004-479a086d-4f5a-4f5c-85cf-e237fba000cd",
    "deepnote_cell_type": "code",
    "deepnote_to_be_reexecuted": false,
    "execution_millis": 322,
    "execution_start": 1617584856439,
    "source_hash": "c204e8b5",
    "tags": []
   },
   "outputs": [],
   "source": [
    "spdata.to_csv(\"sp500_data_Quandl.csv\")"
   ]
  },
  {
   "cell_type": "code",
   "execution_count": null,
   "metadata": {
    "cell_id": "00005-525afca7-35dc-41d2-84f3-6f618309f496",
    "deepnote_cell_type": "code",
    "deepnote_to_be_reexecuted": false,
    "execution_millis": 13,
    "execution_start": 1617585569356,
    "source_hash": "5c8e73a5",
    "tags": []
   },
   "outputs": [],
   "source": [
    "# https://datahub.io/core/s-and-p-500-companies\n",
    "spindexcsv = pd.read_csv(\"sp500_index.csv\")\n",
    "spindexcsv = spindexcsv.iloc[::-1]\n",
    "print(spindexcsv)"
   ]
  },
  {
   "cell_type": "code",
   "execution_count": null,
   "metadata": {
    "cell_id": "00006-87ccc9fb-6823-4e47-b155-bc12e55e4e7c",
    "deepnote_cell_type": "code",
    "deepnote_to_be_reexecuted": false,
    "execution_millis": 77,
    "execution_start": 1617585571044,
    "source_hash": "5758622a",
    "tags": []
   },
   "outputs": [],
   "source": [
    "def redate(date):\n",
    "    print(date)\n",
    "    datelist=date.split('/')\n",
    "    newdate = \"{:04d}\".format(int(datelist[2])) + \"-{:02d}\".format(int(datelist[0])) + \"-{:02d}\".format(int(datelist[1]))\n",
    "    return newdate\n",
    "    \n",
    "spindexcsv[\"Date\"] = spindexcsv[\"Date\"].apply(redate)\n",
    "# spindexcsv"
   ]
  },
  {
   "cell_type": "code",
   "execution_count": null,
   "metadata": {
    "cell_id": "00007-aff5a28e-85c7-4c59-b60b-75ebee792fa3",
    "deepnote_cell_type": "code",
    "deepnote_to_be_reexecuted": false,
    "execution_millis": 5,
    "execution_start": 1617585620438,
    "source_hash": "de6beb1d",
    "tags": []
   },
   "outputs": [],
   "source": [
    "spindexcsv.to_csv(\"index_sp500_data_cleaned.csv\")"
   ]
  }
 ],
 "metadata": {
  "deepnote": {},
  "deepnote_execution_queue": [],
  "deepnote_notebook_id": "e28390bb-36aa-4dc8-816d-d3dcef4d07fa",
  "kernelspec": {
   "display_name": "Python 3",
   "language": "python",
   "name": "python3"
  },
  "language_info": {
   "codemirror_mode": {
    "name": "ipython",
    "version": 3
   },
   "file_extension": ".py",
   "mimetype": "text/x-python",
   "name": "python",
   "nbconvert_exporter": "python",
   "pygments_lexer": "ipython3",
   "version": "3.8.5"
  }
 },
 "nbformat": 4,
 "nbformat_minor": 4
}
